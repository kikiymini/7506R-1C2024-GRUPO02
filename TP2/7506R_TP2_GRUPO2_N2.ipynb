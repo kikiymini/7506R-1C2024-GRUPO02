{
  "cells": [
    {
      "cell_type": "markdown",
      "metadata": {
        "id": "view-in-github",
        "colab_type": "text"
      },
      "source": [
        "<a href=\"https://colab.research.google.com/github/kikiymini/7506R-1C2024-GRUPO02/blob/main/TP2/7506R_TP2_GRUPO2_Random_Forest.ipynb\" target=\"_parent\"><img src=\"https://colab.research.google.com/assets/colab-badge.svg\" alt=\"Open In Colab\"/></a>"
      ]
    },
    {
      "cell_type": "markdown",
      "metadata": {
        "id": "GDDSr-SglU1G"
      },
      "source": [
        "# <center>Organizaci&oacute;n de Datos</center>\n",
        "\n",
        "#### <center>C&aacute;tedra Ing. Rodriguez, Juan Manuel </center>\n",
        "\n",
        "## <center>Trabajo Práctico 2: Críticas cinematográficas</center>\n",
        "\n",
        "### <center> Grupo 2</center>\n",
        "\n",
        "## Integrantes:\n",
        "\n",
        "*   Aramayo Carolina\n",
        "*   Utrera Maximo Damian\n",
        "*   Villalba Ana Daniela\n",
        "*   Fiorilo Roy\n"
      ]
    },
    {
      "cell_type": "markdown",
      "metadata": {
        "id": "yQzgLrPLld-Z"
      },
      "source": [
        "# Importación de librerias"
      ]
    },
    {
      "cell_type": "code",
      "execution_count": 1,
      "metadata": {
        "id": "VvM4hVZ9uFpL",
        "colab": {
          "base_uri": "https://localhost:8080/"
        },
        "outputId": "ce39bb07-8062-4907-bf76-b8a4bf48b0f1"
      },
      "outputs": [
        {
          "output_type": "stream",
          "name": "stderr",
          "text": [
            "[nltk_data] Downloading package stopwords to /root/nltk_data...\n",
            "[nltk_data]   Unzipping corpora/stopwords.zip.\n",
            "[nltk_data] Downloading package punkt to /root/nltk_data...\n",
            "[nltk_data]   Unzipping tokenizers/punkt.zip.\n",
            "[nltk_data] Downloading package omw-1.4 to /root/nltk_data...\n",
            "[nltk_data] Downloading package wordnet to /root/nltk_data...\n",
            "[nltk_data] Downloading package averaged_perceptron_tagger to\n",
            "[nltk_data]     /root/nltk_data...\n",
            "[nltk_data]   Unzipping taggers/averaged_perceptron_tagger.zip.\n"
          ]
        }
      ],
      "source": [
        "from google.colab import drive\n",
        "\n",
        "import pandas as pd\n",
        "import numpy as np\n",
        "from matplotlib import pyplot as plt\n",
        "import seaborn as sns\n",
        "from sklearn.model_selection import train_test_split\n",
        "\n",
        "# Tokens y preprocesamiento\n",
        "import nltk\n",
        "from nltk import word_tokenize\n",
        "from nltk.corpus import stopwords\n",
        "from nltk import pos_tag\n",
        "from nltk.stem import WordNetLemmatizer\n",
        "from nltk.corpus import wordnet\n",
        "from collections import Counter\n",
        "import spacy\n",
        "from nltk.corpus import stopwords\n",
        "from sklearn.feature_extraction.text import CountVectorizer\n",
        "from sklearn.feature_extraction.text import TfidfVectorizer\n",
        "\n",
        "# nltk\n",
        "nltk.download('stopwords')\n",
        "nltk.download('punkt')\n",
        "nltk.download('omw-1.4')\n",
        "nltk.download('wordnet')\n",
        "nltk.download('averaged_perceptron_tagger')\n",
        "\n",
        "# Modelos\n",
        "import joblib\n",
        "from sklearn.model_selection import cross_val_score, KFold, RandomizedSearchCV, GridSearchCV, StratifiedKFold\n",
        "from sklearn.metrics import confusion_matrix, classification_report, f1_score, make_scorer\n",
        "\n",
        "from sklearn.naive_bayes import MultinomialNB\n",
        "from sklearn.ensemble import RandomForestClassifier\n",
        "\n",
        "from xgboost import XGBClassifier\n",
        "\n",
        "from sklearn.preprocessing import LabelEncoder\n",
        "import warnings\n",
        "warnings.filterwarnings(\"ignore\")\n",
        "\n",
        "RAND_SEED = 42"
      ]
    },
    {
      "cell_type": "markdown",
      "metadata": {
        "id": "ZCstguaruDzD"
      },
      "source": [
        "# Lectura de archivo\n"
      ]
    },
    {
      "cell_type": "markdown",
      "metadata": {
        "id": "MZ-i4EbmuIVX"
      },
      "source": [
        "### Desde google drive"
      ]
    },
    {
      "cell_type": "code",
      "execution_count": 2,
      "metadata": {
        "id": "9wJ_ERJKwzAQ",
        "colab": {
          "base_uri": "https://localhost:8080/"
        },
        "outputId": "e0b76069-0a8b-415a-d74d-3864c9fccf23"
      },
      "outputs": [
        {
          "output_type": "stream",
          "name": "stdout",
          "text": [
            "Mounted at /content/drive\n"
          ]
        }
      ],
      "source": [
        "drive.mount('/content/drive')\n",
        "root_path = \"/content/drive/MyDrive/7506R-1C2024-GRUPO02/TP2/\""
      ]
    },
    {
      "cell_type": "markdown",
      "metadata": {
        "id": "Aaf7SBZluLlI"
      },
      "source": [
        "### Desde maquina local"
      ]
    },
    {
      "cell_type": "code",
      "execution_count": null,
      "metadata": {
        "id": "gPBHdD8KladB"
      },
      "outputs": [],
      "source": [
        "# Si se esta trabajando en local, descomentar esta celta y comentar la de arriba\n",
        "# root_path = \"./\""
      ]
    },
    {
      "cell_type": "code",
      "execution_count": 3,
      "metadata": {
        "id": "DMJR5Rizlduf"
      },
      "outputs": [],
      "source": [
        "train_path = root_path + 'Dataset/train.csv'\n",
        "test_path = root_path + 'Dataset/test.csv'\n",
        "sample_path = root_path + 'Dataset/sample_solution.csv'\n",
        "ds_train = pd.read_csv(train_path)\n",
        "ds_test = pd.read_csv(test_path)\n",
        "sample = pd.read_csv(sample_path)"
      ]
    },
    {
      "cell_type": "markdown",
      "metadata": {
        "id": "RlY6pAgdvbe5"
      },
      "source": [
        "# Visualizamos los datasets"
      ]
    },
    {
      "cell_type": "code",
      "execution_count": 4,
      "metadata": {
        "id": "cUWg64kmAV8w",
        "colab": {
          "base_uri": "https://localhost:8080/"
        },
        "outputId": "8e38e3aa-5f0c-4686-e6ae-5761ed5eebf5"
      },
      "outputs": [
        {
          "output_type": "stream",
          "name": "stdout",
          "text": [
            "<class 'pandas.core.frame.DataFrame'>\n",
            "RangeIndex: 50000 entries, 0 to 49999\n",
            "Data columns (total 3 columns):\n",
            " #   Column       Non-Null Count  Dtype \n",
            "---  ------       --------------  ----- \n",
            " 0   ID           50000 non-null  int64 \n",
            " 1   review_es    50000 non-null  object\n",
            " 2   sentimiento  50000 non-null  object\n",
            "dtypes: int64(1), object(2)\n",
            "memory usage: 1.1+ MB\n",
            "<class 'pandas.core.frame.DataFrame'>\n",
            "RangeIndex: 8599 entries, 0 to 8598\n",
            "Data columns (total 2 columns):\n",
            " #   Column     Non-Null Count  Dtype \n",
            "---  ------     --------------  ----- \n",
            " 0   ID         8599 non-null   int64 \n",
            " 1   review_es  8599 non-null   object\n",
            "dtypes: int64(1), object(1)\n",
            "memory usage: 134.5+ KB\n"
          ]
        }
      ],
      "source": [
        "ds_train.info()\n",
        "ds_test.info()"
      ]
    },
    {
      "cell_type": "code",
      "execution_count": 5,
      "metadata": {
        "id": "KXiYdnPEvNU_",
        "colab": {
          "base_uri": "https://localhost:8080/",
          "height": 423
        },
        "outputId": "79c141d8-68b1-4e32-9616-7c26caa8386b"
      },
      "outputs": [
        {
          "output_type": "execute_result",
          "data": {
            "text/plain": [
              "          ID                                          review_es sentimiento\n",
              "0          0  Uno de los otros críticos ha mencionado que de...    positivo\n",
              "1          1  Una pequeña pequeña producción.La técnica de f...    positivo\n",
              "2          2  Pensé que esta era una manera maravillosa de p...    positivo\n",
              "3          3  Básicamente, hay una familia donde un niño peq...    negativo\n",
              "4          4  El \"amor en el tiempo\" de Petter Mattei es una...    positivo\n",
              "...      ...                                                ...         ...\n",
              "49995  49995  Pensé que esta película hizo un buen trabajo a...    positivo\n",
              "49996  49996  Mala parcela, mal diálogo, mala actuación, dir...    negativo\n",
              "49997  49997  Soy católica enseñada en escuelas primarias pa...    negativo\n",
              "49998  49998  Voy a tener que estar en desacuerdo con el com...    negativo\n",
              "49999  49999  Nadie espera que las películas de Star Trek se...    negativo\n",
              "\n",
              "[50000 rows x 3 columns]"
            ],
            "text/html": [
              "\n",
              "  <div id=\"df-b14a5ff4-9fb4-46f6-856c-5cede20b9e2c\" class=\"colab-df-container\">\n",
              "    <div>\n",
              "<style scoped>\n",
              "    .dataframe tbody tr th:only-of-type {\n",
              "        vertical-align: middle;\n",
              "    }\n",
              "\n",
              "    .dataframe tbody tr th {\n",
              "        vertical-align: top;\n",
              "    }\n",
              "\n",
              "    .dataframe thead th {\n",
              "        text-align: right;\n",
              "    }\n",
              "</style>\n",
              "<table border=\"1\" class=\"dataframe\">\n",
              "  <thead>\n",
              "    <tr style=\"text-align: right;\">\n",
              "      <th></th>\n",
              "      <th>ID</th>\n",
              "      <th>review_es</th>\n",
              "      <th>sentimiento</th>\n",
              "    </tr>\n",
              "  </thead>\n",
              "  <tbody>\n",
              "    <tr>\n",
              "      <th>0</th>\n",
              "      <td>0</td>\n",
              "      <td>Uno de los otros críticos ha mencionado que de...</td>\n",
              "      <td>positivo</td>\n",
              "    </tr>\n",
              "    <tr>\n",
              "      <th>1</th>\n",
              "      <td>1</td>\n",
              "      <td>Una pequeña pequeña producción.La técnica de f...</td>\n",
              "      <td>positivo</td>\n",
              "    </tr>\n",
              "    <tr>\n",
              "      <th>2</th>\n",
              "      <td>2</td>\n",
              "      <td>Pensé que esta era una manera maravillosa de p...</td>\n",
              "      <td>positivo</td>\n",
              "    </tr>\n",
              "    <tr>\n",
              "      <th>3</th>\n",
              "      <td>3</td>\n",
              "      <td>Básicamente, hay una familia donde un niño peq...</td>\n",
              "      <td>negativo</td>\n",
              "    </tr>\n",
              "    <tr>\n",
              "      <th>4</th>\n",
              "      <td>4</td>\n",
              "      <td>El \"amor en el tiempo\" de Petter Mattei es una...</td>\n",
              "      <td>positivo</td>\n",
              "    </tr>\n",
              "    <tr>\n",
              "      <th>...</th>\n",
              "      <td>...</td>\n",
              "      <td>...</td>\n",
              "      <td>...</td>\n",
              "    </tr>\n",
              "    <tr>\n",
              "      <th>49995</th>\n",
              "      <td>49995</td>\n",
              "      <td>Pensé que esta película hizo un buen trabajo a...</td>\n",
              "      <td>positivo</td>\n",
              "    </tr>\n",
              "    <tr>\n",
              "      <th>49996</th>\n",
              "      <td>49996</td>\n",
              "      <td>Mala parcela, mal diálogo, mala actuación, dir...</td>\n",
              "      <td>negativo</td>\n",
              "    </tr>\n",
              "    <tr>\n",
              "      <th>49997</th>\n",
              "      <td>49997</td>\n",
              "      <td>Soy católica enseñada en escuelas primarias pa...</td>\n",
              "      <td>negativo</td>\n",
              "    </tr>\n",
              "    <tr>\n",
              "      <th>49998</th>\n",
              "      <td>49998</td>\n",
              "      <td>Voy a tener que estar en desacuerdo con el com...</td>\n",
              "      <td>negativo</td>\n",
              "    </tr>\n",
              "    <tr>\n",
              "      <th>49999</th>\n",
              "      <td>49999</td>\n",
              "      <td>Nadie espera que las películas de Star Trek se...</td>\n",
              "      <td>negativo</td>\n",
              "    </tr>\n",
              "  </tbody>\n",
              "</table>\n",
              "<p>50000 rows × 3 columns</p>\n",
              "</div>\n",
              "    <div class=\"colab-df-buttons\">\n",
              "\n",
              "  <div class=\"colab-df-container\">\n",
              "    <button class=\"colab-df-convert\" onclick=\"convertToInteractive('df-b14a5ff4-9fb4-46f6-856c-5cede20b9e2c')\"\n",
              "            title=\"Convert this dataframe to an interactive table.\"\n",
              "            style=\"display:none;\">\n",
              "\n",
              "  <svg xmlns=\"http://www.w3.org/2000/svg\" height=\"24px\" viewBox=\"0 -960 960 960\">\n",
              "    <path d=\"M120-120v-720h720v720H120Zm60-500h600v-160H180v160Zm220 220h160v-160H400v160Zm0 220h160v-160H400v160ZM180-400h160v-160H180v160Zm440 0h160v-160H620v160ZM180-180h160v-160H180v160Zm440 0h160v-160H620v160Z\"/>\n",
              "  </svg>\n",
              "    </button>\n",
              "\n",
              "  <style>\n",
              "    .colab-df-container {\n",
              "      display:flex;\n",
              "      gap: 12px;\n",
              "    }\n",
              "\n",
              "    .colab-df-convert {\n",
              "      background-color: #E8F0FE;\n",
              "      border: none;\n",
              "      border-radius: 50%;\n",
              "      cursor: pointer;\n",
              "      display: none;\n",
              "      fill: #1967D2;\n",
              "      height: 32px;\n",
              "      padding: 0 0 0 0;\n",
              "      width: 32px;\n",
              "    }\n",
              "\n",
              "    .colab-df-convert:hover {\n",
              "      background-color: #E2EBFA;\n",
              "      box-shadow: 0px 1px 2px rgba(60, 64, 67, 0.3), 0px 1px 3px 1px rgba(60, 64, 67, 0.15);\n",
              "      fill: #174EA6;\n",
              "    }\n",
              "\n",
              "    .colab-df-buttons div {\n",
              "      margin-bottom: 4px;\n",
              "    }\n",
              "\n",
              "    [theme=dark] .colab-df-convert {\n",
              "      background-color: #3B4455;\n",
              "      fill: #D2E3FC;\n",
              "    }\n",
              "\n",
              "    [theme=dark] .colab-df-convert:hover {\n",
              "      background-color: #434B5C;\n",
              "      box-shadow: 0px 1px 3px 1px rgba(0, 0, 0, 0.15);\n",
              "      filter: drop-shadow(0px 1px 2px rgba(0, 0, 0, 0.3));\n",
              "      fill: #FFFFFF;\n",
              "    }\n",
              "  </style>\n",
              "\n",
              "    <script>\n",
              "      const buttonEl =\n",
              "        document.querySelector('#df-b14a5ff4-9fb4-46f6-856c-5cede20b9e2c button.colab-df-convert');\n",
              "      buttonEl.style.display =\n",
              "        google.colab.kernel.accessAllowed ? 'block' : 'none';\n",
              "\n",
              "      async function convertToInteractive(key) {\n",
              "        const element = document.querySelector('#df-b14a5ff4-9fb4-46f6-856c-5cede20b9e2c');\n",
              "        const dataTable =\n",
              "          await google.colab.kernel.invokeFunction('convertToInteractive',\n",
              "                                                    [key], {});\n",
              "        if (!dataTable) return;\n",
              "\n",
              "        const docLinkHtml = 'Like what you see? Visit the ' +\n",
              "          '<a target=\"_blank\" href=https://colab.research.google.com/notebooks/data_table.ipynb>data table notebook</a>'\n",
              "          + ' to learn more about interactive tables.';\n",
              "        element.innerHTML = '';\n",
              "        dataTable['output_type'] = 'display_data';\n",
              "        await google.colab.output.renderOutput(dataTable, element);\n",
              "        const docLink = document.createElement('div');\n",
              "        docLink.innerHTML = docLinkHtml;\n",
              "        element.appendChild(docLink);\n",
              "      }\n",
              "    </script>\n",
              "  </div>\n",
              "\n",
              "\n",
              "<div id=\"df-1ffb66db-7363-4110-9e75-bc76a0a25fb4\">\n",
              "  <button class=\"colab-df-quickchart\" onclick=\"quickchart('df-1ffb66db-7363-4110-9e75-bc76a0a25fb4')\"\n",
              "            title=\"Suggest charts\"\n",
              "            style=\"display:none;\">\n",
              "\n",
              "<svg xmlns=\"http://www.w3.org/2000/svg\" height=\"24px\"viewBox=\"0 0 24 24\"\n",
              "     width=\"24px\">\n",
              "    <g>\n",
              "        <path d=\"M19 3H5c-1.1 0-2 .9-2 2v14c0 1.1.9 2 2 2h14c1.1 0 2-.9 2-2V5c0-1.1-.9-2-2-2zM9 17H7v-7h2v7zm4 0h-2V7h2v10zm4 0h-2v-4h2v4z\"/>\n",
              "    </g>\n",
              "</svg>\n",
              "  </button>\n",
              "\n",
              "<style>\n",
              "  .colab-df-quickchart {\n",
              "      --bg-color: #E8F0FE;\n",
              "      --fill-color: #1967D2;\n",
              "      --hover-bg-color: #E2EBFA;\n",
              "      --hover-fill-color: #174EA6;\n",
              "      --disabled-fill-color: #AAA;\n",
              "      --disabled-bg-color: #DDD;\n",
              "  }\n",
              "\n",
              "  [theme=dark] .colab-df-quickchart {\n",
              "      --bg-color: #3B4455;\n",
              "      --fill-color: #D2E3FC;\n",
              "      --hover-bg-color: #434B5C;\n",
              "      --hover-fill-color: #FFFFFF;\n",
              "      --disabled-bg-color: #3B4455;\n",
              "      --disabled-fill-color: #666;\n",
              "  }\n",
              "\n",
              "  .colab-df-quickchart {\n",
              "    background-color: var(--bg-color);\n",
              "    border: none;\n",
              "    border-radius: 50%;\n",
              "    cursor: pointer;\n",
              "    display: none;\n",
              "    fill: var(--fill-color);\n",
              "    height: 32px;\n",
              "    padding: 0;\n",
              "    width: 32px;\n",
              "  }\n",
              "\n",
              "  .colab-df-quickchart:hover {\n",
              "    background-color: var(--hover-bg-color);\n",
              "    box-shadow: 0 1px 2px rgba(60, 64, 67, 0.3), 0 1px 3px 1px rgba(60, 64, 67, 0.15);\n",
              "    fill: var(--button-hover-fill-color);\n",
              "  }\n",
              "\n",
              "  .colab-df-quickchart-complete:disabled,\n",
              "  .colab-df-quickchart-complete:disabled:hover {\n",
              "    background-color: var(--disabled-bg-color);\n",
              "    fill: var(--disabled-fill-color);\n",
              "    box-shadow: none;\n",
              "  }\n",
              "\n",
              "  .colab-df-spinner {\n",
              "    border: 2px solid var(--fill-color);\n",
              "    border-color: transparent;\n",
              "    border-bottom-color: var(--fill-color);\n",
              "    animation:\n",
              "      spin 1s steps(1) infinite;\n",
              "  }\n",
              "\n",
              "  @keyframes spin {\n",
              "    0% {\n",
              "      border-color: transparent;\n",
              "      border-bottom-color: var(--fill-color);\n",
              "      border-left-color: var(--fill-color);\n",
              "    }\n",
              "    20% {\n",
              "      border-color: transparent;\n",
              "      border-left-color: var(--fill-color);\n",
              "      border-top-color: var(--fill-color);\n",
              "    }\n",
              "    30% {\n",
              "      border-color: transparent;\n",
              "      border-left-color: var(--fill-color);\n",
              "      border-top-color: var(--fill-color);\n",
              "      border-right-color: var(--fill-color);\n",
              "    }\n",
              "    40% {\n",
              "      border-color: transparent;\n",
              "      border-right-color: var(--fill-color);\n",
              "      border-top-color: var(--fill-color);\n",
              "    }\n",
              "    60% {\n",
              "      border-color: transparent;\n",
              "      border-right-color: var(--fill-color);\n",
              "    }\n",
              "    80% {\n",
              "      border-color: transparent;\n",
              "      border-right-color: var(--fill-color);\n",
              "      border-bottom-color: var(--fill-color);\n",
              "    }\n",
              "    90% {\n",
              "      border-color: transparent;\n",
              "      border-bottom-color: var(--fill-color);\n",
              "    }\n",
              "  }\n",
              "</style>\n",
              "\n",
              "  <script>\n",
              "    async function quickchart(key) {\n",
              "      const quickchartButtonEl =\n",
              "        document.querySelector('#' + key + ' button');\n",
              "      quickchartButtonEl.disabled = true;  // To prevent multiple clicks.\n",
              "      quickchartButtonEl.classList.add('colab-df-spinner');\n",
              "      try {\n",
              "        const charts = await google.colab.kernel.invokeFunction(\n",
              "            'suggestCharts', [key], {});\n",
              "      } catch (error) {\n",
              "        console.error('Error during call to suggestCharts:', error);\n",
              "      }\n",
              "      quickchartButtonEl.classList.remove('colab-df-spinner');\n",
              "      quickchartButtonEl.classList.add('colab-df-quickchart-complete');\n",
              "    }\n",
              "    (() => {\n",
              "      let quickchartButtonEl =\n",
              "        document.querySelector('#df-1ffb66db-7363-4110-9e75-bc76a0a25fb4 button');\n",
              "      quickchartButtonEl.style.display =\n",
              "        google.colab.kernel.accessAllowed ? 'block' : 'none';\n",
              "    })();\n",
              "  </script>\n",
              "</div>\n",
              "\n",
              "  <div id=\"id_467162df-46f1-4129-8696-3f104b99f3a0\">\n",
              "    <style>\n",
              "      .colab-df-generate {\n",
              "        background-color: #E8F0FE;\n",
              "        border: none;\n",
              "        border-radius: 50%;\n",
              "        cursor: pointer;\n",
              "        display: none;\n",
              "        fill: #1967D2;\n",
              "        height: 32px;\n",
              "        padding: 0 0 0 0;\n",
              "        width: 32px;\n",
              "      }\n",
              "\n",
              "      .colab-df-generate:hover {\n",
              "        background-color: #E2EBFA;\n",
              "        box-shadow: 0px 1px 2px rgba(60, 64, 67, 0.3), 0px 1px 3px 1px rgba(60, 64, 67, 0.15);\n",
              "        fill: #174EA6;\n",
              "      }\n",
              "\n",
              "      [theme=dark] .colab-df-generate {\n",
              "        background-color: #3B4455;\n",
              "        fill: #D2E3FC;\n",
              "      }\n",
              "\n",
              "      [theme=dark] .colab-df-generate:hover {\n",
              "        background-color: #434B5C;\n",
              "        box-shadow: 0px 1px 3px 1px rgba(0, 0, 0, 0.15);\n",
              "        filter: drop-shadow(0px 1px 2px rgba(0, 0, 0, 0.3));\n",
              "        fill: #FFFFFF;\n",
              "      }\n",
              "    </style>\n",
              "    <button class=\"colab-df-generate\" onclick=\"generateWithVariable('ds_train')\"\n",
              "            title=\"Generate code using this dataframe.\"\n",
              "            style=\"display:none;\">\n",
              "\n",
              "  <svg xmlns=\"http://www.w3.org/2000/svg\" height=\"24px\"viewBox=\"0 0 24 24\"\n",
              "       width=\"24px\">\n",
              "    <path d=\"M7,19H8.4L18.45,9,17,7.55,7,17.6ZM5,21V16.75L18.45,3.32a2,2,0,0,1,2.83,0l1.4,1.43a1.91,1.91,0,0,1,.58,1.4,1.91,1.91,0,0,1-.58,1.4L9.25,21ZM18.45,9,17,7.55Zm-12,3A5.31,5.31,0,0,0,4.9,8.1,5.31,5.31,0,0,0,1,6.5,5.31,5.31,0,0,0,4.9,4.9,5.31,5.31,0,0,0,6.5,1,5.31,5.31,0,0,0,8.1,4.9,5.31,5.31,0,0,0,12,6.5,5.46,5.46,0,0,0,6.5,12Z\"/>\n",
              "  </svg>\n",
              "    </button>\n",
              "    <script>\n",
              "      (() => {\n",
              "      const buttonEl =\n",
              "        document.querySelector('#id_467162df-46f1-4129-8696-3f104b99f3a0 button.colab-df-generate');\n",
              "      buttonEl.style.display =\n",
              "        google.colab.kernel.accessAllowed ? 'block' : 'none';\n",
              "\n",
              "      buttonEl.onclick = () => {\n",
              "        google.colab.notebook.generateWithVariable('ds_train');\n",
              "      }\n",
              "      })();\n",
              "    </script>\n",
              "  </div>\n",
              "\n",
              "    </div>\n",
              "  </div>\n"
            ],
            "application/vnd.google.colaboratory.intrinsic+json": {
              "type": "dataframe",
              "variable_name": "ds_train",
              "summary": "{\n  \"name\": \"ds_train\",\n  \"rows\": 50000,\n  \"fields\": [\n    {\n      \"column\": \"ID\",\n      \"properties\": {\n        \"dtype\": \"number\",\n        \"std\": 14433,\n        \"min\": 0,\n        \"max\": 49999,\n        \"num_unique_values\": 50000,\n        \"samples\": [\n          33553,\n          9427,\n          199\n        ],\n        \"semantic_type\": \"\",\n        \"description\": \"\"\n      }\n    },\n    {\n      \"column\": \"review_es\",\n      \"properties\": {\n        \"dtype\": \"string\",\n        \"num_unique_values\": 49599,\n        \"samples\": [\n          \"Dos a\\u00f1os despu\\u00e9s del \\u00e9xito de 'avi\\u00f3n', Jim Abrahams y Jerry y David Zucker crearon esta brillante comedia protagonizada por la Gran Leslie Nielsen, ya que el detective video simple 'Frank Drebin'. Tambi\\u00e9n en el elenco fue Alan North como 'Capit\\u00e1n Ed Hocken', Ed Williams como 'Ted Olsen' y William Duell como 'Johnny The Shoe Shine Boy'. '\\u00a1Escuadr\\u00f3n de la polic\\u00eda!' Destac\\u00f3 chistes sin verg\\u00fcenza y gags visuales inteligentes jugando en el fondo. Cada episodio concluir\\u00eda con un marco de congelaci\\u00f3n simulado en el que los caracteres en el marco se encuentran completamente quietos. \\u00a1Una de las mejores secuencias de 'congelamiento' de 'congelamiento' vieron a uno de los personajes que vierte caf\\u00e9 en una taza mientras est\\u00e1 de pie, lo que hace que la taza se desborde! Las estrellas invitadas fueron asesinadas en los t\\u00edtulos de apertura, \\u00a1uno incluido Georg Stanford Brown siendo aplastado por una caja fuerte! A pesar de obtener revisiones positivas y mucho cr\\u00edtico, '\\u00a1Escuadr\\u00f3n!' Solo dur\\u00f3 seis episodios antes de ser cancelados. Esto no signific\\u00f3 que el final, sin embargo, cinco a\\u00f1os despu\\u00e9s, el espect\\u00e1culo se transfiri\\u00f3 a la pantalla grande para la primera en la trilog\\u00eda de las pel\\u00edculas \\\"desnudas de la pistola\\\".\",\n          \"He le\\u00eddo los comentarios de KERCHING ON IMDB, y francamente, no he visto una revisi\\u00f3n positiva, hasta ahora.En realidad me gusta a Kerching.Kerching es sobre un adolescente llamado Taj Lewis, para hacer \\u00a3 1,000,000 para su madre, establece un sitio web llamado Rudeboy.El sitio web ofrece muchas cosas interesantes, aunque solo TAJ, y sus 2 amigos, Danny y Seymour pueden evitar que TAJ se exponga.Encuentro este espect\\u00e1culo bastante divertido y me gusta verlo.La actuaci\\u00f3n es O.K., pero definitivamente puede ser mejor, los personajes son divertidos, especialmente a Danny Spooner, el amigo de Taj, su estupidez es lo que lo hace divertido.y el otro amigo de Taj seymour.Tambi\\u00e9n Carlton, el due\\u00f1o de la cafeter\\u00eda llamada \\\"El fr\\u00edo\\\".Nunca lo vemos, solo lo escuchamos.El hermano menor de Taj, Omar, y su hermana mayor, Missy tambi\\u00e9n es divertida.Y la mejor amiga de Missy Kareesha.Muchas veces, Taj's casi se ha expuesto, casi.Adem\\u00e1s de la comedia, el drama en kerching, como la vida del amor y la p\\u00e9rdida de seres queridos hace que este programa sea excelente.\",\n          \"Una historia sobre el amor y el odio, la tragedia y la felicidad, y sobre todo, la amistad establecida en el momento muy interesante de la guerra civil estadounidense. Te interesa interesado en la historia, te involucra emocionalmente y te hace febrilmente esperar el pr\\u00f3ximo episodio., el casting era espl\\u00e9ndido.Muchas superestrellas aparecen en los camafeos cortos, los roles principales son jugados por una gran variedad de monumentos talentosos: Kirstie Alley y Terri Garber se deben mencionar aqu\\u00ed: este es simplemente un excelente ejemplo para una producci\\u00f3n de televisi\\u00f3n como deber\\u00eda ser. No se olvide de los pura.Lovelity of Wendy Kilbourne retratando constanza :-)\"\n        ],\n        \"semantic_type\": \"\",\n        \"description\": \"\"\n      }\n    },\n    {\n      \"column\": \"sentimiento\",\n      \"properties\": {\n        \"dtype\": \"category\",\n        \"num_unique_values\": 2,\n        \"samples\": [\n          \"negativo\",\n          \"positivo\"\n        ],\n        \"semantic_type\": \"\",\n        \"description\": \"\"\n      }\n    }\n  ]\n}"
            }
          },
          "metadata": {},
          "execution_count": 5
        }
      ],
      "source": [
        "ds_train"
      ]
    },
    {
      "cell_type": "markdown",
      "metadata": {
        "id": "YrXa8bzno_t7"
      },
      "source": [
        "Dividimos el dataset de train en x_train e y_train (la primera tendra el texto y la segunda las labels).\n",
        "\n",
        "Adicionalmente no incluiremos la columna ID ya que no es necesaria para nuestro proposito de entrenamiento."
      ]
    },
    {
      "cell_type": "code",
      "source": [
        "def map_sentiment(ds, invert=False):\n",
        "  return ds.map({'negativo': 0, 'positivo': 1}) if not invert else ds.map({0: 'negativo', 1: 'positivo'})"
      ],
      "metadata": {
        "id": "rXSb-qLuRxmI"
      },
      "execution_count": 6,
      "outputs": []
    },
    {
      "cell_type": "code",
      "execution_count": 7,
      "metadata": {
        "id": "T3Pz1qvoo_fM"
      },
      "outputs": [],
      "source": [
        "x_train_text_completo = ds_train[\"review_es\"]\n",
        "y_train_completo = map_sentiment(ds_train[\"sentimiento\"])"
      ]
    },
    {
      "cell_type": "code",
      "execution_count": 8,
      "metadata": {
        "id": "1ZGZoNbcviQL",
        "colab": {
          "base_uri": "https://localhost:8080/",
          "height": 423
        },
        "outputId": "4d4d0f95-fa0e-4598-a0e7-76ba4060c338"
      },
      "outputs": [
        {
          "output_type": "execute_result",
          "data": {
            "text/plain": [
              "         ID                                          review_es\n",
              "0     60000  La mayor virtud de esta película es su existen...\n",
              "1     60001  No soy un experto cinéfilo, pero pocas veces m...\n",
              "2     60002  Si no eres un incondicional del humor estilo T...\n",
              "3     60003  No sé qué está pasando, si la gente se deja ll...\n",
              "4     60004  Pero cuando amanece,y me quedo solo,siento en ...\n",
              "...     ...                                                ...\n",
              "8594  68594  Buena no, lo siguiente. Por fin un film serio ...\n",
              "8595  68595  Me esperaba mucho, pero que mucho, más.Guión m...\n",
              "8596  68596  De mal cuerpo como sensación al finalizar, de ...\n",
              "8597  68597  Los que han añadido comentarios os lo han dich...\n",
              "8598  68598  Fui a ver esta película de cine con entusiasmo...\n",
              "\n",
              "[8599 rows x 2 columns]"
            ],
            "text/html": [
              "\n",
              "  <div id=\"df-f6298599-218f-4b56-9d5c-1fc5b3969c7a\" class=\"colab-df-container\">\n",
              "    <div>\n",
              "<style scoped>\n",
              "    .dataframe tbody tr th:only-of-type {\n",
              "        vertical-align: middle;\n",
              "    }\n",
              "\n",
              "    .dataframe tbody tr th {\n",
              "        vertical-align: top;\n",
              "    }\n",
              "\n",
              "    .dataframe thead th {\n",
              "        text-align: right;\n",
              "    }\n",
              "</style>\n",
              "<table border=\"1\" class=\"dataframe\">\n",
              "  <thead>\n",
              "    <tr style=\"text-align: right;\">\n",
              "      <th></th>\n",
              "      <th>ID</th>\n",
              "      <th>review_es</th>\n",
              "    </tr>\n",
              "  </thead>\n",
              "  <tbody>\n",
              "    <tr>\n",
              "      <th>0</th>\n",
              "      <td>60000</td>\n",
              "      <td>La mayor virtud de esta película es su existen...</td>\n",
              "    </tr>\n",
              "    <tr>\n",
              "      <th>1</th>\n",
              "      <td>60001</td>\n",
              "      <td>No soy un experto cinéfilo, pero pocas veces m...</td>\n",
              "    </tr>\n",
              "    <tr>\n",
              "      <th>2</th>\n",
              "      <td>60002</td>\n",
              "      <td>Si no eres un incondicional del humor estilo T...</td>\n",
              "    </tr>\n",
              "    <tr>\n",
              "      <th>3</th>\n",
              "      <td>60003</td>\n",
              "      <td>No sé qué está pasando, si la gente se deja ll...</td>\n",
              "    </tr>\n",
              "    <tr>\n",
              "      <th>4</th>\n",
              "      <td>60004</td>\n",
              "      <td>Pero cuando amanece,y me quedo solo,siento en ...</td>\n",
              "    </tr>\n",
              "    <tr>\n",
              "      <th>...</th>\n",
              "      <td>...</td>\n",
              "      <td>...</td>\n",
              "    </tr>\n",
              "    <tr>\n",
              "      <th>8594</th>\n",
              "      <td>68594</td>\n",
              "      <td>Buena no, lo siguiente. Por fin un film serio ...</td>\n",
              "    </tr>\n",
              "    <tr>\n",
              "      <th>8595</th>\n",
              "      <td>68595</td>\n",
              "      <td>Me esperaba mucho, pero que mucho, más.Guión m...</td>\n",
              "    </tr>\n",
              "    <tr>\n",
              "      <th>8596</th>\n",
              "      <td>68596</td>\n",
              "      <td>De mal cuerpo como sensación al finalizar, de ...</td>\n",
              "    </tr>\n",
              "    <tr>\n",
              "      <th>8597</th>\n",
              "      <td>68597</td>\n",
              "      <td>Los que han añadido comentarios os lo han dich...</td>\n",
              "    </tr>\n",
              "    <tr>\n",
              "      <th>8598</th>\n",
              "      <td>68598</td>\n",
              "      <td>Fui a ver esta película de cine con entusiasmo...</td>\n",
              "    </tr>\n",
              "  </tbody>\n",
              "</table>\n",
              "<p>8599 rows × 2 columns</p>\n",
              "</div>\n",
              "    <div class=\"colab-df-buttons\">\n",
              "\n",
              "  <div class=\"colab-df-container\">\n",
              "    <button class=\"colab-df-convert\" onclick=\"convertToInteractive('df-f6298599-218f-4b56-9d5c-1fc5b3969c7a')\"\n",
              "            title=\"Convert this dataframe to an interactive table.\"\n",
              "            style=\"display:none;\">\n",
              "\n",
              "  <svg xmlns=\"http://www.w3.org/2000/svg\" height=\"24px\" viewBox=\"0 -960 960 960\">\n",
              "    <path d=\"M120-120v-720h720v720H120Zm60-500h600v-160H180v160Zm220 220h160v-160H400v160Zm0 220h160v-160H400v160ZM180-400h160v-160H180v160Zm440 0h160v-160H620v160ZM180-180h160v-160H180v160Zm440 0h160v-160H620v160Z\"/>\n",
              "  </svg>\n",
              "    </button>\n",
              "\n",
              "  <style>\n",
              "    .colab-df-container {\n",
              "      display:flex;\n",
              "      gap: 12px;\n",
              "    }\n",
              "\n",
              "    .colab-df-convert {\n",
              "      background-color: #E8F0FE;\n",
              "      border: none;\n",
              "      border-radius: 50%;\n",
              "      cursor: pointer;\n",
              "      display: none;\n",
              "      fill: #1967D2;\n",
              "      height: 32px;\n",
              "      padding: 0 0 0 0;\n",
              "      width: 32px;\n",
              "    }\n",
              "\n",
              "    .colab-df-convert:hover {\n",
              "      background-color: #E2EBFA;\n",
              "      box-shadow: 0px 1px 2px rgba(60, 64, 67, 0.3), 0px 1px 3px 1px rgba(60, 64, 67, 0.15);\n",
              "      fill: #174EA6;\n",
              "    }\n",
              "\n",
              "    .colab-df-buttons div {\n",
              "      margin-bottom: 4px;\n",
              "    }\n",
              "\n",
              "    [theme=dark] .colab-df-convert {\n",
              "      background-color: #3B4455;\n",
              "      fill: #D2E3FC;\n",
              "    }\n",
              "\n",
              "    [theme=dark] .colab-df-convert:hover {\n",
              "      background-color: #434B5C;\n",
              "      box-shadow: 0px 1px 3px 1px rgba(0, 0, 0, 0.15);\n",
              "      filter: drop-shadow(0px 1px 2px rgba(0, 0, 0, 0.3));\n",
              "      fill: #FFFFFF;\n",
              "    }\n",
              "  </style>\n",
              "\n",
              "    <script>\n",
              "      const buttonEl =\n",
              "        document.querySelector('#df-f6298599-218f-4b56-9d5c-1fc5b3969c7a button.colab-df-convert');\n",
              "      buttonEl.style.display =\n",
              "        google.colab.kernel.accessAllowed ? 'block' : 'none';\n",
              "\n",
              "      async function convertToInteractive(key) {\n",
              "        const element = document.querySelector('#df-f6298599-218f-4b56-9d5c-1fc5b3969c7a');\n",
              "        const dataTable =\n",
              "          await google.colab.kernel.invokeFunction('convertToInteractive',\n",
              "                                                    [key], {});\n",
              "        if (!dataTable) return;\n",
              "\n",
              "        const docLinkHtml = 'Like what you see? Visit the ' +\n",
              "          '<a target=\"_blank\" href=https://colab.research.google.com/notebooks/data_table.ipynb>data table notebook</a>'\n",
              "          + ' to learn more about interactive tables.';\n",
              "        element.innerHTML = '';\n",
              "        dataTable['output_type'] = 'display_data';\n",
              "        await google.colab.output.renderOutput(dataTable, element);\n",
              "        const docLink = document.createElement('div');\n",
              "        docLink.innerHTML = docLinkHtml;\n",
              "        element.appendChild(docLink);\n",
              "      }\n",
              "    </script>\n",
              "  </div>\n",
              "\n",
              "\n",
              "<div id=\"df-7daa0ee4-ec76-4320-b246-da660a30cc3a\">\n",
              "  <button class=\"colab-df-quickchart\" onclick=\"quickchart('df-7daa0ee4-ec76-4320-b246-da660a30cc3a')\"\n",
              "            title=\"Suggest charts\"\n",
              "            style=\"display:none;\">\n",
              "\n",
              "<svg xmlns=\"http://www.w3.org/2000/svg\" height=\"24px\"viewBox=\"0 0 24 24\"\n",
              "     width=\"24px\">\n",
              "    <g>\n",
              "        <path d=\"M19 3H5c-1.1 0-2 .9-2 2v14c0 1.1.9 2 2 2h14c1.1 0 2-.9 2-2V5c0-1.1-.9-2-2-2zM9 17H7v-7h2v7zm4 0h-2V7h2v10zm4 0h-2v-4h2v4z\"/>\n",
              "    </g>\n",
              "</svg>\n",
              "  </button>\n",
              "\n",
              "<style>\n",
              "  .colab-df-quickchart {\n",
              "      --bg-color: #E8F0FE;\n",
              "      --fill-color: #1967D2;\n",
              "      --hover-bg-color: #E2EBFA;\n",
              "      --hover-fill-color: #174EA6;\n",
              "      --disabled-fill-color: #AAA;\n",
              "      --disabled-bg-color: #DDD;\n",
              "  }\n",
              "\n",
              "  [theme=dark] .colab-df-quickchart {\n",
              "      --bg-color: #3B4455;\n",
              "      --fill-color: #D2E3FC;\n",
              "      --hover-bg-color: #434B5C;\n",
              "      --hover-fill-color: #FFFFFF;\n",
              "      --disabled-bg-color: #3B4455;\n",
              "      --disabled-fill-color: #666;\n",
              "  }\n",
              "\n",
              "  .colab-df-quickchart {\n",
              "    background-color: var(--bg-color);\n",
              "    border: none;\n",
              "    border-radius: 50%;\n",
              "    cursor: pointer;\n",
              "    display: none;\n",
              "    fill: var(--fill-color);\n",
              "    height: 32px;\n",
              "    padding: 0;\n",
              "    width: 32px;\n",
              "  }\n",
              "\n",
              "  .colab-df-quickchart:hover {\n",
              "    background-color: var(--hover-bg-color);\n",
              "    box-shadow: 0 1px 2px rgba(60, 64, 67, 0.3), 0 1px 3px 1px rgba(60, 64, 67, 0.15);\n",
              "    fill: var(--button-hover-fill-color);\n",
              "  }\n",
              "\n",
              "  .colab-df-quickchart-complete:disabled,\n",
              "  .colab-df-quickchart-complete:disabled:hover {\n",
              "    background-color: var(--disabled-bg-color);\n",
              "    fill: var(--disabled-fill-color);\n",
              "    box-shadow: none;\n",
              "  }\n",
              "\n",
              "  .colab-df-spinner {\n",
              "    border: 2px solid var(--fill-color);\n",
              "    border-color: transparent;\n",
              "    border-bottom-color: var(--fill-color);\n",
              "    animation:\n",
              "      spin 1s steps(1) infinite;\n",
              "  }\n",
              "\n",
              "  @keyframes spin {\n",
              "    0% {\n",
              "      border-color: transparent;\n",
              "      border-bottom-color: var(--fill-color);\n",
              "      border-left-color: var(--fill-color);\n",
              "    }\n",
              "    20% {\n",
              "      border-color: transparent;\n",
              "      border-left-color: var(--fill-color);\n",
              "      border-top-color: var(--fill-color);\n",
              "    }\n",
              "    30% {\n",
              "      border-color: transparent;\n",
              "      border-left-color: var(--fill-color);\n",
              "      border-top-color: var(--fill-color);\n",
              "      border-right-color: var(--fill-color);\n",
              "    }\n",
              "    40% {\n",
              "      border-color: transparent;\n",
              "      border-right-color: var(--fill-color);\n",
              "      border-top-color: var(--fill-color);\n",
              "    }\n",
              "    60% {\n",
              "      border-color: transparent;\n",
              "      border-right-color: var(--fill-color);\n",
              "    }\n",
              "    80% {\n",
              "      border-color: transparent;\n",
              "      border-right-color: var(--fill-color);\n",
              "      border-bottom-color: var(--fill-color);\n",
              "    }\n",
              "    90% {\n",
              "      border-color: transparent;\n",
              "      border-bottom-color: var(--fill-color);\n",
              "    }\n",
              "  }\n",
              "</style>\n",
              "\n",
              "  <script>\n",
              "    async function quickchart(key) {\n",
              "      const quickchartButtonEl =\n",
              "        document.querySelector('#' + key + ' button');\n",
              "      quickchartButtonEl.disabled = true;  // To prevent multiple clicks.\n",
              "      quickchartButtonEl.classList.add('colab-df-spinner');\n",
              "      try {\n",
              "        const charts = await google.colab.kernel.invokeFunction(\n",
              "            'suggestCharts', [key], {});\n",
              "      } catch (error) {\n",
              "        console.error('Error during call to suggestCharts:', error);\n",
              "      }\n",
              "      quickchartButtonEl.classList.remove('colab-df-spinner');\n",
              "      quickchartButtonEl.classList.add('colab-df-quickchart-complete');\n",
              "    }\n",
              "    (() => {\n",
              "      let quickchartButtonEl =\n",
              "        document.querySelector('#df-7daa0ee4-ec76-4320-b246-da660a30cc3a button');\n",
              "      quickchartButtonEl.style.display =\n",
              "        google.colab.kernel.accessAllowed ? 'block' : 'none';\n",
              "    })();\n",
              "  </script>\n",
              "</div>\n",
              "\n",
              "  <div id=\"id_b9d4e50e-efa8-40a6-9d86-0b3e63066a09\">\n",
              "    <style>\n",
              "      .colab-df-generate {\n",
              "        background-color: #E8F0FE;\n",
              "        border: none;\n",
              "        border-radius: 50%;\n",
              "        cursor: pointer;\n",
              "        display: none;\n",
              "        fill: #1967D2;\n",
              "        height: 32px;\n",
              "        padding: 0 0 0 0;\n",
              "        width: 32px;\n",
              "      }\n",
              "\n",
              "      .colab-df-generate:hover {\n",
              "        background-color: #E2EBFA;\n",
              "        box-shadow: 0px 1px 2px rgba(60, 64, 67, 0.3), 0px 1px 3px 1px rgba(60, 64, 67, 0.15);\n",
              "        fill: #174EA6;\n",
              "      }\n",
              "\n",
              "      [theme=dark] .colab-df-generate {\n",
              "        background-color: #3B4455;\n",
              "        fill: #D2E3FC;\n",
              "      }\n",
              "\n",
              "      [theme=dark] .colab-df-generate:hover {\n",
              "        background-color: #434B5C;\n",
              "        box-shadow: 0px 1px 3px 1px rgba(0, 0, 0, 0.15);\n",
              "        filter: drop-shadow(0px 1px 2px rgba(0, 0, 0, 0.3));\n",
              "        fill: #FFFFFF;\n",
              "      }\n",
              "    </style>\n",
              "    <button class=\"colab-df-generate\" onclick=\"generateWithVariable('ds_test')\"\n",
              "            title=\"Generate code using this dataframe.\"\n",
              "            style=\"display:none;\">\n",
              "\n",
              "  <svg xmlns=\"http://www.w3.org/2000/svg\" height=\"24px\"viewBox=\"0 0 24 24\"\n",
              "       width=\"24px\">\n",
              "    <path d=\"M7,19H8.4L18.45,9,17,7.55,7,17.6ZM5,21V16.75L18.45,3.32a2,2,0,0,1,2.83,0l1.4,1.43a1.91,1.91,0,0,1,.58,1.4,1.91,1.91,0,0,1-.58,1.4L9.25,21ZM18.45,9,17,7.55Zm-12,3A5.31,5.31,0,0,0,4.9,8.1,5.31,5.31,0,0,0,1,6.5,5.31,5.31,0,0,0,4.9,4.9,5.31,5.31,0,0,0,6.5,1,5.31,5.31,0,0,0,8.1,4.9,5.31,5.31,0,0,0,12,6.5,5.46,5.46,0,0,0,6.5,12Z\"/>\n",
              "  </svg>\n",
              "    </button>\n",
              "    <script>\n",
              "      (() => {\n",
              "      const buttonEl =\n",
              "        document.querySelector('#id_b9d4e50e-efa8-40a6-9d86-0b3e63066a09 button.colab-df-generate');\n",
              "      buttonEl.style.display =\n",
              "        google.colab.kernel.accessAllowed ? 'block' : 'none';\n",
              "\n",
              "      buttonEl.onclick = () => {\n",
              "        google.colab.notebook.generateWithVariable('ds_test');\n",
              "      }\n",
              "      })();\n",
              "    </script>\n",
              "  </div>\n",
              "\n",
              "    </div>\n",
              "  </div>\n"
            ],
            "application/vnd.google.colaboratory.intrinsic+json": {
              "type": "dataframe",
              "variable_name": "ds_test",
              "summary": "{\n  \"name\": \"ds_test\",\n  \"rows\": 8599,\n  \"fields\": [\n    {\n      \"column\": \"ID\",\n      \"properties\": {\n        \"dtype\": \"number\",\n        \"std\": 2482,\n        \"min\": 60000,\n        \"max\": 68598,\n        \"num_unique_values\": 8599,\n        \"samples\": [\n          62499,\n          66723,\n          63944\n        ],\n        \"semantic_type\": \"\",\n        \"description\": \"\"\n      }\n    },\n    {\n      \"column\": \"review_es\",\n      \"properties\": {\n        \"dtype\": \"string\",\n        \"num_unique_values\": 8599,\n        \"samples\": [\n          \"Amenabar acert\\u00f3 de pleno con esta emotiva y dram\\u00e1tica historia. Como siempre en sus pel\\u00edculas, gran fotograf\\u00eda y banda sonora. Brillante Bardem y muy buenos secundarios. Totalmente recomendable, a no ser que s\\u00f3lo te guste el cine de acci\\u00f3n, si es as\\u00ed olv\\u00eddate.\",\n          \"Una de las obras espa\\u00f1olas m\\u00e1s exitosas del siglo XXI se trata en realidad de un coproducci\\u00f3n con Estados Unidos y M\\u00e9xico, de forma muy similar a Los Otros pero en esta ocasi\\u00f3n con actores nacionales. El resultado de esta producci\\u00f3n es el de una historia interesante, magn\\u00edficamente ambientada pero que flojea a partir de su mitad. El contraste entre la crueldad y la inhumanidad en la posguerra (aparcando debates pol\\u00edticos sobre su enfoque) y el mundo de fantas\\u00eda que s\\u00f3lo es capaz de ver la ni\\u00f1a resulta art\\u00edsticamente muy atractivo y diferente a lo que el cine espa\\u00f1ol nos tiene acostumbrados, pero el gui\\u00f3n resulta simple y pierde ritmo en su desarrollo.Sin embargo, las limitaciones argumentales son superadas por unas destacables interpretaciones de sus personajes. En especial de Sergi L\\u00f3pez, encarnando a un capit\\u00e1n despiadado, incapaz de sentir amor y obsesionado con eliminar a los que cree sus enemigos. Tambi\\u00e9n es digno de mencionar el trabajo siempre efectivo de Maribel Verd\\u00fa y las sorpresas de Doug Jones en el papel del fauno y la por aqu\\u00e9l entonces peque\\u00f1a Ivana Baquero, que ejecuta probablemente el mejor papel de su carrera hasta la fecha de la presente cr\\u00edtica.Sorprendentemente, la pel\\u00edcula se llev\\u00f3... \\u00a1tres Oscars! Y candidata para otros tres. Parece claro que para volver a triunfar en la gala de oro del cine hay que introducir recursos que admiren los americanos y adem\\u00e1s juntarnos con ellos.\",\n          \"Creo que se sobrevalora esta cinta, si bien es justo decir que la producci\\u00f3n es notable y un Luis Tosar no decepciona pero pienso que la trama empieza demasiado r\\u00e1pido no le da tiempo al espectador a hacerse con los personajes, los secundarios est\\u00e1n como fuera de lugar, alguno de ellos no veo que sean demasiado relevantes para la trama, est\\u00e1n como de paso, parece ser que los personajes principales arrastren el argumento,  creo que se ha desperdiciado un argumento muy original y se ha quedado en un intento bastante flojo.\"\n        ],\n        \"semantic_type\": \"\",\n        \"description\": \"\"\n      }\n    }\n  ]\n}"
            }
          },
          "metadata": {},
          "execution_count": 8
        }
      ],
      "source": [
        "ds_test"
      ]
    },
    {
      "cell_type": "markdown",
      "metadata": {
        "id": "IGXF2ESLqFR2"
      },
      "source": [
        "Creamos el dataset de x_test sin incluir el id"
      ]
    },
    {
      "cell_type": "code",
      "execution_count": 9,
      "metadata": {
        "id": "EWVFwP9JqK-6"
      },
      "outputs": [],
      "source": [
        "x_test_text = ds_test[\"review_es\"]"
      ]
    },
    {
      "cell_type": "markdown",
      "metadata": {
        "id": "cCvNYz6zpT9S"
      },
      "source": [
        "# Preprocesamiento"
      ]
    },
    {
      "cell_type": "markdown",
      "metadata": {
        "id": "J3IUR3SjQ_ep"
      },
      "source": [
        "## Division de train y validation\n",
        "\n",
        "Dividimos el training set en training y validating sets"
      ]
    },
    {
      "cell_type": "code",
      "execution_count": 10,
      "metadata": {
        "id": "1EUYD4uWo0sU"
      },
      "outputs": [],
      "source": [
        "x_train_text, x_validation_text, y_train, y_validation = train_test_split(\n",
        "    ds_train['review_es'], ds_train[\"sentimiento\"],\n",
        "    stratify=ds_train[\"sentimiento\"],\n",
        "    test_size=0.20,\n",
        "    random_state=RAND_SEED\n",
        "    )"
      ]
    },
    {
      "cell_type": "code",
      "source": [
        "y_train = map_sentiment(y_train)"
      ],
      "metadata": {
        "id": "EGtX5QNAae4N"
      },
      "execution_count": 11,
      "outputs": []
    },
    {
      "cell_type": "markdown",
      "metadata": {
        "id": "p3QxP7yhoWcS"
      },
      "source": [
        "## Normalizacion"
      ]
    },
    {
      "cell_type": "markdown",
      "metadata": {
        "id": "FFvyjNm7QOZR"
      },
      "source": [
        "### Tokenizacion"
      ]
    },
    {
      "cell_type": "code",
      "execution_count": 12,
      "metadata": {
        "id": "ldHkUQ_JoVs-"
      },
      "outputs": [],
      "source": [
        "def clean_text(text):\n",
        "  return text.strip()"
      ]
    },
    {
      "cell_type": "code",
      "execution_count": 13,
      "metadata": {
        "id": "H77tYj-hofDr",
        "colab": {
          "base_uri": "https://localhost:8080/"
        },
        "outputId": "2e2ff702-36ca-49d7-ff58-fac5308a8a40"
      },
      "outputs": [
        {
          "output_type": "execute_result",
          "data": {
            "text/plain": [
              "['No',\n",
              " 'puedo',\n",
              " 'creer',\n",
              " 'que',\n",
              " 'me',\n",
              " 'permita',\n",
              " 'a',\n",
              " 'esta',\n",
              " 'película',\n",
              " 'para']"
            ]
          },
          "metadata": {},
          "execution_count": 13
        }
      ],
      "source": [
        "def tokenizer(text):\n",
        "  return [w for w in word_tokenize(text) if w.isalpha()]\n",
        "\n",
        "tokenizer(clean_text(x_train_text.iloc[1]))[:10]"
      ]
    },
    {
      "cell_type": "markdown",
      "metadata": {
        "id": "5Fi074MHohjS"
      },
      "source": [
        "Defino un stop list de palabras en español"
      ]
    },
    {
      "cell_type": "code",
      "execution_count": 14,
      "metadata": {
        "id": "UzeKYZpvolnz",
        "colab": {
          "base_uri": "https://localhost:8080/"
        },
        "outputId": "7fa53843-62e1-4caf-8d1f-0ab4fdd27751"
      },
      "outputs": [
        {
          "output_type": "execute_result",
          "data": {
            "text/plain": [
              "['de',\n",
              " 'la',\n",
              " 'que',\n",
              " 'el',\n",
              " 'en',\n",
              " 'y',\n",
              " 'a',\n",
              " 'los',\n",
              " 'del',\n",
              " 'se',\n",
              " 'las',\n",
              " 'por',\n",
              " 'un',\n",
              " 'para',\n",
              " 'con']"
            ]
          },
          "metadata": {},
          "execution_count": 14
        }
      ],
      "source": [
        "stoplist = stopwords.words(\"spanish\")\n",
        "stoplist[:15]"
      ]
    },
    {
      "cell_type": "markdown",
      "metadata": {
        "id": "aBecHNdbreQF"
      },
      "source": [
        "Tokenizamos las stopwords con el mismo tokenizador que utilizamos en el corpus"
      ]
    },
    {
      "cell_type": "code",
      "execution_count": null,
      "metadata": {
        "id": "Ai9c1A83rZCs"
      },
      "outputs": [],
      "source": [
        "stoplist_tokenized = []\n",
        "\n",
        "for w in stoplist:\n",
        "    stoplist_tokenized = stoplist_tokenized + tokenizer(w)\n",
        "\n",
        "stoplist_tokenized = list(set(stoplist_tokenized)) # sin repedidos"
      ]
    },
    {
      "cell_type": "markdown",
      "metadata": {
        "id": "DHwbnsuBQQ8X"
      },
      "source": [
        "### Stem - Lematizacion"
      ]
    },
    {
      "cell_type": "markdown",
      "metadata": {
        "id": "slorXOv3vwNP"
      },
      "source": [
        "Visualizamos qué tipo de palabras tenemos en train"
      ]
    },
    {
      "cell_type": "code",
      "execution_count": null,
      "metadata": {
        "id": "FkIZ5cSnv2gG",
        "colab": {
          "base_uri": "https://localhost:8080/"
        },
        "outputId": "06bfdd30-c8a2-4bab-9a7e-3d3f1c7492ee"
      },
      "outputs": [
        {
          "output_type": "execute_result",
          "data": {
            "text/plain": [
              "[('No', 'DT'),\n",
              " ('puedo', 'NN'),\n",
              " ('creer', 'NN'),\n",
              " ('que', 'IN'),\n",
              " ('me', 'PRP'),\n",
              " ('permita', 'VBP'),\n",
              " ('a', 'DT'),\n",
              " ('esta', 'JJ'),\n",
              " ('película', 'NN'),\n",
              " ('para', 'NN')]"
            ]
          },
          "metadata": {},
          "execution_count": 51
        }
      ],
      "source": [
        "postags = pos_tag(word_tokenize(clean_text(x_train_text.iloc[1])))\n",
        "postags[:10]"
      ]
    },
    {
      "cell_type": "markdown",
      "metadata": {
        "id": "7hlLs7Hgv7RW"
      },
      "source": [
        "Podemos ver que nos encontramos con palabras como adverbios, verbos, preposiciones, adjetivos, pronombres, sustantivos, etc."
      ]
    },
    {
      "cell_type": "markdown",
      "metadata": {
        "id": "Pw0G01XPAb-J"
      },
      "source": [
        "Instanciamos un lemmatizador"
      ]
    },
    {
      "cell_type": "code",
      "execution_count": null,
      "metadata": {
        "id": "rJTkhcyyAbP-"
      },
      "outputs": [],
      "source": [
        "wnl = WordNetLemmatizer()"
      ]
    },
    {
      "cell_type": "markdown",
      "metadata": {
        "id": "GuWpA1-2wAhc"
      },
      "source": [
        "Generamos la función de lematización por pos\n",
        "\n"
      ]
    },
    {
      "cell_type": "code",
      "execution_count": null,
      "metadata": {
        "id": "Ce2P-TyEv_64"
      },
      "outputs": [],
      "source": [
        "def word_pos_to_lemma(word, pos, wnl):\n",
        "    if pos.startswith('J'):\n",
        "        return wnl.lemmatize(word,wordnet.ADJ) # adjetivo\n",
        "    elif pos.startswith('V'):\n",
        "        return wnl.lemmatize(word,wordnet.VERB) # vervo\n",
        "    elif pos.startswith('N'):\n",
        "        return wnl.lemmatize(word,wordnet.NOUN)# sustantivo\n",
        "    elif pos.startswith('R'):\n",
        "        return wnl.lemmatize(word,wordnet.ADV) # advervio\n",
        "    else:\n",
        "        return wnl.lemmatize(word)"
      ]
    },
    {
      "cell_type": "code",
      "execution_count": null,
      "metadata": {
        "id": "YAWLvjHmwDbV",
        "colab": {
          "base_uri": "https://localhost:8080/"
        },
        "outputId": "fef5c169-c905-4d5d-dd9e-dd73d87b0037"
      },
      "outputs": [
        {
          "output_type": "execute_result",
          "data": {
            "text/plain": [
              "[('No', 'No'),\n",
              " ('puedo', 'puedo'),\n",
              " ('creer', 'creer'),\n",
              " ('que', 'que'),\n",
              " ('me', 'me'),\n",
              " ('permita', 'permita'),\n",
              " ('a', 'a'),\n",
              " ('esta', 'esta'),\n",
              " ('película', 'película'),\n",
              " ('para', 'para')]"
            ]
          },
          "metadata": {},
          "execution_count": 54
        }
      ],
      "source": [
        "lemmatized_words = [(w, word_pos_to_lemma(w, pos, wnl)) for w, pos in postags if w.isalpha()]\n",
        "lemmatized_words[:10]"
      ]
    },
    {
      "cell_type": "code",
      "execution_count": null,
      "metadata": {
        "id": "B0cCIAacwG9T",
        "colab": {
          "base_uri": "https://localhost:8080/"
        },
        "outputId": "c0a1dd89-8e9f-473e-ef58-6f6987553f33"
      },
      "outputs": [
        {
          "output_type": "execute_result",
          "data": {
            "text/plain": [
              "[(('No', 'No'), 1),\n",
              " (('puedo', 'puedo'), 1),\n",
              " (('creer', 'creer'), 1),\n",
              " (('que', 'que'), 4),\n",
              " (('me', 'me'), 3),\n",
              " (('permita', 'permita'), 1),\n",
              " (('a', 'a'), 8),\n",
              " (('esta', 'esta'), 2),\n",
              " (('película', 'película'), 3),\n",
              " (('para', 'para'), 4)]"
            ]
          },
          "metadata": {},
          "execution_count": 55
        }
      ],
      "source": [
        "# Usar Counter para contar las repeticiones de cada tupla\n",
        "lemmatized_counter = Counter(lemmatized_words)\n",
        "\n",
        "# Imprimir los resultados\n",
        "list(lemmatized_counter.items())[:10]"
      ]
    },
    {
      "cell_type": "markdown",
      "metadata": {
        "id": "5NkN1dWuwNLV"
      },
      "source": [
        "Podemos ver que las lematizaciones se aplican más de una vez"
      ]
    },
    {
      "cell_type": "code",
      "execution_count": null,
      "metadata": {
        "id": "epzc22BowLaM"
      },
      "outputs": [],
      "source": [
        "def lemmatize_text(text):\n",
        "    lemmatizer = WordNetLemmatizer()\n",
        "    words = word_tokenize(text)\n",
        "    lemmatized_words = [lemmatizer.lemmatize(word) for word in words if word.isalpha()]\n",
        "    return lemmatized_words"
      ]
    },
    {
      "cell_type": "code",
      "execution_count": null,
      "metadata": {
        "id": "DojmiyyzwQGu",
        "colab": {
          "base_uri": "https://localhost:8080/"
        },
        "outputId": "d3c60aca-37bb-461a-fda3-66773bfc685c"
      },
      "outputs": [
        {
          "output_type": "execute_result",
          "data": {
            "text/plain": [
              "['No',\n",
              " 'puedo',\n",
              " 'creer',\n",
              " 'que',\n",
              " 'me',\n",
              " 'permita',\n",
              " 'a',\n",
              " 'esta',\n",
              " 'película',\n",
              " 'para']"
            ]
          },
          "metadata": {},
          "execution_count": 57
        }
      ],
      "source": [
        "lemmatize_text(clean_text(x_train_text.iloc[1]))[:10]"
      ]
    },
    {
      "cell_type": "markdown",
      "metadata": {
        "id": "zd9swgrXpl5r"
      },
      "source": [
        "## Vectorizacion"
      ]
    },
    {
      "cell_type": "markdown",
      "metadata": {
        "id": "mQSwdSfeprwe"
      },
      "source": [
        "### Bag of words"
      ]
    },
    {
      "cell_type": "markdown",
      "metadata": {
        "id": "QJdXIdhwp1YF"
      },
      "source": [
        "Con tokenizacion sin lemmas"
      ]
    },
    {
      "cell_type": "code",
      "execution_count": null,
      "metadata": {
        "id": "p067t0_8p0HH",
        "colab": {
          "base_uri": "https://localhost:8080/"
        },
        "outputId": "4e4c2a06-53ba-4556-dd90-fce116dacd54"
      },
      "outputs": [
        {
          "output_type": "execute_result",
          "data": {
            "text/plain": [
              "<40000x48415 sparse matrix of type '<class 'numpy.int64'>'\n",
              "\twith 3999252 stored elements in Compressed Sparse Row format>"
            ]
          },
          "metadata": {},
          "execution_count": 58
        }
      ],
      "source": [
        "count_vect = CountVectorizer(preprocessor=clean_text,\n",
        "                             tokenizer=tokenizer,\n",
        "                             min_df=5,\n",
        "                             stop_words=stoplist_tokenized)\n",
        "x_train_bow_tok = count_vect.fit_transform(x_train_text) # cuenta frecuencia de tokens y define el diccionario\n",
        "x_validation_bow_tok = count_vect.transform(x_validation_text) # cuenta frecuencia de tokens existentes en el diccionario\n",
        "x_train_bow_tok"
      ]
    },
    {
      "cell_type": "markdown",
      "metadata": {
        "id": "WmUxNdi5p9kS"
      },
      "source": [
        "Con tokenizacion con lemmas"
      ]
    },
    {
      "cell_type": "code",
      "execution_count": null,
      "metadata": {
        "id": "64Uiu6iQqGhv",
        "colab": {
          "base_uri": "https://localhost:8080/"
        },
        "outputId": "cbf674e8-fba1-4ead-df3f-640118175ad7"
      },
      "outputs": [
        {
          "output_type": "execute_result",
          "data": {
            "text/plain": [
              "<40000x47766 sparse matrix of type '<class 'numpy.int64'>'\n",
              "\twith 5308134 stored elements in Compressed Sparse Row format>"
            ]
          },
          "metadata": {},
          "execution_count": 59
        }
      ],
      "source": [
        "count_vect = CountVectorizer(preprocessor=clean_text,\n",
        "                             tokenizer=lemmatize_text,\n",
        "                             min_df=5,\n",
        "                             stop_words=lemmatized_words)\n",
        "x_train_bow_lemma = count_vect.fit_transform(x_train_text) # cuenta frecuencia de tokens y define el diccionario\n",
        "x_validation_bow_lemma = count_vect.transform(x_validation_text) # cuenta frecuencia de tokens existentes en el diccionario\n",
        "x_train_bow_lemma"
      ]
    },
    {
      "cell_type": "markdown",
      "metadata": {
        "id": "hGhVmwlPp-EO"
      },
      "source": [
        "### N-gramas"
      ]
    },
    {
      "cell_type": "markdown",
      "metadata": {
        "id": "3JpyD5VLqMp-"
      },
      "source": [
        "Con tokenizacion sin lemmas"
      ]
    },
    {
      "cell_type": "code",
      "execution_count": null,
      "metadata": {
        "id": "I_VRagvvqNLR",
        "colab": {
          "base_uri": "https://localhost:8080/"
        },
        "outputId": "85ca3183-a725-4d66-9d9a-4afc6c2a83d4"
      },
      "outputs": [
        {
          "output_type": "execute_result",
          "data": {
            "text/plain": [
              "<40000x152699 sparse matrix of type '<class 'numpy.int64'>'\n",
              "\twith 5610823 stored elements in Compressed Sparse Row format>"
            ]
          },
          "metadata": {},
          "execution_count": 60
        }
      ],
      "source": [
        "count_vect = CountVectorizer(preprocessor=clean_text,\n",
        "                             tokenizer=tokenizer,\n",
        "                             min_df=5,\n",
        "                             stop_words=stoplist_tokenized,\n",
        "                             ngram_range=(1,2))\n",
        "x_train_ngram_tok = count_vect.fit_transform(x_train_text) # cuenta frecuencia de tokens y define el diccionario\n",
        "x_validation_ngram_tok = count_vect.transform(x_validation_text) # cuenta frecuencia de tokens existentes en el diccionario\n",
        "x_train_ngram_tok"
      ]
    },
    {
      "cell_type": "markdown",
      "metadata": {
        "id": "Ff9kzqcgqUCT"
      },
      "source": [
        "Con tokenizacion con lemmas"
      ]
    },
    {
      "cell_type": "code",
      "execution_count": null,
      "metadata": {
        "id": "-lCLo98jqUZN",
        "colab": {
          "base_uri": "https://localhost:8080/"
        },
        "outputId": "d561fa32-a31f-49a4-ac4f-c836ac309267"
      },
      "outputs": [
        {
          "output_type": "execute_result",
          "data": {
            "text/plain": [
              "<40000x231974 sparse matrix of type '<class 'numpy.int64'>'\n",
              "\twith 11406128 stored elements in Compressed Sparse Row format>"
            ]
          },
          "metadata": {},
          "execution_count": 61
        }
      ],
      "source": [
        "count_vect = CountVectorizer(preprocessor=clean_text,\n",
        "                             tokenizer=lemmatize_text,\n",
        "                             min_df=5,\n",
        "                             stop_words=lemmatized_words,\n",
        "                             ngram_range=(1,2))\n",
        "x_train_ngram_lemma = count_vect.fit_transform(x_train_text) # cuenta frecuencia de tokens y define el diccionario\n",
        "x_validation_ngram_lemma = count_vect.transform(x_validation_text) # cuenta frecuencia de tokens existentes en el diccionario\n",
        "x_train_ngram_lemma"
      ]
    },
    {
      "cell_type": "markdown",
      "metadata": {
        "id": "k0pO62VZp_ig"
      },
      "source": [
        "### TF-IDF"
      ]
    },
    {
      "cell_type": "markdown",
      "metadata": {
        "id": "gYe-ZNjBqbGj"
      },
      "source": [
        "Con tokenizacion sin lemmas"
      ]
    },
    {
      "cell_type": "code",
      "execution_count": null,
      "metadata": {
        "colab": {
          "base_uri": "https://localhost:8080/"
        },
        "id": "y42CUXshqbd5",
        "outputId": "9e5ab6a3-0243-4aa3-ebe0-292e22c4fec0"
      },
      "outputs": [
        {
          "output_type": "execute_result",
          "data": {
            "text/plain": [
              "<40000x48415 sparse matrix of type '<class 'numpy.float64'>'\n",
              "\twith 3999252 stored elements in Compressed Sparse Row format>"
            ]
          },
          "metadata": {},
          "execution_count": 62
        }
      ],
      "source": [
        "tfidf_vect = TfidfVectorizer(\n",
        "    preprocessor=clean_text,\n",
        "    tokenizer=tokenizer,\n",
        "    min_df=5,\n",
        "    stop_words=stoplist_tokenized\n",
        ")\n",
        "x_train_tfidf_tok = tfidf_vect.fit_transform(x_train_text) # cuenta frecuencia de tokens y define el diccionario\n",
        "x_validation_tfidf_tok = tfidf_vect.transform(x_validation_text) # cuenta frecuencia de tokens existentes en el diccionario\n",
        "x_train_tfidf_tok"
      ]
    },
    {
      "cell_type": "markdown",
      "metadata": {
        "id": "8Au-_UudqkDa"
      },
      "source": [
        "Con tokenizacion con lemmas"
      ]
    },
    {
      "cell_type": "code",
      "execution_count": null,
      "metadata": {
        "colab": {
          "base_uri": "https://localhost:8080/"
        },
        "id": "COH2xIjXqmKw",
        "outputId": "cbc144bf-5d69-4dd0-ff3b-5a7531bbee70"
      },
      "outputs": [
        {
          "output_type": "execute_result",
          "data": {
            "text/plain": [
              "<40000x47766 sparse matrix of type '<class 'numpy.float64'>'\n",
              "\twith 5308134 stored elements in Compressed Sparse Row format>"
            ]
          },
          "metadata": {},
          "execution_count": 63
        }
      ],
      "source": [
        "tfidf_vect = TfidfVectorizer(\n",
        "    preprocessor=clean_text,\n",
        "    tokenizer=lemmatize_text,\n",
        "    min_df=5,\n",
        "    stop_words=lemmatized_words\n",
        ")\n",
        "x_train_tfidf_lemma = tfidf_vect.fit_transform(x_train_text)\n",
        "x_validation_tfidf_lemma = tfidf_vect.transform(x_validation_text)\n",
        "x_train_tfidf_lemma"
      ]
    },
    {
      "cell_type": "markdown",
      "metadata": {
        "id": "PdlbIp4EBQVM"
      },
      "source": [
        "### Utils\n",
        "\n",
        "Creacion de algunas funciones de utilidad"
      ]
    },
    {
      "cell_type": "code",
      "execution_count": null,
      "metadata": {
        "id": "1w58Vv8VBWlt"
      },
      "outputs": [],
      "source": [
        "def plot_confussion_matrix(true, pred):\n",
        "  #Creo matriz de confusión\n",
        "  tabla = confusion_matrix(true, pred)\n",
        "\n",
        "  #Grafico matriz de confusión\n",
        "  sns.heatmap(tabla, cmap='Blues',annot=True,fmt='g')\n",
        "  plt.xlabel('Predicciones')\n",
        "  plt.ylabel('Verdaderos')\n",
        "\n",
        "  #Reporte\n",
        "  print(classification_report(true, pred))"
      ]
    },
    {
      "cell_type": "code",
      "execution_count": null,
      "metadata": {
        "id": "IJd51iWFDGZ1"
      },
      "outputs": [],
      "source": [
        "def build_results(pred):\n",
        "  res = ds_test.copy()\n",
        "  res.drop(columns=[\"review_es\"], inplace=True)\n",
        "  res['sentimiento'] = pred\n",
        "  return res"
      ]
    },
    {
      "cell_type": "code",
      "execution_count": null,
      "metadata": {
        "id": "tciD9NNPDm-C"
      },
      "outputs": [],
      "source": [
        "def print_positive_negatives(sentimientos):\n",
        "  total_positives = (sentimientos == \"positivo\").sum()\n",
        "  total_negatives = (sentimientos == \"negativo\").sum()\n",
        "  print(f\"Positives: {total_positives}\\nNegatives: {total_negatives}\")"
      ]
    },
    {
      "cell_type": "markdown",
      "metadata": {
        "id": "NpUY6QIKMgv3"
      },
      "source": [
        "# Random Forest"
      ]
    },
    {
      "cell_type": "markdown",
      "metadata": {
        "id": "r0aw_9wExnDw"
      },
      "source": [
        "## Modelos"
      ]
    },
    {
      "cell_type": "markdown",
      "metadata": {
        "id": "xXYMffruxqQI"
      },
      "source": [
        "Entrenamiento de random forest sin hiper-parametros"
      ]
    },
    {
      "cell_type": "code",
      "execution_count": null,
      "metadata": {
        "colab": {
          "base_uri": "https://localhost:8080/",
          "height": 449
        },
        "id": "4z-w4HasYsEQ",
        "outputId": "86d31616-2422-48df-9eb5-810cb1514caf",
        "collapsed": true
      },
      "outputs": [
        {
          "output_type": "error",
          "ename": "TypeError",
          "evalue": "Labels in y_true and y_pred should be of the same type. Got y_true=['negativo' 'positivo'] and y_pred=[0 1]. Make sure that the predictions provided by the classifier coincides with the true labels.",
          "traceback": [
            "\u001b[0;31m---------------------------------------------------------------------------\u001b[0m",
            "\u001b[0;31mTypeError\u001b[0m                                 Traceback (most recent call last)",
            "\u001b[0;32m/usr/local/lib/python3.10/dist-packages/sklearn/metrics/_classification.py\u001b[0m in \u001b[0;36m_check_targets\u001b[0;34m(y_true, y_pred)\u001b[0m\n\u001b[1;32m    112\u001b[0m             \u001b[0;32mtry\u001b[0m\u001b[0;34m:\u001b[0m\u001b[0;34m\u001b[0m\u001b[0;34m\u001b[0m\u001b[0m\n\u001b[0;32m--> 113\u001b[0;31m                 \u001b[0munique_values\u001b[0m \u001b[0;34m=\u001b[0m \u001b[0mnp\u001b[0m\u001b[0;34m.\u001b[0m\u001b[0munion1d\u001b[0m\u001b[0;34m(\u001b[0m\u001b[0my_true\u001b[0m\u001b[0;34m,\u001b[0m \u001b[0my_pred\u001b[0m\u001b[0;34m)\u001b[0m\u001b[0;34m\u001b[0m\u001b[0;34m\u001b[0m\u001b[0m\n\u001b[0m\u001b[1;32m    114\u001b[0m             \u001b[0;32mexcept\u001b[0m \u001b[0mTypeError\u001b[0m \u001b[0;32mas\u001b[0m \u001b[0me\u001b[0m\u001b[0;34m:\u001b[0m\u001b[0;34m\u001b[0m\u001b[0;34m\u001b[0m\u001b[0m\n",
            "\u001b[0;32m/usr/local/lib/python3.10/dist-packages/numpy/lib/arraysetops.py\u001b[0m in \u001b[0;36munion1d\u001b[0;34m(ar1, ar2)\u001b[0m\n\u001b[1;32m    931\u001b[0m     \"\"\"\n\u001b[0;32m--> 932\u001b[0;31m     \u001b[0;32mreturn\u001b[0m \u001b[0munique\u001b[0m\u001b[0;34m(\u001b[0m\u001b[0mnp\u001b[0m\u001b[0;34m.\u001b[0m\u001b[0mconcatenate\u001b[0m\u001b[0;34m(\u001b[0m\u001b[0;34m(\u001b[0m\u001b[0mar1\u001b[0m\u001b[0;34m,\u001b[0m \u001b[0mar2\u001b[0m\u001b[0;34m)\u001b[0m\u001b[0;34m,\u001b[0m \u001b[0maxis\u001b[0m\u001b[0;34m=\u001b[0m\u001b[0;32mNone\u001b[0m\u001b[0;34m)\u001b[0m\u001b[0;34m)\u001b[0m\u001b[0;34m\u001b[0m\u001b[0;34m\u001b[0m\u001b[0m\n\u001b[0m\u001b[1;32m    933\u001b[0m \u001b[0;34m\u001b[0m\u001b[0m\n",
            "\u001b[0;32m/usr/local/lib/python3.10/dist-packages/numpy/lib/arraysetops.py\u001b[0m in \u001b[0;36munique\u001b[0;34m(ar, return_index, return_inverse, return_counts, axis, equal_nan)\u001b[0m\n\u001b[1;32m    273\u001b[0m     \u001b[0;32mif\u001b[0m \u001b[0maxis\u001b[0m \u001b[0;32mis\u001b[0m \u001b[0;32mNone\u001b[0m\u001b[0;34m:\u001b[0m\u001b[0;34m\u001b[0m\u001b[0;34m\u001b[0m\u001b[0m\n\u001b[0;32m--> 274\u001b[0;31m         ret = _unique1d(ar, return_index, return_inverse, return_counts, \n\u001b[0m\u001b[1;32m    275\u001b[0m                         equal_nan=equal_nan)\n",
            "\u001b[0;32m/usr/local/lib/python3.10/dist-packages/numpy/lib/arraysetops.py\u001b[0m in \u001b[0;36m_unique1d\u001b[0;34m(ar, return_index, return_inverse, return_counts, equal_nan)\u001b[0m\n\u001b[1;32m    335\u001b[0m     \u001b[0;32melse\u001b[0m\u001b[0;34m:\u001b[0m\u001b[0;34m\u001b[0m\u001b[0;34m\u001b[0m\u001b[0m\n\u001b[0;32m--> 336\u001b[0;31m         \u001b[0mar\u001b[0m\u001b[0;34m.\u001b[0m\u001b[0msort\u001b[0m\u001b[0;34m(\u001b[0m\u001b[0;34m)\u001b[0m\u001b[0;34m\u001b[0m\u001b[0;34m\u001b[0m\u001b[0m\n\u001b[0m\u001b[1;32m    337\u001b[0m         \u001b[0maux\u001b[0m \u001b[0;34m=\u001b[0m \u001b[0mar\u001b[0m\u001b[0;34m\u001b[0m\u001b[0;34m\u001b[0m\u001b[0m\n",
            "\u001b[0;31mTypeError\u001b[0m: '<' not supported between instances of 'int' and 'str'",
            "\nThe above exception was the direct cause of the following exception:\n",
            "\u001b[0;31mTypeError\u001b[0m                                 Traceback (most recent call last)",
            "\u001b[0;32m<ipython-input-67-abad32478dd4>\u001b[0m in \u001b[0;36m<cell line: 4>\u001b[0;34m()\u001b[0m\n\u001b[1;32m      2\u001b[0m \u001b[0mrf\u001b[0m \u001b[0;34m=\u001b[0m \u001b[0mrf\u001b[0m\u001b[0;34m.\u001b[0m\u001b[0mfit\u001b[0m\u001b[0;34m(\u001b[0m\u001b[0mx_train_ngram_tok\u001b[0m\u001b[0;34m,\u001b[0m \u001b[0my_train\u001b[0m\u001b[0;34m)\u001b[0m \u001b[0;31m# predigo\u001b[0m\u001b[0;34m\u001b[0m\u001b[0;34m\u001b[0m\u001b[0m\n\u001b[1;32m      3\u001b[0m \u001b[0my_pred\u001b[0m \u001b[0;34m=\u001b[0m \u001b[0mrf\u001b[0m\u001b[0;34m.\u001b[0m\u001b[0mpredict\u001b[0m\u001b[0;34m(\u001b[0m\u001b[0mx_validation_ngram_tok\u001b[0m\u001b[0;34m)\u001b[0m\u001b[0;34m\u001b[0m\u001b[0;34m\u001b[0m\u001b[0m\n\u001b[0;32m----> 4\u001b[0;31m \u001b[0mplot_confussion_matrix\u001b[0m\u001b[0;34m(\u001b[0m\u001b[0my_validation\u001b[0m\u001b[0;34m,\u001b[0m \u001b[0my_pred\u001b[0m\u001b[0;34m)\u001b[0m \u001b[0;31m# grafico\u001b[0m\u001b[0;34m\u001b[0m\u001b[0;34m\u001b[0m\u001b[0m\n\u001b[0m",
            "\u001b[0;32m<ipython-input-64-fb5afa99de80>\u001b[0m in \u001b[0;36mplot_confussion_matrix\u001b[0;34m(true, pred)\u001b[0m\n\u001b[1;32m      1\u001b[0m \u001b[0;32mdef\u001b[0m \u001b[0mplot_confussion_matrix\u001b[0m\u001b[0;34m(\u001b[0m\u001b[0mtrue\u001b[0m\u001b[0;34m,\u001b[0m \u001b[0mpred\u001b[0m\u001b[0;34m)\u001b[0m\u001b[0;34m:\u001b[0m\u001b[0;34m\u001b[0m\u001b[0;34m\u001b[0m\u001b[0m\n\u001b[1;32m      2\u001b[0m   \u001b[0;31m#Creo matriz de confusión\u001b[0m\u001b[0;34m\u001b[0m\u001b[0;34m\u001b[0m\u001b[0m\n\u001b[0;32m----> 3\u001b[0;31m   \u001b[0mtabla\u001b[0m \u001b[0;34m=\u001b[0m \u001b[0mconfusion_matrix\u001b[0m\u001b[0;34m(\u001b[0m\u001b[0mtrue\u001b[0m\u001b[0;34m,\u001b[0m \u001b[0mpred\u001b[0m\u001b[0;34m)\u001b[0m\u001b[0;34m\u001b[0m\u001b[0;34m\u001b[0m\u001b[0m\n\u001b[0m\u001b[1;32m      4\u001b[0m \u001b[0;34m\u001b[0m\u001b[0m\n\u001b[1;32m      5\u001b[0m   \u001b[0;31m#Grafico matriz de confusión\u001b[0m\u001b[0;34m\u001b[0m\u001b[0;34m\u001b[0m\u001b[0m\n",
            "\u001b[0;32m/usr/local/lib/python3.10/dist-packages/sklearn/metrics/_classification.py\u001b[0m in \u001b[0;36mconfusion_matrix\u001b[0;34m(y_true, y_pred, labels, sample_weight, normalize)\u001b[0m\n\u001b[1;32m    315\u001b[0m     \u001b[0;34m(\u001b[0m\u001b[0;36m0\u001b[0m\u001b[0;34m,\u001b[0m \u001b[0;36m2\u001b[0m\u001b[0;34m,\u001b[0m \u001b[0;36m1\u001b[0m\u001b[0;34m,\u001b[0m \u001b[0;36m1\u001b[0m\u001b[0;34m)\u001b[0m\u001b[0;34m\u001b[0m\u001b[0;34m\u001b[0m\u001b[0m\n\u001b[1;32m    316\u001b[0m     \"\"\"\n\u001b[0;32m--> 317\u001b[0;31m     \u001b[0my_type\u001b[0m\u001b[0;34m,\u001b[0m \u001b[0my_true\u001b[0m\u001b[0;34m,\u001b[0m \u001b[0my_pred\u001b[0m \u001b[0;34m=\u001b[0m \u001b[0m_check_targets\u001b[0m\u001b[0;34m(\u001b[0m\u001b[0my_true\u001b[0m\u001b[0;34m,\u001b[0m \u001b[0my_pred\u001b[0m\u001b[0;34m)\u001b[0m\u001b[0;34m\u001b[0m\u001b[0;34m\u001b[0m\u001b[0m\n\u001b[0m\u001b[1;32m    318\u001b[0m     \u001b[0;32mif\u001b[0m \u001b[0my_type\u001b[0m \u001b[0;32mnot\u001b[0m \u001b[0;32min\u001b[0m \u001b[0;34m(\u001b[0m\u001b[0;34m\"binary\"\u001b[0m\u001b[0;34m,\u001b[0m \u001b[0;34m\"multiclass\"\u001b[0m\u001b[0;34m)\u001b[0m\u001b[0;34m:\u001b[0m\u001b[0;34m\u001b[0m\u001b[0;34m\u001b[0m\u001b[0m\n\u001b[1;32m    319\u001b[0m         \u001b[0;32mraise\u001b[0m \u001b[0mValueError\u001b[0m\u001b[0;34m(\u001b[0m\u001b[0;34m\"%s is not supported\"\u001b[0m \u001b[0;34m%\u001b[0m \u001b[0my_type\u001b[0m\u001b[0;34m)\u001b[0m\u001b[0;34m\u001b[0m\u001b[0;34m\u001b[0m\u001b[0m\n",
            "\u001b[0;32m/usr/local/lib/python3.10/dist-packages/sklearn/metrics/_classification.py\u001b[0m in \u001b[0;36m_check_targets\u001b[0;34m(y_true, y_pred)\u001b[0m\n\u001b[1;32m    117\u001b[0m                 \u001b[0;31m# `y_pred` given by the classifier will also be encoded with\u001b[0m\u001b[0;34m\u001b[0m\u001b[0;34m\u001b[0m\u001b[0m\n\u001b[1;32m    118\u001b[0m                 \u001b[0;31m# strings. So we raise a meaningful error\u001b[0m\u001b[0;34m\u001b[0m\u001b[0;34m\u001b[0m\u001b[0m\n\u001b[0;32m--> 119\u001b[0;31m                 raise TypeError(\n\u001b[0m\u001b[1;32m    120\u001b[0m                     \u001b[0;34m\"Labels in y_true and y_pred should be of the same type. \"\u001b[0m\u001b[0;34m\u001b[0m\u001b[0;34m\u001b[0m\u001b[0m\n\u001b[1;32m    121\u001b[0m                     \u001b[0;34mf\"Got y_true={np.unique(y_true)} and \"\u001b[0m\u001b[0;34m\u001b[0m\u001b[0;34m\u001b[0m\u001b[0m\n",
            "\u001b[0;31mTypeError\u001b[0m: Labels in y_true and y_pred should be of the same type. Got y_true=['negativo' 'positivo'] and y_pred=[0 1]. Make sure that the predictions provided by the classifier coincides with the true labels."
          ]
        }
      ],
      "source": [
        "rf = RandomForestClassifier(random_state=RAND_SEED) # entreno\n",
        "rf = rf.fit(x_train_ngram_tok, y_train) # predigo"
      ]
    },
    {
      "cell_type": "code",
      "source": [
        "y_pred = rf.predict(x_validation_ngram_tok)\n",
        "y_pred = map_sentiment(pd.Series(y_pred), invert=True)\n",
        "plot_confussion_matrix(y_validation, y_pred) # grafico"
      ],
      "metadata": {
        "colab": {
          "base_uri": "https://localhost:8080/",
          "height": 615
        },
        "id": "TLhvhihahxIG",
        "outputId": "f86d6336-92fa-4aaa-942b-b5d610950b5c"
      },
      "execution_count": null,
      "outputs": [
        {
          "output_type": "stream",
          "name": "stdout",
          "text": [
            "              precision    recall  f1-score   support\n",
            "\n",
            "    negativo       0.83      0.84      0.84      5000\n",
            "    positivo       0.84      0.83      0.83      5000\n",
            "\n",
            "    accuracy                           0.83     10000\n",
            "   macro avg       0.83      0.83      0.83     10000\n",
            "weighted avg       0.83      0.83      0.83     10000\n",
            "\n"
          ]
        },
        {
          "output_type": "display_data",
          "data": {
            "text/plain": [
              "<Figure size 640x480 with 2 Axes>"
            ],
            "image/png": "[encoded data removed]"
          },
          "metadata": {}
        }
      ]
    },
    {
      "cell_type": "markdown",
      "metadata": {
        "id": "8WHrRR_z_YZz"
      },
      "source": [
        "Buscamos los mejores hiper parametros haciendo cross validation usando como dataset el seleccionado mejor en la anterior seccion, es decir el training set de N-gramas con tokenizacion sin lemmas."
      ]
    },
    {
      "cell_type": "code",
      "execution_count": null,
      "metadata": {
        "colab": {
          "base_uri": "https://localhost:8080/"
        },
        "id": "Em8mpA4TyQKN",
        "outputId": "8a6aea1e-40e4-4003-b47b-bea74f5c51c3"
      },
      "outputs": [
        {
          "output_type": "stream",
          "name": "stdout",
          "text": [
            "0.7952365039157812 {'n_estimators': 300, 'min_samples_split': 6, 'min_samples_leaf': 1, 'max_depth': 5, 'criterion': 'gini'}\n",
            "\n"
          ]
        }
      ],
      "source": [
        "kfoldcv = KFold(n_splits=5)\n",
        "scorer_fn = make_scorer(f1_score, average='macro')\n",
        "n = 50\n",
        "\n",
        "rf_model = RandomForestClassifier(oob_score=True, random_state=RAND_SEED, n_jobs=-1)\n",
        "\n",
        "params_grid = {\n",
        "    'max_depth': list(range(2,6)),\n",
        "    'criterion':[\"gini\", \"entropy\"],\n",
        "    'min_samples_split': list(range(2,10)),\n",
        "    'min_samples_leaf': list(range(1,10)),\n",
        "    'n_estimators': list(range(100, 400, 100)),\n",
        "    }\n",
        "\n",
        "rs = RandomizedSearchCV(estimator=rf_model, param_distributions=params_grid, scoring=scorer_fn, cv=kfoldcv, n_iter=n, n_jobs=-1)\n",
        "rs_fit = rs.fit(X = x_train_ngram_tok, y = y_train) # entrenamiento\n",
        "print(rs_fit.best_score_, rs_fit.best_params_, end='\\n\\n')"
      ]
    },
    {
      "cell_type": "code",
      "source": [
        "best_params = rs_fit.cv_results_['params'][np.argmax(rs_fit.cv_results_['mean_test_score'])]\n",
        "best_params"
      ],
      "metadata": {
        "colab": {
          "base_uri": "https://localhost:8080/"
        },
        "id": "8YOmSyYedSP-",
        "outputId": "a1211509-91fd-4320-bf51-4fc7bfce6921"
      },
      "execution_count": null,
      "outputs": [
        {
          "output_type": "execute_result",
          "data": {
            "text/plain": [
              "{'n_estimators': 300,\n",
              " 'min_samples_split': 6,\n",
              " 'min_samples_leaf': 1,\n",
              " 'max_depth': 5,\n",
              " 'criterion': 'gini'}"
            ]
          },
          "metadata": {},
          "execution_count": 75
        }
      ]
    },
    {
      "cell_type": "markdown",
      "source": [
        "Fine-tunning de los params"
      ],
      "metadata": {
        "id": "HEBW2CvMb8YM"
      }
    },
    {
      "cell_type": "code",
      "source": [
        "# TODO UBICAR - SOLO PROBANDO\n",
        "params_grid = {\n",
        "    'max_depth': [best_params['max_depth'] - 1, best_params['max_depth'], best_params['max_depth'] + 1],\n",
        "    'criterion': [best_params['criterion']],\n",
        "    'min_samples_split': [best_params['min_samples_split'] - 1, best_params['min_samples_split'], best_params['min_samples_split'] + 1],\n",
        "    'min_samples_leaf': [best_params['min_samples_leaf']],\n",
        "    'n_estimators': [best_params['n_estimators'] - 50, best_params['n_estimators'], best_params['n_estimators'] + 50]\n",
        "}\n",
        "\n",
        "gs = GridSearchCV(estimator=rf_model, param_grid=params_grid, scoring=scorer_fn, cv=kfoldcv, n_jobs=-1)\n",
        "gs_fit = gs.fit(X = x_train_ngram_tok, y = y_train) # entrenamiento\n",
        "print(gs_fit.best_score_, gs_fit.best_params_, end='\\n\\n')"
      ],
      "metadata": {
        "colab": {
          "base_uri": "https://localhost:8080/"
        },
        "id": "BDAr6wFNb_FQ",
        "outputId": "46f38f92-b913-4044-f2b1-681d32413813"
      },
      "execution_count": null,
      "outputs": [
        {
          "output_type": "stream",
          "name": "stdout",
          "text": [
            "0.7990487998035642 {'criterion': 'gini', 'max_depth': 6, 'min_samples_leaf': 1, 'min_samples_split': 6, 'n_estimators': 350}\n",
            "\n"
          ]
        }
      ]
    },
    {
      "cell_type": "markdown",
      "metadata": {
        "id": "eaY4FCZdySHo"
      },
      "source": [
        "Los mejores hiperparametros fueron:"
      ]
    },
    {
      "cell_type": "code",
      "execution_count": null,
      "metadata": {
        "colab": {
          "base_uri": "https://localhost:8080/"
        },
        "id": "zrD-RLcJyW2X",
        "outputId": "8e0e7b1c-2b6b-4dcd-d6fa-67d6d7ccab91"
      },
      "outputs": [
        {
          "output_type": "execute_result",
          "data": {
            "text/plain": [
              "{'criterion': 'gini',\n",
              " 'max_depth': 6,\n",
              " 'min_samples_leaf': 1,\n",
              " 'min_samples_split': 6,\n",
              " 'n_estimators': 350}"
            ]
          },
          "metadata": {},
          "execution_count": 77
        }
      ],
      "source": [
        "params_elegidos=gs_fit.cv_results_['params'][np.argmax(gs_fit.cv_results_['mean_test_score'])]\n",
        "params_elegidos"
      ]
    },
    {
      "cell_type": "code",
      "execution_count": null,
      "metadata": {
        "colab": {
          "base_uri": "https://localhost:8080/",
          "height": 615
        },
        "id": "RstSCfL9-635",
        "outputId": "ec845022-4fa4-4d57-ef24-b7fac5271680"
      },
      "outputs": [
        {
          "output_type": "stream",
          "name": "stdout",
          "text": [
            "              precision    recall  f1-score   support\n",
            "\n",
            "    negativo       0.85      0.72      0.78      5000\n",
            "    positivo       0.76      0.88      0.81      5000\n",
            "\n",
            "    accuracy                           0.80     10000\n",
            "   macro avg       0.81      0.80      0.80     10000\n",
            "weighted avg       0.81      0.80      0.80     10000\n",
            "\n"
          ]
        },
        {
          "output_type": "display_data",
          "data": {
            "text/plain": [
              "<Figure size 640x480 with 2 Axes>"
            ],
            "image/png": "[encoded data removed]"
          },
          "metadata": {}
        }
      ],
      "source": [
        "rf = RandomForestClassifier(oob_score=True, random_state=RAND_SEED, n_jobs=-1, **params_elegidos)\n",
        "rf = rf.fit(x_train_ngram_tok, y_train)\n",
        "y_pred = rf.predict(x_validation_ngram_tok)\n",
        "y_pred = map_sentiment(pd.Series(y_pred), invert=True)\n",
        "plot_confussion_matrix(y_validation, y_pred)"
      ]
    },
    {
      "cell_type": "markdown",
      "metadata": {
        "id": "dGCQRCmFyVRq"
      },
      "source": [
        "Ahora probamos el modelo con el resto de training sets para ver si alguno lo mejora."
      ]
    },
    {
      "cell_type": "markdown",
      "metadata": {
        "id": "Vr8ORwhdFWJT"
      },
      "source": [
        "Bag of words con tokenizacion sin lemmas"
      ]
    },
    {
      "cell_type": "code",
      "execution_count": null,
      "metadata": {
        "colab": {
          "base_uri": "https://localhost:8080/",
          "height": 615
        },
        "id": "pTo6COLaFyd-",
        "outputId": "a7dc56b8-818f-4987-a308-6fd8ebf38897"
      },
      "outputs": [
        {
          "output_type": "stream",
          "name": "stdout",
          "text": [
            "              precision    recall  f1-score   support\n",
            "\n",
            "    negativo       0.85      0.74      0.79      5000\n",
            "    positivo       0.77      0.87      0.81      5000\n",
            "\n",
            "    accuracy                           0.80     10000\n",
            "   macro avg       0.81      0.80      0.80     10000\n",
            "weighted avg       0.81      0.80      0.80     10000\n",
            "\n"
          ]
        },
        {
          "output_type": "display_data",
          "data": {
            "text/plain": [
              "<Figure size 640x480 with 2 Axes>"
            ],
            "image/png": "[encoded data removed]"
          },
          "metadata": {}
        }
      ],
      "source": [
        "rf = RandomForestClassifier(oob_score=True, random_state=RAND_SEED, n_jobs=-1, **params_elegidos)\n",
        "rf = rf.fit(x_train_bow_tok, y_train)\n",
        "y_pred = rf.predict(x_validation_bow_tok)\n",
        "y_pred = map_sentiment(pd.Series(y_pred), invert=True)\n",
        "plot_confussion_matrix(y_validation, y_pred)"
      ]
    },
    {
      "cell_type": "markdown",
      "metadata": {
        "id": "9C4qBbzZFb6T"
      },
      "source": [
        "Bag of words con tokenizacion con lemmas"
      ]
    },
    {
      "cell_type": "code",
      "execution_count": null,
      "metadata": {
        "colab": {
          "base_uri": "https://localhost:8080/",
          "height": 615
        },
        "id": "4JkO8BHlF2bB",
        "outputId": "f1539445-534b-4d87-fcf9-6ead610462fd"
      },
      "outputs": [
        {
          "output_type": "stream",
          "name": "stdout",
          "text": [
            "              precision    recall  f1-score   support\n",
            "\n",
            "    negativo       0.84      0.73      0.78      5000\n",
            "    positivo       0.76      0.87      0.81      5000\n",
            "\n",
            "    accuracy                           0.80     10000\n",
            "   macro avg       0.80      0.80      0.80     10000\n",
            "weighted avg       0.80      0.80      0.80     10000\n",
            "\n"
          ]
        },
        {
          "output_type": "display_data",
          "data": {
            "text/plain": [
              "<Figure size 640x480 with 2 Axes>"
            ],
            "image/png": "[encoded data removed]"
          },
          "metadata": {}
        }
      ],
      "source": [
        "rf = RandomForestClassifier(oob_score=True, random_state=RAND_SEED, n_jobs=-1, **params_elegidos)\n",
        "rf = rf.fit(x_train_bow_lemma, y_train)\n",
        "y_pred = rf.predict(x_validation_bow_lemma)\n",
        "y_pred = map_sentiment(pd.Series(y_pred), invert=True)\n",
        "plot_confussion_matrix(y_validation, y_pred)"
      ]
    },
    {
      "cell_type": "markdown",
      "metadata": {
        "id": "Bt6v2xleFdaZ"
      },
      "source": [
        "N-gramas con tokenizacion con lemmas"
      ]
    },
    {
      "cell_type": "code",
      "execution_count": null,
      "metadata": {
        "colab": {
          "base_uri": "https://localhost:8080/",
          "height": 615
        },
        "id": "fwyfxeDiF7Rz",
        "outputId": "fb69bdf0-fcd0-4864-ff29-7598f7e79820"
      },
      "outputs": [
        {
          "output_type": "stream",
          "name": "stdout",
          "text": [
            "              precision    recall  f1-score   support\n",
            "\n",
            "    negativo       0.86      0.73      0.79      5000\n",
            "    positivo       0.77      0.88      0.82      5000\n",
            "\n",
            "    accuracy                           0.81     10000\n",
            "   macro avg       0.81      0.81      0.81     10000\n",
            "weighted avg       0.81      0.81      0.81     10000\n",
            "\n"
          ]
        },
        {
          "output_type": "display_data",
          "data": {
            "text/plain": [
              "<Figure size 640x480 with 2 Axes>"
            ],
            "image/png": "[encoded data removed]"
          },
          "metadata": {}
        }
      ],
      "source": [
        "rf = RandomForestClassifier(oob_score=True, random_state=RAND_SEED, n_jobs=-1, **params_elegidos)\n",
        "rf = rf.fit(x_train_ngram_lemma, y_train)\n",
        "y_pred = rf.predict(x_validation_ngram_lemma)\n",
        "y_pred = map_sentiment(pd.Series(y_pred), invert=True)\n",
        "plot_confussion_matrix(y_validation, y_pred)"
      ]
    },
    {
      "cell_type": "markdown",
      "metadata": {
        "id": "3xaKMjkpFgfv"
      },
      "source": [
        "Tf-idf con tokenizacion sin lemmas"
      ]
    },
    {
      "cell_type": "code",
      "execution_count": null,
      "metadata": {
        "colab": {
          "base_uri": "https://localhost:8080/",
          "height": 615
        },
        "id": "RI2e1ii7F9Td",
        "outputId": "4fe440fd-ffa6-4aff-c562-7ed2c1df8062"
      },
      "outputs": [
        {
          "output_type": "stream",
          "name": "stdout",
          "text": [
            "              precision    recall  f1-score   support\n",
            "\n",
            "    negativo       0.84      0.74      0.79      5000\n",
            "    positivo       0.77      0.86      0.81      5000\n",
            "\n",
            "    accuracy                           0.80     10000\n",
            "   macro avg       0.81      0.80      0.80     10000\n",
            "weighted avg       0.81      0.80      0.80     10000\n",
            "\n"
          ]
        },
        {
          "output_type": "display_data",
          "data": {
            "text/plain": [
              "<Figure size 640x480 with 2 Axes>"
            ],
            "image/png": "[encoded data removed]"
          },
          "metadata": {}
        }
      ],
      "source": [
        "rf = RandomForestClassifier(oob_score=True, random_state=RAND_SEED, n_jobs=-1, **params_elegidos)\n",
        "rf = rf.fit(x_train_tfidf_tok, y_train)\n",
        "y_pred = rf.predict(x_validation_tfidf_tok)\n",
        "y_pred = map_sentiment(pd.Series(y_pred), invert=True)\n",
        "plot_confussion_matrix(y_validation, y_pred)"
      ]
    },
    {
      "cell_type": "markdown",
      "metadata": {
        "id": "FoBOCJy4Fj3U"
      },
      "source": [
        "Tf-idf con tokenizacion con lemmas"
      ]
    },
    {
      "cell_type": "code",
      "execution_count": null,
      "metadata": {
        "colab": {
          "base_uri": "https://localhost:8080/",
          "height": 615
        },
        "id": "XwRSj66hGFCN",
        "outputId": "64d09c5d-d876-4e66-9552-e5251fb30d24"
      },
      "outputs": [
        {
          "output_type": "stream",
          "name": "stdout",
          "text": [
            "              precision    recall  f1-score   support\n",
            "\n",
            "    negativo       0.84      0.74      0.79      5000\n",
            "    positivo       0.77      0.86      0.81      5000\n",
            "\n",
            "    accuracy                           0.80     10000\n",
            "   macro avg       0.81      0.80      0.80     10000\n",
            "weighted avg       0.81      0.80      0.80     10000\n",
            "\n"
          ]
        },
        {
          "output_type": "display_data",
          "data": {
            "text/plain": [
              "<Figure size 640x480 with 2 Axes>"
            ],
            "image/png": "[encoded data removed]"
          },
          "metadata": {}
        }
      ],
      "source": [
        "rf = RandomForestClassifier(oob_score=True, random_state=RAND_SEED, n_jobs=-1, **params_elegidos)\n",
        "rf = rf.fit(x_train_tfidf_lemma, y_train)\n",
        "y_pred = rf.predict(x_validation_tfidf_lemma)\n",
        "y_pred = map_sentiment(pd.Series(y_pred), invert=True)\n",
        "plot_confussion_matrix(y_validation, y_pred)"
      ]
    },
    {
      "cell_type": "markdown",
      "metadata": {
        "id": "7-FqD0Tuymlf"
      },
      "source": [
        "## Mejor modelo"
      ]
    },
    {
      "cell_type": "markdown",
      "metadata": {
        "id": "YDFcrvwNyonR"
      },
      "source": [
        "### Refitting completo"
      ]
    },
    {
      "cell_type": "code",
      "execution_count": null,
      "metadata": {
        "colab": {
          "base_uri": "https://localhost:8080/"
        },
        "id": "lELoVm4_CxRn",
        "outputId": "7462128e-fcee-4562-cdc6-f0591a11d53d"
      },
      "outputs": [
        {
          "output_type": "execute_result",
          "data": {
            "text/plain": [
              "<50000x277262 sparse matrix of type '<class 'numpy.int64'>'\n",
              "\twith 14445174 stored elements in Compressed Sparse Row format>"
            ]
          },
          "metadata": {},
          "execution_count": 85
        }
      ],
      "source": [
        "count_vect = CountVectorizer(preprocessor=clean_text,\n",
        "                             tokenizer=lemmatize_text,\n",
        "                             min_df=5,\n",
        "                             stop_words=lemmatized_words,\n",
        "                             ngram_range=(1,2))\n",
        "x_train = count_vect.fit_transform(x_train_text_completo)\n",
        "x_test = count_vect.transform(x_test_text)\n",
        "x_train"
      ]
    },
    {
      "cell_type": "code",
      "execution_count": null,
      "metadata": {
        "id": "94puy4zWC0Sd"
      },
      "outputs": [],
      "source": [
        "rf = RandomForestClassifier(oob_score=True, random_state=RAND_SEED, n_jobs=-1, **params_elegidos).fit(x_train, y_train_completo)\n",
        "y_pred = rf.predict(x_test) # predigo en el set de testeo\n",
        "y_pred = map_sentiment(pd.Series(y_pred), invert=True)"
      ]
    },
    {
      "cell_type": "code",
      "execution_count": null,
      "metadata": {
        "id": "aKCnHx4ZAR6f"
      },
      "outputs": [],
      "source": [
        "resultados_random_forest = build_results(y_pred)"
      ]
    },
    {
      "cell_type": "code",
      "execution_count": null,
      "metadata": {
        "colab": {
          "base_uri": "https://localhost:8080/"
        },
        "id": "4bFG3keKEECn",
        "outputId": "a582278c-4400-409f-c5c3-27c424dbb554"
      },
      "outputs": [
        {
          "output_type": "stream",
          "name": "stdout",
          "text": [
            "Positives: 5623\n",
            "Negatives: 2976\n"
          ]
        }
      ],
      "source": [
        "print_positive_negatives(resultados_random_forest['sentimiento'])"
      ]
    },
    {
      "cell_type": "markdown",
      "metadata": {
        "id": "-e8qRltmvUlW"
      },
      "source": [
        "# Guardado de resultados y modelo"
      ]
    },
    {
      "cell_type": "code",
      "execution_count": null,
      "metadata": {
        "colab": {
          "base_uri": "https://localhost:8080/"
        },
        "id": "1NC367hqvbMD",
        "outputId": "0c56a896-8442-4d81-f5ea-996c4ee57fac"
      },
      "outputs": [
        {
          "output_type": "execute_result",
          "data": {
            "text/plain": [
              "['/content/drive/MyDrive/7506R-1C2024-GRUPO02/TP2/Models/random_forest.pkl']"
            ]
          },
          "metadata": {},
          "execution_count": 90
        }
      ],
      "source": [
        "# random forest\n",
        "resultados_random_forest.to_csv(root_path + \"Dataset/resultados_random_forest.csv\", index=False)\n",
        "joblib.dump(rf, root_path + 'Models/random_forest.pkl')\n"
      ]
    }
  ],
  "metadata": {
    "colab": {
      "provenance": [],
      "toc_visible": true,
      "include_colab_link": true
    },
    "kernelspec": {
      "display_name": "Python 3",
      "name": "python3"
    },
    "language_info": {
      "name": "python"
    }
  },
  "nbformat": 4,
  "nbformat_minor": 0
}