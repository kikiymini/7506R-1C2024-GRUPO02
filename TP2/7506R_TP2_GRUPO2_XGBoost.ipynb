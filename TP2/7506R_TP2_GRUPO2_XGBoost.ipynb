{
  "cells": [
    {
      "cell_type": "markdown",
      "metadata": {
        "id": "view-in-github",
        "colab_type": "text"
      },
      "source": [
        "<a href=\"https://colab.research.google.com/github/kikiymini/7506R-1C2024-GRUPO02/blob/main/TP2/7506R_TP2_GRUPO2_XGBoost.ipynb\" target=\"_parent\"><img src=\"https://colab.research.google.com/assets/colab-badge.svg\" alt=\"Open In Colab\"/></a>"
      ]
    },
    {
      "cell_type": "markdown",
      "metadata": {
        "id": "GDDSr-SglU1G"
      },
      "source": [
        "# <center>Organizaci&oacute;n de Datos</center>\n",
        "\n",
        "#### <center>C&aacute;tedra Ing. Rodriguez, Juan Manuel </center>\n",
        "\n",
        "## <center>Trabajo Práctico 2: Críticas cinematográficas</center>\n",
        "\n",
        "### <center> Grupo 2</center>\n",
        "\n",
        "## Integrantes:\n",
        "\n",
        "*   Aramayo Carolina\n",
        "*   Utrera Maximo Damian\n",
        "*   Villalba Ana Daniela\n",
        "*   Fiorilo Roy\n"
      ]
    },
    {
      "cell_type": "markdown",
      "metadata": {
        "id": "yQzgLrPLld-Z"
      },
      "source": [
        "# Importación de librerias"
      ]
    },
    {
      "cell_type": "code",
      "execution_count": null,
      "metadata": {
        "colab": {
          "base_uri": "https://localhost:8080/"
        },
        "id": "VvM4hVZ9uFpL",
        "outputId": "af7f1986-98f4-4a78-e93a-53cdd851ff85"
      },
      "outputs": [
        {
          "output_type": "stream",
          "name": "stderr",
          "text": [
            "[nltk_data] Downloading package stopwords to /root/nltk_data...\n",
            "[nltk_data]   Package stopwords is already up-to-date!\n",
            "[nltk_data] Downloading package punkt to /root/nltk_data...\n",
            "[nltk_data]   Package punkt is already up-to-date!\n",
            "[nltk_data] Downloading package omw-1.4 to /root/nltk_data...\n",
            "[nltk_data]   Package omw-1.4 is already up-to-date!\n",
            "[nltk_data] Downloading package wordnet to /root/nltk_data...\n",
            "[nltk_data]   Package wordnet is already up-to-date!\n",
            "[nltk_data] Downloading package averaged_perceptron_tagger to\n",
            "[nltk_data]     /root/nltk_data...\n",
            "[nltk_data]   Package averaged_perceptron_tagger is already up-to-\n",
            "[nltk_data]       date!\n"
          ]
        }
      ],
      "source": [
        "from google.colab import drive\n",
        "\n",
        "import pandas as pd\n",
        "import numpy as np\n",
        "from matplotlib import pyplot as plt\n",
        "import seaborn as sns\n",
        "from sklearn.model_selection import train_test_split\n",
        "\n",
        "# Tokens y preprocesamiento\n",
        "import nltk\n",
        "from nltk import word_tokenize\n",
        "from nltk.corpus import stopwords\n",
        "from nltk import pos_tag\n",
        "from nltk.stem import WordNetLemmatizer\n",
        "from nltk.corpus import wordnet\n",
        "from collections import Counter\n",
        "import spacy\n",
        "from nltk.corpus import stopwords\n",
        "from sklearn.feature_extraction.text import CountVectorizer\n",
        "from sklearn.feature_extraction.text import TfidfVectorizer\n",
        "\n",
        "# nltk\n",
        "nltk.download('stopwords')\n",
        "nltk.download('punkt')\n",
        "nltk.download('omw-1.4')\n",
        "nltk.download('wordnet')\n",
        "nltk.download('averaged_perceptron_tagger')\n",
        "\n",
        "# Modelos\n",
        "import joblib\n",
        "from sklearn.model_selection import cross_val_score, KFold, RandomizedSearchCV,StratifiedKFold\n",
        "from sklearn.metrics import confusion_matrix, classification_report, f1_score, make_scorer\n",
        "\n",
        "from sklearn.naive_bayes import MultinomialNB\n",
        "from sklearn.ensemble import RandomForestClassifier\n",
        "\n",
        "from xgboost import XGBClassifier\n",
        "\n",
        "from sklearn.preprocessing import LabelEncoder\n",
        "import warnings\n",
        "warnings.filterwarnings(\"ignore\")\n",
        "\n",
        "RAND_SEED = 42"
      ]
    },
    {
      "cell_type": "markdown",
      "metadata": {
        "id": "ZCstguaruDzD"
      },
      "source": [
        "# Lectura de archivo\n"
      ]
    },
    {
      "cell_type": "markdown",
      "metadata": {
        "id": "MZ-i4EbmuIVX"
      },
      "source": [
        "### Desde google drive"
      ]
    },
    {
      "cell_type": "code",
      "execution_count": null,
      "metadata": {
        "colab": {
          "base_uri": "https://localhost:8080/"
        },
        "id": "9wJ_ERJKwzAQ",
        "outputId": "13649e6c-f224-49c6-a380-214f5ee17ccc"
      },
      "outputs": [
        {
          "output_type": "stream",
          "name": "stdout",
          "text": [
            "Mounted at /content/drive\n"
          ]
        }
      ],
      "source": [
        "drive.mount('/content/drive')\n",
        "root_path = \"/content/drive/MyDrive/7506R-1C2024-GRUPO02/TP2/\""
      ]
    },
    {
      "cell_type": "markdown",
      "metadata": {
        "id": "Aaf7SBZluLlI"
      },
      "source": [
        "### Desde maquina local"
      ]
    },
    {
      "cell_type": "code",
      "execution_count": null,
      "metadata": {
        "id": "gPBHdD8KladB"
      },
      "outputs": [],
      "source": [
        "# Si se esta trabajando en local, descomentar esta celta y comentar la de arriba\n",
        "# root_path = \"./\""
      ]
    },
    {
      "cell_type": "code",
      "execution_count": null,
      "metadata": {
        "id": "DMJR5Rizlduf"
      },
      "outputs": [],
      "source": [
        "train_path = root_path + 'Dataset/train.csv'\n",
        "test_path = root_path + 'Dataset/test.csv'\n",
        "sample_path = root_path + 'Dataset/sample_solution.csv'\n",
        "ds_train = pd.read_csv(train_path)\n",
        "ds_test = pd.read_csv(test_path)\n",
        "sample = pd.read_csv(sample_path)"
      ]
    },
    {
      "cell_type": "markdown",
      "metadata": {
        "id": "RlY6pAgdvbe5"
      },
      "source": [
        "# Visualizamos los datasets"
      ]
    },
    {
      "cell_type": "code",
      "execution_count": null,
      "metadata": {
        "colab": {
          "base_uri": "https://localhost:8080/"
        },
        "id": "cUWg64kmAV8w",
        "outputId": "1970f24d-7cfe-4910-fc5b-12c99017fa7c"
      },
      "outputs": [
        {
          "output_type": "stream",
          "name": "stdout",
          "text": [
            "<class 'pandas.core.frame.DataFrame'>\n",
            "RangeIndex: 50000 entries, 0 to 49999\n",
            "Data columns (total 3 columns):\n",
            " #   Column       Non-Null Count  Dtype \n",
            "---  ------       --------------  ----- \n",
            " 0   ID           50000 non-null  int64 \n",
            " 1   review_es    50000 non-null  object\n",
            " 2   sentimiento  50000 non-null  object\n",
            "dtypes: int64(1), object(2)\n",
            "memory usage: 1.1+ MB\n",
            "<class 'pandas.core.frame.DataFrame'>\n",
            "RangeIndex: 8599 entries, 0 to 8598\n",
            "Data columns (total 2 columns):\n",
            " #   Column     Non-Null Count  Dtype \n",
            "---  ------     --------------  ----- \n",
            " 0   ID         8599 non-null   int64 \n",
            " 1   review_es  8599 non-null   object\n",
            "dtypes: int64(1), object(1)\n",
            "memory usage: 134.5+ KB\n"
          ]
        }
      ],
      "source": [
        "ds_train.info()\n",
        "ds_test.info()"
      ]
    },
    {
      "cell_type": "code",
      "execution_count": null,
      "metadata": {
        "colab": {
          "base_uri": "https://localhost:8080/",
          "height": 424
        },
        "id": "KXiYdnPEvNU_",
        "outputId": "89321a28-1047-4afa-acaa-413ee027980d"
      },
      "outputs": [
        {
          "output_type": "execute_result",
          "data": {
            "text/plain": [
              "          ID                                          review_es sentimiento\n",
              "0          0  Uno de los otros críticos ha mencionado que de...    positivo\n",
              "1          1  Una pequeña pequeña producción.La técnica de f...    positivo\n",
              "2          2  Pensé que esta era una manera maravillosa de p...    positivo\n",
              "3          3  Básicamente, hay una familia donde un niño peq...    negativo\n",
              "4          4  El \"amor en el tiempo\" de Petter Mattei es una...    positivo\n",
              "...      ...                                                ...         ...\n",
              "49995  49995  Pensé que esta película hizo un buen trabajo a...    positivo\n",
              "49996  49996  Mala parcela, mal diálogo, mala actuación, dir...    negativo\n",
              "49997  49997  Soy católica enseñada en escuelas primarias pa...    negativo\n",
              "49998  49998  Voy a tener que estar en desacuerdo con el com...    negativo\n",
              "49999  49999  Nadie espera que las películas de Star Trek se...    negativo\n",
              "\n",
              "[50000 rows x 3 columns]"
            ],
            "text/html": [
              "\n",
              "  <div id=\"df-e49c1973-3636-4a36-9401-a7f50a967441\" class=\"colab-df-container\">\n",
              "    <div>\n",
              "<style scoped>\n",
              "    .dataframe tbody tr th:only-of-type {\n",
              "        vertical-align: middle;\n",
              "    }\n",
              "\n",
              "    .dataframe tbody tr th {\n",
              "        vertical-align: top;\n",
              "    }\n",
              "\n",
              "    .dataframe thead th {\n",
              "        text-align: right;\n",
              "    }\n",
              "</style>\n",
              "<table border=\"1\" class=\"dataframe\">\n",
              "  <thead>\n",
              "    <tr style=\"text-align: right;\">\n",
              "      <th></th>\n",
              "      <th>ID</th>\n",
              "      <th>review_es</th>\n",
              "      <th>sentimiento</th>\n",
              "    </tr>\n",
              "  </thead>\n",
              "  <tbody>\n",
              "    <tr>\n",
              "      <th>0</th>\n",
              "      <td>0</td>\n",
              "      <td>Uno de los otros críticos ha mencionado que de...</td>\n",
              "      <td>positivo</td>\n",
              "    </tr>\n",
              "    <tr>\n",
              "      <th>1</th>\n",
              "      <td>1</td>\n",
              "      <td>Una pequeña pequeña producción.La técnica de f...</td>\n",
              "      <td>positivo</td>\n",
              "    </tr>\n",
              "    <tr>\n",
              "      <th>2</th>\n",
              "      <td>2</td>\n",
              "      <td>Pensé que esta era una manera maravillosa de p...</td>\n",
              "      <td>positivo</td>\n",
              "    </tr>\n",
              "    <tr>\n",
              "      <th>3</th>\n",
              "      <td>3</td>\n",
              "      <td>Básicamente, hay una familia donde un niño peq...</td>\n",
              "      <td>negativo</td>\n",
              "    </tr>\n",
              "    <tr>\n",
              "      <th>4</th>\n",
              "      <td>4</td>\n",
              "      <td>El \"amor en el tiempo\" de Petter Mattei es una...</td>\n",
              "      <td>positivo</td>\n",
              "    </tr>\n",
              "    <tr>\n",
              "      <th>...</th>\n",
              "      <td>...</td>\n",
              "      <td>...</td>\n",
              "      <td>...</td>\n",
              "    </tr>\n",
              "    <tr>\n",
              "      <th>49995</th>\n",
              "      <td>49995</td>\n",
              "      <td>Pensé que esta película hizo un buen trabajo a...</td>\n",
              "      <td>positivo</td>\n",
              "    </tr>\n",
              "    <tr>\n",
              "      <th>49996</th>\n",
              "      <td>49996</td>\n",
              "      <td>Mala parcela, mal diálogo, mala actuación, dir...</td>\n",
              "      <td>negativo</td>\n",
              "    </tr>\n",
              "    <tr>\n",
              "      <th>49997</th>\n",
              "      <td>49997</td>\n",
              "      <td>Soy católica enseñada en escuelas primarias pa...</td>\n",
              "      <td>negativo</td>\n",
              "    </tr>\n",
              "    <tr>\n",
              "      <th>49998</th>\n",
              "      <td>49998</td>\n",
              "      <td>Voy a tener que estar en desacuerdo con el com...</td>\n",
              "      <td>negativo</td>\n",
              "    </tr>\n",
              "    <tr>\n",
              "      <th>49999</th>\n",
              "      <td>49999</td>\n",
              "      <td>Nadie espera que las películas de Star Trek se...</td>\n",
              "      <td>negativo</td>\n",
              "    </tr>\n",
              "  </tbody>\n",
              "</table>\n",
              "<p>50000 rows × 3 columns</p>\n",
              "</div>\n",
              "    <div class=\"colab-df-buttons\">\n",
              "\n",
              "  <div class=\"colab-df-container\">\n",
              "    <button class=\"colab-df-convert\" onclick=\"convertToInteractive('df-e49c1973-3636-4a36-9401-a7f50a967441')\"\n",
              "            title=\"Convert this dataframe to an interactive table.\"\n",
              "            style=\"display:none;\">\n",
              "\n",
              "  <svg xmlns=\"http://www.w3.org/2000/svg\" height=\"24px\" viewBox=\"0 -960 960 960\">\n",
              "    <path d=\"M120-120v-720h720v720H120Zm60-500h600v-160H180v160Zm220 220h160v-160H400v160Zm0 220h160v-160H400v160ZM180-400h160v-160H180v160Zm440 0h160v-160H620v160ZM180-180h160v-160H180v160Zm440 0h160v-160H620v160Z\"/>\n",
              "  </svg>\n",
              "    </button>\n",
              "\n",
              "  <style>\n",
              "    .colab-df-container {\n",
              "      display:flex;\n",
              "      gap: 12px;\n",
              "    }\n",
              "\n",
              "    .colab-df-convert {\n",
              "      background-color: #E8F0FE;\n",
              "      border: none;\n",
              "      border-radius: 50%;\n",
              "      cursor: pointer;\n",
              "      display: none;\n",
              "      fill: #1967D2;\n",
              "      height: 32px;\n",
              "      padding: 0 0 0 0;\n",
              "      width: 32px;\n",
              "    }\n",
              "\n",
              "    .colab-df-convert:hover {\n",
              "      background-color: #E2EBFA;\n",
              "      box-shadow: 0px 1px 2px rgba(60, 64, 67, 0.3), 0px 1px 3px 1px rgba(60, 64, 67, 0.15);\n",
              "      fill: #174EA6;\n",
              "    }\n",
              "\n",
              "    .colab-df-buttons div {\n",
              "      margin-bottom: 4px;\n",
              "    }\n",
              "\n",
              "    [theme=dark] .colab-df-convert {\n",
              "      background-color: #3B4455;\n",
              "      fill: #D2E3FC;\n",
              "    }\n",
              "\n",
              "    [theme=dark] .colab-df-convert:hover {\n",
              "      background-color: #434B5C;\n",
              "      box-shadow: 0px 1px 3px 1px rgba(0, 0, 0, 0.15);\n",
              "      filter: drop-shadow(0px 1px 2px rgba(0, 0, 0, 0.3));\n",
              "      fill: #FFFFFF;\n",
              "    }\n",
              "  </style>\n",
              "\n",
              "    <script>\n",
              "      const buttonEl =\n",
              "        document.querySelector('#df-e49c1973-3636-4a36-9401-a7f50a967441 button.colab-df-convert');\n",
              "      buttonEl.style.display =\n",
              "        google.colab.kernel.accessAllowed ? 'block' : 'none';\n",
              "\n",
              "      async function convertToInteractive(key) {\n",
              "        const element = document.querySelector('#df-e49c1973-3636-4a36-9401-a7f50a967441');\n",
              "        const dataTable =\n",
              "          await google.colab.kernel.invokeFunction('convertToInteractive',\n",
              "                                                    [key], {});\n",
              "        if (!dataTable) return;\n",
              "\n",
              "        const docLinkHtml = 'Like what you see? Visit the ' +\n",
              "          '<a target=\"_blank\" href=https://colab.research.google.com/notebooks/data_table.ipynb>data table notebook</a>'\n",
              "          + ' to learn more about interactive tables.';\n",
              "        element.innerHTML = '';\n",
              "        dataTable['output_type'] = 'display_data';\n",
              "        await google.colab.output.renderOutput(dataTable, element);\n",
              "        const docLink = document.createElement('div');\n",
              "        docLink.innerHTML = docLinkHtml;\n",
              "        element.appendChild(docLink);\n",
              "      }\n",
              "    </script>\n",
              "  </div>\n",
              "\n",
              "\n",
              "<div id=\"df-48ecc5b8-2f6c-42d8-a124-b4b9ce5c119a\">\n",
              "  <button class=\"colab-df-quickchart\" onclick=\"quickchart('df-48ecc5b8-2f6c-42d8-a124-b4b9ce5c119a')\"\n",
              "            title=\"Suggest charts\"\n",
              "            style=\"display:none;\">\n",
              "\n",
              "<svg xmlns=\"http://www.w3.org/2000/svg\" height=\"24px\"viewBox=\"0 0 24 24\"\n",
              "     width=\"24px\">\n",
              "    <g>\n",
              "        <path d=\"M19 3H5c-1.1 0-2 .9-2 2v14c0 1.1.9 2 2 2h14c1.1 0 2-.9 2-2V5c0-1.1-.9-2-2-2zM9 17H7v-7h2v7zm4 0h-2V7h2v10zm4 0h-2v-4h2v4z\"/>\n",
              "    </g>\n",
              "</svg>\n",
              "  </button>\n",
              "\n",
              "<style>\n",
              "  .colab-df-quickchart {\n",
              "      --bg-color: #E8F0FE;\n",
              "      --fill-color: #1967D2;\n",
              "      --hover-bg-color: #E2EBFA;\n",
              "      --hover-fill-color: #174EA6;\n",
              "      --disabled-fill-color: #AAA;\n",
              "      --disabled-bg-color: #DDD;\n",
              "  }\n",
              "\n",
              "  [theme=dark] .colab-df-quickchart {\n",
              "      --bg-color: #3B4455;\n",
              "      --fill-color: #D2E3FC;\n",
              "      --hover-bg-color: #434B5C;\n",
              "      --hover-fill-color: #FFFFFF;\n",
              "      --disabled-bg-color: #3B4455;\n",
              "      --disabled-fill-color: #666;\n",
              "  }\n",
              "\n",
              "  .colab-df-quickchart {\n",
              "    background-color: var(--bg-color);\n",
              "    border: none;\n",
              "    border-radius: 50%;\n",
              "    cursor: pointer;\n",
              "    display: none;\n",
              "    fill: var(--fill-color);\n",
              "    height: 32px;\n",
              "    padding: 0;\n",
              "    width: 32px;\n",
              "  }\n",
              "\n",
              "  .colab-df-quickchart:hover {\n",
              "    background-color: var(--hover-bg-color);\n",
              "    box-shadow: 0 1px 2px rgba(60, 64, 67, 0.3), 0 1px 3px 1px rgba(60, 64, 67, 0.15);\n",
              "    fill: var(--button-hover-fill-color);\n",
              "  }\n",
              "\n",
              "  .colab-df-quickchart-complete:disabled,\n",
              "  .colab-df-quickchart-complete:disabled:hover {\n",
              "    background-color: var(--disabled-bg-color);\n",
              "    fill: var(--disabled-fill-color);\n",
              "    box-shadow: none;\n",
              "  }\n",
              "\n",
              "  .colab-df-spinner {\n",
              "    border: 2px solid var(--fill-color);\n",
              "    border-color: transparent;\n",
              "    border-bottom-color: var(--fill-color);\n",
              "    animation:\n",
              "      spin 1s steps(1) infinite;\n",
              "  }\n",
              "\n",
              "  @keyframes spin {\n",
              "    0% {\n",
              "      border-color: transparent;\n",
              "      border-bottom-color: var(--fill-color);\n",
              "      border-left-color: var(--fill-color);\n",
              "    }\n",
              "    20% {\n",
              "      border-color: transparent;\n",
              "      border-left-color: var(--fill-color);\n",
              "      border-top-color: var(--fill-color);\n",
              "    }\n",
              "    30% {\n",
              "      border-color: transparent;\n",
              "      border-left-color: var(--fill-color);\n",
              "      border-top-color: var(--fill-color);\n",
              "      border-right-color: var(--fill-color);\n",
              "    }\n",
              "    40% {\n",
              "      border-color: transparent;\n",
              "      border-right-color: var(--fill-color);\n",
              "      border-top-color: var(--fill-color);\n",
              "    }\n",
              "    60% {\n",
              "      border-color: transparent;\n",
              "      border-right-color: var(--fill-color);\n",
              "    }\n",
              "    80% {\n",
              "      border-color: transparent;\n",
              "      border-right-color: var(--fill-color);\n",
              "      border-bottom-color: var(--fill-color);\n",
              "    }\n",
              "    90% {\n",
              "      border-color: transparent;\n",
              "      border-bottom-color: var(--fill-color);\n",
              "    }\n",
              "  }\n",
              "</style>\n",
              "\n",
              "  <script>\n",
              "    async function quickchart(key) {\n",
              "      const quickchartButtonEl =\n",
              "        document.querySelector('#' + key + ' button');\n",
              "      quickchartButtonEl.disabled = true;  // To prevent multiple clicks.\n",
              "      quickchartButtonEl.classList.add('colab-df-spinner');\n",
              "      try {\n",
              "        const charts = await google.colab.kernel.invokeFunction(\n",
              "            'suggestCharts', [key], {});\n",
              "      } catch (error) {\n",
              "        console.error('Error during call to suggestCharts:', error);\n",
              "      }\n",
              "      quickchartButtonEl.classList.remove('colab-df-spinner');\n",
              "      quickchartButtonEl.classList.add('colab-df-quickchart-complete');\n",
              "    }\n",
              "    (() => {\n",
              "      let quickchartButtonEl =\n",
              "        document.querySelector('#df-48ecc5b8-2f6c-42d8-a124-b4b9ce5c119a button');\n",
              "      quickchartButtonEl.style.display =\n",
              "        google.colab.kernel.accessAllowed ? 'block' : 'none';\n",
              "    })();\n",
              "  </script>\n",
              "</div>\n",
              "\n",
              "  <div id=\"id_fe93e1e3-4e69-4c36-9076-2dae39b3b377\">\n",
              "    <style>\n",
              "      .colab-df-generate {\n",
              "        background-color: #E8F0FE;\n",
              "        border: none;\n",
              "        border-radius: 50%;\n",
              "        cursor: pointer;\n",
              "        display: none;\n",
              "        fill: #1967D2;\n",
              "        height: 32px;\n",
              "        padding: 0 0 0 0;\n",
              "        width: 32px;\n",
              "      }\n",
              "\n",
              "      .colab-df-generate:hover {\n",
              "        background-color: #E2EBFA;\n",
              "        box-shadow: 0px 1px 2px rgba(60, 64, 67, 0.3), 0px 1px 3px 1px rgba(60, 64, 67, 0.15);\n",
              "        fill: #174EA6;\n",
              "      }\n",
              "\n",
              "      [theme=dark] .colab-df-generate {\n",
              "        background-color: #3B4455;\n",
              "        fill: #D2E3FC;\n",
              "      }\n",
              "\n",
              "      [theme=dark] .colab-df-generate:hover {\n",
              "        background-color: #434B5C;\n",
              "        box-shadow: 0px 1px 3px 1px rgba(0, 0, 0, 0.15);\n",
              "        filter: drop-shadow(0px 1px 2px rgba(0, 0, 0, 0.3));\n",
              "        fill: #FFFFFF;\n",
              "      }\n",
              "    </style>\n",
              "    <button class=\"colab-df-generate\" onclick=\"generateWithVariable('ds_train')\"\n",
              "            title=\"Generate code using this dataframe.\"\n",
              "            style=\"display:none;\">\n",
              "\n",
              "  <svg xmlns=\"http://www.w3.org/2000/svg\" height=\"24px\"viewBox=\"0 0 24 24\"\n",
              "       width=\"24px\">\n",
              "    <path d=\"M7,19H8.4L18.45,9,17,7.55,7,17.6ZM5,21V16.75L18.45,3.32a2,2,0,0,1,2.83,0l1.4,1.43a1.91,1.91,0,0,1,.58,1.4,1.91,1.91,0,0,1-.58,1.4L9.25,21ZM18.45,9,17,7.55Zm-12,3A5.31,5.31,0,0,0,4.9,8.1,5.31,5.31,0,0,0,1,6.5,5.31,5.31,0,0,0,4.9,4.9,5.31,5.31,0,0,0,6.5,1,5.31,5.31,0,0,0,8.1,4.9,5.31,5.31,0,0,0,12,6.5,5.46,5.46,0,0,0,6.5,12Z\"/>\n",
              "  </svg>\n",
              "    </button>\n",
              "    <script>\n",
              "      (() => {\n",
              "      const buttonEl =\n",
              "        document.querySelector('#id_fe93e1e3-4e69-4c36-9076-2dae39b3b377 button.colab-df-generate');\n",
              "      buttonEl.style.display =\n",
              "        google.colab.kernel.accessAllowed ? 'block' : 'none';\n",
              "\n",
              "      buttonEl.onclick = () => {\n",
              "        google.colab.notebook.generateWithVariable('ds_train');\n",
              "      }\n",
              "      })();\n",
              "    </script>\n",
              "  </div>\n",
              "\n",
              "    </div>\n",
              "  </div>\n"
            ],
            "application/vnd.google.colaboratory.intrinsic+json": {
              "type": "dataframe",
              "variable_name": "ds_train",
              "summary": "{\n  \"name\": \"ds_train\",\n  \"rows\": 50000,\n  \"fields\": [\n    {\n      \"column\": \"ID\",\n      \"properties\": {\n        \"dtype\": \"number\",\n        \"std\": 14433,\n        \"min\": 0,\n        \"max\": 49999,\n        \"num_unique_values\": 50000,\n        \"samples\": [\n          33553,\n          9427,\n          199\n        ],\n        \"semantic_type\": \"\",\n        \"description\": \"\"\n      }\n    },\n    {\n      \"column\": \"review_es\",\n      \"properties\": {\n        \"dtype\": \"string\",\n        \"num_unique_values\": 49599,\n        \"samples\": [\n          \"Dos a\\u00f1os despu\\u00e9s del \\u00e9xito de 'avi\\u00f3n', Jim Abrahams y Jerry y David Zucker crearon esta brillante comedia protagonizada por la Gran Leslie Nielsen, ya que el detective video simple 'Frank Drebin'. Tambi\\u00e9n en el elenco fue Alan North como 'Capit\\u00e1n Ed Hocken', Ed Williams como 'Ted Olsen' y William Duell como 'Johnny The Shoe Shine Boy'. '\\u00a1Escuadr\\u00f3n de la polic\\u00eda!' Destac\\u00f3 chistes sin verg\\u00fcenza y gags visuales inteligentes jugando en el fondo. Cada episodio concluir\\u00eda con un marco de congelaci\\u00f3n simulado en el que los caracteres en el marco se encuentran completamente quietos. \\u00a1Una de las mejores secuencias de 'congelamiento' de 'congelamiento' vieron a uno de los personajes que vierte caf\\u00e9 en una taza mientras est\\u00e1 de pie, lo que hace que la taza se desborde! Las estrellas invitadas fueron asesinadas en los t\\u00edtulos de apertura, \\u00a1uno incluido Georg Stanford Brown siendo aplastado por una caja fuerte! A pesar de obtener revisiones positivas y mucho cr\\u00edtico, '\\u00a1Escuadr\\u00f3n!' Solo dur\\u00f3 seis episodios antes de ser cancelados. Esto no signific\\u00f3 que el final, sin embargo, cinco a\\u00f1os despu\\u00e9s, el espect\\u00e1culo se transfiri\\u00f3 a la pantalla grande para la primera en la trilog\\u00eda de las pel\\u00edculas \\\"desnudas de la pistola\\\".\",\n          \"He le\\u00eddo los comentarios de KERCHING ON IMDB, y francamente, no he visto una revisi\\u00f3n positiva, hasta ahora.En realidad me gusta a Kerching.Kerching es sobre un adolescente llamado Taj Lewis, para hacer \\u00a3 1,000,000 para su madre, establece un sitio web llamado Rudeboy.El sitio web ofrece muchas cosas interesantes, aunque solo TAJ, y sus 2 amigos, Danny y Seymour pueden evitar que TAJ se exponga.Encuentro este espect\\u00e1culo bastante divertido y me gusta verlo.La actuaci\\u00f3n es O.K., pero definitivamente puede ser mejor, los personajes son divertidos, especialmente a Danny Spooner, el amigo de Taj, su estupidez es lo que lo hace divertido.y el otro amigo de Taj seymour.Tambi\\u00e9n Carlton, el due\\u00f1o de la cafeter\\u00eda llamada \\\"El fr\\u00edo\\\".Nunca lo vemos, solo lo escuchamos.El hermano menor de Taj, Omar, y su hermana mayor, Missy tambi\\u00e9n es divertida.Y la mejor amiga de Missy Kareesha.Muchas veces, Taj's casi se ha expuesto, casi.Adem\\u00e1s de la comedia, el drama en kerching, como la vida del amor y la p\\u00e9rdida de seres queridos hace que este programa sea excelente.\",\n          \"Una historia sobre el amor y el odio, la tragedia y la felicidad, y sobre todo, la amistad establecida en el momento muy interesante de la guerra civil estadounidense. Te interesa interesado en la historia, te involucra emocionalmente y te hace febrilmente esperar el pr\\u00f3ximo episodio., el casting era espl\\u00e9ndido.Muchas superestrellas aparecen en los camafeos cortos, los roles principales son jugados por una gran variedad de monumentos talentosos: Kirstie Alley y Terri Garber se deben mencionar aqu\\u00ed: este es simplemente un excelente ejemplo para una producci\\u00f3n de televisi\\u00f3n como deber\\u00eda ser. No se olvide de los pura.Lovelity of Wendy Kilbourne retratando constanza :-)\"\n        ],\n        \"semantic_type\": \"\",\n        \"description\": \"\"\n      }\n    },\n    {\n      \"column\": \"sentimiento\",\n      \"properties\": {\n        \"dtype\": \"category\",\n        \"num_unique_values\": 2,\n        \"samples\": [\n          \"negativo\",\n          \"positivo\"\n        ],\n        \"semantic_type\": \"\",\n        \"description\": \"\"\n      }\n    }\n  ]\n}"
            }
          },
          "metadata": {},
          "execution_count": 8
        }
      ],
      "source": [
        "ds_train"
      ]
    },
    {
      "cell_type": "markdown",
      "metadata": {
        "id": "Bqp_qUjMEOJH"
      },
      "source": [
        "Controlamos que todas las reviews estén en español."
      ]
    },
    {
      "cell_type": "code",
      "execution_count": null,
      "metadata": {
        "colab": {
          "base_uri": "https://localhost:8080/",
          "height": 424
        },
        "id": "YWmpdvJgwVJw",
        "outputId": "20164f1c-a26a-43d3-864a-88737eadf2be"
      },
      "outputs": [
        {
          "output_type": "execute_result",
          "data": {
            "text/plain": [
              "          ID                                          review_es sentimiento\n",
              "156      156  From the film's first shot - Keira Knightley a...    negativo\n",
              "249      249  'Airport 4' is basically a slopped together me...    negativo\n",
              "250      250  Supposedly a \"social commentary\" on racism and...    negativo\n",
              "263      263  There is a difference between a \"film,\" and a ...    negativo\n",
              "264      264  please re-watch all 3 series and do not go see...    negativo\n",
              "...      ...                                                ...         ...\n",
              "49792  49792  Thirty years after its initial release, the th...    positivo\n",
              "49833  49833  THE SHOP AROUND THE CORNER is one of the sweet...    positivo\n",
              "49861  49861  OK OK, it might be hard to put the entirety of...    negativo\n",
              "49943  49943  \"SIR\" ha jugado a LEAR más de 200 veces, pero ...    positivo\n",
              "49948  49948  It is the early morning of our discontent, and...    negativo\n",
              "\n",
              "[1932 rows x 3 columns]"
            ],
            "text/html": [
              "\n",
              "  <div id=\"df-ec026658-c20c-4a9a-be86-fbd3d3ea97a4\" class=\"colab-df-container\">\n",
              "    <div>\n",
              "<style scoped>\n",
              "    .dataframe tbody tr th:only-of-type {\n",
              "        vertical-align: middle;\n",
              "    }\n",
              "\n",
              "    .dataframe tbody tr th {\n",
              "        vertical-align: top;\n",
              "    }\n",
              "\n",
              "    .dataframe thead th {\n",
              "        text-align: right;\n",
              "    }\n",
              "</style>\n",
              "<table border=\"1\" class=\"dataframe\">\n",
              "  <thead>\n",
              "    <tr style=\"text-align: right;\">\n",
              "      <th></th>\n",
              "      <th>ID</th>\n",
              "      <th>review_es</th>\n",
              "      <th>sentimiento</th>\n",
              "    </tr>\n",
              "  </thead>\n",
              "  <tbody>\n",
              "    <tr>\n",
              "      <th>156</th>\n",
              "      <td>156</td>\n",
              "      <td>From the film's first shot - Keira Knightley a...</td>\n",
              "      <td>negativo</td>\n",
              "    </tr>\n",
              "    <tr>\n",
              "      <th>249</th>\n",
              "      <td>249</td>\n",
              "      <td>'Airport 4' is basically a slopped together me...</td>\n",
              "      <td>negativo</td>\n",
              "    </tr>\n",
              "    <tr>\n",
              "      <th>250</th>\n",
              "      <td>250</td>\n",
              "      <td>Supposedly a \"social commentary\" on racism and...</td>\n",
              "      <td>negativo</td>\n",
              "    </tr>\n",
              "    <tr>\n",
              "      <th>263</th>\n",
              "      <td>263</td>\n",
              "      <td>There is a difference between a \"film,\" and a ...</td>\n",
              "      <td>negativo</td>\n",
              "    </tr>\n",
              "    <tr>\n",
              "      <th>264</th>\n",
              "      <td>264</td>\n",
              "      <td>please re-watch all 3 series and do not go see...</td>\n",
              "      <td>negativo</td>\n",
              "    </tr>\n",
              "    <tr>\n",
              "      <th>...</th>\n",
              "      <td>...</td>\n",
              "      <td>...</td>\n",
              "      <td>...</td>\n",
              "    </tr>\n",
              "    <tr>\n",
              "      <th>49792</th>\n",
              "      <td>49792</td>\n",
              "      <td>Thirty years after its initial release, the th...</td>\n",
              "      <td>positivo</td>\n",
              "    </tr>\n",
              "    <tr>\n",
              "      <th>49833</th>\n",
              "      <td>49833</td>\n",
              "      <td>THE SHOP AROUND THE CORNER is one of the sweet...</td>\n",
              "      <td>positivo</td>\n",
              "    </tr>\n",
              "    <tr>\n",
              "      <th>49861</th>\n",
              "      <td>49861</td>\n",
              "      <td>OK OK, it might be hard to put the entirety of...</td>\n",
              "      <td>negativo</td>\n",
              "    </tr>\n",
              "    <tr>\n",
              "      <th>49943</th>\n",
              "      <td>49943</td>\n",
              "      <td>\"SIR\" ha jugado a LEAR más de 200 veces, pero ...</td>\n",
              "      <td>positivo</td>\n",
              "    </tr>\n",
              "    <tr>\n",
              "      <th>49948</th>\n",
              "      <td>49948</td>\n",
              "      <td>It is the early morning of our discontent, and...</td>\n",
              "      <td>negativo</td>\n",
              "    </tr>\n",
              "  </tbody>\n",
              "</table>\n",
              "<p>1932 rows × 3 columns</p>\n",
              "</div>\n",
              "    <div class=\"colab-df-buttons\">\n",
              "\n",
              "  <div class=\"colab-df-container\">\n",
              "    <button class=\"colab-df-convert\" onclick=\"convertToInteractive('df-ec026658-c20c-4a9a-be86-fbd3d3ea97a4')\"\n",
              "            title=\"Convert this dataframe to an interactive table.\"\n",
              "            style=\"display:none;\">\n",
              "\n",
              "  <svg xmlns=\"http://www.w3.org/2000/svg\" height=\"24px\" viewBox=\"0 -960 960 960\">\n",
              "    <path d=\"M120-120v-720h720v720H120Zm60-500h600v-160H180v160Zm220 220h160v-160H400v160Zm0 220h160v-160H400v160ZM180-400h160v-160H180v160Zm440 0h160v-160H620v160ZM180-180h160v-160H180v160Zm440 0h160v-160H620v160Z\"/>\n",
              "  </svg>\n",
              "    </button>\n",
              "\n",
              "  <style>\n",
              "    .colab-df-container {\n",
              "      display:flex;\n",
              "      gap: 12px;\n",
              "    }\n",
              "\n",
              "    .colab-df-convert {\n",
              "      background-color: #E8F0FE;\n",
              "      border: none;\n",
              "      border-radius: 50%;\n",
              "      cursor: pointer;\n",
              "      display: none;\n",
              "      fill: #1967D2;\n",
              "      height: 32px;\n",
              "      padding: 0 0 0 0;\n",
              "      width: 32px;\n",
              "    }\n",
              "\n",
              "    .colab-df-convert:hover {\n",
              "      background-color: #E2EBFA;\n",
              "      box-shadow: 0px 1px 2px rgba(60, 64, 67, 0.3), 0px 1px 3px 1px rgba(60, 64, 67, 0.15);\n",
              "      fill: #174EA6;\n",
              "    }\n",
              "\n",
              "    .colab-df-buttons div {\n",
              "      margin-bottom: 4px;\n",
              "    }\n",
              "\n",
              "    [theme=dark] .colab-df-convert {\n",
              "      background-color: #3B4455;\n",
              "      fill: #D2E3FC;\n",
              "    }\n",
              "\n",
              "    [theme=dark] .colab-df-convert:hover {\n",
              "      background-color: #434B5C;\n",
              "      box-shadow: 0px 1px 3px 1px rgba(0, 0, 0, 0.15);\n",
              "      filter: drop-shadow(0px 1px 2px rgba(0, 0, 0, 0.3));\n",
              "      fill: #FFFFFF;\n",
              "    }\n",
              "  </style>\n",
              "\n",
              "    <script>\n",
              "      const buttonEl =\n",
              "        document.querySelector('#df-ec026658-c20c-4a9a-be86-fbd3d3ea97a4 button.colab-df-convert');\n",
              "      buttonEl.style.display =\n",
              "        google.colab.kernel.accessAllowed ? 'block' : 'none';\n",
              "\n",
              "      async function convertToInteractive(key) {\n",
              "        const element = document.querySelector('#df-ec026658-c20c-4a9a-be86-fbd3d3ea97a4');\n",
              "        const dataTable =\n",
              "          await google.colab.kernel.invokeFunction('convertToInteractive',\n",
              "                                                    [key], {});\n",
              "        if (!dataTable) return;\n",
              "\n",
              "        const docLinkHtml = 'Like what you see? Visit the ' +\n",
              "          '<a target=\"_blank\" href=https://colab.research.google.com/notebooks/data_table.ipynb>data table notebook</a>'\n",
              "          + ' to learn more about interactive tables.';\n",
              "        element.innerHTML = '';\n",
              "        dataTable['output_type'] = 'display_data';\n",
              "        await google.colab.output.renderOutput(dataTable, element);\n",
              "        const docLink = document.createElement('div');\n",
              "        docLink.innerHTML = docLinkHtml;\n",
              "        element.appendChild(docLink);\n",
              "      }\n",
              "    </script>\n",
              "  </div>\n",
              "\n",
              "\n",
              "<div id=\"df-c23f3620-a97d-4565-8bfc-11a411c7b09a\">\n",
              "  <button class=\"colab-df-quickchart\" onclick=\"quickchart('df-c23f3620-a97d-4565-8bfc-11a411c7b09a')\"\n",
              "            title=\"Suggest charts\"\n",
              "            style=\"display:none;\">\n",
              "\n",
              "<svg xmlns=\"http://www.w3.org/2000/svg\" height=\"24px\"viewBox=\"0 0 24 24\"\n",
              "     width=\"24px\">\n",
              "    <g>\n",
              "        <path d=\"M19 3H5c-1.1 0-2 .9-2 2v14c0 1.1.9 2 2 2h14c1.1 0 2-.9 2-2V5c0-1.1-.9-2-2-2zM9 17H7v-7h2v7zm4 0h-2V7h2v10zm4 0h-2v-4h2v4z\"/>\n",
              "    </g>\n",
              "</svg>\n",
              "  </button>\n",
              "\n",
              "<style>\n",
              "  .colab-df-quickchart {\n",
              "      --bg-color: #E8F0FE;\n",
              "      --fill-color: #1967D2;\n",
              "      --hover-bg-color: #E2EBFA;\n",
              "      --hover-fill-color: #174EA6;\n",
              "      --disabled-fill-color: #AAA;\n",
              "      --disabled-bg-color: #DDD;\n",
              "  }\n",
              "\n",
              "  [theme=dark] .colab-df-quickchart {\n",
              "      --bg-color: #3B4455;\n",
              "      --fill-color: #D2E3FC;\n",
              "      --hover-bg-color: #434B5C;\n",
              "      --hover-fill-color: #FFFFFF;\n",
              "      --disabled-bg-color: #3B4455;\n",
              "      --disabled-fill-color: #666;\n",
              "  }\n",
              "\n",
              "  .colab-df-quickchart {\n",
              "    background-color: var(--bg-color);\n",
              "    border: none;\n",
              "    border-radius: 50%;\n",
              "    cursor: pointer;\n",
              "    display: none;\n",
              "    fill: var(--fill-color);\n",
              "    height: 32px;\n",
              "    padding: 0;\n",
              "    width: 32px;\n",
              "  }\n",
              "\n",
              "  .colab-df-quickchart:hover {\n",
              "    background-color: var(--hover-bg-color);\n",
              "    box-shadow: 0 1px 2px rgba(60, 64, 67, 0.3), 0 1px 3px 1px rgba(60, 64, 67, 0.15);\n",
              "    fill: var(--button-hover-fill-color);\n",
              "  }\n",
              "\n",
              "  .colab-df-quickchart-complete:disabled,\n",
              "  .colab-df-quickchart-complete:disabled:hover {\n",
              "    background-color: var(--disabled-bg-color);\n",
              "    fill: var(--disabled-fill-color);\n",
              "    box-shadow: none;\n",
              "  }\n",
              "\n",
              "  .colab-df-spinner {\n",
              "    border: 2px solid var(--fill-color);\n",
              "    border-color: transparent;\n",
              "    border-bottom-color: var(--fill-color);\n",
              "    animation:\n",
              "      spin 1s steps(1) infinite;\n",
              "  }\n",
              "\n",
              "  @keyframes spin {\n",
              "    0% {\n",
              "      border-color: transparent;\n",
              "      border-bottom-color: var(--fill-color);\n",
              "      border-left-color: var(--fill-color);\n",
              "    }\n",
              "    20% {\n",
              "      border-color: transparent;\n",
              "      border-left-color: var(--fill-color);\n",
              "      border-top-color: var(--fill-color);\n",
              "    }\n",
              "    30% {\n",
              "      border-color: transparent;\n",
              "      border-left-color: var(--fill-color);\n",
              "      border-top-color: var(--fill-color);\n",
              "      border-right-color: var(--fill-color);\n",
              "    }\n",
              "    40% {\n",
              "      border-color: transparent;\n",
              "      border-right-color: var(--fill-color);\n",
              "      border-top-color: var(--fill-color);\n",
              "    }\n",
              "    60% {\n",
              "      border-color: transparent;\n",
              "      border-right-color: var(--fill-color);\n",
              "    }\n",
              "    80% {\n",
              "      border-color: transparent;\n",
              "      border-right-color: var(--fill-color);\n",
              "      border-bottom-color: var(--fill-color);\n",
              "    }\n",
              "    90% {\n",
              "      border-color: transparent;\n",
              "      border-bottom-color: var(--fill-color);\n",
              "    }\n",
              "  }\n",
              "</style>\n",
              "\n",
              "  <script>\n",
              "    async function quickchart(key) {\n",
              "      const quickchartButtonEl =\n",
              "        document.querySelector('#' + key + ' button');\n",
              "      quickchartButtonEl.disabled = true;  // To prevent multiple clicks.\n",
              "      quickchartButtonEl.classList.add('colab-df-spinner');\n",
              "      try {\n",
              "        const charts = await google.colab.kernel.invokeFunction(\n",
              "            'suggestCharts', [key], {});\n",
              "      } catch (error) {\n",
              "        console.error('Error during call to suggestCharts:', error);\n",
              "      }\n",
              "      quickchartButtonEl.classList.remove('colab-df-spinner');\n",
              "      quickchartButtonEl.classList.add('colab-df-quickchart-complete');\n",
              "    }\n",
              "    (() => {\n",
              "      let quickchartButtonEl =\n",
              "        document.querySelector('#df-c23f3620-a97d-4565-8bfc-11a411c7b09a button');\n",
              "      quickchartButtonEl.style.display =\n",
              "        google.colab.kernel.accessAllowed ? 'block' : 'none';\n",
              "    })();\n",
              "  </script>\n",
              "</div>\n",
              "\n",
              "  <div id=\"id_eed4e758-ad06-4b69-ad8e-4c1e1f95fc6b\">\n",
              "    <style>\n",
              "      .colab-df-generate {\n",
              "        background-color: #E8F0FE;\n",
              "        border: none;\n",
              "        border-radius: 50%;\n",
              "        cursor: pointer;\n",
              "        display: none;\n",
              "        fill: #1967D2;\n",
              "        height: 32px;\n",
              "        padding: 0 0 0 0;\n",
              "        width: 32px;\n",
              "      }\n",
              "\n",
              "      .colab-df-generate:hover {\n",
              "        background-color: #E2EBFA;\n",
              "        box-shadow: 0px 1px 2px rgba(60, 64, 67, 0.3), 0px 1px 3px 1px rgba(60, 64, 67, 0.15);\n",
              "        fill: #174EA6;\n",
              "      }\n",
              "\n",
              "      [theme=dark] .colab-df-generate {\n",
              "        background-color: #3B4455;\n",
              "        fill: #D2E3FC;\n",
              "      }\n",
              "\n",
              "      [theme=dark] .colab-df-generate:hover {\n",
              "        background-color: #434B5C;\n",
              "        box-shadow: 0px 1px 3px 1px rgba(0, 0, 0, 0.15);\n",
              "        filter: drop-shadow(0px 1px 2px rgba(0, 0, 0, 0.3));\n",
              "        fill: #FFFFFF;\n",
              "      }\n",
              "    </style>\n",
              "    <button class=\"colab-df-generate\" onclick=\"generateWithVariable('ds_train_en')\"\n",
              "            title=\"Generate code using this dataframe.\"\n",
              "            style=\"display:none;\">\n",
              "\n",
              "  <svg xmlns=\"http://www.w3.org/2000/svg\" height=\"24px\"viewBox=\"0 0 24 24\"\n",
              "       width=\"24px\">\n",
              "    <path d=\"M7,19H8.4L18.45,9,17,7.55,7,17.6ZM5,21V16.75L18.45,3.32a2,2,0,0,1,2.83,0l1.4,1.43a1.91,1.91,0,0,1,.58,1.4,1.91,1.91,0,0,1-.58,1.4L9.25,21ZM18.45,9,17,7.55Zm-12,3A5.31,5.31,0,0,0,4.9,8.1,5.31,5.31,0,0,0,1,6.5,5.31,5.31,0,0,0,4.9,4.9,5.31,5.31,0,0,0,6.5,1,5.31,5.31,0,0,0,8.1,4.9,5.31,5.31,0,0,0,12,6.5,5.46,5.46,0,0,0,6.5,12Z\"/>\n",
              "  </svg>\n",
              "    </button>\n",
              "    <script>\n",
              "      (() => {\n",
              "      const buttonEl =\n",
              "        document.querySelector('#id_eed4e758-ad06-4b69-ad8e-4c1e1f95fc6b button.colab-df-generate');\n",
              "      buttonEl.style.display =\n",
              "        google.colab.kernel.accessAllowed ? 'block' : 'none';\n",
              "\n",
              "      buttonEl.onclick = () => {\n",
              "        google.colab.notebook.generateWithVariable('ds_train_en');\n",
              "      }\n",
              "      })();\n",
              "    </script>\n",
              "  </div>\n",
              "\n",
              "    </div>\n",
              "  </div>\n"
            ],
            "application/vnd.google.colaboratory.intrinsic+json": {
              "type": "dataframe",
              "variable_name": "ds_train_en",
              "summary": "{\n  \"name\": \"ds_train_en\",\n  \"rows\": 1932,\n  \"fields\": [\n    {\n      \"column\": \"ID\",\n      \"properties\": {\n        \"dtype\": \"number\",\n        \"std\": 13087,\n        \"min\": 156,\n        \"max\": 49948,\n        \"num_unique_values\": 1932,\n        \"samples\": [\n          11633,\n          32370,\n          45672\n        ],\n        \"semantic_type\": \"\",\n        \"description\": \"\"\n      }\n    },\n    {\n      \"column\": \"review_es\",\n      \"properties\": {\n        \"dtype\": \"string\",\n        \"num_unique_values\": 1928,\n        \"samples\": [\n          \"Obviously Raw Feed Video is smarter than all of us who wasted our money renting this flick! They will make millions from video rentals and their low budget investment is going to pay off big, which will finance \\\"Rest Stop II\\\" (unfortunately) I figure they spent a maximum of a few hundred thousand dollars American to hire the actors, rent the rest stop locale and burn a truck and drag a motorcycle along behind the truck for a bit plus pay for the technical stuff That's it We should all be as smart as these guys, I won't knock them for having the genius to promote a stinker into good monetary returns Premise of the movie was good, and it could have been a really adequate horror movie, but it failed by not delivering a clear story line I am always looking for a gem from the upstart film companies, but I didn't find it here and neither will you I'm only sorry I wasted $399 plus tax to find out\",\n          \"'Felony' is a B-movie No doubt about itOf course, if you take a look at the cast lineup you might have some high hopes for its entertainment potential This film is stuffed with all of those wonderful character actors that you grew up with, the ones with the faces you immediately recognize even though you probably don't know their names It's amazing that the filmmakers were able to get all of these people together on one project, almost like they decided to do a B-movie actor reunion The cast even includes a couple of really first-rate actors: David Warner, who most people will recognize from 'Titanic' (although my favorite of his roles is Jack the Ripper in 'Time After Time') and Lance Henriksen, who many will remember as Bishop in 'Aliens' These two actors have done some excellent work in their long careers and made some very fine filmsHowever, as impressive as this collection of actors is, their talent is never fully manifested on the screen The writers of 'Felony' spent a lot of money to assemble a dream-team cast and then missed their golden opportunity because of one important factor, the common denominator of all B-movies: a silly scriptWe start with a silly premise The bad guys are caught on tape committing a gruesome murder and they relentlessly pursue the film crew in order to acquire the videotape and destroy the evidence But honestly, why bother? In the time it takes them to track down the film crew, a thousand copies of that tape could be made and circulated to every law enforcement agency and media outlet The criminals don't seem to realize how futile their effort is, and they talk as if stealing and destroying the one original videotape is going to solve the whole problem Sillybut I suppose if the bad guys were so logical there would be no movieThen there is the dialogue It is at times silly, at times clich\\u00e9, and at times unbelievableeverything you have come to expect from a B-movie Of course, I have always believed that strong performances can overcome a lot of weaknesses in the material This cast includes actors who are definitely capable of strong performances, and although a number of the cast members are not good actors at all and have achieved B-movie status quite deservedly, one still might be hopeful that the stronger part of the cast would be able to infuse some life into their parts However, it's disappointing to see that few of the actors in this film really seem to take the movie seriously enough to give it their best shot There's not much inspiration evident in these performances, but then again it's an uninspiring script Now, I'll admit that some of the more colorful actors in the cast do manage to add a certain amount of pizazz into the delivery of their lines, but honestly, even the very fine actors I mentioned earlier seem mostly disinterested and uninvolved with the storySpeaking of the storyeven if the acting had been of a high enough caliber that it made the dialogue seem a little less cheesy, it still would not redeem 'Felony' from the fact that its writer commits the ultimate faux pas of low budget action movie scripts: a plot with as many holes as a block of Swiss cheese You can watch this movie a hundred times and you still won't figure out how everything adds up In an effort to create suspense and always keep the viewer guessing, the writer throws in all kinds of surprises and unexpected twists into his script and ends up with a jigsaw puzzle, but when you get to the end you find there are a bunch of pieces that just don't fit anywhere and others that are missing I admire a good thriller that keeps me guessing, but creating plot twists that exist just to confuse you and which are not consistent with the rest of the story is amateurish There was so much that was never explained that I felt extremely frustrated at the end If you decide to watch it, be prepared to be confusedI haven't even mentioned all kinds of other silly things about this movie, but I won't bother The funny thing is that despite everything I've said, I have to admit that I can't give 'Felony' 1/10 stars Although I can't exactly put my finger on why, I actually found this film to be somewhat likable The silliness can actually be fun at times if you are in the mood for it Plus, I really like some of these character actors, and even though their performances are somewhat lackluster considering their talents, I still got a kick out of seeing themNow, I realize I have been rating this film from the standpoint of a serious moviegoer It's entirely possible I have completely missed the point It could be that the filmmakers' intention all along was to make a B-movie Maybe the silliness is all completely intentional If that's the case, and if I were to rate it on those terms, I would have to say that 'Felony' is a classic in the genre of tongue-in-cheek action flicks B-movie fans will love seeing all of their favorite actors together in one film, will get some chuckles from the script, and will be entertained by the healthy dose of guns, explosions, and chases\",\n          \"On Sunday July 27, 1997, the first episode of a new science fiction series called \\\"Stargate SG-1\\\" was broadcast on Showtime A spin-off of and sequel to the 1994 film \\\"Stargate\\\" starring Kurt Russell and James Spader, the series begins approximately one year after the events portrayed in the film For ten seasons, it chronicled the adventures and misadventures of an intrepid team of explorers known as SG-1 Originally, the series starred Richard Dean Anderson as Colonel Jack O'Neill (two \\\"l\\\"s!), Michael Shanks as Dr Daniel Jackson, Amanda Tapping as Captain Samantha Carter, Christopher Judge as Teal'c and Don S Davis as Major General George S Hammond For ten long years, we watched the team battle against the Goa'uld, the Replicators, the Ori and many other aggressors At the same time, they forged alliances with the Asgard, the Tok'ra, the rebel Jaffa, the Nox and the Tollan They saved the world no less than eight times over the years and never gave up, not until death claimed them And sometimes not even thenAs with all long-running series, they were numerous cast changes Michael Shanks left the series in January 2002 at the end of its fifth season in order to broaden his horizons as an actor Daniel Jackson's successor as the team's resident archaeologist/geek was Jonas Quinn, an alien from a country called Kelowna on the planet Langara, played by Corin Nemec However, Shanks returned at the beginning of the seventh season in June 2003 and Nemec left at the same time Unfortunately, he made only one further guest appearance and his character was seldom mentioned afterwards Don S Davis left the series at the end of the seventh season in March 2004 as he felt that it was time for him to go The show's original star and arguably its most popular actor, Richard Dean Anderson, starred in the series throughout its first eight seasons His participation in the seventh and eight seasons was noticeably less than in the earlier seasons He finally left \\\"SG-1\\\" in March 2005 in order to spend more time with his then six-year-old daughter Jack O'Neill was by far my favourite character in the series and, truth be told, I never enjoyed the last two seasons as much as I did the earlier episodes for that very reasonThe ninth season represented a new era for the programme With the departure of its lead actor and the defeat of the Goa'uld and the Replicators in Season Eight, many fans felt the series should go out on a high Regardless, the series carried on for a further two years with the Ori replacing the Goa'uld as the series' main adversaries Three new characters were brought in to fill the gaps as it were and help usher in this re-invention Ben Browder came in as the cocky Southern Air Force pilot Lt Colonel Cameron Mitchell, the new leader of SG-1 His \\\"Farscape\\\" co-star, the lovely Claudia Black, began to play a prominent role in the series as the vivacious, sexy, hilarious and certainly extroverted Vala Mal Doran, a former Goa'uld host and con artist from another planet A recurring guest star during the eighth and ninth seasons, she joined the cast full time at the beginning of its tenth and final season Rounding off the cast was the legendary Beau Bridges as Major General Hank Landry, the new commander of the SGC and an old friend of Jack O'Neill and General Hammond For the last two years, they starred alongside the \\\"SG-1\\\" faithful (Michael Shanks, Amanda Tapping and Christopher Judge) and became valuable parts of and made equally valuable contributions to the Stargate franchiseAlas, all good things must come to an end During the initial broadcast of the first several episodes of Season Ten, ratings dropped considerably, resulting in cancellation in its August 2006 After ten seasons and 214 episodes, the dream was finally over On March 13, 2007, what began with \\\"Children of the Gods\\\" ended with \\\"Unending\\\" The series finale made its world premiere on Sky One in Britain and Ireland before being shown on the Sci-Fi Channel in the United States on June 22, 2007In the ten years that the series was on the air, it amassed legions of fans and even eclipsed the science fiction series, \\\"Star Trek\\\", in terms of popularity in certain countries It became the second-longest running sci-fi series in the world, second only to \\\"Doctor Who\\\" (1963-1989), and the longest-running American produced sci-fi series, having surpassed \\\"The X-Files\\\" only a few months before it ended\\\"Stargate SG-1\\\" represents the cornerstone of the \\\"Stargate\\\" franchise In 2004, its success and popularity led to the production of a spin-off series entitled \\\"Stargate Atlantis\\\", which was regrettably cancelled after five seasons and 100 episodes in August 2008 Although plans for another feature film fell through, two direct-to-DVD films, \\\"Stargate: The Ark of Truth\\\" and \\\"Stargate Continuum\\\", were released in 2008 and more are planned for the not too distant future A third live-action series, \\\"Stargate Universe\\\", is also due to premiere at some point next year (There was, unfortunately, an animated series, \\\"Stargate Infinity\\\", which ran only from 2002 to 2003 but the less said about that the better) Despite the end of \\\"SG-1\\\" and \\\"Atlantis\\\" as continuing series, the future of \\\"Stargate\\\" looks very bright indeedIn conclusion, while \\\"Stargate\\\" has yet to gain the same degree of popular recognition as other major sci-fi television franchises such as \\\"Star Trek\\\" and \\\"Doctor Who\\\", its still relatively new compared to those two sci-fi giants and I have every confidence that it will continue for many, many years to come\"\n        ],\n        \"semantic_type\": \"\",\n        \"description\": \"\"\n      }\n    },\n    {\n      \"column\": \"sentimiento\",\n      \"properties\": {\n        \"dtype\": \"category\",\n        \"num_unique_values\": 2,\n        \"samples\": [\n          \"positivo\",\n          \"negativo\"\n        ],\n        \"semantic_type\": \"\",\n        \"description\": \"\"\n      }\n    }\n  ]\n}"
            }
          },
          "metadata": {},
          "execution_count": 9
        }
      ],
      "source": [
        "# Buscamos palabras comunes en inglés y vamos probando\n",
        "# Varias palabras se sacan por generar falsos positivos, como \"by\", \"were\" o \"but\"\n",
        "palabras_comunes_ing = [\"because\", \"with\", \"been\", \"have\", \"would\", \"could\", \"should\", \"very\", \"does\"]\n",
        "ds_train_en =  ds_train[ds_train[\"review_es\"].str.contains('|'.join(palabras_comunes_ing))]\n",
        "\n",
        "ds_train_en"
      ]
    },
    {
      "cell_type": "code",
      "execution_count": null,
      "metadata": {
        "id": "RW6FhqVXCjBl"
      },
      "outputs": [],
      "source": [
        "indices_to_drop = ds_train_en.index\n",
        "ds_train = ds_train.drop(indices_to_drop)\n"
      ]
    },
    {
      "cell_type": "markdown",
      "metadata": {
        "id": "YrXa8bzno_t7"
      },
      "source": [
        "Dividimos el dataset de train en x_train e y_train (la primera tendra el texto y la segunda las labels).\n",
        "\n",
        "Adicionalmente no incluiremos la columna ID ya que no es necesaria para nuestro proposito de entrenamiento."
      ]
    },
    {
      "cell_type": "code",
      "source": [
        "def map_sentiment(ds, invert=False):\n",
        "  return ds.map({'negativo': 0, 'positivo': 1}) if not invert else ds.map({0: 'negativo', 1: 'positivo'})"
      ],
      "metadata": {
        "id": "bMrFAXkER-SR"
      },
      "execution_count": null,
      "outputs": []
    },
    {
      "cell_type": "code",
      "execution_count": null,
      "metadata": {
        "id": "T3Pz1qvoo_fM"
      },
      "outputs": [],
      "source": [
        "x_train_text_completo = ds_train[\"review_es\"]\n",
        "y_train_completo = map_sentiment(ds_train[\"sentimiento\"])"
      ]
    },
    {
      "cell_type": "code",
      "execution_count": null,
      "metadata": {
        "colab": {
          "base_uri": "https://localhost:8080/",
          "height": 424
        },
        "id": "1ZGZoNbcviQL",
        "outputId": "524fe29f-4c77-4a8c-fb4b-6aff0a10b03b"
      },
      "outputs": [
        {
          "output_type": "execute_result",
          "data": {
            "text/plain": [
              "         ID                                          review_es\n",
              "0     60000  La mayor virtud de esta película es su existen...\n",
              "1     60001  No soy un experto cinéfilo, pero pocas veces m...\n",
              "2     60002  Si no eres un incondicional del humor estilo T...\n",
              "3     60003  No sé qué está pasando, si la gente se deja ll...\n",
              "4     60004  Pero cuando amanece,y me quedo solo,siento en ...\n",
              "...     ...                                                ...\n",
              "8594  68594  Buena no, lo siguiente. Por fin un film serio ...\n",
              "8595  68595  Me esperaba mucho, pero que mucho, más.Guión m...\n",
              "8596  68596  De mal cuerpo como sensación al finalizar, de ...\n",
              "8597  68597  Los que han añadido comentarios os lo han dich...\n",
              "8598  68598  Fui a ver esta película de cine con entusiasmo...\n",
              "\n",
              "[8599 rows x 2 columns]"
            ],
            "text/html": [
              "\n",
              "  <div id=\"df-b842becb-8016-4e84-b57c-a4be38690f9b\" class=\"colab-df-container\">\n",
              "    <div>\n",
              "<style scoped>\n",
              "    .dataframe tbody tr th:only-of-type {\n",
              "        vertical-align: middle;\n",
              "    }\n",
              "\n",
              "    .dataframe tbody tr th {\n",
              "        vertical-align: top;\n",
              "    }\n",
              "\n",
              "    .dataframe thead th {\n",
              "        text-align: right;\n",
              "    }\n",
              "</style>\n",
              "<table border=\"1\" class=\"dataframe\">\n",
              "  <thead>\n",
              "    <tr style=\"text-align: right;\">\n",
              "      <th></th>\n",
              "      <th>ID</th>\n",
              "      <th>review_es</th>\n",
              "    </tr>\n",
              "  </thead>\n",
              "  <tbody>\n",
              "    <tr>\n",
              "      <th>0</th>\n",
              "      <td>60000</td>\n",
              "      <td>La mayor virtud de esta película es su existen...</td>\n",
              "    </tr>\n",
              "    <tr>\n",
              "      <th>1</th>\n",
              "      <td>60001</td>\n",
              "      <td>No soy un experto cinéfilo, pero pocas veces m...</td>\n",
              "    </tr>\n",
              "    <tr>\n",
              "      <th>2</th>\n",
              "      <td>60002</td>\n",
              "      <td>Si no eres un incondicional del humor estilo T...</td>\n",
              "    </tr>\n",
              "    <tr>\n",
              "      <th>3</th>\n",
              "      <td>60003</td>\n",
              "      <td>No sé qué está pasando, si la gente se deja ll...</td>\n",
              "    </tr>\n",
              "    <tr>\n",
              "      <th>4</th>\n",
              "      <td>60004</td>\n",
              "      <td>Pero cuando amanece,y me quedo solo,siento en ...</td>\n",
              "    </tr>\n",
              "    <tr>\n",
              "      <th>...</th>\n",
              "      <td>...</td>\n",
              "      <td>...</td>\n",
              "    </tr>\n",
              "    <tr>\n",
              "      <th>8594</th>\n",
              "      <td>68594</td>\n",
              "      <td>Buena no, lo siguiente. Por fin un film serio ...</td>\n",
              "    </tr>\n",
              "    <tr>\n",
              "      <th>8595</th>\n",
              "      <td>68595</td>\n",
              "      <td>Me esperaba mucho, pero que mucho, más.Guión m...</td>\n",
              "    </tr>\n",
              "    <tr>\n",
              "      <th>8596</th>\n",
              "      <td>68596</td>\n",
              "      <td>De mal cuerpo como sensación al finalizar, de ...</td>\n",
              "    </tr>\n",
              "    <tr>\n",
              "      <th>8597</th>\n",
              "      <td>68597</td>\n",
              "      <td>Los que han añadido comentarios os lo han dich...</td>\n",
              "    </tr>\n",
              "    <tr>\n",
              "      <th>8598</th>\n",
              "      <td>68598</td>\n",
              "      <td>Fui a ver esta película de cine con entusiasmo...</td>\n",
              "    </tr>\n",
              "  </tbody>\n",
              "</table>\n",
              "<p>8599 rows × 2 columns</p>\n",
              "</div>\n",
              "    <div class=\"colab-df-buttons\">\n",
              "\n",
              "  <div class=\"colab-df-container\">\n",
              "    <button class=\"colab-df-convert\" onclick=\"convertToInteractive('df-b842becb-8016-4e84-b57c-a4be38690f9b')\"\n",
              "            title=\"Convert this dataframe to an interactive table.\"\n",
              "            style=\"display:none;\">\n",
              "\n",
              "  <svg xmlns=\"http://www.w3.org/2000/svg\" height=\"24px\" viewBox=\"0 -960 960 960\">\n",
              "    <path d=\"M120-120v-720h720v720H120Zm60-500h600v-160H180v160Zm220 220h160v-160H400v160Zm0 220h160v-160H400v160ZM180-400h160v-160H180v160Zm440 0h160v-160H620v160ZM180-180h160v-160H180v160Zm440 0h160v-160H620v160Z\"/>\n",
              "  </svg>\n",
              "    </button>\n",
              "\n",
              "  <style>\n",
              "    .colab-df-container {\n",
              "      display:flex;\n",
              "      gap: 12px;\n",
              "    }\n",
              "\n",
              "    .colab-df-convert {\n",
              "      background-color: #E8F0FE;\n",
              "      border: none;\n",
              "      border-radius: 50%;\n",
              "      cursor: pointer;\n",
              "      display: none;\n",
              "      fill: #1967D2;\n",
              "      height: 32px;\n",
              "      padding: 0 0 0 0;\n",
              "      width: 32px;\n",
              "    }\n",
              "\n",
              "    .colab-df-convert:hover {\n",
              "      background-color: #E2EBFA;\n",
              "      box-shadow: 0px 1px 2px rgba(60, 64, 67, 0.3), 0px 1px 3px 1px rgba(60, 64, 67, 0.15);\n",
              "      fill: #174EA6;\n",
              "    }\n",
              "\n",
              "    .colab-df-buttons div {\n",
              "      margin-bottom: 4px;\n",
              "    }\n",
              "\n",
              "    [theme=dark] .colab-df-convert {\n",
              "      background-color: #3B4455;\n",
              "      fill: #D2E3FC;\n",
              "    }\n",
              "\n",
              "    [theme=dark] .colab-df-convert:hover {\n",
              "      background-color: #434B5C;\n",
              "      box-shadow: 0px 1px 3px 1px rgba(0, 0, 0, 0.15);\n",
              "      filter: drop-shadow(0px 1px 2px rgba(0, 0, 0, 0.3));\n",
              "      fill: #FFFFFF;\n",
              "    }\n",
              "  </style>\n",
              "\n",
              "    <script>\n",
              "      const buttonEl =\n",
              "        document.querySelector('#df-b842becb-8016-4e84-b57c-a4be38690f9b button.colab-df-convert');\n",
              "      buttonEl.style.display =\n",
              "        google.colab.kernel.accessAllowed ? 'block' : 'none';\n",
              "\n",
              "      async function convertToInteractive(key) {\n",
              "        const element = document.querySelector('#df-b842becb-8016-4e84-b57c-a4be38690f9b');\n",
              "        const dataTable =\n",
              "          await google.colab.kernel.invokeFunction('convertToInteractive',\n",
              "                                                    [key], {});\n",
              "        if (!dataTable) return;\n",
              "\n",
              "        const docLinkHtml = 'Like what you see? Visit the ' +\n",
              "          '<a target=\"_blank\" href=https://colab.research.google.com/notebooks/data_table.ipynb>data table notebook</a>'\n",
              "          + ' to learn more about interactive tables.';\n",
              "        element.innerHTML = '';\n",
              "        dataTable['output_type'] = 'display_data';\n",
              "        await google.colab.output.renderOutput(dataTable, element);\n",
              "        const docLink = document.createElement('div');\n",
              "        docLink.innerHTML = docLinkHtml;\n",
              "        element.appendChild(docLink);\n",
              "      }\n",
              "    </script>\n",
              "  </div>\n",
              "\n",
              "\n",
              "<div id=\"df-29f3a3ca-748d-4cf0-94ce-18517b21c6a2\">\n",
              "  <button class=\"colab-df-quickchart\" onclick=\"quickchart('df-29f3a3ca-748d-4cf0-94ce-18517b21c6a2')\"\n",
              "            title=\"Suggest charts\"\n",
              "            style=\"display:none;\">\n",
              "\n",
              "<svg xmlns=\"http://www.w3.org/2000/svg\" height=\"24px\"viewBox=\"0 0 24 24\"\n",
              "     width=\"24px\">\n",
              "    <g>\n",
              "        <path d=\"M19 3H5c-1.1 0-2 .9-2 2v14c0 1.1.9 2 2 2h14c1.1 0 2-.9 2-2V5c0-1.1-.9-2-2-2zM9 17H7v-7h2v7zm4 0h-2V7h2v10zm4 0h-2v-4h2v4z\"/>\n",
              "    </g>\n",
              "</svg>\n",
              "  </button>\n",
              "\n",
              "<style>\n",
              "  .colab-df-quickchart {\n",
              "      --bg-color: #E8F0FE;\n",
              "      --fill-color: #1967D2;\n",
              "      --hover-bg-color: #E2EBFA;\n",
              "      --hover-fill-color: #174EA6;\n",
              "      --disabled-fill-color: #AAA;\n",
              "      --disabled-bg-color: #DDD;\n",
              "  }\n",
              "\n",
              "  [theme=dark] .colab-df-quickchart {\n",
              "      --bg-color: #3B4455;\n",
              "      --fill-color: #D2E3FC;\n",
              "      --hover-bg-color: #434B5C;\n",
              "      --hover-fill-color: #FFFFFF;\n",
              "      --disabled-bg-color: #3B4455;\n",
              "      --disabled-fill-color: #666;\n",
              "  }\n",
              "\n",
              "  .colab-df-quickchart {\n",
              "    background-color: var(--bg-color);\n",
              "    border: none;\n",
              "    border-radius: 50%;\n",
              "    cursor: pointer;\n",
              "    display: none;\n",
              "    fill: var(--fill-color);\n",
              "    height: 32px;\n",
              "    padding: 0;\n",
              "    width: 32px;\n",
              "  }\n",
              "\n",
              "  .colab-df-quickchart:hover {\n",
              "    background-color: var(--hover-bg-color);\n",
              "    box-shadow: 0 1px 2px rgba(60, 64, 67, 0.3), 0 1px 3px 1px rgba(60, 64, 67, 0.15);\n",
              "    fill: var(--button-hover-fill-color);\n",
              "  }\n",
              "\n",
              "  .colab-df-quickchart-complete:disabled,\n",
              "  .colab-df-quickchart-complete:disabled:hover {\n",
              "    background-color: var(--disabled-bg-color);\n",
              "    fill: var(--disabled-fill-color);\n",
              "    box-shadow: none;\n",
              "  }\n",
              "\n",
              "  .colab-df-spinner {\n",
              "    border: 2px solid var(--fill-color);\n",
              "    border-color: transparent;\n",
              "    border-bottom-color: var(--fill-color);\n",
              "    animation:\n",
              "      spin 1s steps(1) infinite;\n",
              "  }\n",
              "\n",
              "  @keyframes spin {\n",
              "    0% {\n",
              "      border-color: transparent;\n",
              "      border-bottom-color: var(--fill-color);\n",
              "      border-left-color: var(--fill-color);\n",
              "    }\n",
              "    20% {\n",
              "      border-color: transparent;\n",
              "      border-left-color: var(--fill-color);\n",
              "      border-top-color: var(--fill-color);\n",
              "    }\n",
              "    30% {\n",
              "      border-color: transparent;\n",
              "      border-left-color: var(--fill-color);\n",
              "      border-top-color: var(--fill-color);\n",
              "      border-right-color: var(--fill-color);\n",
              "    }\n",
              "    40% {\n",
              "      border-color: transparent;\n",
              "      border-right-color: var(--fill-color);\n",
              "      border-top-color: var(--fill-color);\n",
              "    }\n",
              "    60% {\n",
              "      border-color: transparent;\n",
              "      border-right-color: var(--fill-color);\n",
              "    }\n",
              "    80% {\n",
              "      border-color: transparent;\n",
              "      border-right-color: var(--fill-color);\n",
              "      border-bottom-color: var(--fill-color);\n",
              "    }\n",
              "    90% {\n",
              "      border-color: transparent;\n",
              "      border-bottom-color: var(--fill-color);\n",
              "    }\n",
              "  }\n",
              "</style>\n",
              "\n",
              "  <script>\n",
              "    async function quickchart(key) {\n",
              "      const quickchartButtonEl =\n",
              "        document.querySelector('#' + key + ' button');\n",
              "      quickchartButtonEl.disabled = true;  // To prevent multiple clicks.\n",
              "      quickchartButtonEl.classList.add('colab-df-spinner');\n",
              "      try {\n",
              "        const charts = await google.colab.kernel.invokeFunction(\n",
              "            'suggestCharts', [key], {});\n",
              "      } catch (error) {\n",
              "        console.error('Error during call to suggestCharts:', error);\n",
              "      }\n",
              "      quickchartButtonEl.classList.remove('colab-df-spinner');\n",
              "      quickchartButtonEl.classList.add('colab-df-quickchart-complete');\n",
              "    }\n",
              "    (() => {\n",
              "      let quickchartButtonEl =\n",
              "        document.querySelector('#df-29f3a3ca-748d-4cf0-94ce-18517b21c6a2 button');\n",
              "      quickchartButtonEl.style.display =\n",
              "        google.colab.kernel.accessAllowed ? 'block' : 'none';\n",
              "    })();\n",
              "  </script>\n",
              "</div>\n",
              "\n",
              "  <div id=\"id_6005f267-b528-4a3f-95cf-5c8c58d2f733\">\n",
              "    <style>\n",
              "      .colab-df-generate {\n",
              "        background-color: #E8F0FE;\n",
              "        border: none;\n",
              "        border-radius: 50%;\n",
              "        cursor: pointer;\n",
              "        display: none;\n",
              "        fill: #1967D2;\n",
              "        height: 32px;\n",
              "        padding: 0 0 0 0;\n",
              "        width: 32px;\n",
              "      }\n",
              "\n",
              "      .colab-df-generate:hover {\n",
              "        background-color: #E2EBFA;\n",
              "        box-shadow: 0px 1px 2px rgba(60, 64, 67, 0.3), 0px 1px 3px 1px rgba(60, 64, 67, 0.15);\n",
              "        fill: #174EA6;\n",
              "      }\n",
              "\n",
              "      [theme=dark] .colab-df-generate {\n",
              "        background-color: #3B4455;\n",
              "        fill: #D2E3FC;\n",
              "      }\n",
              "\n",
              "      [theme=dark] .colab-df-generate:hover {\n",
              "        background-color: #434B5C;\n",
              "        box-shadow: 0px 1px 3px 1px rgba(0, 0, 0, 0.15);\n",
              "        filter: drop-shadow(0px 1px 2px rgba(0, 0, 0, 0.3));\n",
              "        fill: #FFFFFF;\n",
              "      }\n",
              "    </style>\n",
              "    <button class=\"colab-df-generate\" onclick=\"generateWithVariable('ds_test')\"\n",
              "            title=\"Generate code using this dataframe.\"\n",
              "            style=\"display:none;\">\n",
              "\n",
              "  <svg xmlns=\"http://www.w3.org/2000/svg\" height=\"24px\"viewBox=\"0 0 24 24\"\n",
              "       width=\"24px\">\n",
              "    <path d=\"M7,19H8.4L18.45,9,17,7.55,7,17.6ZM5,21V16.75L18.45,3.32a2,2,0,0,1,2.83,0l1.4,1.43a1.91,1.91,0,0,1,.58,1.4,1.91,1.91,0,0,1-.58,1.4L9.25,21ZM18.45,9,17,7.55Zm-12,3A5.31,5.31,0,0,0,4.9,8.1,5.31,5.31,0,0,0,1,6.5,5.31,5.31,0,0,0,4.9,4.9,5.31,5.31,0,0,0,6.5,1,5.31,5.31,0,0,0,8.1,4.9,5.31,5.31,0,0,0,12,6.5,5.46,5.46,0,0,0,6.5,12Z\"/>\n",
              "  </svg>\n",
              "    </button>\n",
              "    <script>\n",
              "      (() => {\n",
              "      const buttonEl =\n",
              "        document.querySelector('#id_6005f267-b528-4a3f-95cf-5c8c58d2f733 button.colab-df-generate');\n",
              "      buttonEl.style.display =\n",
              "        google.colab.kernel.accessAllowed ? 'block' : 'none';\n",
              "\n",
              "      buttonEl.onclick = () => {\n",
              "        google.colab.notebook.generateWithVariable('ds_test');\n",
              "      }\n",
              "      })();\n",
              "    </script>\n",
              "  </div>\n",
              "\n",
              "    </div>\n",
              "  </div>\n"
            ],
            "application/vnd.google.colaboratory.intrinsic+json": {
              "type": "dataframe",
              "variable_name": "ds_test",
              "summary": "{\n  \"name\": \"ds_test\",\n  \"rows\": 8599,\n  \"fields\": [\n    {\n      \"column\": \"ID\",\n      \"properties\": {\n        \"dtype\": \"number\",\n        \"std\": 2482,\n        \"min\": 60000,\n        \"max\": 68598,\n        \"num_unique_values\": 8599,\n        \"samples\": [\n          62499,\n          66723,\n          63944\n        ],\n        \"semantic_type\": \"\",\n        \"description\": \"\"\n      }\n    },\n    {\n      \"column\": \"review_es\",\n      \"properties\": {\n        \"dtype\": \"string\",\n        \"num_unique_values\": 8599,\n        \"samples\": [\n          \"Amenabar acert\\u00f3 de pleno con esta emotiva y dram\\u00e1tica historia. Como siempre en sus pel\\u00edculas, gran fotograf\\u00eda y banda sonora. Brillante Bardem y muy buenos secundarios. Totalmente recomendable, a no ser que s\\u00f3lo te guste el cine de acci\\u00f3n, si es as\\u00ed olv\\u00eddate.\",\n          \"Una de las obras espa\\u00f1olas m\\u00e1s exitosas del siglo XXI se trata en realidad de un coproducci\\u00f3n con Estados Unidos y M\\u00e9xico, de forma muy similar a Los Otros pero en esta ocasi\\u00f3n con actores nacionales. El resultado de esta producci\\u00f3n es el de una historia interesante, magn\\u00edficamente ambientada pero que flojea a partir de su mitad. El contraste entre la crueldad y la inhumanidad en la posguerra (aparcando debates pol\\u00edticos sobre su enfoque) y el mundo de fantas\\u00eda que s\\u00f3lo es capaz de ver la ni\\u00f1a resulta art\\u00edsticamente muy atractivo y diferente a lo que el cine espa\\u00f1ol nos tiene acostumbrados, pero el gui\\u00f3n resulta simple y pierde ritmo en su desarrollo.Sin embargo, las limitaciones argumentales son superadas por unas destacables interpretaciones de sus personajes. En especial de Sergi L\\u00f3pez, encarnando a un capit\\u00e1n despiadado, incapaz de sentir amor y obsesionado con eliminar a los que cree sus enemigos. Tambi\\u00e9n es digno de mencionar el trabajo siempre efectivo de Maribel Verd\\u00fa y las sorpresas de Doug Jones en el papel del fauno y la por aqu\\u00e9l entonces peque\\u00f1a Ivana Baquero, que ejecuta probablemente el mejor papel de su carrera hasta la fecha de la presente cr\\u00edtica.Sorprendentemente, la pel\\u00edcula se llev\\u00f3... \\u00a1tres Oscars! Y candidata para otros tres. Parece claro que para volver a triunfar en la gala de oro del cine hay que introducir recursos que admiren los americanos y adem\\u00e1s juntarnos con ellos.\",\n          \"Creo que se sobrevalora esta cinta, si bien es justo decir que la producci\\u00f3n es notable y un Luis Tosar no decepciona pero pienso que la trama empieza demasiado r\\u00e1pido no le da tiempo al espectador a hacerse con los personajes, los secundarios est\\u00e1n como fuera de lugar, alguno de ellos no veo que sean demasiado relevantes para la trama, est\\u00e1n como de paso, parece ser que los personajes principales arrastren el argumento,  creo que se ha desperdiciado un argumento muy original y se ha quedado en un intento bastante flojo.\"\n        ],\n        \"semantic_type\": \"\",\n        \"description\": \"\"\n      }\n    }\n  ]\n}"
            }
          },
          "metadata": {},
          "execution_count": 13
        }
      ],
      "source": [
        "ds_test"
      ]
    },
    {
      "cell_type": "markdown",
      "metadata": {
        "id": "IGXF2ESLqFR2"
      },
      "source": [
        "Creamos el dataset de x_test sin incluir el id"
      ]
    },
    {
      "cell_type": "code",
      "execution_count": null,
      "metadata": {
        "id": "EWVFwP9JqK-6"
      },
      "outputs": [],
      "source": [
        "x_test_text = ds_test[\"review_es\"]"
      ]
    },
    {
      "cell_type": "markdown",
      "metadata": {
        "id": "cCvNYz6zpT9S"
      },
      "source": [
        "# Preprocesamiento"
      ]
    },
    {
      "cell_type": "markdown",
      "metadata": {
        "id": "J3IUR3SjQ_ep"
      },
      "source": [
        "## Division de train y validation\n",
        "\n",
        "Dividimos el training set en training y validating sets"
      ]
    },
    {
      "cell_type": "code",
      "execution_count": null,
      "metadata": {
        "id": "1EUYD4uWo0sU"
      },
      "outputs": [],
      "source": [
        "x_train_text, x_validation_text, y_train, y_validation = train_test_split(\n",
        "    ds_train['review_es'], ds_train[\"sentimiento\"],\n",
        "    stratify=ds_train[\"sentimiento\"],\n",
        "    test_size=0.20,\n",
        "    random_state=RAND_SEED\n",
        "    )"
      ]
    },
    {
      "cell_type": "code",
      "source": [
        "y_train = map_sentiment(y_train)"
      ],
      "metadata": {
        "id": "uia5ARJraTJ_"
      },
      "execution_count": null,
      "outputs": []
    },
    {
      "cell_type": "markdown",
      "metadata": {
        "id": "p3QxP7yhoWcS"
      },
      "source": [
        "## Normalizacion"
      ]
    },
    {
      "cell_type": "markdown",
      "metadata": {
        "id": "FFvyjNm7QOZR"
      },
      "source": [
        "### Tokenizacion"
      ]
    },
    {
      "cell_type": "code",
      "execution_count": null,
      "metadata": {
        "id": "ldHkUQ_JoVs-"
      },
      "outputs": [],
      "source": [
        "def clean_text(text):\n",
        "  return text.strip()"
      ]
    },
    {
      "cell_type": "code",
      "execution_count": null,
      "metadata": {
        "colab": {
          "base_uri": "https://localhost:8080/"
        },
        "id": "H77tYj-hofDr",
        "outputId": "41881ff3-c7eb-43c6-ed86-5c7ef5320e87"
      },
      "outputs": [
        {
          "output_type": "execute_result",
          "data": {
            "text/plain": [
              "['El',\n",
              " 'mal',\n",
              " 'que',\n",
              " 'hacen',\n",
              " 'los',\n",
              " 'hombres',\n",
              " 'comienza',\n",
              " 'con',\n",
              " 'una',\n",
              " 'escena']"
            ]
          },
          "metadata": {},
          "execution_count": 18
        }
      ],
      "source": [
        "def tokenizer(text):\n",
        "  return [w for w in word_tokenize(text) if w.isalpha()]\n",
        "\n",
        "tokenizer(clean_text(x_train_text.iloc[1]))[:10]"
      ]
    },
    {
      "cell_type": "markdown",
      "metadata": {
        "id": "5Fi074MHohjS"
      },
      "source": [
        "Defino un stop list de palabras en español"
      ]
    },
    {
      "cell_type": "code",
      "execution_count": null,
      "metadata": {
        "colab": {
          "base_uri": "https://localhost:8080/"
        },
        "id": "UzeKYZpvolnz",
        "outputId": "bab890df-1b8b-4ecb-f8f0-e5a9c662e09c"
      },
      "outputs": [
        {
          "output_type": "execute_result",
          "data": {
            "text/plain": [
              "['de',\n",
              " 'la',\n",
              " 'que',\n",
              " 'el',\n",
              " 'en',\n",
              " 'y',\n",
              " 'a',\n",
              " 'los',\n",
              " 'del',\n",
              " 'se',\n",
              " 'las',\n",
              " 'por',\n",
              " 'un',\n",
              " 'para',\n",
              " 'con']"
            ]
          },
          "metadata": {},
          "execution_count": 19
        }
      ],
      "source": [
        "stoplist = stopwords.words(\"spanish\")\n",
        "stoplist[:15]"
      ]
    },
    {
      "cell_type": "markdown",
      "metadata": {
        "id": "aBecHNdbreQF"
      },
      "source": [
        "Tokenizamos las stopwords con el mismo tokenizador que utilizamos en el corpus"
      ]
    },
    {
      "cell_type": "code",
      "execution_count": null,
      "metadata": {
        "id": "Ai9c1A83rZCs"
      },
      "outputs": [],
      "source": [
        "stoplist_tokenized = []\n",
        "\n",
        "for w in stoplist:\n",
        "    stoplist_tokenized = stoplist_tokenized + tokenizer(w)\n",
        "\n",
        "stoplist_tokenized = list(set(stoplist_tokenized)) # sin repedidos"
      ]
    },
    {
      "cell_type": "markdown",
      "metadata": {
        "id": "DHwbnsuBQQ8X"
      },
      "source": [
        "### Stem - Lematizacion"
      ]
    },
    {
      "cell_type": "markdown",
      "metadata": {
        "id": "slorXOv3vwNP"
      },
      "source": [
        "Visualizamos qué tipo de palabras tenemos en train"
      ]
    },
    {
      "cell_type": "code",
      "execution_count": null,
      "metadata": {
        "colab": {
          "base_uri": "https://localhost:8080/"
        },
        "id": "FkIZ5cSnv2gG",
        "outputId": "999e9a3b-d2e7-471e-ddbf-a76982b98e2c"
      },
      "outputs": [
        {
          "output_type": "execute_result",
          "data": {
            "text/plain": [
              "[('``', '``'),\n",
              " ('El', 'NNP'),\n",
              " ('mal', 'JJ'),\n",
              " ('que', 'NN'),\n",
              " ('hacen', 'NN'),\n",
              " ('los', 'NN'),\n",
              " ('hombres', 'NNS'),\n",
              " (\"''\", \"''\"),\n",
              " ('comienza', 'VBP'),\n",
              " ('con', 'JJ')]"
            ]
          },
          "metadata": {},
          "execution_count": 21
        }
      ],
      "source": [
        "postags = pos_tag(word_tokenize(clean_text(x_train_text.iloc[1])))\n",
        "postags[:10]"
      ]
    },
    {
      "cell_type": "markdown",
      "metadata": {
        "id": "7hlLs7Hgv7RW"
      },
      "source": [
        "Podemos ver que nos encontramos con palabras como adverbios, verbos, preposiciones, adjetivos, pronombres, sustantivos, etc."
      ]
    },
    {
      "cell_type": "markdown",
      "metadata": {
        "id": "Pw0G01XPAb-J"
      },
      "source": [
        "Instanciamos un lemmatizador"
      ]
    },
    {
      "cell_type": "code",
      "execution_count": null,
      "metadata": {
        "id": "rJTkhcyyAbP-"
      },
      "outputs": [],
      "source": [
        "wnl = WordNetLemmatizer()"
      ]
    },
    {
      "cell_type": "markdown",
      "metadata": {
        "id": "GuWpA1-2wAhc"
      },
      "source": [
        "Generamos la función de lematización por pos\n",
        "\n"
      ]
    },
    {
      "cell_type": "code",
      "execution_count": null,
      "metadata": {
        "id": "Ce2P-TyEv_64"
      },
      "outputs": [],
      "source": [
        "def word_pos_to_lemma(word, pos, wnl):\n",
        "    if pos.startswith('J'):\n",
        "        return wnl.lemmatize(word,wordnet.ADJ) # adjetivo\n",
        "    elif pos.startswith('V'):\n",
        "        return wnl.lemmatize(word,wordnet.VERB) # vervo\n",
        "    elif pos.startswith('N'):\n",
        "        return wnl.lemmatize(word,wordnet.NOUN)# sustantivo\n",
        "    elif pos.startswith('R'):\n",
        "        return wnl.lemmatize(word,wordnet.ADV) # advervio\n",
        "    else:\n",
        "        return wnl.lemmatize(word)"
      ]
    },
    {
      "cell_type": "code",
      "execution_count": null,
      "metadata": {
        "colab": {
          "base_uri": "https://localhost:8080/"
        },
        "id": "YAWLvjHmwDbV",
        "outputId": "627cb702-06d9-4f89-c6dd-f64790bd9d91"
      },
      "outputs": [
        {
          "output_type": "execute_result",
          "data": {
            "text/plain": [
              "[('El', 'El'),\n",
              " ('mal', 'mal'),\n",
              " ('que', 'que'),\n",
              " ('hacen', 'hacen'),\n",
              " ('los', 'los'),\n",
              " ('hombres', 'hombre'),\n",
              " ('comienza', 'comienza'),\n",
              " ('con', 'con'),\n",
              " ('una', 'una'),\n",
              " ('escena', 'escena')]"
            ]
          },
          "metadata": {},
          "execution_count": 24
        }
      ],
      "source": [
        "lemmatized_words = [(w, word_pos_to_lemma(w, pos, wnl)) for w, pos in postags if w.isalpha()]\n",
        "lemmatized_words[:10]"
      ]
    },
    {
      "cell_type": "code",
      "execution_count": null,
      "metadata": {
        "colab": {
          "base_uri": "https://localhost:8080/"
        },
        "id": "B0cCIAacwG9T",
        "outputId": "b48e33a9-6dc6-469c-b926-806d3195dc9b"
      },
      "outputs": [
        {
          "output_type": "execute_result",
          "data": {
            "text/plain": [
              "[(('El', 'El'), 1),\n",
              " (('mal', 'mal'), 1),\n",
              " (('que', 'que'), 3),\n",
              " (('hacen', 'hacen'), 1),\n",
              " (('los', 'los'), 2),\n",
              " (('hombres', 'hombre'), 1),\n",
              " (('comienza', 'comienza'), 1),\n",
              " (('con', 'con'), 1),\n",
              " (('una', 'una'), 1),\n",
              " (('escena', 'escena'), 1)]"
            ]
          },
          "metadata": {},
          "execution_count": 25
        }
      ],
      "source": [
        "# Usar Counter para contar las repeticiones de cada tupla\n",
        "lemmatized_counter = Counter(lemmatized_words)\n",
        "\n",
        "# Imprimir los resultados\n",
        "list(lemmatized_counter.items())[:10]"
      ]
    },
    {
      "cell_type": "markdown",
      "metadata": {
        "id": "5NkN1dWuwNLV"
      },
      "source": [
        "Podemos ver que las lematizaciones se aplican más de una vez"
      ]
    },
    {
      "cell_type": "code",
      "execution_count": null,
      "metadata": {
        "id": "epzc22BowLaM"
      },
      "outputs": [],
      "source": [
        "def lemmatize_text(text):\n",
        "    lemmatizer = WordNetLemmatizer()\n",
        "    words = word_tokenize(text)\n",
        "    lemmatized_words = [lemmatizer.lemmatize(word) for word in words if word.isalpha()]\n",
        "    return lemmatized_words"
      ]
    },
    {
      "cell_type": "code",
      "execution_count": null,
      "metadata": {
        "colab": {
          "base_uri": "https://localhost:8080/"
        },
        "id": "DojmiyyzwQGu",
        "outputId": "034b57e5-c93e-4248-92d6-7251ba4bdf59"
      },
      "outputs": [
        {
          "output_type": "execute_result",
          "data": {
            "text/plain": [
              "['El',\n",
              " 'mal',\n",
              " 'que',\n",
              " 'hacen',\n",
              " 'los',\n",
              " 'hombre',\n",
              " 'comienza',\n",
              " 'con',\n",
              " 'una',\n",
              " 'escena']"
            ]
          },
          "metadata": {},
          "execution_count": 27
        }
      ],
      "source": [
        "lemmatize_text(clean_text(x_train_text.iloc[1]))[:10]"
      ]
    },
    {
      "cell_type": "markdown",
      "metadata": {
        "id": "zd9swgrXpl5r"
      },
      "source": [
        "## Vectorizacion"
      ]
    },
    {
      "cell_type": "markdown",
      "metadata": {
        "id": "mQSwdSfeprwe"
      },
      "source": [
        "### Bag of words"
      ]
    },
    {
      "cell_type": "markdown",
      "metadata": {
        "id": "QJdXIdhwp1YF"
      },
      "source": [
        "Con tokenizacion sin lemmas"
      ]
    },
    {
      "cell_type": "code",
      "execution_count": null,
      "metadata": {
        "colab": {
          "base_uri": "https://localhost:8080/"
        },
        "id": "p067t0_8p0HH",
        "outputId": "b53eb3c8-8515-400f-ecbb-e46d6d6e53da"
      },
      "outputs": [
        {
          "output_type": "execute_result",
          "data": {
            "text/plain": [
              "<38454x40858 sparse matrix of type '<class 'numpy.int64'>'\n",
              "\twith 3675325 stored elements in Compressed Sparse Row format>"
            ]
          },
          "metadata": {},
          "execution_count": 28
        }
      ],
      "source": [
        "count_vect = CountVectorizer(preprocessor=clean_text,\n",
        "                             tokenizer=tokenizer,\n",
        "                             min_df=5,\n",
        "                             stop_words=stoplist_tokenized)\n",
        "x_train_bow_tok = count_vect.fit_transform(x_train_text) # cuenta frecuencia de tokens y define el diccionario\n",
        "x_validation_bow_tok = count_vect.transform(x_validation_text) # cuenta frecuencia de tokens existentes en el diccionario\n",
        "x_train_bow_tok"
      ]
    },
    {
      "cell_type": "markdown",
      "metadata": {
        "id": "WmUxNdi5p9kS"
      },
      "source": [
        "Con tokenizacion con lemmas"
      ]
    },
    {
      "cell_type": "code",
      "execution_count": null,
      "metadata": {
        "colab": {
          "base_uri": "https://localhost:8080/"
        },
        "id": "64Uiu6iQqGhv",
        "outputId": "a68c34e9-43d5-43da-c97a-02197f9a3735"
      },
      "outputs": [
        {
          "output_type": "execute_result",
          "data": {
            "text/plain": [
              "<38454x40835 sparse matrix of type '<class 'numpy.int64'>'\n",
              "\twith 4978796 stored elements in Compressed Sparse Row format>"
            ]
          },
          "metadata": {},
          "execution_count": 29
        }
      ],
      "source": [
        "count_vect = CountVectorizer(preprocessor=clean_text,\n",
        "                             tokenizer=lemmatize_text,\n",
        "                             min_df=5,\n",
        "                             stop_words=lemmatized_words)\n",
        "x_train_bow_lemma = count_vect.fit_transform(x_train_text) # cuenta frecuencia de tokens y define el diccionario\n",
        "x_validation_bow_lemma = count_vect.transform(x_validation_text) # cuenta frecuencia de tokens existentes en el diccionario\n",
        "x_train_bow_lemma"
      ]
    },
    {
      "cell_type": "markdown",
      "metadata": {
        "id": "hGhVmwlPp-EO"
      },
      "source": [
        "### N-gramas"
      ]
    },
    {
      "cell_type": "markdown",
      "metadata": {
        "id": "3JpyD5VLqMp-"
      },
      "source": [
        "Con tokenizacion sin lemmas"
      ]
    },
    {
      "cell_type": "code",
      "execution_count": null,
      "metadata": {
        "colab": {
          "base_uri": "https://localhost:8080/"
        },
        "id": "I_VRagvvqNLR",
        "outputId": "20949af0-c865-405a-ee11-722d631b1f92"
      },
      "outputs": [
        {
          "output_type": "execute_result",
          "data": {
            "text/plain": [
              "<38454x129919 sparse matrix of type '<class 'numpy.int64'>'\n",
              "\twith 5046675 stored elements in Compressed Sparse Row format>"
            ]
          },
          "metadata": {},
          "execution_count": 30
        }
      ],
      "source": [
        "count_vect = CountVectorizer(preprocessor=clean_text,\n",
        "                             tokenizer=tokenizer,\n",
        "                             min_df=5,\n",
        "                             stop_words=stoplist_tokenized,\n",
        "                             ngram_range=(1,2))\n",
        "x_train_ngram_tok = count_vect.fit_transform(x_train_text) # cuenta frecuencia de tokens y define el diccionario\n",
        "x_validation_ngram_tok = count_vect.transform(x_validation_text) # cuenta frecuencia de tokens existentes en el diccionario\n",
        "x_train_ngram_tok"
      ]
    },
    {
      "cell_type": "markdown",
      "metadata": {
        "id": "Ff9kzqcgqUCT"
      },
      "source": [
        "Con tokenizacion con lemmas"
      ]
    },
    {
      "cell_type": "code",
      "execution_count": null,
      "metadata": {
        "colab": {
          "base_uri": "https://localhost:8080/"
        },
        "id": "-lCLo98jqUZN",
        "outputId": "afc33900-2350-4c90-9354-fa52cab008e1"
      },
      "outputs": [
        {
          "output_type": "execute_result",
          "data": {
            "text/plain": [
              "<38454x208600 sparse matrix of type '<class 'numpy.int64'>'\n",
              "\twith 10776611 stored elements in Compressed Sparse Row format>"
            ]
          },
          "metadata": {},
          "execution_count": 31
        }
      ],
      "source": [
        "count_vect = CountVectorizer(preprocessor=clean_text,\n",
        "                             tokenizer=lemmatize_text,\n",
        "                             min_df=5,\n",
        "                             stop_words=lemmatized_words,\n",
        "                             ngram_range=(1,2))\n",
        "x_train_ngram_lemma = count_vect.fit_transform(x_train_text) # cuenta frecuencia de tokens y define el diccionario\n",
        "x_validation_ngram_lemma = count_vect.transform(x_validation_text) # cuenta frecuencia de tokens existentes en el diccionario\n",
        "x_train_ngram_lemma"
      ]
    },
    {
      "cell_type": "markdown",
      "metadata": {
        "id": "k0pO62VZp_ig"
      },
      "source": [
        "### TF-IDF"
      ]
    },
    {
      "cell_type": "markdown",
      "metadata": {
        "id": "gYe-ZNjBqbGj"
      },
      "source": [
        "Con tokenizacion sin lemmas"
      ]
    },
    {
      "cell_type": "code",
      "execution_count": null,
      "metadata": {
        "colab": {
          "base_uri": "https://localhost:8080/"
        },
        "id": "y42CUXshqbd5",
        "outputId": "517c44fc-56df-4cc8-80ee-4b4433011ffd"
      },
      "outputs": [
        {
          "output_type": "execute_result",
          "data": {
            "text/plain": [
              "<38454x40858 sparse matrix of type '<class 'numpy.float64'>'\n",
              "\twith 3675325 stored elements in Compressed Sparse Row format>"
            ]
          },
          "metadata": {},
          "execution_count": 32
        }
      ],
      "source": [
        "tfidf_vect = TfidfVectorizer(\n",
        "    preprocessor=clean_text,\n",
        "    tokenizer=tokenizer,\n",
        "    min_df=5,\n",
        "    stop_words=stoplist_tokenized\n",
        ")\n",
        "x_train_tfidf_tok = tfidf_vect.fit_transform(x_train_text) # cuenta frecuencia de tokens y define el diccionario\n",
        "x_validation_tfidf_tok = tfidf_vect.transform(x_validation_text) # cuenta frecuencia de tokens existentes en el diccionario\n",
        "x_train_tfidf_tok"
      ]
    },
    {
      "cell_type": "markdown",
      "metadata": {
        "id": "8Au-_UudqkDa"
      },
      "source": [
        "Con tokenizacion con lemmas"
      ]
    },
    {
      "cell_type": "code",
      "execution_count": null,
      "metadata": {
        "id": "COH2xIjXqmKw",
        "colab": {
          "base_uri": "https://localhost:8080/"
        },
        "outputId": "1f8079ad-77e1-4b88-c7a5-c167226875e3"
      },
      "outputs": [
        {
          "output_type": "execute_result",
          "data": {
            "text/plain": [
              "<38454x40835 sparse matrix of type '<class 'numpy.float64'>'\n",
              "\twith 4978796 stored elements in Compressed Sparse Row format>"
            ]
          },
          "metadata": {},
          "execution_count": 33
        }
      ],
      "source": [
        "tfidf_vect = TfidfVectorizer(\n",
        "    preprocessor=clean_text,\n",
        "    tokenizer=lemmatize_text,\n",
        "    min_df=5,\n",
        "    stop_words=lemmatized_words\n",
        ")\n",
        "x_train_tfidf_lemma = tfidf_vect.fit_transform(x_train_text)\n",
        "x_validation_tfidf_lemma = tfidf_vect.transform(x_validation_text)\n",
        "x_train_tfidf_lemma"
      ]
    },
    {
      "cell_type": "markdown",
      "metadata": {
        "id": "PdlbIp4EBQVM"
      },
      "source": [
        "### Utils\n",
        "\n",
        "Creacion de algunas funciones de utilidad"
      ]
    },
    {
      "cell_type": "code",
      "execution_count": null,
      "metadata": {
        "id": "1w58Vv8VBWlt"
      },
      "outputs": [],
      "source": [
        "def plot_confussion_matrix(true, pred):\n",
        "  #Creo matriz de confusión\n",
        "  tabla = confusion_matrix(true, pred)\n",
        "\n",
        "  #Grafico matriz de confusión\n",
        "  sns.heatmap(tabla, cmap='Blues',annot=True,fmt='g')\n",
        "  plt.xlabel('Predicciones')\n",
        "  plt.ylabel('Verdaderos')\n",
        "\n",
        "  #Reporte\n",
        "  print(classification_report(true, pred))"
      ]
    },
    {
      "cell_type": "code",
      "execution_count": null,
      "metadata": {
        "id": "IJd51iWFDGZ1"
      },
      "outputs": [],
      "source": [
        "def build_results(pred):\n",
        "  res = ds_test.copy()\n",
        "  res.drop(columns=[\"review_es\"], inplace=True)\n",
        "  res['sentimiento'] = pred\n",
        "  return res"
      ]
    },
    {
      "cell_type": "code",
      "execution_count": null,
      "metadata": {
        "id": "tciD9NNPDm-C"
      },
      "outputs": [],
      "source": [
        "def print_positive_negatives(sentimientos):\n",
        "  total_positives = (sentimientos == \"positivo\").sum()\n",
        "  total_negatives = (sentimientos == \"negativo\").sum()\n",
        "  print(f\"Positives: {total_positives}\\nNegatives: {total_negatives}\")"
      ]
    },
    {
      "cell_type": "markdown",
      "metadata": {
        "id": "KROkIAauFBYJ"
      },
      "source": [
        "# XGBoost"
      ]
    },
    {
      "cell_type": "markdown",
      "metadata": {
        "id": "E2gZUxZRHXCw"
      },
      "source": [
        "## Modelos"
      ]
    },
    {
      "cell_type": "markdown",
      "metadata": {
        "id": "cv9ELKDW9p-z"
      },
      "source": [
        "### Construcción"
      ]
    },
    {
      "cell_type": "markdown",
      "metadata": {
        "id": "U9xj9CVs-75u"
      },
      "source": [
        "Encodeamos para poder usar el modelo."
      ]
    },
    {
      "cell_type": "markdown",
      "metadata": {
        "id": "nU9bdeYQ_Gcg"
      },
      "source": [
        "Buscamos los mejores hiperparámetros con Cross-Validation."
      ]
    },
    {
      "cell_type": "code",
      "execution_count": null,
      "metadata": {
        "id": "oJLy1nZsm2N4"
      },
      "outputs": [],
      "source": [
        "kfoldcv = StratifiedKFold(n_splits=5, shuffle=True, random_state=RAND_SEED)\n",
        "scorer_fn = make_scorer(f1_score, average='macro')\n",
        "n = 10\n",
        "xgb_model = XGBClassifier(random_state=RAND_SEED)\n",
        "\n",
        "params_grid = {\n",
        "    \"n_estimators\": list(range(10,100,10)),\n",
        "    \"learning_rate\": np.linspace(0.05, 0.5, 50),\n",
        "    \"max_depth\": list(range(2,10)),\n",
        "    \"subsample\": np.linspace(0.5, 1, 20),\n",
        "    'gamma': [0,1,2],\n",
        "    'lambda': [0,1,2],\n",
        "    'alpha' : [0,1,2],\n",
        "}"
      ]
    },
    {
      "cell_type": "code",
      "execution_count": null,
      "metadata": {
        "id": "rwUSLPFk-31n"
      },
      "outputs": [],
      "source": [
        "rs = RandomizedSearchCV(xgb_model, params_grid, scoring=scorer_fn, cv=kfoldcv, n_iter=n, random_state=RAND_SEED)\n",
        "rs_fit = rs.fit(x_train_ngram_tok, y_train) # entrenamiento para n_gram tokenizado\n",
        "best_score = rs_fit.best_score_"
      ]
    },
    {
      "cell_type": "markdown",
      "metadata": {
        "id": "51aPVCwoDtzO"
      },
      "source": [
        "Vemos los mejore hiperparametros seleccionados"
      ]
    },
    {
      "cell_type": "code",
      "execution_count": null,
      "metadata": {
        "colab": {
          "base_uri": "https://localhost:8080/"
        },
        "id": "7LFgVjqDDVba",
        "outputId": "4becfaf1-f840-4711-c25b-04c2b28c4b49"
      },
      "outputs": [
        {
          "output_type": "execute_result",
          "data": {
            "text/plain": [
              "{'subsample': 0.8157894736842105,\n",
              " 'n_estimators': 90,\n",
              " 'max_depth': 6,\n",
              " 'learning_rate': 0.42653061224489797,\n",
              " 'lambda': 1,\n",
              " 'gamma': 0,\n",
              " 'alpha': 0}"
            ]
          },
          "metadata": {},
          "execution_count": 141
        }
      ],
      "source": [
        "params_elegidos=rs_fit.cv_results_['params'][np.argmax(rs_fit.cv_results_['mean_test_score'])]\n",
        "params_elegidos"
      ]
    },
    {
      "cell_type": "markdown",
      "metadata": {
        "id": "1HUNn5thCDei"
      },
      "source": [
        "Creacion de modelo"
      ]
    },
    {
      "cell_type": "code",
      "execution_count": null,
      "metadata": {
        "id": "IHcYtLGn-WDH"
      },
      "outputs": [],
      "source": [
        "def xgboost_con_hiper(x_train, x_validation):\n",
        "  best_xgb_model = XGBClassifier(\n",
        "    random_state=RAND_SEED,\n",
        "    n_estimators = params_elegidos['n_estimators'],\n",
        "    learning_rate = params_elegidos['learning_rate'],\n",
        "    max_depth = params_elegidos['max_depth'],\n",
        "    subsample = params_elegidos['subsample'],\n",
        "    gamma = params_elegidos['gamma'],\n",
        "    reg_lambda = params_elegidos['lambda'],\n",
        "    reg_alpha = params_elegidos['alpha'],\n",
        "    )\n",
        "\n",
        "  best_xgb_model.fit(X=x_train, y=y_train)\n",
        "  y_pred = best_xgb_model.predict(x_validation)\n",
        "  return y_pred"
      ]
    },
    {
      "cell_type": "code",
      "execution_count": null,
      "metadata": {
        "id": "93jY3Ko1rrzy"
      },
      "outputs": [],
      "source": [
        "def xgboost_default(x_train, x_validation):\n",
        " xgb_model = TfidfVectorizer()\n",
        " xgb_model = XGBClassifier(\n",
        "    random_state=0,\n",
        "    n_estimators=100\n",
        "    )\n",
        " xgb_model.fit(X=x_train, y=y_train)\n",
        " y_pred = xgb_model.predict(x_validation)\n",
        " return y_pred"
      ]
    },
    {
      "cell_type": "markdown",
      "metadata": {
        "id": "q8qHYi23BYLe"
      },
      "source": [
        "### Métricas"
      ]
    },
    {
      "cell_type": "markdown",
      "metadata": {
        "id": "LWPXWHHgy10F"
      },
      "source": [
        "En primer lugar, probamos XGBoost sin buscar los mejores hiperparámetros, con el dataset seleccionado como el mejor en la sección anterior."
      ]
    },
    {
      "cell_type": "code",
      "execution_count": null,
      "metadata": {
        "colab": {
          "base_uri": "https://localhost:8080/",
          "height": 615
        },
        "id": "_2VtprDayDa3",
        "outputId": "2c75947e-6bc7-42bc-a7e5-7db40cf350f3"
      },
      "outputs": [
        {
          "output_type": "stream",
          "name": "stdout",
          "text": [
            "              precision    recall  f1-score   support\n",
            "\n",
            "    negativo       0.86      0.82      0.84      4817\n",
            "    positivo       0.83      0.87      0.85      4797\n",
            "\n",
            "    accuracy                           0.84      9614\n",
            "   macro avg       0.85      0.84      0.84      9614\n",
            "weighted avg       0.85      0.84      0.84      9614\n",
            "\n"
          ]
        },
        {
          "output_type": "display_data",
          "data": {
            "text/plain": [
              "<Figure size 640x480 with 2 Axes>"
            ],
            "image/png": "[encoded data removed]"
          },
          "metadata": {}
        }
      ],
      "source": [
        "y_pred = xgboost_default(x_train_ngram_tok, x_validation_ngram_tok)\n",
        "y_pred = map_sentiment(pd.Series(y_pred), invert=True)\n",
        "\n",
        "# Matriz de confusión\n",
        "plot_confussion_matrix(y_validation, y_pred)"
      ]
    },
    {
      "cell_type": "markdown",
      "metadata": {
        "id": "8I0H4vX7EjXn"
      },
      "source": [
        "Vemos como se desempeña en el validation set"
      ]
    },
    {
      "cell_type": "code",
      "execution_count": null,
      "metadata": {
        "id": "rLfGz3L4VJTi"
      },
      "outputs": [],
      "source": [
        "y_pred = xgboost_con_hiper(x_train_ngram_tok, x_validation_ngram_tok)"
      ]
    },
    {
      "cell_type": "code",
      "execution_count": null,
      "metadata": {
        "colab": {
          "base_uri": "https://localhost:8080/",
          "height": 615
        },
        "id": "PPMjocrs-NlB",
        "outputId": "81487310-1fd7-4bef-b14e-29515980c57b"
      },
      "outputs": [
        {
          "output_type": "stream",
          "name": "stdout",
          "text": [
            "              precision    recall  f1-score   support\n",
            "\n",
            "    negativo       0.84      0.81      0.82      4817\n",
            "    positivo       0.81      0.85      0.83      4797\n",
            "\n",
            "    accuracy                           0.83      9614\n",
            "   macro avg       0.83      0.83      0.83      9614\n",
            "weighted avg       0.83      0.83      0.83      9614\n",
            "\n"
          ]
        },
        {
          "output_type": "display_data",
          "data": {
            "text/plain": [
              "<Figure size 640x480 with 2 Axes>"
            ],
            "image/png": "[encoded data removed]"
          },
          "metadata": {}
        }
      ],
      "source": [
        "y_pred = map_sentiment(pd.Series(y_pred), invert=True)\n",
        "\n",
        "# Matriz de confusión\n",
        "plot_confussion_matrix(y_validation, y_pred)"
      ]
    },
    {
      "cell_type": "markdown",
      "metadata": {
        "id": "MxynLZ5gAoLX"
      },
      "source": [
        "Bag of words con tokenizacion sin lemmas"
      ]
    },
    {
      "cell_type": "code",
      "execution_count": null,
      "metadata": {
        "id": "KTFFxh4DAoLh"
      },
      "outputs": [],
      "source": [
        "y_pred = xgboost_con_hiper(x_train_bow_tok,x_validation_bow_tok)"
      ]
    },
    {
      "cell_type": "code",
      "execution_count": null,
      "metadata": {
        "colab": {
          "base_uri": "https://localhost:8080/",
          "height": 615
        },
        "id": "U2ILzYvHA_8k",
        "outputId": "4aaa60db-9eef-47c6-8456-87696afdf075"
      },
      "outputs": [
        {
          "output_type": "stream",
          "name": "stdout",
          "text": [
            "              precision    recall  f1-score   support\n",
            "\n",
            "    negativo       0.84      0.80      0.82      4817\n",
            "    positivo       0.81      0.85      0.83      4797\n",
            "\n",
            "    accuracy                           0.82      9614\n",
            "   macro avg       0.83      0.82      0.82      9614\n",
            "weighted avg       0.83      0.82      0.82      9614\n",
            "\n"
          ]
        },
        {
          "output_type": "display_data",
          "data": {
            "text/plain": [
              "<Figure size 640x480 with 2 Axes>"
            ],
            "image/png": "[encoded data removed]"
          },
          "metadata": {}
        }
      ],
      "source": [
        "y_pred = map_sentiment(pd.Series(y_pred), invert=True)\n",
        "plot_confussion_matrix(y_validation, y_pred)"
      ]
    },
    {
      "cell_type": "markdown",
      "metadata": {
        "id": "MWOEDQnWAoLi"
      },
      "source": [
        "Bag of words con tokenizacion con lemmas"
      ]
    },
    {
      "cell_type": "code",
      "execution_count": null,
      "metadata": {
        "id": "9l0Q62eoBf4I"
      },
      "outputs": [],
      "source": [
        "y_pred = xgboost_con_hiper(x_train_bow_lemma, x_validation_bow_lemma)"
      ]
    },
    {
      "cell_type": "code",
      "execution_count": null,
      "metadata": {
        "colab": {
          "base_uri": "https://localhost:8080/",
          "height": 617
        },
        "id": "mUgwt-1kAoLi",
        "outputId": "e8c79794-0a2b-4df7-ac12-1a3d967519ac"
      },
      "outputs": [
        {
          "output_type": "stream",
          "name": "stdout",
          "text": [
            "              precision    recall  f1-score   support\n",
            "\n",
            "    negativo       0.84      0.81      0.82      4817\n",
            "    positivo       0.82      0.84      0.83      4797\n",
            "\n",
            "    accuracy                           0.83      9614\n",
            "   macro avg       0.83      0.83      0.83      9614\n",
            "weighted avg       0.83      0.83      0.83      9614\n",
            "\n"
          ]
        },
        {
          "output_type": "display_data",
          "data": {
            "text/plain": [
              "<Figure size 640x480 with 2 Axes>"
            ],
            "image/png": "[encoded data removed]"
          },
          "metadata": {}
        }
      ],
      "source": [
        "y_pred = map_sentiment(pd.Series(y_pred), invert=True)\n",
        "plot_confussion_matrix(y_validation, y_pred)"
      ]
    },
    {
      "cell_type": "markdown",
      "metadata": {
        "id": "RC7IT53PAoLj"
      },
      "source": [
        "N-gramas con tokenizacion con lemmas"
      ]
    },
    {
      "cell_type": "code",
      "execution_count": null,
      "metadata": {
        "id": "0iMyd_b8CBY3"
      },
      "outputs": [],
      "source": [
        "y_pred = xgboost_con_hiper(x_train_ngram_lemma, x_validation_ngram_lemma)"
      ]
    },
    {
      "cell_type": "code",
      "execution_count": null,
      "metadata": {
        "colab": {
          "base_uri": "https://localhost:8080/",
          "height": 615
        },
        "id": "kva_dwi_AoLj",
        "outputId": "e612096b-3f12-43be-9007-9580dd4becab"
      },
      "outputs": [
        {
          "output_type": "stream",
          "name": "stdout",
          "text": [
            "              precision    recall  f1-score   support\n",
            "\n",
            "    negativo       0.85      0.83      0.84      4817\n",
            "    positivo       0.83      0.85      0.84      4797\n",
            "\n",
            "    accuracy                           0.84      9614\n",
            "   macro avg       0.84      0.84      0.84      9614\n",
            "weighted avg       0.84      0.84      0.84      9614\n",
            "\n"
          ]
        },
        {
          "output_type": "display_data",
          "data": {
            "text/plain": [
              "<Figure size 640x480 with 2 Axes>"
            ],
            "image/png": "[encoded data removed]"
          },
          "metadata": {}
        }
      ],
      "source": [
        "y_pred = map_sentiment(pd.Series(y_pred), invert=True)\n",
        "plot_confussion_matrix(y_validation, y_pred)"
      ]
    },
    {
      "cell_type": "markdown",
      "metadata": {
        "id": "mBjeOuOhAoLj"
      },
      "source": [
        "Tf-idf con tokenizacion sin lemmas"
      ]
    },
    {
      "cell_type": "code",
      "execution_count": null,
      "metadata": {
        "id": "Eg5uhopRCq4H"
      },
      "outputs": [],
      "source": [
        "y_pred = xgboost_con_hiper(x_train_tfidf_tok, x_validation_tfidf_tok)"
      ]
    },
    {
      "cell_type": "code",
      "execution_count": null,
      "metadata": {
        "colab": {
          "base_uri": "https://localhost:8080/",
          "height": 620
        },
        "id": "aY9gWwC6Csc_",
        "outputId": "061465f2-594a-49a4-b587-783cfe18b8d7"
      },
      "outputs": [
        {
          "output_type": "stream",
          "name": "stdout",
          "text": [
            "              precision    recall  f1-score   support\n",
            "\n",
            "    negativo       0.83      0.81      0.82      4817\n",
            "    positivo       0.81      0.83      0.82      4797\n",
            "\n",
            "    accuracy                           0.82      9614\n",
            "   macro avg       0.82      0.82      0.82      9614\n",
            "weighted avg       0.82      0.82      0.82      9614\n",
            "\n"
          ]
        },
        {
          "output_type": "display_data",
          "data": {
            "text/plain": [
              "<Figure size 640x480 with 2 Axes>"
            ],
            "image/png": "[encoded data removed]"
          },
          "metadata": {}
        }
      ],
      "source": [
        "y_pred = map_sentiment(pd.Series(y_pred), invert=True)\n",
        "plot_confussion_matrix(y_validation, y_pred)"
      ]
    },
    {
      "cell_type": "markdown",
      "metadata": {
        "id": "DqrYyZV-AoLk"
      },
      "source": [
        "Tf-idf con tokenizacion con lemmas"
      ]
    },
    {
      "cell_type": "code",
      "execution_count": null,
      "metadata": {
        "colab": {
          "base_uri": "https://localhost:8080/",
          "height": 615
        },
        "id": "iyiXLBYfCzfT",
        "outputId": "bcda19fa-fe60-4c20-e193-5fc1d56bda3f"
      },
      "outputs": [
        {
          "output_type": "stream",
          "name": "stdout",
          "text": [
            "              precision    recall  f1-score   support\n",
            "\n",
            "    negativo       0.84      0.81      0.82      4817\n",
            "    positivo       0.81      0.85      0.83      4797\n",
            "\n",
            "    accuracy                           0.83      9614\n",
            "   macro avg       0.83      0.83      0.83      9614\n",
            "weighted avg       0.83      0.83      0.83      9614\n",
            "\n"
          ]
        },
        {
          "output_type": "display_data",
          "data": {
            "text/plain": [
              "<Figure size 640x480 with 2 Axes>"
            ],
            "image/png": "[encoded data removed]"
          },
          "metadata": {}
        }
      ],
      "source": [
        "y_pred = xgboost_con_hiper(x_train_tfidf_lemma, x_validation_tfidf_lemma)\n",
        "y_pred = map_sentiment(pd.Series(y_pred), invert=True)\n",
        "\n",
        "plot_confussion_matrix(y_validation, y_pred)"
      ]
    },
    {
      "cell_type": "code",
      "execution_count": null,
      "metadata": {
        "colab": {
          "base_uri": "https://localhost:8080/",
          "height": 605
        },
        "id": "vr5nQ8DLLsyK",
        "outputId": "fd88e3c8-beb3-418b-b806-ecceb8906907"
      },
      "outputs": [
        {
          "output_type": "stream",
          "name": "stdout",
          "text": [
            "              precision    recall  f1-score   support\n",
            "\n",
            "    negativo       0.84      0.81      0.82      4817\n",
            "    positivo       0.81      0.84      0.83      4797\n",
            "\n",
            "    accuracy                           0.83      9614\n",
            "   macro avg       0.83      0.83      0.83      9614\n",
            "weighted avg       0.83      0.83      0.83      9614\n",
            "\n"
          ]
        },
        {
          "output_type": "display_data",
          "data": {
            "text/plain": [
              "<Figure size 640x480 with 2 Axes>"
            ],
            "image/png": "[encoded data removed]"
          },
          "metadata": {}
        }
      ],
      "source": [
        "y_pred = xgboost_default(x_train_tfidf_lemma, x_validation_tfidf_lemma)\n",
        "y_pred = map_sentiment(pd.Series(y_pred), invert=True)\n",
        "\n",
        "# Matriz de confusión\n",
        "plot_confussion_matrix(y_validation, y_pred)"
      ]
    },
    {
      "cell_type": "markdown",
      "metadata": {
        "id": "ffQ4IjiwHYfM"
      },
      "source": [
        "## Mejor modelo"
      ]
    },
    {
      "cell_type": "markdown",
      "metadata": {
        "id": "F1MG2V2FHaT3"
      },
      "source": [
        "### Refitting completo"
      ]
    },
    {
      "cell_type": "code",
      "execution_count": null,
      "metadata": {
        "colab": {
          "base_uri": "https://localhost:8080/"
        },
        "id": "LqWOdbNfXvq_",
        "outputId": "e0eae4ca-e885-4e3c-e928-b21e9adfde64"
      },
      "outputs": [
        {
          "output_type": "execute_result",
          "data": {
            "text/plain": [
              "<48068x45937 sparse matrix of type '<class 'numpy.float64'>'\n",
              "\twith 6244426 stored elements in Compressed Sparse Row format>"
            ]
          },
          "metadata": {},
          "execution_count": 42
        }
      ],
      "source": [
        "tfidf_vect = TfidfVectorizer(\n",
        "    preprocessor=clean_text,\n",
        "    tokenizer=lemmatize_text,\n",
        "    min_df=5,\n",
        "    stop_words=lemmatized_words\n",
        ")\n",
        "x_train = tfidf_vect.fit_transform(x_train_text_completo)\n",
        "x_test = tfidf_vect.transform(x_test_text)\n",
        "x_train"
      ]
    },
    {
      "cell_type": "code",
      "source": [
        "best_xgb_model = XGBClassifier(\n",
        "  random_state=0,\n",
        "  n_estimators=100\n",
        ")\n",
        "\n",
        "best_xgb_model.fit(X=x_train, y=y_train_completo)\n",
        "y_pred = best_xgb_model.predict(x_test)\n",
        "\n",
        "# Volvemos a transformarlos a strings para comparar\n",
        "y_pred = map_sentiment(pd.Series(y_pred), invert=True)"
      ],
      "metadata": {
        "id": "6BCd8892BQns"
      },
      "execution_count": null,
      "outputs": []
    },
    {
      "cell_type": "code",
      "execution_count": null,
      "metadata": {
        "colab": {
          "base_uri": "https://localhost:8080/"
        },
        "id": "K8SXoXQZb-0W",
        "outputId": "bfb15d0e-52f3-485d-a218-f5374e835f85"
      },
      "outputs": [
        {
          "output_type": "execute_result",
          "data": {
            "text/plain": [
              "(8599, 45937)"
            ]
          },
          "metadata": {},
          "execution_count": 160
        }
      ],
      "source": [
        "x_test.shape"
      ]
    },
    {
      "cell_type": "code",
      "execution_count": null,
      "metadata": {
        "colab": {
          "base_uri": "https://localhost:8080/"
        },
        "id": "R1ja3Wjqbv91",
        "outputId": "29576c38-9aa0-4c7b-b2b9-450178d86e97"
      },
      "outputs": [
        {
          "output_type": "execute_result",
          "data": {
            "text/plain": [
              "(8599,)"
            ]
          },
          "metadata": {},
          "execution_count": 161
        }
      ],
      "source": [
        "y_pred.shape"
      ]
    },
    {
      "cell_type": "code",
      "execution_count": null,
      "metadata": {
        "id": "8nZdKxPdZSW6"
      },
      "outputs": [],
      "source": [
        "resultados_xgboost = build_results(y_pred)"
      ]
    },
    {
      "cell_type": "code",
      "execution_count": null,
      "metadata": {
        "colab": {
          "base_uri": "https://localhost:8080/"
        },
        "id": "33MRywbFZXIF",
        "outputId": "40ec44aa-e64d-456c-a116-9b3641f9fea7"
      },
      "outputs": [
        {
          "output_type": "stream",
          "name": "stdout",
          "text": [
            "Positives: 4913\n",
            "Negatives: 3686\n"
          ]
        }
      ],
      "source": [
        "print_positive_negatives(resultados_xgboost['sentimiento'])"
      ]
    },
    {
      "cell_type": "code",
      "source": [
        "# Matriz de confusión\n",
        "plot_confussion_matrix(y_validation, y_pred)"
      ],
      "metadata": {
        "id": "tloB9w_501sD"
      },
      "execution_count": null,
      "outputs": []
    },
    {
      "cell_type": "markdown",
      "metadata": {
        "id": "-e8qRltmvUlW"
      },
      "source": [
        "# Guardado de resultados y modelo"
      ]
    },
    {
      "cell_type": "code",
      "execution_count": null,
      "metadata": {
        "colab": {
          "base_uri": "https://localhost:8080/"
        },
        "id": "1NC367hqvbMD",
        "outputId": "c25cbebb-3530-4a61-89a2-d48e436074d8"
      },
      "outputs": [
        {
          "output_type": "execute_result",
          "data": {
            "text/plain": [
              "['/content/drive/MyDrive/7506R-1C2024-GRUPO02/TP2/Models/xgboost.pkl']"
            ]
          },
          "metadata": {},
          "execution_count": 164
        }
      ],
      "source": [
        "# xgboost\n",
        "resultados_xgboost.to_csv(root_path + \"Dataset/resultados_xgboost.csv\", index=False)\n",
        "joblib.dump(best_xgb_model, root_path + 'Models/xgboost.pkl')"
      ]
    }
  ],
  "metadata": {
    "colab": {
      "provenance": [],
      "toc_visible": true,
      "include_colab_link": true
    },
    "kernelspec": {
      "display_name": "Python 3",
      "name": "python3"
    },
    "language_info": {
      "name": "python"
    }
  },
  "nbformat": 4,
  "nbformat_minor": 0
}