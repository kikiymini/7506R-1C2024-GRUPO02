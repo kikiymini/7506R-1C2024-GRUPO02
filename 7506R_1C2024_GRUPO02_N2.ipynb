{
  "nbformat": 4,
  "nbformat_minor": 0,
  "metadata": {
    "colab": {
      "provenance": [],
      "authorship_tag": "ABX9TyNhtKoppVK9wPSepwhEtQre",
      "include_colab_link": true
    },
    "kernelspec": {
      "name": "python3",
      "display_name": "Python 3"
    },
    "language_info": {
      "name": "python"
    }
  },
  "cells": [
    {
      "cell_type": "markdown",
      "metadata": {
        "id": "view-in-github",
        "colab_type": "text"
      },
      "source": [
        "<a href=\"https://colab.research.google.com/github/kikiymini/7506R-1C2024-GRUPO02/blob/main/7506R_1C2024_GRUPO02_N2.ipynb\" target=\"_parent\"><img src=\"https://colab.research.google.com/assets/colab-badge.svg\" alt=\"Open In Colab\"/></a>"
      ]
    },
    {
      "cell_type": "markdown",
      "source": [
        "# <center>Organizaci&oacute;n de Datos</center>\n",
        "\n",
        "#### <center>C&aacute;tedra Ing. Rodriguez, Juan Manuel </center>\n",
        "\n",
        "## <center>Trabajo Práctico 1: Propiedades en venta</center>\n",
        "\n",
        "### <center> Grupo 2</center>\n",
        "\n",
        "## Integrantes:\n",
        "\n",
        "*   Aramayo Carolina\n",
        "*   Utrera Maximo Damian\n",
        "*   Villalba Ana Daniela\n",
        "*   Fiorilo Roy\n"
      ],
      "metadata": {
        "id": "KumgFvMkGdSl"
      }
    },
    {
      "cell_type": "markdown",
      "source": [
        "# Importación de librerias"
      ],
      "metadata": {
        "id": "_ozW7-CYGhG5"
      }
    },
    {
      "cell_type": "code",
      "source": [
        "import pandas as pd\n",
        "import numpy as np\n",
        "import sklearn as sk\n",
        "\n",
        "from matplotlib import pyplot as plt\n",
        "import seaborn as sns\n",
        "import plotly.express as px\n",
        "import folium\n",
        "from folium.plugins import MarkerCluster\n",
        "\n",
        "from shapely import wkt\n",
        "from shapely.geometry import MultiPolygon, Polygon, Point\n",
        "\n",
        "from sklearn.model_selection import train_test_split\n",
        "from sklearn.experimental import enable_iterative_imputer\n",
        "from sklearn.impute import IterativeImputer\n",
        "from sklearn.linear_model import LinearRegression\n",
        "from sklearn.cluster import KMeans\n",
        "from sklearn.preprocessing import scale, MinMaxScaler\n",
        "from sklearn.metrics import silhouette_score\n",
        "from sklearn.neighbors import LocalOutlierFactor\n",
        "from sklearn.ensemble import IsolationForest\n",
        "from sklearn.preprocessing import LabelEncoder"
      ],
      "metadata": {
        "id": "yUcgTDp1Gisz"
      },
      "execution_count": null,
      "outputs": []
    },
    {
      "cell_type": "markdown",
      "source": [
        "# Lectura de archivo"
      ],
      "metadata": {
        "id": "7XzR22KoGrsX"
      }
    },
    {
      "cell_type": "markdown",
      "source": [
        "### Desde google drive"
      ],
      "metadata": {
        "id": "ASkNu4fzGtSs"
      }
    },
    {
      "cell_type": "code",
      "source": [
        "from google.colab import drive\n",
        "drive.mount('/content/drive')\n",
        "file_path = '/content/drive/MyDrive/7506R-1C2024-GRUPO02/Dataset/properati_argentina_2021.csv'\n",
        "barrios_file = '/content/drive/MyDrive/7506R-1C2024-GRUPO02/Dataset/barrios.csv'\n",
        "df = pd.read_csv(file_path)"
      ],
      "metadata": {
        "id": "J5aDMYtIGvS9"
      },
      "execution_count": null,
      "outputs": []
    },
    {
      "cell_type": "markdown",
      "source": [
        "### Desde maquina local"
      ],
      "metadata": {
        "id": "jde0HRPXGw9i"
      }
    },
    {
      "cell_type": "code",
      "source": [
        "# Si se esta trabajando en local, descomentar esta celta y comentar la de arriba\n",
        "# file_path = './dataset/properati_argentina_2021.csv'\n",
        "# barrios_file = './dataset/barrios.csv'\n",
        "# df = pd.read_csv(file_path)"
      ],
      "metadata": {
        "id": "SemYj_T2Gyp4"
      },
      "execution_count": null,
      "outputs": []
    },
    {
      "cell_type": "markdown",
      "source": [
        "# Agrupamiento\n",
        "En este punto se busca analizar si es posible agrupar los datos en función de algún criterio."
      ],
      "metadata": {
        "id": "R9v6JBThFi9M"
      }
    },
    {
      "cell_type": "markdown",
      "source": [
        "## Clustering\n",
        "Analizar la tendencia al clustering del dataset."
      ],
      "metadata": {
        "id": "Hqx20tWlFosR"
      }
    },
    {
      "cell_type": "code",
      "execution_count": null,
      "metadata": {
        "id": "vI5MMaWFFbBy"
      },
      "outputs": [],
      "source": [
        "ds_train.head()"
      ]
    },
    {
      "cell_type": "markdown",
      "source": [
        "Para agrupar, podemos dejar de lado la columna 'place_l3', ya que podemos completar los datos necesarios para realizar el clustering utilizando las columnas de latitud y longitud. Además, podemos eliminar la columna 'id', ya que generalmente solo sirve como un identificador único para cada fila y no es una característica relevante para el clustering. Similarmente, podemos descartar cualquier información relacionada con fechas, ya que no es necesaria para nuestro análisis de clustering."
      ],
      "metadata": {
        "id": "rXngsJp6FsrC"
      }
    },
    {
      "cell_type": "code",
      "source": [
        "ds_cluster_train = ds_train.copy()\n",
        "ds_cluster_test = ds_test.copy()\n",
        "\n",
        "columnas_a_eliminar = ['place_l3','id','start_date','end_date','created_on']\n",
        "ds_cluster_train.drop(columns = columnas_a_eliminar,inplace=True)\n",
        "ds_cluster_test.drop(columns = columnas_a_eliminar,inplace=True)"
      ],
      "metadata": {
        "id": "qY8Ze1ALFvh8"
      },
      "execution_count": null,
      "outputs": []
    },
    {
      "cell_type": "code",
      "source": [
        "ds_cluster_train.head()"
      ],
      "metadata": {
        "id": "japMXC2RFxJf"
      },
      "execution_count": null,
      "outputs": []
    },
    {
      "cell_type": "code",
      "source": [
        "# @title property_type vs longitud\n",
        "# Configuración de estilo y paleta de colores\n",
        "sns.set(style=\"whitegrid\")\n",
        "palette = sns.color_palette(\"pastel\")\n",
        "\n",
        "# Ajuste del tamaño de la figura\n",
        "figsize = (12, 1.2 * len(ds_cluster_train['property_type'].unique()))\n",
        "plt.figure(figsize=figsize)\n",
        "\n",
        "# Creación del gráfico de violín\n",
        "sns.violinplot(ds_cluster_train, x='longitud', y='property_type', inner='box', palette=palette)\n",
        "\n",
        "# Eliminación de los ejes\n",
        "sns.despine(top=True, right=True, bottom=True, left=True)\n",
        "\n",
        "# Ajustes de título y etiquetas\n",
        "plt.title(\"Distribución de Longitud por Tipo de Propiedad\", fontsize=16)\n",
        "plt.xlabel(\"Longitud\", fontsize=14)\n",
        "plt.ylabel(\"Tipo de Propiedad\", fontsize=14)\n",
        "\n",
        "# Ajuste del tamaño de fuente de las etiquetas\n",
        "plt.xticks(fontsize=12)\n",
        "plt.yticks(fontsize=12)\n",
        "\n",
        "plt.show()"
      ],
      "metadata": {
        "id": "tlOrI5HtF0nU"
      },
      "execution_count": null,
      "outputs": []
    },
    {
      "cell_type": "code",
      "source": [
        "# @title latitud vs longitud\n",
        "\n",
        "# Configuración de la figura y los ejes\n",
        "plt.figure(figsize=(10, 6))\n",
        "\n",
        "# Creación del gráfico de dispersión\n",
        "plt.scatter(ds_cluster_train['latitud'], ds_cluster_train['longitud'], s=50, alpha=0.8)\n",
        "\n",
        "# Ajustes del título y etiquetas\n",
        "plt.title(\"Distribución de Latitud vs Longitud\", fontsize=16)\n",
        "plt.xlabel(\"Latitud\", fontsize=14)\n",
        "plt.ylabel(\"Longitud\", fontsize=14)\n",
        "\n",
        "# Ocultar los ejes superior y derecho\n",
        "plt.gca().spines['top'].set_visible(False)\n",
        "plt.gca().spines['right'].set_visible(False)\n",
        "\n",
        "# Ajustar tamaño de fuente de los ejes\n",
        "plt.xticks(fontsize=12)\n",
        "plt.yticks(fontsize=12)\n",
        "\n",
        "plt.show()"
      ],
      "metadata": {
        "id": "JzUs3cSoF3P7"
      },
      "execution_count": null,
      "outputs": []
    },
    {
      "cell_type": "code",
      "source": [
        "ds_cluster_test.head()"
      ],
      "metadata": {
        "id": "ErY75nx-F4y_"
      },
      "execution_count": null,
      "outputs": []
    },
    {
      "cell_type": "markdown",
      "source": [
        "Vamos a realizar una transformación de variables para trabajar con todos datos numéricos. En este caso, vamos a utilizar la regresión logística para la variable proterty_type"
      ],
      "metadata": {
        "id": "llyeasGmF6Pc"
      }
    },
    {
      "cell_type": "code",
      "source": [
        "ds_cluster_train = pd.get_dummies(ds_cluster_train, columns=[\"property_type\"])\n",
        "ds_cluster_train.head()"
      ],
      "metadata": {
        "id": "_7x6nk4rF7t3"
      },
      "execution_count": null,
      "outputs": []
    },
    {
      "cell_type": "code",
      "source": [
        "ds_cluster_test = pd.get_dummies(ds_cluster_test, columns=[\"property_type\"])\n",
        "ds_cluster_test.head()"
      ],
      "metadata": {
        "id": "yNgpwuj8F8yn"
      },
      "execution_count": null,
      "outputs": []
    },
    {
      "cell_type": "markdown",
      "source": [
        "Aplico máximos y minimos para el dataset"
      ],
      "metadata": {
        "id": "goktZRHHGAjr"
      }
    },
    {
      "cell_type": "code",
      "source": [
        "def aplicar_max_min(ds, columnas):\n",
        "    scaler = MinMaxScaler()\n",
        "    for columna in columnas:\n",
        "        ds[[columna]] = scaler.fit_transform(ds[[columna]])\n",
        "\n",
        "aplicar_max_min(ds_cluster_train,columnas_con_numeros)"
      ],
      "metadata": {
        "id": "qa5ae-5GGA5w"
      },
      "execution_count": null,
      "outputs": []
    },
    {
      "cell_type": "markdown",
      "source": [
        "## Grupos\n",
        "Estimar la cantidad apropiada de grupos que se deben formar."
      ],
      "metadata": {
        "id": "YkeegZDiGCvm"
      }
    },
    {
      "cell_type": "markdown",
      "source": [
        "Para ello vamos a utilizar la Regla del codo (Elbow Method)."
      ],
      "metadata": {
        "id": "6FYSRBmoGEY5"
      }
    },
    {
      "cell_type": "code",
      "source": [
        "# Corro el algoritmo con K entre 2 y 10 y voy guardando el error para luego graficarlo.\n",
        "sse = []\n",
        "list_k = list(range(1, 10))\n",
        "\n",
        "for k in list_k:\n",
        "    km = KMeans(n_clusters=k)\n",
        "    km.fit(ds_cluster_train)\n",
        "    sse.append(km.inertia_)\n",
        "\n",
        "# Grafico el SSE por K\n",
        "plt.figure(figsize=(6, 6))\n",
        "plt.plot(list_k, sse, '-o')\n",
        "plt.xlabel(r'Cantidad de clusters')\n",
        "plt.ylabel('SSE')\n",
        "\n",
        "# Desactivar la notación científica en el eje y\n",
        "plt.ticklabel_format(style='plain', axis='y')\n",
        "\n",
        "plt.show()"
      ],
      "metadata": {
        "id": "1ZyXJXnIGFvH"
      },
      "execution_count": null,
      "outputs": []
    },
    {
      "cell_type": "markdown",
      "source": [
        "Al ver el gráfico no tenemos un codo pronunciadamente. Entonces verificamos la cantidad de conjuntos a elegir con el método de Silhouette."
      ],
      "metadata": {
        "id": "izhFDq90GI8H"
      }
    },
    {
      "cell_type": "markdown",
      "source": [
        "## Grupos con Silhouette <font color='red'> REVISAR </font>\n",
        "Evaluar la calidad de los grupos formados realizando un análisis de Silhouette"
      ],
      "metadata": {
        "id": "SuFlZ0n-GKve"
      }
    },
    {
      "cell_type": "code",
      "source": [
        "list_k = list(range(2, 6))\n",
        "\n",
        "for n_clusters in list_k:\n",
        "    clusterer = KMeans(n_clusters=n_clusters)\n",
        "    preds = clusterer.fit_predict(ds_cluster_train)\n",
        "\n",
        "    score = silhouette_score (ds_cluster_train, preds)\n",
        "    print (\"\\n\\nFor n_clusters =\" + str(n_clusters) + \" silhouette score is \" + str(score))"
      ],
      "metadata": {
        "id": "ufGbuyktGMCB"
      },
      "execution_count": null,
      "outputs": []
    },
    {
      "cell_type": "markdown",
      "source": [
        "## Análisis de grupo\n",
        "Realizar un análisis de cada grupo intentando entender en función de qué características\n",
        "fueron formados."
      ],
      "metadata": {
        "id": "trObl8JwGN8a"
      }
    },
    {
      "cell_type": "markdown",
      "source": [
        "## Mapa de CABA\n",
        "Graficar sobre un mapa de CABA los avisos coloreados según el grupo al que pertenecen."
      ],
      "metadata": {
        "id": "Efq-rTVUGPvl"
      }
    },
    {
      "cell_type": "code",
      "source": [
        "# Coordenadas del centro de la Ciudad Autónoma de Buenos Aires\n",
        "latitud = -34.6037\n",
        "longitud = -58.3816\n",
        "\n",
        "# Crear el mapa centrado en Buenos Aires\n",
        "mapa = folium.Map(location=[latitud, longitud], zoom_start=12)\n",
        "\n",
        "ds_latitud_longitud = ds_cluster_train[['latitud','longitud']]\n",
        "ds_latitud_longitud.shape"
      ],
      "metadata": {
        "id": "Y3uDOKsdGRIv"
      },
      "execution_count": null,
      "outputs": []
    },
    {
      "cell_type": "code",
      "source": [
        "# OJO QUE ACÁ ESTOY DISMINUYENDO LA CANTIDAD DE PROPIEDADES\n",
        "\n",
        "ds_latitud_longitud = ds_latitud_longitud.sample(n=1000)\n",
        "\n",
        "# Iterar sobre las filas del DataFrame ds_latitud_longitud\n",
        "for index, row in ds_latitud_longitud.iterrows():\n",
        "    # Obtener las coordenadas de cada punto\n",
        "    punto_latitud = row['latitud']\n",
        "    punto_longitud = row['longitud']\n",
        "\n",
        "    # Añadir un marcador para cada punto\n",
        "    folium.Marker(location=[punto_latitud, punto_longitud]).add_to(mapa)\n",
        "\n",
        "# Mostrar el mapa\n",
        "mapa"
      ],
      "metadata": {
        "id": "--8p-HwSGStR"
      },
      "execution_count": null,
      "outputs": []
    },
    {
      "cell_type": "code",
      "source": [
        "mapa_cluster = folium.Map(location=[latitud, longitud], zoom_start=12)\n",
        "\n",
        "marcador = MarkerCluster()\n",
        "\n",
        "for index, row in ds_latitud_longitud.iterrows():\n",
        "    # Obtener las coordenadas de cada punto\n",
        "    punto_latitud = row['latitud']\n",
        "    punto_longitud = row['longitud']\n",
        "\n",
        "    # Añadir un marcador para cada punto\n",
        "    marcador.add_child(folium.Marker(location=[punto_latitud, punto_longitud]))\n",
        "\n",
        "mapa_cluster.add_child(marcador)\n"
      ],
      "metadata": {
        "id": "HNUStEUhGWON"
      },
      "execution_count": null,
      "outputs": []
    },
    {
      "cell_type": "markdown",
      "source": [
        "## Análisis con tres grupos\n",
        "Repetir el análisis anterior, utilizando sólo 3 grupos."
      ],
      "metadata": {
        "id": "qsdWn0mhGZoW"
      }
    }
  ]
}