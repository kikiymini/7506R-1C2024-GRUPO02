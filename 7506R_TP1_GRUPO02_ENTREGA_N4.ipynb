{
  "nbformat": 4,
  "nbformat_minor": 0,
  "metadata": {
    "colab": {
      "provenance": [],
      "toc_visible": true,
      "authorship_tag": "ABX9TyP+vYbmxCRaICxvFK8b/54v",
      "include_colab_link": true
    },
    "kernelspec": {
      "name": "python3",
      "display_name": "Python 3"
    },
    "language_info": {
      "name": "python"
    }
  },
  "cells": [
    {
      "cell_type": "markdown",
      "metadata": {
        "id": "view-in-github",
        "colab_type": "text"
      },
      "source": [
        "<a href=\"https://colab.research.google.com/github/kikiymini/7506R-1C2024-GRUPO02/blob/main/7506R_TP1_GRUPO02_ENTREGA_N4.ipynb\" target=\"_parent\"><img src=\"https://colab.research.google.com/assets/colab-badge.svg\" alt=\"Open In Colab\"/></a>"
      ]
    },
    {
      "cell_type": "markdown",
      "source": [
        "# <center>Organizaci&oacute;n de Datos</center>\n",
        "\n",
        "#### <center>C&aacute;tedra Ing. Rodriguez, Juan Manuel </center>\n",
        "\n",
        "## <center>Trabajo Práctico 1: Propiedades en venta</center>\n",
        "\n",
        "### <center> Grupo 2</center>\n",
        "\n",
        "## Integrantes:\n",
        "\n",
        "*   Aramayo Carolina\n",
        "*   Utrera Maximo Damian\n",
        "*   Villalba Ana Daniela\n",
        "*   Fiorilo Roy\n"
      ],
      "metadata": {
        "id": "Q8-sK5MPi3ev"
      }
    },
    {
      "cell_type": "markdown",
      "source": [
        "<font color='#fa5050'>Importante: para correr este notebook es pre-requisito haber corrido el notebook numero 1, ya que de lo contrario no se tienen los datasets de train y test.</font>"
      ],
      "metadata": {
        "id": "X8Gi6pr9i4n0"
      }
    },
    {
      "cell_type": "markdown",
      "source": [
        "# Importación de librerias\n",
        "\n",
        "(Importante: leer comentarios)"
      ],
      "metadata": {
        "id": "Og5WadEni7eV"
      }
    },
    {
      "cell_type": "code",
      "execution_count": 1,
      "metadata": {
        "id": "06tKk944ivp_"
      },
      "outputs": [],
      "source": [
        "import pandas as pd\n",
        "import numpy as np\n",
        "\n",
        "from matplotlib import pyplot as plt\n",
        "import seaborn as sns\n",
        "import folium\n",
        "\n",
        "from sklearn.preprocessing import MinMaxScaler\n",
        "\n",
        "import warnings\n",
        "warnings.filterwarnings(\"ignore\")"
      ]
    },
    {
      "cell_type": "markdown",
      "source": [
        "# Lectura de archivo"
      ],
      "metadata": {
        "id": "PFqltotdi5Nf"
      }
    },
    {
      "cell_type": "markdown",
      "source": [
        "### Desde google drive"
      ],
      "metadata": {
        "id": "XW2VlT6NjBSV"
      }
    },
    {
      "cell_type": "code",
      "source": [
        "from google.colab import drive\n",
        "drive.mount('/content/drive')\n",
        "drive_path = \"/content/drive/MyDrive/7506R-1C2024-GRUPO02\"\n",
        "\n",
        "train_file = drive_path + '/Dataset/ds_train.csv'\n",
        "test_file = drive_path + '/Dataset/ds_test.csv'\n",
        "\n",
        "ds_train = pd.read_csv(train_file)\n",
        "ds_test = pd.read_csv(test_file)\n",
        "using_drive = True"
      ],
      "metadata": {
        "id": "ZVCRGa7Ui5od",
        "colab": {
          "base_uri": "https://localhost:8080/"
        },
        "outputId": "5bb444d1-0b5d-470b-f81b-81d796b772e0"
      },
      "execution_count": 2,
      "outputs": [
        {
          "output_type": "stream",
          "name": "stdout",
          "text": [
            "Mounted at /content/drive\n"
          ]
        }
      ]
    },
    {
      "cell_type": "markdown",
      "source": [
        "### Desde maquina local"
      ],
      "metadata": {
        "id": "EHOEGtbRjBtK"
      }
    },
    {
      "cell_type": "code",
      "source": [
        "# Si se esta trabajando en local, descomentar esta celta y comentar la de arriba\n",
        "# train_file = './dataset/ds_train.csv'\n",
        "# test_file = './dataset/ds_test.csv'\n",
        "\n",
        "# ds_train = pd.read_csv(train_file)\n",
        "# ds_test = pd.read_csv(test_file)\n",
        "# using_drive = False"
      ],
      "metadata": {
        "id": "bpPzgV4yjCJn"
      },
      "execution_count": null,
      "outputs": []
    },
    {
      "cell_type": "markdown",
      "source": [
        "# Regresión"
      ],
      "metadata": {
        "id": "QfI_QwMTjKGi"
      }
    },
    {
      "cell_type": "markdown",
      "source": [
        "## Entrenamiento y Predicción"
      ],
      "metadata": {
        "id": "vpzpK_MsXvF4"
      }
    },
    {
      "cell_type": "markdown",
      "source": [
        "### Ingenieria de caracteristicas"
      ],
      "metadata": {
        "id": "U2noxp1IHpoW"
      }
    },
    {
      "cell_type": "code",
      "source": [
        "# Creamos una copia del training dataset para modificarlo libremente\n",
        "ds_reg_train = ds_train.copy()"
      ],
      "metadata": {
        "id": "lASeKhidaIn1"
      },
      "execution_count": 5,
      "outputs": []
    },
    {
      "cell_type": "markdown",
      "source": [
        "Vemos las columnas actuales del dataset"
      ],
      "metadata": {
        "id": "2zlFhkwGZCB1"
      }
    },
    {
      "cell_type": "code",
      "source": [
        "ds_reg_train.dtypes"
      ],
      "metadata": {
        "colab": {
          "base_uri": "https://localhost:8080/"
        },
        "id": "PYExMyaAZAB5",
        "outputId": "24a34eab-c09a-411a-b9f4-3394492bc733"
      },
      "execution_count": 6,
      "outputs": [
        {
          "output_type": "execute_result",
          "data": {
            "text/plain": [
              "id                           object\n",
              "start_date                   object\n",
              "end_date                     object\n",
              "created_on                   object\n",
              "latitud                     float64\n",
              "longitud                    float64\n",
              "place_l3                     object\n",
              "property_type                object\n",
              "property_rooms                int64\n",
              "property_bedrooms             int64\n",
              "property_surface_total      float64\n",
              "property_surface_covered    float64\n",
              "property_price              float64\n",
              "dtype: object"
            ]
          },
          "metadata": {},
          "execution_count": 6
        }
      ]
    },
    {
      "cell_type": "markdown",
      "source": [
        "Columnas consideradas irrelevantes:\n",
        "* ID de la propiedad\n",
        "* Las fechas de creacion/comienzo/finalizacion de la publicacion\n",
        "* Latitud y Longitud (ya que el barrio parece ser una mejor y mas confiable opcion a tener en cuenta para la ubicacion)\n",
        "* Surface covered (ya que esta tiene una correlacion alta con surface total)\n",
        "* Property Bedrooms (ya que esta altamente correlacionado con property rooms)"
      ],
      "metadata": {
        "id": "p-jsLYK-Zd3t"
      }
    },
    {
      "cell_type": "code",
      "source": [
        "# Eliminamos dichas columnas\n",
        "cols_a_eliminar = [\"id\", \"start_date\", \"end_date\", \"created_on\", \"latitud\", \"longitud\", \"property_surface_covered\", \"property_bedrooms\"]\n",
        "ds_reg_train.drop(columns=cols_a_eliminar, inplace=True)\n",
        "ds_reg_train.dtypes"
      ],
      "metadata": {
        "colab": {
          "base_uri": "https://localhost:8080/"
        },
        "id": "cUwfyHZ6YTX2",
        "outputId": "65c158ae-6ac1-4ff9-c646-dde2eaf61f70"
      },
      "execution_count": 7,
      "outputs": [
        {
          "output_type": "execute_result",
          "data": {
            "text/plain": [
              "place_l3                   object\n",
              "property_type              object\n",
              "property_rooms              int64\n",
              "property_surface_total    float64\n",
              "property_price            float64\n",
              "dtype: object"
            ]
          },
          "metadata": {},
          "execution_count": 7
        }
      ]
    },
    {
      "cell_type": "markdown",
      "source": [
        "Encodeo variables cualitativas"
      ],
      "metadata": {
        "id": "UF1hs2v2ahVx"
      }
    },
    {
      "cell_type": "code",
      "source": [
        "def encode_non_numerical_vars(ds, col):\n",
        "  \"\"\"returns encoding dict and its inverse dict\"\"\"\n",
        "  _col = ds[col].unique()\n",
        "\n",
        "  _col_dict = dict(zip(_col, range(len(_col))))\n",
        "  _col_inv_dict = dict(zip(range(len(_col)), _col))\n",
        "\n",
        "  ds[col] = ds[col].map(_col_dict)\n",
        "  return _col_dict, _col_inv_dict"
      ],
      "metadata": {
        "id": "gDiEBzsoafsw"
      },
      "execution_count": 8,
      "outputs": []
    },
    {
      "cell_type": "code",
      "source": [
        "# Mapear barrios a una representacion numerica\n",
        "place_l3_dict, place_l3_inv_dict = encode_non_numerical_vars(ds_reg_train, \"place_l3\")"
      ],
      "metadata": {
        "id": "MA6A7Fs_ajrR"
      },
      "execution_count": 9,
      "outputs": []
    },
    {
      "cell_type": "code",
      "source": [
        "# Mapear property_type a una representacion numerica\n",
        "property_type_dict, property_type_inv_dict = encode_non_numerical_vars(ds_reg_train, \"property_type\")"
      ],
      "metadata": {
        "id": "2-H_nGKOalYI"
      },
      "execution_count": 10,
      "outputs": []
    },
    {
      "cell_type": "markdown",
      "source": [
        "Normalizamos las varibles utilizando Min-Max"
      ],
      "metadata": {
        "id": "Mu5RYhWqa30m"
      }
    },
    {
      "cell_type": "code",
      "source": [
        "def aplicar_max_min(ds, columnas):\n",
        "    scaler = MinMaxScaler()\n",
        "    for columna in columnas:\n",
        "        ds[[columna]] = scaler.fit_transform(ds[[columna]])\n",
        "\n",
        "# Solo normalizamos las variables cuantitativas no encodeadas\n",
        "columnas_con_numeros = ['property_rooms', 'property_surface_total', 'property_price']\n",
        "\n",
        "aplicar_max_min(ds_reg_train, columnas_con_numeros)"
      ],
      "metadata": {
        "id": "gaturF57a8uR"
      },
      "execution_count": 11,
      "outputs": []
    },
    {
      "cell_type": "code",
      "source": [
        "ds_reg_train.head()"
      ],
      "metadata": {
        "colab": {
          "base_uri": "https://localhost:8080/",
          "height": 206
        },
        "id": "PLEcdyfRbGQS",
        "outputId": "f0f7cf53-e1dc-43ea-f1db-d4ef41cad067"
      },
      "execution_count": 12,
      "outputs": [
        {
          "output_type": "execute_result",
          "data": {
            "text/plain": [
              "   place_l3  property_type  property_rooms  property_surface_total  \\\n",
              "0         0              0        0.222222                  0.0204   \n",
              "1         1              0        0.222222                  0.0316   \n",
              "2         2              0        0.222222                  0.0440   \n",
              "3         3              1        0.222222                  0.0388   \n",
              "4         1              0        0.222222                  0.0356   \n",
              "\n",
              "   property_price  \n",
              "0        0.005234  \n",
              "1        0.014014  \n",
              "2        0.011636  \n",
              "3        0.006308  \n",
              "4        0.014019  "
            ],
            "text/html": [
              "\n",
              "  <div id=\"df-8c5547d5-7305-4b42-b627-2b688fb747ef\" class=\"colab-df-container\">\n",
              "    <div>\n",
              "<style scoped>\n",
              "    .dataframe tbody tr th:only-of-type {\n",
              "        vertical-align: middle;\n",
              "    }\n",
              "\n",
              "    .dataframe tbody tr th {\n",
              "        vertical-align: top;\n",
              "    }\n",
              "\n",
              "    .dataframe thead th {\n",
              "        text-align: right;\n",
              "    }\n",
              "</style>\n",
              "<table border=\"1\" class=\"dataframe\">\n",
              "  <thead>\n",
              "    <tr style=\"text-align: right;\">\n",
              "      <th></th>\n",
              "      <th>place_l3</th>\n",
              "      <th>property_type</th>\n",
              "      <th>property_rooms</th>\n",
              "      <th>property_surface_total</th>\n",
              "      <th>property_price</th>\n",
              "    </tr>\n",
              "  </thead>\n",
              "  <tbody>\n",
              "    <tr>\n",
              "      <th>0</th>\n",
              "      <td>0</td>\n",
              "      <td>0</td>\n",
              "      <td>0.222222</td>\n",
              "      <td>0.0204</td>\n",
              "      <td>0.005234</td>\n",
              "    </tr>\n",
              "    <tr>\n",
              "      <th>1</th>\n",
              "      <td>1</td>\n",
              "      <td>0</td>\n",
              "      <td>0.222222</td>\n",
              "      <td>0.0316</td>\n",
              "      <td>0.014014</td>\n",
              "    </tr>\n",
              "    <tr>\n",
              "      <th>2</th>\n",
              "      <td>2</td>\n",
              "      <td>0</td>\n",
              "      <td>0.222222</td>\n",
              "      <td>0.0440</td>\n",
              "      <td>0.011636</td>\n",
              "    </tr>\n",
              "    <tr>\n",
              "      <th>3</th>\n",
              "      <td>3</td>\n",
              "      <td>1</td>\n",
              "      <td>0.222222</td>\n",
              "      <td>0.0388</td>\n",
              "      <td>0.006308</td>\n",
              "    </tr>\n",
              "    <tr>\n",
              "      <th>4</th>\n",
              "      <td>1</td>\n",
              "      <td>0</td>\n",
              "      <td>0.222222</td>\n",
              "      <td>0.0356</td>\n",
              "      <td>0.014019</td>\n",
              "    </tr>\n",
              "  </tbody>\n",
              "</table>\n",
              "</div>\n",
              "    <div class=\"colab-df-buttons\">\n",
              "\n",
              "  <div class=\"colab-df-container\">\n",
              "    <button class=\"colab-df-convert\" onclick=\"convertToInteractive('df-8c5547d5-7305-4b42-b627-2b688fb747ef')\"\n",
              "            title=\"Convert this dataframe to an interactive table.\"\n",
              "            style=\"display:none;\">\n",
              "\n",
              "  <svg xmlns=\"http://www.w3.org/2000/svg\" height=\"24px\" viewBox=\"0 -960 960 960\">\n",
              "    <path d=\"M120-120v-720h720v720H120Zm60-500h600v-160H180v160Zm220 220h160v-160H400v160Zm0 220h160v-160H400v160ZM180-400h160v-160H180v160Zm440 0h160v-160H620v160ZM180-180h160v-160H180v160Zm440 0h160v-160H620v160Z\"/>\n",
              "  </svg>\n",
              "    </button>\n",
              "\n",
              "  <style>\n",
              "    .colab-df-container {\n",
              "      display:flex;\n",
              "      gap: 12px;\n",
              "    }\n",
              "\n",
              "    .colab-df-convert {\n",
              "      background-color: #E8F0FE;\n",
              "      border: none;\n",
              "      border-radius: 50%;\n",
              "      cursor: pointer;\n",
              "      display: none;\n",
              "      fill: #1967D2;\n",
              "      height: 32px;\n",
              "      padding: 0 0 0 0;\n",
              "      width: 32px;\n",
              "    }\n",
              "\n",
              "    .colab-df-convert:hover {\n",
              "      background-color: #E2EBFA;\n",
              "      box-shadow: 0px 1px 2px rgba(60, 64, 67, 0.3), 0px 1px 3px 1px rgba(60, 64, 67, 0.15);\n",
              "      fill: #174EA6;\n",
              "    }\n",
              "\n",
              "    .colab-df-buttons div {\n",
              "      margin-bottom: 4px;\n",
              "    }\n",
              "\n",
              "    [theme=dark] .colab-df-convert {\n",
              "      background-color: #3B4455;\n",
              "      fill: #D2E3FC;\n",
              "    }\n",
              "\n",
              "    [theme=dark] .colab-df-convert:hover {\n",
              "      background-color: #434B5C;\n",
              "      box-shadow: 0px 1px 3px 1px rgba(0, 0, 0, 0.15);\n",
              "      filter: drop-shadow(0px 1px 2px rgba(0, 0, 0, 0.3));\n",
              "      fill: #FFFFFF;\n",
              "    }\n",
              "  </style>\n",
              "\n",
              "    <script>\n",
              "      const buttonEl =\n",
              "        document.querySelector('#df-8c5547d5-7305-4b42-b627-2b688fb747ef button.colab-df-convert');\n",
              "      buttonEl.style.display =\n",
              "        google.colab.kernel.accessAllowed ? 'block' : 'none';\n",
              "\n",
              "      async function convertToInteractive(key) {\n",
              "        const element = document.querySelector('#df-8c5547d5-7305-4b42-b627-2b688fb747ef');\n",
              "        const dataTable =\n",
              "          await google.colab.kernel.invokeFunction('convertToInteractive',\n",
              "                                                    [key], {});\n",
              "        if (!dataTable) return;\n",
              "\n",
              "        const docLinkHtml = 'Like what you see? Visit the ' +\n",
              "          '<a target=\"_blank\" href=https://colab.research.google.com/notebooks/data_table.ipynb>data table notebook</a>'\n",
              "          + ' to learn more about interactive tables.';\n",
              "        element.innerHTML = '';\n",
              "        dataTable['output_type'] = 'display_data';\n",
              "        await google.colab.output.renderOutput(dataTable, element);\n",
              "        const docLink = document.createElement('div');\n",
              "        docLink.innerHTML = docLinkHtml;\n",
              "        element.appendChild(docLink);\n",
              "      }\n",
              "    </script>\n",
              "  </div>\n",
              "\n",
              "\n",
              "<div id=\"df-e3f5705f-4d06-47aa-9dfb-9f7b85b405c8\">\n",
              "  <button class=\"colab-df-quickchart\" onclick=\"quickchart('df-e3f5705f-4d06-47aa-9dfb-9f7b85b405c8')\"\n",
              "            title=\"Suggest charts\"\n",
              "            style=\"display:none;\">\n",
              "\n",
              "<svg xmlns=\"http://www.w3.org/2000/svg\" height=\"24px\"viewBox=\"0 0 24 24\"\n",
              "     width=\"24px\">\n",
              "    <g>\n",
              "        <path d=\"M19 3H5c-1.1 0-2 .9-2 2v14c0 1.1.9 2 2 2h14c1.1 0 2-.9 2-2V5c0-1.1-.9-2-2-2zM9 17H7v-7h2v7zm4 0h-2V7h2v10zm4 0h-2v-4h2v4z\"/>\n",
              "    </g>\n",
              "</svg>\n",
              "  </button>\n",
              "\n",
              "<style>\n",
              "  .colab-df-quickchart {\n",
              "      --bg-color: #E8F0FE;\n",
              "      --fill-color: #1967D2;\n",
              "      --hover-bg-color: #E2EBFA;\n",
              "      --hover-fill-color: #174EA6;\n",
              "      --disabled-fill-color: #AAA;\n",
              "      --disabled-bg-color: #DDD;\n",
              "  }\n",
              "\n",
              "  [theme=dark] .colab-df-quickchart {\n",
              "      --bg-color: #3B4455;\n",
              "      --fill-color: #D2E3FC;\n",
              "      --hover-bg-color: #434B5C;\n",
              "      --hover-fill-color: #FFFFFF;\n",
              "      --disabled-bg-color: #3B4455;\n",
              "      --disabled-fill-color: #666;\n",
              "  }\n",
              "\n",
              "  .colab-df-quickchart {\n",
              "    background-color: var(--bg-color);\n",
              "    border: none;\n",
              "    border-radius: 50%;\n",
              "    cursor: pointer;\n",
              "    display: none;\n",
              "    fill: var(--fill-color);\n",
              "    height: 32px;\n",
              "    padding: 0;\n",
              "    width: 32px;\n",
              "  }\n",
              "\n",
              "  .colab-df-quickchart:hover {\n",
              "    background-color: var(--hover-bg-color);\n",
              "    box-shadow: 0 1px 2px rgba(60, 64, 67, 0.3), 0 1px 3px 1px rgba(60, 64, 67, 0.15);\n",
              "    fill: var(--button-hover-fill-color);\n",
              "  }\n",
              "\n",
              "  .colab-df-quickchart-complete:disabled,\n",
              "  .colab-df-quickchart-complete:disabled:hover {\n",
              "    background-color: var(--disabled-bg-color);\n",
              "    fill: var(--disabled-fill-color);\n",
              "    box-shadow: none;\n",
              "  }\n",
              "\n",
              "  .colab-df-spinner {\n",
              "    border: 2px solid var(--fill-color);\n",
              "    border-color: transparent;\n",
              "    border-bottom-color: var(--fill-color);\n",
              "    animation:\n",
              "      spin 1s steps(1) infinite;\n",
              "  }\n",
              "\n",
              "  @keyframes spin {\n",
              "    0% {\n",
              "      border-color: transparent;\n",
              "      border-bottom-color: var(--fill-color);\n",
              "      border-left-color: var(--fill-color);\n",
              "    }\n",
              "    20% {\n",
              "      border-color: transparent;\n",
              "      border-left-color: var(--fill-color);\n",
              "      border-top-color: var(--fill-color);\n",
              "    }\n",
              "    30% {\n",
              "      border-color: transparent;\n",
              "      border-left-color: var(--fill-color);\n",
              "      border-top-color: var(--fill-color);\n",
              "      border-right-color: var(--fill-color);\n",
              "    }\n",
              "    40% {\n",
              "      border-color: transparent;\n",
              "      border-right-color: var(--fill-color);\n",
              "      border-top-color: var(--fill-color);\n",
              "    }\n",
              "    60% {\n",
              "      border-color: transparent;\n",
              "      border-right-color: var(--fill-color);\n",
              "    }\n",
              "    80% {\n",
              "      border-color: transparent;\n",
              "      border-right-color: var(--fill-color);\n",
              "      border-bottom-color: var(--fill-color);\n",
              "    }\n",
              "    90% {\n",
              "      border-color: transparent;\n",
              "      border-bottom-color: var(--fill-color);\n",
              "    }\n",
              "  }\n",
              "</style>\n",
              "\n",
              "  <script>\n",
              "    async function quickchart(key) {\n",
              "      const quickchartButtonEl =\n",
              "        document.querySelector('#' + key + ' button');\n",
              "      quickchartButtonEl.disabled = true;  // To prevent multiple clicks.\n",
              "      quickchartButtonEl.classList.add('colab-df-spinner');\n",
              "      try {\n",
              "        const charts = await google.colab.kernel.invokeFunction(\n",
              "            'suggestCharts', [key], {});\n",
              "      } catch (error) {\n",
              "        console.error('Error during call to suggestCharts:', error);\n",
              "      }\n",
              "      quickchartButtonEl.classList.remove('colab-df-spinner');\n",
              "      quickchartButtonEl.classList.add('colab-df-quickchart-complete');\n",
              "    }\n",
              "    (() => {\n",
              "      let quickchartButtonEl =\n",
              "        document.querySelector('#df-e3f5705f-4d06-47aa-9dfb-9f7b85b405c8 button');\n",
              "      quickchartButtonEl.style.display =\n",
              "        google.colab.kernel.accessAllowed ? 'block' : 'none';\n",
              "    })();\n",
              "  </script>\n",
              "</div>\n",
              "    </div>\n",
              "  </div>\n"
            ],
            "application/vnd.google.colaboratory.intrinsic+json": {
              "type": "dataframe",
              "variable_name": "ds_reg_train",
              "summary": "{\n  \"name\": \"ds_reg_train\",\n  \"rows\": 72224,\n  \"fields\": [\n    {\n      \"column\": \"place_l3\",\n      \"properties\": {\n        \"dtype\": \"number\",\n        \"std\": 11,\n        \"min\": 0,\n        \"max\": 56,\n        \"num_unique_values\": 57,\n        \"samples\": [\n          0,\n          5,\n          30\n        ],\n        \"semantic_type\": \"\",\n        \"description\": \"\"\n      }\n    },\n    {\n      \"column\": \"property_type\",\n      \"properties\": {\n        \"dtype\": \"number\",\n        \"std\": 0,\n        \"min\": 0,\n        \"max\": 2,\n        \"num_unique_values\": 3,\n        \"samples\": [\n          0,\n          1,\n          2\n        ],\n        \"semantic_type\": \"\",\n        \"description\": \"\"\n      }\n    },\n    {\n      \"column\": \"property_rooms\",\n      \"properties\": {\n        \"dtype\": \"number\",\n        \"std\": 0.1495644034185982,\n        \"min\": 0.0,\n        \"max\": 1.0,\n        \"num_unique_values\": 10,\n        \"samples\": [\n          0.5555555555555556,\n          0.0,\n          0.6666666666666665\n        ],\n        \"semantic_type\": \"\",\n        \"description\": \"\"\n      }\n    },\n    {\n      \"column\": \"property_surface_total\",\n      \"properties\": {\n        \"dtype\": \"number\",\n        \"std\": 0.035189405889475334,\n        \"min\": 0.0,\n        \"max\": 1.0,\n        \"num_unique_values\": 664,\n        \"samples\": [\n          0.09240000000000001,\n          0.0716,\n          0.1928\n        ],\n        \"semantic_type\": \"\",\n        \"description\": \"\"\n      }\n    },\n    {\n      \"column\": \"property_price\",\n      \"properties\": {\n        \"dtype\": \"number\",\n        \"std\": 0.014515504062137944,\n        \"min\": 0.0,\n        \"max\": 1.0,\n        \"num_unique_values\": 4094,\n        \"samples\": [\n          0.005186915887850467,\n          0.002406542056074766,\n          0.0034532242990654204\n        ],\n        \"semantic_type\": \"\",\n        \"description\": \"\"\n      }\n    }\n  ]\n}"
            }
          },
          "metadata": {},
          "execution_count": 12
        }
      ]
    },
    {
      "cell_type": "markdown",
      "source": [
        "### Modelo 1: KNN <font color=\"#e02626\">(Pendiente)</font>\n"
      ],
      "metadata": {
        "id": "8Y477WCLjLiq"
      }
    },
    {
      "cell_type": "markdown",
      "source": [
        "### Modelo 2: XGBoost <font color=\"#e02626\">(Pendiente)</font>"
      ],
      "metadata": {
        "id": "HswaMWw5jM33"
      }
    },
    {
      "cell_type": "markdown",
      "source": [
        "### Modelo 3: a elección <font color=\"#e02626\">(Pendiente)</font>"
      ],
      "metadata": {
        "id": "aypbPI3HjOHx"
      }
    },
    {
      "cell_type": "markdown",
      "source": [
        "## Guardado"
      ],
      "metadata": {
        "id": "ZAt_v9nDe3EJ"
      }
    },
    {
      "cell_type": "code",
      "source": [
        "if using_drive:\n",
        "  pass\n",
        "else:\n",
        "  pass"
      ],
      "metadata": {
        "id": "b4ELfFcDe5Mr"
      },
      "execution_count": 13,
      "outputs": []
    }
  ]
}