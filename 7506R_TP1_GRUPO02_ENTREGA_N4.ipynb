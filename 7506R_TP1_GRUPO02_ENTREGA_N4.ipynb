{
  "nbformat": 4,
  "nbformat_minor": 0,
  "metadata": {
    "colab": {
      "provenance": [],
      "toc_visible": true,
      "include_colab_link": true
    },
    "kernelspec": {
      "name": "python3",
      "display_name": "Python 3"
    },
    "language_info": {
      "name": "python"
    }
  },
  "cells": [
    {
      "cell_type": "markdown",
      "metadata": {
        "id": "view-in-github",
        "colab_type": "text"
      },
      "source": [
        "<a href=\"https://colab.research.google.com/github/kikiymini/7506R-1C2024-GRUPO02/blob/main/7506R_TP1_GRUPO02_ENTREGA_N4.ipynb\" target=\"_parent\"><img src=\"https://colab.research.google.com/assets/colab-badge.svg\" alt=\"Open In Colab\"/></a>"
      ]
    },
    {
      "cell_type": "markdown",
      "source": [
        "# <center>Organizaci&oacute;n de Datos</center>\n",
        "\n",
        "#### <center>C&aacute;tedra Ing. Rodriguez, Juan Manuel </center>\n",
        "\n",
        "## <center>Trabajo Práctico 1: Propiedades en venta</center>\n",
        "\n",
        "### <center> Grupo 2</center>\n",
        "\n",
        "## Integrantes:\n",
        "\n",
        "*   Aramayo Carolina\n",
        "*   Utrera Maximo Damian\n",
        "*   Villalba Ana Daniela\n",
        "*   Fiorilo Roy\n"
      ],
      "metadata": {
        "id": "Q8-sK5MPi3ev"
      }
    },
    {
      "cell_type": "markdown",
      "source": [
        "<font color='#fa5050'>Importante: para correr este notebook es pre-requisito haber corrido el notebook numero 1, ya que de lo contrario no se tienen los datasets de train y test.</font>"
      ],
      "metadata": {
        "id": "X8Gi6pr9i4n0"
      }
    },
    {
      "cell_type": "markdown",
      "source": [
        "# Importación de librerias\n",
        "\n",
        "(Importante: leer comentarios)"
      ],
      "metadata": {
        "id": "Og5WadEni7eV"
      }
    },
    {
      "cell_type": "code",
      "execution_count": 1,
      "metadata": {
        "id": "06tKk944ivp_"
      },
      "outputs": [],
      "source": [
        "import pandas as pd\n",
        "import numpy as np\n",
        "\n",
        "from matplotlib import pyplot as plt\n",
        "import seaborn as sns\n",
        "import folium\n",
        "\n",
        "from sklearn.preprocessing import MinMaxScaler\n",
        "from sklearn.preprocessing import StandardScaler\n",
        "import sklearn\n",
        "from sklearn.metrics import make_scorer, mean_squared_error, r2_score\n",
        "from sklearn.model_selection import RandomizedSearchCV, KFold\n",
        "from sklearn.neighbors import KNeighborsRegressor\n",
        "from xgboost import XGBRegressor\n",
        "\n",
        "import joblib\n",
        "\n",
        "import warnings\n",
        "warnings.filterwarnings(\"ignore\")\n",
        "\n",
        "RAND_SEED = 42"
      ]
    },
    {
      "cell_type": "markdown",
      "source": [
        "# Lectura de archivo"
      ],
      "metadata": {
        "id": "PFqltotdi5Nf"
      }
    },
    {
      "cell_type": "markdown",
      "source": [
        "### Desde google drive"
      ],
      "metadata": {
        "id": "XW2VlT6NjBSV"
      }
    },
    {
      "cell_type": "code",
      "source": [
        "from google.colab import drive\n",
        "drive.mount('/content/drive')\n",
        "drive_path = \"/content/drive/MyDrive/7506R-1C2024-GRUPO02\"\n",
        "\n",
        "train_file = drive_path + '/Dataset/ds_train.csv'\n",
        "test_file = drive_path + '/Dataset/ds_test.csv'\n",
        "\n",
        "ds_train = pd.read_csv(train_file)\n",
        "ds_test = pd.read_csv(test_file)\n",
        "using_drive = True"
      ],
      "metadata": {
        "id": "ZVCRGa7Ui5od",
        "colab": {
          "base_uri": "https://localhost:8080/"
        },
        "outputId": "6ea4664a-bb7b-45fa-dc78-1373e3036455"
      },
      "execution_count": 2,
      "outputs": [
        {
          "output_type": "stream",
          "name": "stdout",
          "text": [
            "Mounted at /content/drive\n"
          ]
        }
      ]
    },
    {
      "cell_type": "markdown",
      "source": [
        "### Desde maquina local"
      ],
      "metadata": {
        "id": "EHOEGtbRjBtK"
      }
    },
    {
      "cell_type": "code",
      "source": [
        "# Si se esta trabajando en local, descomentar esta celta y comentar la de arriba\n",
        "# train_file = './dataset/ds_train.csv'\n",
        "# test_file = './dataset/ds_test.csv'\n",
        "\n",
        "# ds_train = pd.read_csv(train_file)\n",
        "# ds_test = pd.read_csv(test_file)\n",
        "# using_drive = False"
      ],
      "metadata": {
        "id": "bpPzgV4yjCJn"
      },
      "execution_count": 3,
      "outputs": []
    },
    {
      "cell_type": "markdown",
      "source": [
        "# Regresión"
      ],
      "metadata": {
        "id": "QfI_QwMTjKGi"
      }
    },
    {
      "cell_type": "markdown",
      "source": [
        "### Ingenieria de caracteristicas"
      ],
      "metadata": {
        "id": "U2noxp1IHpoW"
      }
    },
    {
      "cell_type": "code",
      "source": [
        "# Creamos una copia del training dataset para modificarlo libremente\n",
        "ds_reg_train = ds_train.copy()\n",
        "ds_reg_test = ds_test.copy()"
      ],
      "metadata": {
        "id": "lASeKhidaIn1"
      },
      "execution_count": 4,
      "outputs": []
    },
    {
      "cell_type": "markdown",
      "source": [
        "Vemos las columnas actuales del dataset"
      ],
      "metadata": {
        "id": "2zlFhkwGZCB1"
      }
    },
    {
      "cell_type": "code",
      "source": [
        "ds_reg_train.dtypes"
      ],
      "metadata": {
        "colab": {
          "base_uri": "https://localhost:8080/"
        },
        "id": "PYExMyaAZAB5",
        "outputId": "de3f033b-be70-4692-b6ea-b65fd645027d"
      },
      "execution_count": 5,
      "outputs": [
        {
          "output_type": "execute_result",
          "data": {
            "text/plain": [
              "id                           object\n",
              "start_date                   object\n",
              "end_date                     object\n",
              "latitud                     float64\n",
              "longitud                    float64\n",
              "place_l3                     object\n",
              "property_type                object\n",
              "property_rooms                int64\n",
              "property_bedrooms             int64\n",
              "property_surface_total      float64\n",
              "property_surface_covered    float64\n",
              "property_price              float64\n",
              "dtype: object"
            ]
          },
          "metadata": {},
          "execution_count": 5
        }
      ]
    },
    {
      "cell_type": "code",
      "source": [
        "ds_reg_test.dtypes"
      ],
      "metadata": {
        "colab": {
          "base_uri": "https://localhost:8080/"
        },
        "id": "m1ygV5GR1CkZ",
        "outputId": "e7d8f076-34ed-43d3-904f-8c6776d21f19"
      },
      "execution_count": 6,
      "outputs": [
        {
          "output_type": "execute_result",
          "data": {
            "text/plain": [
              "id                           object\n",
              "start_date                   object\n",
              "end_date                     object\n",
              "latitud                     float64\n",
              "longitud                    float64\n",
              "place_l3                     object\n",
              "property_type                object\n",
              "property_rooms                int64\n",
              "property_bedrooms             int64\n",
              "property_surface_total      float64\n",
              "property_surface_covered    float64\n",
              "property_price              float64\n",
              "dtype: object"
            ]
          },
          "metadata": {},
          "execution_count": 6
        }
      ]
    },
    {
      "cell_type": "markdown",
      "source": [
        "Columnas consideradas irrelevantes:\n",
        "* ID de la propiedad\n",
        "* Las fechas de creacion/comienzo/finalizacion de la publicacion\n",
        "* Latitud y Longitud (ya que el barrio parece ser una mejor y mas confiable opcion a tener en cuenta para la ubicacion)\n",
        "* Surface covered (ya que esta tiene una correlacion alta con surface total)\n",
        "* Property Bedrooms (ya que esta altamente correlacionado con property rooms)"
      ],
      "metadata": {
        "id": "p-jsLYK-Zd3t"
      }
    },
    {
      "cell_type": "code",
      "source": [
        "# Eliminamos dichas columnas\n",
        "cols_a_eliminar = [\"id\", \"start_date\", \"end_date\", \"latitud\", \"longitud\", \"property_surface_covered\", \"property_bedrooms\"]\n",
        "ds_reg_train.drop(columns=cols_a_eliminar, inplace=True)\n",
        "ds_reg_test.drop(columns=cols_a_eliminar, inplace=True)\n",
        "ds_reg_train.dtypes"
      ],
      "metadata": {
        "colab": {
          "base_uri": "https://localhost:8080/"
        },
        "id": "cUwfyHZ6YTX2",
        "outputId": "0e59788e-34b1-450c-c652-33edc1638a91"
      },
      "execution_count": 7,
      "outputs": [
        {
          "output_type": "execute_result",
          "data": {
            "text/plain": [
              "place_l3                   object\n",
              "property_type              object\n",
              "property_rooms              int64\n",
              "property_surface_total    float64\n",
              "property_price            float64\n",
              "dtype: object"
            ]
          },
          "metadata": {},
          "execution_count": 7
        }
      ]
    },
    {
      "cell_type": "markdown",
      "source": [
        "Encodeo variables cualitativas"
      ],
      "metadata": {
        "id": "UF1hs2v2ahVx"
      }
    },
    {
      "cell_type": "code",
      "source": [
        "def encode_non_numerical_vars(ds, col):\n",
        "  \"\"\"returns encoding dict and its inverse dict\"\"\"\n",
        "  _col = ds[col].unique()\n",
        "\n",
        "  _col_dict = dict(zip(_col, range(len(_col))))\n",
        "  _col_inv_dict = dict(zip(range(len(_col)), _col))\n",
        "\n",
        "  ds[col] = ds[col].map(_col_dict)\n",
        "  return _col_dict, _col_inv_dict"
      ],
      "metadata": {
        "id": "gDiEBzsoafsw"
      },
      "execution_count": 8,
      "outputs": []
    },
    {
      "cell_type": "code",
      "source": [
        "# Mapear property_type a una representacion numerica\n",
        "property_type_dict, property_type_inv_dict = encode_non_numerical_vars(ds_reg_train, \"property_type\")\n",
        "_ = encode_non_numerical_vars(ds_reg_test, \"property_type\")"
      ],
      "metadata": {
        "id": "2-H_nGKOalYI"
      },
      "execution_count": 9,
      "outputs": []
    },
    {
      "cell_type": "code",
      "source": [
        "# Mapear barrios a una representacion numerica\n",
        "place_l3_dict, place_l3_inv_dict = encode_non_numerical_vars(ds_reg_train, \"place_l3\")\n",
        "_ = encode_non_numerical_vars(ds_reg_test, \"place_l3\")"
      ],
      "metadata": {
        "id": "fnFDpYAZ7poL"
      },
      "execution_count": 10,
      "outputs": []
    },
    {
      "cell_type": "markdown",
      "source": [
        "Normalizamos las varibles utilizando Min-Max"
      ],
      "metadata": {
        "id": "Mu5RYhWqa30m"
      }
    },
    {
      "cell_type": "code",
      "source": [
        "# Solo normalizamos las variables cuantitativas no encodeadas\n",
        "columnas_con_numeros = ['property_rooms', 'property_surface_total', 'property_price']\n",
        "scaler = MinMaxScaler()\n",
        "ds_reg_train[columnas_con_numeros] = scaler.fit_transform(ds_reg_train[columnas_con_numeros])\n",
        "ds_reg_test[columnas_con_numeros] = scaler.transform(ds_reg_test[columnas_con_numeros])"
      ],
      "metadata": {
        "id": "gaturF57a8uR"
      },
      "execution_count": 11,
      "outputs": []
    },
    {
      "cell_type": "code",
      "source": [
        "ds_reg_train.head()"
      ],
      "metadata": {
        "colab": {
          "base_uri": "https://localhost:8080/",
          "height": 206
        },
        "id": "PLEcdyfRbGQS",
        "outputId": "aa21951b-d737-4391-9d04-c5fc565a5ad9"
      },
      "execution_count": 12,
      "outputs": [
        {
          "output_type": "execute_result",
          "data": {
            "text/plain": [
              "   place_l3  property_type  property_rooms  property_surface_total  \\\n",
              "0         0              0        0.333333                  0.0736   \n",
              "1         1              0        0.111111                  0.0164   \n",
              "2         2              0        0.333333                  0.0740   \n",
              "3         2              0        0.000000                  0.0140   \n",
              "4         3              1        0.555556                  0.0780   \n",
              "\n",
              "   property_price  \n",
              "0        0.012383  \n",
              "1        0.006075  \n",
              "2        0.010724  \n",
              "3        0.003738  \n",
              "4        0.011215  "
            ],
            "text/html": [
              "\n",
              "  <div id=\"df-dbe830dc-9045-4f25-ac57-7834fe99a96b\" class=\"colab-df-container\">\n",
              "    <div>\n",
              "<style scoped>\n",
              "    .dataframe tbody tr th:only-of-type {\n",
              "        vertical-align: middle;\n",
              "    }\n",
              "\n",
              "    .dataframe tbody tr th {\n",
              "        vertical-align: top;\n",
              "    }\n",
              "\n",
              "    .dataframe thead th {\n",
              "        text-align: right;\n",
              "    }\n",
              "</style>\n",
              "<table border=\"1\" class=\"dataframe\">\n",
              "  <thead>\n",
              "    <tr style=\"text-align: right;\">\n",
              "      <th></th>\n",
              "      <th>place_l3</th>\n",
              "      <th>property_type</th>\n",
              "      <th>property_rooms</th>\n",
              "      <th>property_surface_total</th>\n",
              "      <th>property_price</th>\n",
              "    </tr>\n",
              "  </thead>\n",
              "  <tbody>\n",
              "    <tr>\n",
              "      <th>0</th>\n",
              "      <td>0</td>\n",
              "      <td>0</td>\n",
              "      <td>0.333333</td>\n",
              "      <td>0.0736</td>\n",
              "      <td>0.012383</td>\n",
              "    </tr>\n",
              "    <tr>\n",
              "      <th>1</th>\n",
              "      <td>1</td>\n",
              "      <td>0</td>\n",
              "      <td>0.111111</td>\n",
              "      <td>0.0164</td>\n",
              "      <td>0.006075</td>\n",
              "    </tr>\n",
              "    <tr>\n",
              "      <th>2</th>\n",
              "      <td>2</td>\n",
              "      <td>0</td>\n",
              "      <td>0.333333</td>\n",
              "      <td>0.0740</td>\n",
              "      <td>0.010724</td>\n",
              "    </tr>\n",
              "    <tr>\n",
              "      <th>3</th>\n",
              "      <td>2</td>\n",
              "      <td>0</td>\n",
              "      <td>0.000000</td>\n",
              "      <td>0.0140</td>\n",
              "      <td>0.003738</td>\n",
              "    </tr>\n",
              "    <tr>\n",
              "      <th>4</th>\n",
              "      <td>3</td>\n",
              "      <td>1</td>\n",
              "      <td>0.555556</td>\n",
              "      <td>0.0780</td>\n",
              "      <td>0.011215</td>\n",
              "    </tr>\n",
              "  </tbody>\n",
              "</table>\n",
              "</div>\n",
              "    <div class=\"colab-df-buttons\">\n",
              "\n",
              "  <div class=\"colab-df-container\">\n",
              "    <button class=\"colab-df-convert\" onclick=\"convertToInteractive('df-dbe830dc-9045-4f25-ac57-7834fe99a96b')\"\n",
              "            title=\"Convert this dataframe to an interactive table.\"\n",
              "            style=\"display:none;\">\n",
              "\n",
              "  <svg xmlns=\"http://www.w3.org/2000/svg\" height=\"24px\" viewBox=\"0 -960 960 960\">\n",
              "    <path d=\"M120-120v-720h720v720H120Zm60-500h600v-160H180v160Zm220 220h160v-160H400v160Zm0 220h160v-160H400v160ZM180-400h160v-160H180v160Zm440 0h160v-160H620v160ZM180-180h160v-160H180v160Zm440 0h160v-160H620v160Z\"/>\n",
              "  </svg>\n",
              "    </button>\n",
              "\n",
              "  <style>\n",
              "    .colab-df-container {\n",
              "      display:flex;\n",
              "      gap: 12px;\n",
              "    }\n",
              "\n",
              "    .colab-df-convert {\n",
              "      background-color: #E8F0FE;\n",
              "      border: none;\n",
              "      border-radius: 50%;\n",
              "      cursor: pointer;\n",
              "      display: none;\n",
              "      fill: #1967D2;\n",
              "      height: 32px;\n",
              "      padding: 0 0 0 0;\n",
              "      width: 32px;\n",
              "    }\n",
              "\n",
              "    .colab-df-convert:hover {\n",
              "      background-color: #E2EBFA;\n",
              "      box-shadow: 0px 1px 2px rgba(60, 64, 67, 0.3), 0px 1px 3px 1px rgba(60, 64, 67, 0.15);\n",
              "      fill: #174EA6;\n",
              "    }\n",
              "\n",
              "    .colab-df-buttons div {\n",
              "      margin-bottom: 4px;\n",
              "    }\n",
              "\n",
              "    [theme=dark] .colab-df-convert {\n",
              "      background-color: #3B4455;\n",
              "      fill: #D2E3FC;\n",
              "    }\n",
              "\n",
              "    [theme=dark] .colab-df-convert:hover {\n",
              "      background-color: #434B5C;\n",
              "      box-shadow: 0px 1px 3px 1px rgba(0, 0, 0, 0.15);\n",
              "      filter: drop-shadow(0px 1px 2px rgba(0, 0, 0, 0.3));\n",
              "      fill: #FFFFFF;\n",
              "    }\n",
              "  </style>\n",
              "\n",
              "    <script>\n",
              "      const buttonEl =\n",
              "        document.querySelector('#df-dbe830dc-9045-4f25-ac57-7834fe99a96b button.colab-df-convert');\n",
              "      buttonEl.style.display =\n",
              "        google.colab.kernel.accessAllowed ? 'block' : 'none';\n",
              "\n",
              "      async function convertToInteractive(key) {\n",
              "        const element = document.querySelector('#df-dbe830dc-9045-4f25-ac57-7834fe99a96b');\n",
              "        const dataTable =\n",
              "          await google.colab.kernel.invokeFunction('convertToInteractive',\n",
              "                                                    [key], {});\n",
              "        if (!dataTable) return;\n",
              "\n",
              "        const docLinkHtml = 'Like what you see? Visit the ' +\n",
              "          '<a target=\"_blank\" href=https://colab.research.google.com/notebooks/data_table.ipynb>data table notebook</a>'\n",
              "          + ' to learn more about interactive tables.';\n",
              "        element.innerHTML = '';\n",
              "        dataTable['output_type'] = 'display_data';\n",
              "        await google.colab.output.renderOutput(dataTable, element);\n",
              "        const docLink = document.createElement('div');\n",
              "        docLink.innerHTML = docLinkHtml;\n",
              "        element.appendChild(docLink);\n",
              "      }\n",
              "    </script>\n",
              "  </div>\n",
              "\n",
              "\n",
              "<div id=\"df-1981cd69-5a12-438b-9d38-5cce5ee22e04\">\n",
              "  <button class=\"colab-df-quickchart\" onclick=\"quickchart('df-1981cd69-5a12-438b-9d38-5cce5ee22e04')\"\n",
              "            title=\"Suggest charts\"\n",
              "            style=\"display:none;\">\n",
              "\n",
              "<svg xmlns=\"http://www.w3.org/2000/svg\" height=\"24px\"viewBox=\"0 0 24 24\"\n",
              "     width=\"24px\">\n",
              "    <g>\n",
              "        <path d=\"M19 3H5c-1.1 0-2 .9-2 2v14c0 1.1.9 2 2 2h14c1.1 0 2-.9 2-2V5c0-1.1-.9-2-2-2zM9 17H7v-7h2v7zm4 0h-2V7h2v10zm4 0h-2v-4h2v4z\"/>\n",
              "    </g>\n",
              "</svg>\n",
              "  </button>\n",
              "\n",
              "<style>\n",
              "  .colab-df-quickchart {\n",
              "      --bg-color: #E8F0FE;\n",
              "      --fill-color: #1967D2;\n",
              "      --hover-bg-color: #E2EBFA;\n",
              "      --hover-fill-color: #174EA6;\n",
              "      --disabled-fill-color: #AAA;\n",
              "      --disabled-bg-color: #DDD;\n",
              "  }\n",
              "\n",
              "  [theme=dark] .colab-df-quickchart {\n",
              "      --bg-color: #3B4455;\n",
              "      --fill-color: #D2E3FC;\n",
              "      --hover-bg-color: #434B5C;\n",
              "      --hover-fill-color: #FFFFFF;\n",
              "      --disabled-bg-color: #3B4455;\n",
              "      --disabled-fill-color: #666;\n",
              "  }\n",
              "\n",
              "  .colab-df-quickchart {\n",
              "    background-color: var(--bg-color);\n",
              "    border: none;\n",
              "    border-radius: 50%;\n",
              "    cursor: pointer;\n",
              "    display: none;\n",
              "    fill: var(--fill-color);\n",
              "    height: 32px;\n",
              "    padding: 0;\n",
              "    width: 32px;\n",
              "  }\n",
              "\n",
              "  .colab-df-quickchart:hover {\n",
              "    background-color: var(--hover-bg-color);\n",
              "    box-shadow: 0 1px 2px rgba(60, 64, 67, 0.3), 0 1px 3px 1px rgba(60, 64, 67, 0.15);\n",
              "    fill: var(--button-hover-fill-color);\n",
              "  }\n",
              "\n",
              "  .colab-df-quickchart-complete:disabled,\n",
              "  .colab-df-quickchart-complete:disabled:hover {\n",
              "    background-color: var(--disabled-bg-color);\n",
              "    fill: var(--disabled-fill-color);\n",
              "    box-shadow: none;\n",
              "  }\n",
              "\n",
              "  .colab-df-spinner {\n",
              "    border: 2px solid var(--fill-color);\n",
              "    border-color: transparent;\n",
              "    border-bottom-color: var(--fill-color);\n",
              "    animation:\n",
              "      spin 1s steps(1) infinite;\n",
              "  }\n",
              "\n",
              "  @keyframes spin {\n",
              "    0% {\n",
              "      border-color: transparent;\n",
              "      border-bottom-color: var(--fill-color);\n",
              "      border-left-color: var(--fill-color);\n",
              "    }\n",
              "    20% {\n",
              "      border-color: transparent;\n",
              "      border-left-color: var(--fill-color);\n",
              "      border-top-color: var(--fill-color);\n",
              "    }\n",
              "    30% {\n",
              "      border-color: transparent;\n",
              "      border-left-color: var(--fill-color);\n",
              "      border-top-color: var(--fill-color);\n",
              "      border-right-color: var(--fill-color);\n",
              "    }\n",
              "    40% {\n",
              "      border-color: transparent;\n",
              "      border-right-color: var(--fill-color);\n",
              "      border-top-color: var(--fill-color);\n",
              "    }\n",
              "    60% {\n",
              "      border-color: transparent;\n",
              "      border-right-color: var(--fill-color);\n",
              "    }\n",
              "    80% {\n",
              "      border-color: transparent;\n",
              "      border-right-color: var(--fill-color);\n",
              "      border-bottom-color: var(--fill-color);\n",
              "    }\n",
              "    90% {\n",
              "      border-color: transparent;\n",
              "      border-bottom-color: var(--fill-color);\n",
              "    }\n",
              "  }\n",
              "</style>\n",
              "\n",
              "  <script>\n",
              "    async function quickchart(key) {\n",
              "      const quickchartButtonEl =\n",
              "        document.querySelector('#' + key + ' button');\n",
              "      quickchartButtonEl.disabled = true;  // To prevent multiple clicks.\n",
              "      quickchartButtonEl.classList.add('colab-df-spinner');\n",
              "      try {\n",
              "        const charts = await google.colab.kernel.invokeFunction(\n",
              "            'suggestCharts', [key], {});\n",
              "      } catch (error) {\n",
              "        console.error('Error during call to suggestCharts:', error);\n",
              "      }\n",
              "      quickchartButtonEl.classList.remove('colab-df-spinner');\n",
              "      quickchartButtonEl.classList.add('colab-df-quickchart-complete');\n",
              "    }\n",
              "    (() => {\n",
              "      let quickchartButtonEl =\n",
              "        document.querySelector('#df-1981cd69-5a12-438b-9d38-5cce5ee22e04 button');\n",
              "      quickchartButtonEl.style.display =\n",
              "        google.colab.kernel.accessAllowed ? 'block' : 'none';\n",
              "    })();\n",
              "  </script>\n",
              "</div>\n",
              "    </div>\n",
              "  </div>\n"
            ],
            "application/vnd.google.colaboratory.intrinsic+json": {
              "type": "dataframe",
              "variable_name": "ds_reg_train",
              "summary": "{\n  \"name\": \"ds_reg_train\",\n  \"rows\": 72216,\n  \"fields\": [\n    {\n      \"column\": \"place_l3\",\n      \"properties\": {\n        \"dtype\": \"number\",\n        \"std\": 12,\n        \"min\": 0,\n        \"max\": 56,\n        \"num_unique_values\": 57,\n        \"samples\": [\n          0,\n          5,\n          30\n        ],\n        \"semantic_type\": \"\",\n        \"description\": \"\"\n      }\n    },\n    {\n      \"column\": \"property_type\",\n      \"properties\": {\n        \"dtype\": \"number\",\n        \"std\": 0,\n        \"min\": 0,\n        \"max\": 2,\n        \"num_unique_values\": 3,\n        \"samples\": [\n          0,\n          1,\n          2\n        ],\n        \"semantic_type\": \"\",\n        \"description\": \"\"\n      }\n    },\n    {\n      \"column\": \"property_rooms\",\n      \"properties\": {\n        \"dtype\": \"number\",\n        \"std\": 0.1493585089378856,\n        \"min\": 0.0,\n        \"max\": 1.0,\n        \"num_unique_values\": 10,\n        \"samples\": [\n          1.0,\n          0.1111111111111111,\n          0.4444444444444445\n        ],\n        \"semantic_type\": \"\",\n        \"description\": \"\"\n      }\n    },\n    {\n      \"column\": \"property_surface_total\",\n      \"properties\": {\n        \"dtype\": \"number\",\n        \"std\": 0.035072506844502714,\n        \"min\": 0.0,\n        \"max\": 1.0,\n        \"num_unique_values\": 660,\n        \"samples\": [\n          0.20040000000000002,\n          0.228,\n          0.0712\n        ],\n        \"semantic_type\": \"\",\n        \"description\": \"\"\n      }\n    },\n    {\n      \"column\": \"property_price\",\n      \"properties\": {\n        \"dtype\": \"number\",\n        \"std\": 0.01447440852084552,\n        \"min\": 0.0,\n        \"max\": 1.0,\n        \"num_unique_values\": 4090,\n        \"samples\": [\n          0.01111214953271028,\n          0.013878504672897196,\n          0.0058831775700934575\n        ],\n        \"semantic_type\": \"\",\n        \"description\": \"\"\n      }\n    }\n  ]\n}"
            }
          },
          "metadata": {},
          "execution_count": 12
        }
      ]
    },
    {
      "cell_type": "code",
      "source": [
        "ds_reg_test.head()"
      ],
      "metadata": {
        "colab": {
          "base_uri": "https://localhost:8080/",
          "height": 206
        },
        "id": "V2vgx_os1uSt",
        "outputId": "e3a648f0-bf1f-41ec-cd37-716b09e6eb9c"
      },
      "execution_count": 13,
      "outputs": [
        {
          "output_type": "execute_result",
          "data": {
            "text/plain": [
              "   place_l3  property_type  property_rooms  property_surface_total  \\\n",
              "0         0              0        0.111111                  0.0180   \n",
              "1         1              1        0.333333                  0.0744   \n",
              "2         2              0        0.111111                  0.0212   \n",
              "3         3              0        0.333333                  0.0276   \n",
              "4         4              0        0.111111                  0.0132   \n",
              "\n",
              "   property_price  \n",
              "0        0.003738  \n",
              "1        0.012150  \n",
              "2        0.006028  \n",
              "3        0.001752  \n",
              "4        0.003972  "
            ],
            "text/html": [
              "\n",
              "  <div id=\"df-6e286072-7494-43bc-87bd-144ee8fad242\" class=\"colab-df-container\">\n",
              "    <div>\n",
              "<style scoped>\n",
              "    .dataframe tbody tr th:only-of-type {\n",
              "        vertical-align: middle;\n",
              "    }\n",
              "\n",
              "    .dataframe tbody tr th {\n",
              "        vertical-align: top;\n",
              "    }\n",
              "\n",
              "    .dataframe thead th {\n",
              "        text-align: right;\n",
              "    }\n",
              "</style>\n",
              "<table border=\"1\" class=\"dataframe\">\n",
              "  <thead>\n",
              "    <tr style=\"text-align: right;\">\n",
              "      <th></th>\n",
              "      <th>place_l3</th>\n",
              "      <th>property_type</th>\n",
              "      <th>property_rooms</th>\n",
              "      <th>property_surface_total</th>\n",
              "      <th>property_price</th>\n",
              "    </tr>\n",
              "  </thead>\n",
              "  <tbody>\n",
              "    <tr>\n",
              "      <th>0</th>\n",
              "      <td>0</td>\n",
              "      <td>0</td>\n",
              "      <td>0.111111</td>\n",
              "      <td>0.0180</td>\n",
              "      <td>0.003738</td>\n",
              "    </tr>\n",
              "    <tr>\n",
              "      <th>1</th>\n",
              "      <td>1</td>\n",
              "      <td>1</td>\n",
              "      <td>0.333333</td>\n",
              "      <td>0.0744</td>\n",
              "      <td>0.012150</td>\n",
              "    </tr>\n",
              "    <tr>\n",
              "      <th>2</th>\n",
              "      <td>2</td>\n",
              "      <td>0</td>\n",
              "      <td>0.111111</td>\n",
              "      <td>0.0212</td>\n",
              "      <td>0.006028</td>\n",
              "    </tr>\n",
              "    <tr>\n",
              "      <th>3</th>\n",
              "      <td>3</td>\n",
              "      <td>0</td>\n",
              "      <td>0.333333</td>\n",
              "      <td>0.0276</td>\n",
              "      <td>0.001752</td>\n",
              "    </tr>\n",
              "    <tr>\n",
              "      <th>4</th>\n",
              "      <td>4</td>\n",
              "      <td>0</td>\n",
              "      <td>0.111111</td>\n",
              "      <td>0.0132</td>\n",
              "      <td>0.003972</td>\n",
              "    </tr>\n",
              "  </tbody>\n",
              "</table>\n",
              "</div>\n",
              "    <div class=\"colab-df-buttons\">\n",
              "\n",
              "  <div class=\"colab-df-container\">\n",
              "    <button class=\"colab-df-convert\" onclick=\"convertToInteractive('df-6e286072-7494-43bc-87bd-144ee8fad242')\"\n",
              "            title=\"Convert this dataframe to an interactive table.\"\n",
              "            style=\"display:none;\">\n",
              "\n",
              "  <svg xmlns=\"http://www.w3.org/2000/svg\" height=\"24px\" viewBox=\"0 -960 960 960\">\n",
              "    <path d=\"M120-120v-720h720v720H120Zm60-500h600v-160H180v160Zm220 220h160v-160H400v160Zm0 220h160v-160H400v160ZM180-400h160v-160H180v160Zm440 0h160v-160H620v160ZM180-180h160v-160H180v160Zm440 0h160v-160H620v160Z\"/>\n",
              "  </svg>\n",
              "    </button>\n",
              "\n",
              "  <style>\n",
              "    .colab-df-container {\n",
              "      display:flex;\n",
              "      gap: 12px;\n",
              "    }\n",
              "\n",
              "    .colab-df-convert {\n",
              "      background-color: #E8F0FE;\n",
              "      border: none;\n",
              "      border-radius: 50%;\n",
              "      cursor: pointer;\n",
              "      display: none;\n",
              "      fill: #1967D2;\n",
              "      height: 32px;\n",
              "      padding: 0 0 0 0;\n",
              "      width: 32px;\n",
              "    }\n",
              "\n",
              "    .colab-df-convert:hover {\n",
              "      background-color: #E2EBFA;\n",
              "      box-shadow: 0px 1px 2px rgba(60, 64, 67, 0.3), 0px 1px 3px 1px rgba(60, 64, 67, 0.15);\n",
              "      fill: #174EA6;\n",
              "    }\n",
              "\n",
              "    .colab-df-buttons div {\n",
              "      margin-bottom: 4px;\n",
              "    }\n",
              "\n",
              "    [theme=dark] .colab-df-convert {\n",
              "      background-color: #3B4455;\n",
              "      fill: #D2E3FC;\n",
              "    }\n",
              "\n",
              "    [theme=dark] .colab-df-convert:hover {\n",
              "      background-color: #434B5C;\n",
              "      box-shadow: 0px 1px 3px 1px rgba(0, 0, 0, 0.15);\n",
              "      filter: drop-shadow(0px 1px 2px rgba(0, 0, 0, 0.3));\n",
              "      fill: #FFFFFF;\n",
              "    }\n",
              "  </style>\n",
              "\n",
              "    <script>\n",
              "      const buttonEl =\n",
              "        document.querySelector('#df-6e286072-7494-43bc-87bd-144ee8fad242 button.colab-df-convert');\n",
              "      buttonEl.style.display =\n",
              "        google.colab.kernel.accessAllowed ? 'block' : 'none';\n",
              "\n",
              "      async function convertToInteractive(key) {\n",
              "        const element = document.querySelector('#df-6e286072-7494-43bc-87bd-144ee8fad242');\n",
              "        const dataTable =\n",
              "          await google.colab.kernel.invokeFunction('convertToInteractive',\n",
              "                                                    [key], {});\n",
              "        if (!dataTable) return;\n",
              "\n",
              "        const docLinkHtml = 'Like what you see? Visit the ' +\n",
              "          '<a target=\"_blank\" href=https://colab.research.google.com/notebooks/data_table.ipynb>data table notebook</a>'\n",
              "          + ' to learn more about interactive tables.';\n",
              "        element.innerHTML = '';\n",
              "        dataTable['output_type'] = 'display_data';\n",
              "        await google.colab.output.renderOutput(dataTable, element);\n",
              "        const docLink = document.createElement('div');\n",
              "        docLink.innerHTML = docLinkHtml;\n",
              "        element.appendChild(docLink);\n",
              "      }\n",
              "    </script>\n",
              "  </div>\n",
              "\n",
              "\n",
              "<div id=\"df-1513bc82-1b36-43c7-892e-dd47a1eb8450\">\n",
              "  <button class=\"colab-df-quickchart\" onclick=\"quickchart('df-1513bc82-1b36-43c7-892e-dd47a1eb8450')\"\n",
              "            title=\"Suggest charts\"\n",
              "            style=\"display:none;\">\n",
              "\n",
              "<svg xmlns=\"http://www.w3.org/2000/svg\" height=\"24px\"viewBox=\"0 0 24 24\"\n",
              "     width=\"24px\">\n",
              "    <g>\n",
              "        <path d=\"M19 3H5c-1.1 0-2 .9-2 2v14c0 1.1.9 2 2 2h14c1.1 0 2-.9 2-2V5c0-1.1-.9-2-2-2zM9 17H7v-7h2v7zm4 0h-2V7h2v10zm4 0h-2v-4h2v4z\"/>\n",
              "    </g>\n",
              "</svg>\n",
              "  </button>\n",
              "\n",
              "<style>\n",
              "  .colab-df-quickchart {\n",
              "      --bg-color: #E8F0FE;\n",
              "      --fill-color: #1967D2;\n",
              "      --hover-bg-color: #E2EBFA;\n",
              "      --hover-fill-color: #174EA6;\n",
              "      --disabled-fill-color: #AAA;\n",
              "      --disabled-bg-color: #DDD;\n",
              "  }\n",
              "\n",
              "  [theme=dark] .colab-df-quickchart {\n",
              "      --bg-color: #3B4455;\n",
              "      --fill-color: #D2E3FC;\n",
              "      --hover-bg-color: #434B5C;\n",
              "      --hover-fill-color: #FFFFFF;\n",
              "      --disabled-bg-color: #3B4455;\n",
              "      --disabled-fill-color: #666;\n",
              "  }\n",
              "\n",
              "  .colab-df-quickchart {\n",
              "    background-color: var(--bg-color);\n",
              "    border: none;\n",
              "    border-radius: 50%;\n",
              "    cursor: pointer;\n",
              "    display: none;\n",
              "    fill: var(--fill-color);\n",
              "    height: 32px;\n",
              "    padding: 0;\n",
              "    width: 32px;\n",
              "  }\n",
              "\n",
              "  .colab-df-quickchart:hover {\n",
              "    background-color: var(--hover-bg-color);\n",
              "    box-shadow: 0 1px 2px rgba(60, 64, 67, 0.3), 0 1px 3px 1px rgba(60, 64, 67, 0.15);\n",
              "    fill: var(--button-hover-fill-color);\n",
              "  }\n",
              "\n",
              "  .colab-df-quickchart-complete:disabled,\n",
              "  .colab-df-quickchart-complete:disabled:hover {\n",
              "    background-color: var(--disabled-bg-color);\n",
              "    fill: var(--disabled-fill-color);\n",
              "    box-shadow: none;\n",
              "  }\n",
              "\n",
              "  .colab-df-spinner {\n",
              "    border: 2px solid var(--fill-color);\n",
              "    border-color: transparent;\n",
              "    border-bottom-color: var(--fill-color);\n",
              "    animation:\n",
              "      spin 1s steps(1) infinite;\n",
              "  }\n",
              "\n",
              "  @keyframes spin {\n",
              "    0% {\n",
              "      border-color: transparent;\n",
              "      border-bottom-color: var(--fill-color);\n",
              "      border-left-color: var(--fill-color);\n",
              "    }\n",
              "    20% {\n",
              "      border-color: transparent;\n",
              "      border-left-color: var(--fill-color);\n",
              "      border-top-color: var(--fill-color);\n",
              "    }\n",
              "    30% {\n",
              "      border-color: transparent;\n",
              "      border-left-color: var(--fill-color);\n",
              "      border-top-color: var(--fill-color);\n",
              "      border-right-color: var(--fill-color);\n",
              "    }\n",
              "    40% {\n",
              "      border-color: transparent;\n",
              "      border-right-color: var(--fill-color);\n",
              "      border-top-color: var(--fill-color);\n",
              "    }\n",
              "    60% {\n",
              "      border-color: transparent;\n",
              "      border-right-color: var(--fill-color);\n",
              "    }\n",
              "    80% {\n",
              "      border-color: transparent;\n",
              "      border-right-color: var(--fill-color);\n",
              "      border-bottom-color: var(--fill-color);\n",
              "    }\n",
              "    90% {\n",
              "      border-color: transparent;\n",
              "      border-bottom-color: var(--fill-color);\n",
              "    }\n",
              "  }\n",
              "</style>\n",
              "\n",
              "  <script>\n",
              "    async function quickchart(key) {\n",
              "      const quickchartButtonEl =\n",
              "        document.querySelector('#' + key + ' button');\n",
              "      quickchartButtonEl.disabled = true;  // To prevent multiple clicks.\n",
              "      quickchartButtonEl.classList.add('colab-df-spinner');\n",
              "      try {\n",
              "        const charts = await google.colab.kernel.invokeFunction(\n",
              "            'suggestCharts', [key], {});\n",
              "      } catch (error) {\n",
              "        console.error('Error during call to suggestCharts:', error);\n",
              "      }\n",
              "      quickchartButtonEl.classList.remove('colab-df-spinner');\n",
              "      quickchartButtonEl.classList.add('colab-df-quickchart-complete');\n",
              "    }\n",
              "    (() => {\n",
              "      let quickchartButtonEl =\n",
              "        document.querySelector('#df-1513bc82-1b36-43c7-892e-dd47a1eb8450 button');\n",
              "      quickchartButtonEl.style.display =\n",
              "        google.colab.kernel.accessAllowed ? 'block' : 'none';\n",
              "    })();\n",
              "  </script>\n",
              "</div>\n",
              "    </div>\n",
              "  </div>\n"
            ],
            "application/vnd.google.colaboratory.intrinsic+json": {
              "type": "dataframe",
              "variable_name": "ds_reg_test",
              "summary": "{\n  \"name\": \"ds_reg_test\",\n  \"rows\": 18054,\n  \"fields\": [\n    {\n      \"column\": \"place_l3\",\n      \"properties\": {\n        \"dtype\": \"number\",\n        \"std\": 12,\n        \"min\": 0,\n        \"max\": 56,\n        \"num_unique_values\": 57,\n        \"samples\": [\n          0,\n          5,\n          30\n        ],\n        \"semantic_type\": \"\",\n        \"description\": \"\"\n      }\n    },\n    {\n      \"column\": \"property_type\",\n      \"properties\": {\n        \"dtype\": \"number\",\n        \"std\": 0,\n        \"min\": 0,\n        \"max\": 2,\n        \"num_unique_values\": 3,\n        \"samples\": [\n          0,\n          1,\n          2\n        ],\n        \"semantic_type\": \"\",\n        \"description\": \"\"\n      }\n    },\n    {\n      \"column\": \"property_rooms\",\n      \"properties\": {\n        \"dtype\": \"number\",\n        \"std\": 0.14917579263363273,\n        \"min\": 0.0,\n        \"max\": 1.0,\n        \"num_unique_values\": 10,\n        \"samples\": [\n          0.7777777777777777,\n          0.3333333333333333,\n          0.8888888888888888\n        ],\n        \"semantic_type\": \"\",\n        \"description\": \"\"\n      }\n    },\n    {\n      \"column\": \"property_surface_total\",\n      \"properties\": {\n        \"dtype\": \"number\",\n        \"std\": 0.03738845657036025,\n        \"min\": 0.0,\n        \"max\": 1.08,\n        \"num_unique_values\": 509,\n        \"samples\": [\n          0.031200000000000002,\n          0.0888,\n          0.21400000000000002\n        ],\n        \"semantic_type\": \"\",\n        \"description\": \"\"\n      }\n    },\n    {\n      \"column\": \"property_price\",\n      \"properties\": {\n        \"dtype\": \"number\",\n        \"std\": 0.01456379210679609,\n        \"min\": 2.5373197445764484e-10,\n        \"max\": 0.5607476635514018,\n        \"num_unique_values\": 1834,\n        \"samples\": [\n          0.004953271028037383,\n          0.00883177570093458,\n          0.0038784579439252336\n        ],\n        \"semantic_type\": \"\",\n        \"description\": \"\"\n      }\n    }\n  ]\n}"
            }
          },
          "metadata": {},
          "execution_count": 13
        }
      ]
    },
    {
      "cell_type": "markdown",
      "source": [
        "### Modelo 1: KNN\n"
      ],
      "metadata": {
        "id": "8Y477WCLjLiq"
      }
    },
    {
      "cell_type": "markdown",
      "source": [
        "#### Construccion"
      ],
      "metadata": {
        "id": "4TdzyXopede9"
      }
    },
    {
      "cell_type": "code",
      "source": [
        "# dividimos los sets en x, y. x son los parametros con los que entrenar, e y son los parametros a predecir\n",
        "x_train = ds_reg_train.drop(columns=[\"property_price\"])\n",
        "y_train = ds_reg_train[\"property_price\"].copy()\n",
        "\n",
        "x_test = ds_reg_test.drop(columns=[\"property_price\"])\n",
        "y_test = ds_reg_test[\"property_price\"].copy()"
      ],
      "metadata": {
        "id": "9NMW6_GcuGsZ"
      },
      "execution_count": 14,
      "outputs": []
    },
    {
      "cell_type": "markdown",
      "source": [
        "##### Cross-validation"
      ],
      "metadata": {
        "id": "sgVriA9muNKw"
      }
    },
    {
      "cell_type": "markdown",
      "source": [
        "Busco los mejores parametros para KNN con respecto Root Mean Squared Error."
      ],
      "metadata": {
        "id": "VCK9hbxmyOW3"
      }
    },
    {
      "cell_type": "code",
      "source": [
        "kfoldcv = KFold(n_splits=10)\n",
        "scorer_fn = make_scorer(r2_score)\n",
        "n = 10\n",
        "\n",
        "#Grilla de Parámetros\n",
        "params_grid={ 'n_neighbors':range(5,25),\n",
        "              'weights':['distance','uniform'],\n",
        "              'algorithm':['ball_tree', 'kd_tree', 'brute'],\n",
        "              'metric':['euclidean','manhattan','chebyshev']\n",
        "             }\n",
        "\n",
        "# Clasificador KNN\n",
        "knn_model = KNeighborsRegressor()\n",
        "\n",
        "# Random Search con 10 Folds y 10 iteraciones\n",
        "rs = RandomizedSearchCV(knn_model, params_grid, scoring=scorer_fn, cv=kfoldcv, n_iter=n, random_state=RAND_SEED)\n",
        "\n",
        "rs_fit = rs.fit(x_train, y_train)\n",
        "rs_fit.best_score_ # vemos el mejor score"
      ],
      "metadata": {
        "colab": {
          "base_uri": "https://localhost:8080/"
        },
        "id": "DUGL2phSxWYP",
        "outputId": "8d4ed206-ef28-4aa7-8c2a-cc5bac2dd6ea"
      },
      "execution_count": 15,
      "outputs": [
        {
          "output_type": "execute_result",
          "data": {
            "text/plain": [
              "0.78210729761634"
            ]
          },
          "metadata": {},
          "execution_count": 15
        }
      ]
    },
    {
      "cell_type": "markdown",
      "source": [
        "Vemos los mejores parametros elegidos por el cross validation"
      ],
      "metadata": {
        "id": "lFK3uUbDmI3A"
      }
    },
    {
      "cell_type": "code",
      "source": [
        "params_elegidos=rs_fit.cv_results_['params'][np.argmax(rs_fit.cv_results_['mean_test_score'])]\n",
        "params_elegidos"
      ],
      "metadata": {
        "colab": {
          "base_uri": "https://localhost:8080/"
        },
        "id": "U0TF-2VUkldL",
        "outputId": "df3d5fd3-adba-4567-a0c5-9841a3e4d651"
      },
      "execution_count": 16,
      "outputs": [
        {
          "output_type": "execute_result",
          "data": {
            "text/plain": [
              "{'weights': 'distance',\n",
              " 'n_neighbors': 21,\n",
              " 'metric': 'euclidean',\n",
              " 'algorithm': 'brute'}"
            ]
          },
          "metadata": {},
          "execution_count": 16
        }
      ]
    },
    {
      "cell_type": "markdown",
      "source": [
        "##### Creacion del mejor modelo"
      ],
      "metadata": {
        "id": "rorUp_ZimgTy"
      }
    },
    {
      "cell_type": "code",
      "source": [
        "# Mejor Regresor KNN\n",
        "best_knn_model = KNeighborsRegressor(\n",
        "    n_neighbors = params_elegidos['n_neighbors'],\n",
        "    weights = params_elegidos['weights'],\n",
        "    algorithm = params_elegidos['algorithm'],\n",
        "    metric = params_elegidos['metric'],\n",
        ")\n",
        "\n",
        "best_knn_model.fit(x_train, y_train)\n",
        "y_train_pred_best_knn_model = best_knn_model.predict(x_train)\n",
        "y_test_pred_best_knn_model = best_knn_model.predict(x_test)"
      ],
      "metadata": {
        "id": "TvraP-C7mjqk"
      },
      "execution_count": 17,
      "outputs": []
    },
    {
      "cell_type": "markdown",
      "source": [
        "**Observamos como performa en test**"
      ],
      "metadata": {
        "id": "qQc5h5GK-Sjf"
      }
    },
    {
      "cell_type": "code",
      "source": [
        "# Performance\n",
        "performance = pd.DataFrame({'Valor Real': y_test,\n",
        "                            'Prediccion': y_test_pred_best_knn_model,\n",
        "                            'Error': y_test - y_test_pred_best_knn_model})\n",
        "# View\n",
        "performance.head()"
      ],
      "metadata": {
        "colab": {
          "base_uri": "https://localhost:8080/",
          "height": 206
        },
        "id": "FBc4DBvqiqtq",
        "outputId": "e92cc1a2-4684-453f-876d-e474c046fd31"
      },
      "execution_count": 18,
      "outputs": [
        {
          "output_type": "execute_result",
          "data": {
            "text/plain": [
              "   Valor Real  Prediccion     Error\n",
              "0    0.003738    0.005928 -0.002190\n",
              "1    0.012150    0.016377 -0.004228\n",
              "2    0.006028    0.006258 -0.000230\n",
              "3    0.001752    0.006019 -0.004267\n",
              "4    0.003972    0.002922  0.001050"
            ],
            "text/html": [
              "\n",
              "  <div id=\"df-b3e42c2a-3af2-4a14-b8a3-11de8984e1a1\" class=\"colab-df-container\">\n",
              "    <div>\n",
              "<style scoped>\n",
              "    .dataframe tbody tr th:only-of-type {\n",
              "        vertical-align: middle;\n",
              "    }\n",
              "\n",
              "    .dataframe tbody tr th {\n",
              "        vertical-align: top;\n",
              "    }\n",
              "\n",
              "    .dataframe thead th {\n",
              "        text-align: right;\n",
              "    }\n",
              "</style>\n",
              "<table border=\"1\" class=\"dataframe\">\n",
              "  <thead>\n",
              "    <tr style=\"text-align: right;\">\n",
              "      <th></th>\n",
              "      <th>Valor Real</th>\n",
              "      <th>Prediccion</th>\n",
              "      <th>Error</th>\n",
              "    </tr>\n",
              "  </thead>\n",
              "  <tbody>\n",
              "    <tr>\n",
              "      <th>0</th>\n",
              "      <td>0.003738</td>\n",
              "      <td>0.005928</td>\n",
              "      <td>-0.002190</td>\n",
              "    </tr>\n",
              "    <tr>\n",
              "      <th>1</th>\n",
              "      <td>0.012150</td>\n",
              "      <td>0.016377</td>\n",
              "      <td>-0.004228</td>\n",
              "    </tr>\n",
              "    <tr>\n",
              "      <th>2</th>\n",
              "      <td>0.006028</td>\n",
              "      <td>0.006258</td>\n",
              "      <td>-0.000230</td>\n",
              "    </tr>\n",
              "    <tr>\n",
              "      <th>3</th>\n",
              "      <td>0.001752</td>\n",
              "      <td>0.006019</td>\n",
              "      <td>-0.004267</td>\n",
              "    </tr>\n",
              "    <tr>\n",
              "      <th>4</th>\n",
              "      <td>0.003972</td>\n",
              "      <td>0.002922</td>\n",
              "      <td>0.001050</td>\n",
              "    </tr>\n",
              "  </tbody>\n",
              "</table>\n",
              "</div>\n",
              "    <div class=\"colab-df-buttons\">\n",
              "\n",
              "  <div class=\"colab-df-container\">\n",
              "    <button class=\"colab-df-convert\" onclick=\"convertToInteractive('df-b3e42c2a-3af2-4a14-b8a3-11de8984e1a1')\"\n",
              "            title=\"Convert this dataframe to an interactive table.\"\n",
              "            style=\"display:none;\">\n",
              "\n",
              "  <svg xmlns=\"http://www.w3.org/2000/svg\" height=\"24px\" viewBox=\"0 -960 960 960\">\n",
              "    <path d=\"M120-120v-720h720v720H120Zm60-500h600v-160H180v160Zm220 220h160v-160H400v160Zm0 220h160v-160H400v160ZM180-400h160v-160H180v160Zm440 0h160v-160H620v160ZM180-180h160v-160H180v160Zm440 0h160v-160H620v160Z\"/>\n",
              "  </svg>\n",
              "    </button>\n",
              "\n",
              "  <style>\n",
              "    .colab-df-container {\n",
              "      display:flex;\n",
              "      gap: 12px;\n",
              "    }\n",
              "\n",
              "    .colab-df-convert {\n",
              "      background-color: #E8F0FE;\n",
              "      border: none;\n",
              "      border-radius: 50%;\n",
              "      cursor: pointer;\n",
              "      display: none;\n",
              "      fill: #1967D2;\n",
              "      height: 32px;\n",
              "      padding: 0 0 0 0;\n",
              "      width: 32px;\n",
              "    }\n",
              "\n",
              "    .colab-df-convert:hover {\n",
              "      background-color: #E2EBFA;\n",
              "      box-shadow: 0px 1px 2px rgba(60, 64, 67, 0.3), 0px 1px 3px 1px rgba(60, 64, 67, 0.15);\n",
              "      fill: #174EA6;\n",
              "    }\n",
              "\n",
              "    .colab-df-buttons div {\n",
              "      margin-bottom: 4px;\n",
              "    }\n",
              "\n",
              "    [theme=dark] .colab-df-convert {\n",
              "      background-color: #3B4455;\n",
              "      fill: #D2E3FC;\n",
              "    }\n",
              "\n",
              "    [theme=dark] .colab-df-convert:hover {\n",
              "      background-color: #434B5C;\n",
              "      box-shadow: 0px 1px 3px 1px rgba(0, 0, 0, 0.15);\n",
              "      filter: drop-shadow(0px 1px 2px rgba(0, 0, 0, 0.3));\n",
              "      fill: #FFFFFF;\n",
              "    }\n",
              "  </style>\n",
              "\n",
              "    <script>\n",
              "      const buttonEl =\n",
              "        document.querySelector('#df-b3e42c2a-3af2-4a14-b8a3-11de8984e1a1 button.colab-df-convert');\n",
              "      buttonEl.style.display =\n",
              "        google.colab.kernel.accessAllowed ? 'block' : 'none';\n",
              "\n",
              "      async function convertToInteractive(key) {\n",
              "        const element = document.querySelector('#df-b3e42c2a-3af2-4a14-b8a3-11de8984e1a1');\n",
              "        const dataTable =\n",
              "          await google.colab.kernel.invokeFunction('convertToInteractive',\n",
              "                                                    [key], {});\n",
              "        if (!dataTable) return;\n",
              "\n",
              "        const docLinkHtml = 'Like what you see? Visit the ' +\n",
              "          '<a target=\"_blank\" href=https://colab.research.google.com/notebooks/data_table.ipynb>data table notebook</a>'\n",
              "          + ' to learn more about interactive tables.';\n",
              "        element.innerHTML = '';\n",
              "        dataTable['output_type'] = 'display_data';\n",
              "        await google.colab.output.renderOutput(dataTable, element);\n",
              "        const docLink = document.createElement('div');\n",
              "        docLink.innerHTML = docLinkHtml;\n",
              "        element.appendChild(docLink);\n",
              "      }\n",
              "    </script>\n",
              "  </div>\n",
              "\n",
              "\n",
              "<div id=\"df-67402395-76fb-4207-9979-0e5fe705d714\">\n",
              "  <button class=\"colab-df-quickchart\" onclick=\"quickchart('df-67402395-76fb-4207-9979-0e5fe705d714')\"\n",
              "            title=\"Suggest charts\"\n",
              "            style=\"display:none;\">\n",
              "\n",
              "<svg xmlns=\"http://www.w3.org/2000/svg\" height=\"24px\"viewBox=\"0 0 24 24\"\n",
              "     width=\"24px\">\n",
              "    <g>\n",
              "        <path d=\"M19 3H5c-1.1 0-2 .9-2 2v14c0 1.1.9 2 2 2h14c1.1 0 2-.9 2-2V5c0-1.1-.9-2-2-2zM9 17H7v-7h2v7zm4 0h-2V7h2v10zm4 0h-2v-4h2v4z\"/>\n",
              "    </g>\n",
              "</svg>\n",
              "  </button>\n",
              "\n",
              "<style>\n",
              "  .colab-df-quickchart {\n",
              "      --bg-color: #E8F0FE;\n",
              "      --fill-color: #1967D2;\n",
              "      --hover-bg-color: #E2EBFA;\n",
              "      --hover-fill-color: #174EA6;\n",
              "      --disabled-fill-color: #AAA;\n",
              "      --disabled-bg-color: #DDD;\n",
              "  }\n",
              "\n",
              "  [theme=dark] .colab-df-quickchart {\n",
              "      --bg-color: #3B4455;\n",
              "      --fill-color: #D2E3FC;\n",
              "      --hover-bg-color: #434B5C;\n",
              "      --hover-fill-color: #FFFFFF;\n",
              "      --disabled-bg-color: #3B4455;\n",
              "      --disabled-fill-color: #666;\n",
              "  }\n",
              "\n",
              "  .colab-df-quickchart {\n",
              "    background-color: var(--bg-color);\n",
              "    border: none;\n",
              "    border-radius: 50%;\n",
              "    cursor: pointer;\n",
              "    display: none;\n",
              "    fill: var(--fill-color);\n",
              "    height: 32px;\n",
              "    padding: 0;\n",
              "    width: 32px;\n",
              "  }\n",
              "\n",
              "  .colab-df-quickchart:hover {\n",
              "    background-color: var(--hover-bg-color);\n",
              "    box-shadow: 0 1px 2px rgba(60, 64, 67, 0.3), 0 1px 3px 1px rgba(60, 64, 67, 0.15);\n",
              "    fill: var(--button-hover-fill-color);\n",
              "  }\n",
              "\n",
              "  .colab-df-quickchart-complete:disabled,\n",
              "  .colab-df-quickchart-complete:disabled:hover {\n",
              "    background-color: var(--disabled-bg-color);\n",
              "    fill: var(--disabled-fill-color);\n",
              "    box-shadow: none;\n",
              "  }\n",
              "\n",
              "  .colab-df-spinner {\n",
              "    border: 2px solid var(--fill-color);\n",
              "    border-color: transparent;\n",
              "    border-bottom-color: var(--fill-color);\n",
              "    animation:\n",
              "      spin 1s steps(1) infinite;\n",
              "  }\n",
              "\n",
              "  @keyframes spin {\n",
              "    0% {\n",
              "      border-color: transparent;\n",
              "      border-bottom-color: var(--fill-color);\n",
              "      border-left-color: var(--fill-color);\n",
              "    }\n",
              "    20% {\n",
              "      border-color: transparent;\n",
              "      border-left-color: var(--fill-color);\n",
              "      border-top-color: var(--fill-color);\n",
              "    }\n",
              "    30% {\n",
              "      border-color: transparent;\n",
              "      border-left-color: var(--fill-color);\n",
              "      border-top-color: var(--fill-color);\n",
              "      border-right-color: var(--fill-color);\n",
              "    }\n",
              "    40% {\n",
              "      border-color: transparent;\n",
              "      border-right-color: var(--fill-color);\n",
              "      border-top-color: var(--fill-color);\n",
              "    }\n",
              "    60% {\n",
              "      border-color: transparent;\n",
              "      border-right-color: var(--fill-color);\n",
              "    }\n",
              "    80% {\n",
              "      border-color: transparent;\n",
              "      border-right-color: var(--fill-color);\n",
              "      border-bottom-color: var(--fill-color);\n",
              "    }\n",
              "    90% {\n",
              "      border-color: transparent;\n",
              "      border-bottom-color: var(--fill-color);\n",
              "    }\n",
              "  }\n",
              "</style>\n",
              "\n",
              "  <script>\n",
              "    async function quickchart(key) {\n",
              "      const quickchartButtonEl =\n",
              "        document.querySelector('#' + key + ' button');\n",
              "      quickchartButtonEl.disabled = true;  // To prevent multiple clicks.\n",
              "      quickchartButtonEl.classList.add('colab-df-spinner');\n",
              "      try {\n",
              "        const charts = await google.colab.kernel.invokeFunction(\n",
              "            'suggestCharts', [key], {});\n",
              "      } catch (error) {\n",
              "        console.error('Error during call to suggestCharts:', error);\n",
              "      }\n",
              "      quickchartButtonEl.classList.remove('colab-df-spinner');\n",
              "      quickchartButtonEl.classList.add('colab-df-quickchart-complete');\n",
              "    }\n",
              "    (() => {\n",
              "      let quickchartButtonEl =\n",
              "        document.querySelector('#df-67402395-76fb-4207-9979-0e5fe705d714 button');\n",
              "      quickchartButtonEl.style.display =\n",
              "        google.colab.kernel.accessAllowed ? 'block' : 'none';\n",
              "    })();\n",
              "  </script>\n",
              "</div>\n",
              "    </div>\n",
              "  </div>\n"
            ],
            "application/vnd.google.colaboratory.intrinsic+json": {
              "type": "dataframe",
              "variable_name": "performance",
              "summary": "{\n  \"name\": \"performance\",\n  \"rows\": 18054,\n  \"fields\": [\n    {\n      \"column\": \"Valor Real\",\n      \"properties\": {\n        \"dtype\": \"number\",\n        \"std\": 0.01456379210679609,\n        \"min\": 2.5373197445764484e-10,\n        \"max\": 0.5607476635514018,\n        \"num_unique_values\": 1834,\n        \"samples\": [\n          0.004953271028037383,\n          0.00883177570093458,\n          0.0038784579439252336\n        ],\n        \"semantic_type\": \"\",\n        \"description\": \"\"\n      }\n    },\n    {\n      \"column\": \"Prediccion\",\n      \"properties\": {\n        \"dtype\": \"number\",\n        \"std\": 0.009594779019096474,\n        \"min\": 0.0009345794392523365,\n        \"max\": 0.31294603861561376,\n        \"num_unique_values\": 7292,\n        \"samples\": [\n          0.016821177274168587,\n          0.004369158878504673,\n          0.013124738720017407\n        ],\n        \"semantic_type\": \"\",\n        \"description\": \"\"\n      }\n    },\n    {\n      \"column\": \"Error\",\n      \"properties\": {\n        \"dtype\": \"number\",\n        \"std\": 0.01136714602530552,\n        \"min\": -0.297058188148324,\n        \"max\": 0.538408157043999,\n        \"num_unique_values\": 14788,\n        \"samples\": [\n          0.002044854356463068,\n          -0.003841108702642545,\n          -0.0019052332368593543\n        ],\n        \"semantic_type\": \"\",\n        \"description\": \"\"\n      }\n    }\n  ]\n}"
            }
          },
          "metadata": {},
          "execution_count": 18
        }
      ]
    },
    {
      "cell_type": "markdown",
      "source": [
        "* MSE"
      ],
      "metadata": {
        "id": "fmlhfINlnQo8"
      }
    },
    {
      "cell_type": "code",
      "source": [
        "# Mean Squared Error\n",
        "mean_squared_error(y_test, y_test_pred_best_knn_model, squared=True)"
      ],
      "metadata": {
        "colab": {
          "base_uri": "https://localhost:8080/"
        },
        "id": "2kUeaI-lnZCq",
        "outputId": "f03d9adb-5d43-4119-c7ee-c7576589951c"
      },
      "execution_count": 19,
      "outputs": [
        {
          "output_type": "execute_result",
          "data": {
            "text/plain": [
              "0.0001315753070488609"
            ]
          },
          "metadata": {},
          "execution_count": 19
        }
      ]
    },
    {
      "cell_type": "markdown",
      "source": [
        "* RMSE"
      ],
      "metadata": {
        "id": "FI07sHX0nJiA"
      }
    },
    {
      "cell_type": "code",
      "source": [
        "# Root Mean Squared Error\n",
        "mean_squared_error(y_test, y_test_pred_best_knn_model, squared=False)"
      ],
      "metadata": {
        "id": "iNnsxraj-Xoj",
        "colab": {
          "base_uri": "https://localhost:8080/"
        },
        "outputId": "e2ed984d-c28a-4195-b441-112b6314158c"
      },
      "execution_count": 20,
      "outputs": [
        {
          "output_type": "execute_result",
          "data": {
            "text/plain": [
              "0.011470628014579713"
            ]
          },
          "metadata": {},
          "execution_count": 20
        }
      ]
    },
    {
      "cell_type": "markdown",
      "source": [
        "* R2 score"
      ],
      "metadata": {
        "id": "gw52fjpcof8c"
      }
    },
    {
      "cell_type": "code",
      "source": [
        "r2_score(y_test, y_test_pred_best_knn_model)"
      ],
      "metadata": {
        "colab": {
          "base_uri": "https://localhost:8080/"
        },
        "id": "7MnJ4wrNodL3",
        "outputId": "09f2a180-c2f5-4b47-a507-4f2827794856"
      },
      "execution_count": 21,
      "outputs": [
        {
          "output_type": "execute_result",
          "data": {
            "text/plain": [
              "0.37963183068352946"
            ]
          },
          "metadata": {},
          "execution_count": 21
        }
      ]
    },
    {
      "cell_type": "markdown",
      "source": [
        "**Observamos como se desempeña sobre los mismos datos con los que entreno**"
      ],
      "metadata": {
        "id": "5osZoWFlp4HR"
      }
    },
    {
      "cell_type": "code",
      "source": [
        "# Performance\n",
        "performance = pd.DataFrame({'Valor Real': y_train,\n",
        "                            'Prediccion': y_train_pred_best_knn_model,\n",
        "                            'Error': y_train - y_train_pred_best_knn_model})\n",
        "# View\n",
        "performance.head()"
      ],
      "metadata": {
        "colab": {
          "base_uri": "https://localhost:8080/",
          "height": 206
        },
        "id": "f1JM8lZnp3NZ",
        "outputId": "0fa9c165-bf7c-43ef-c2dc-b7a11f91236a"
      },
      "execution_count": 22,
      "outputs": [
        {
          "output_type": "execute_result",
          "data": {
            "text/plain": [
              "   Valor Real  Prediccion     Error\n",
              "0    0.012383    0.012383  0.000000\n",
              "1    0.006075    0.005411  0.000664\n",
              "2    0.010724    0.015088 -0.004363\n",
              "3    0.003738    0.003628  0.000110\n",
              "4    0.011215    0.011215  0.000000"
            ],
            "text/html": [
              "\n",
              "  <div id=\"df-c5ccc7e8-0c01-425a-b6b0-fe950dbd2c3a\" class=\"colab-df-container\">\n",
              "    <div>\n",
              "<style scoped>\n",
              "    .dataframe tbody tr th:only-of-type {\n",
              "        vertical-align: middle;\n",
              "    }\n",
              "\n",
              "    .dataframe tbody tr th {\n",
              "        vertical-align: top;\n",
              "    }\n",
              "\n",
              "    .dataframe thead th {\n",
              "        text-align: right;\n",
              "    }\n",
              "</style>\n",
              "<table border=\"1\" class=\"dataframe\">\n",
              "  <thead>\n",
              "    <tr style=\"text-align: right;\">\n",
              "      <th></th>\n",
              "      <th>Valor Real</th>\n",
              "      <th>Prediccion</th>\n",
              "      <th>Error</th>\n",
              "    </tr>\n",
              "  </thead>\n",
              "  <tbody>\n",
              "    <tr>\n",
              "      <th>0</th>\n",
              "      <td>0.012383</td>\n",
              "      <td>0.012383</td>\n",
              "      <td>0.000000</td>\n",
              "    </tr>\n",
              "    <tr>\n",
              "      <th>1</th>\n",
              "      <td>0.006075</td>\n",
              "      <td>0.005411</td>\n",
              "      <td>0.000664</td>\n",
              "    </tr>\n",
              "    <tr>\n",
              "      <th>2</th>\n",
              "      <td>0.010724</td>\n",
              "      <td>0.015088</td>\n",
              "      <td>-0.004363</td>\n",
              "    </tr>\n",
              "    <tr>\n",
              "      <th>3</th>\n",
              "      <td>0.003738</td>\n",
              "      <td>0.003628</td>\n",
              "      <td>0.000110</td>\n",
              "    </tr>\n",
              "    <tr>\n",
              "      <th>4</th>\n",
              "      <td>0.011215</td>\n",
              "      <td>0.011215</td>\n",
              "      <td>0.000000</td>\n",
              "    </tr>\n",
              "  </tbody>\n",
              "</table>\n",
              "</div>\n",
              "    <div class=\"colab-df-buttons\">\n",
              "\n",
              "  <div class=\"colab-df-container\">\n",
              "    <button class=\"colab-df-convert\" onclick=\"convertToInteractive('df-c5ccc7e8-0c01-425a-b6b0-fe950dbd2c3a')\"\n",
              "            title=\"Convert this dataframe to an interactive table.\"\n",
              "            style=\"display:none;\">\n",
              "\n",
              "  <svg xmlns=\"http://www.w3.org/2000/svg\" height=\"24px\" viewBox=\"0 -960 960 960\">\n",
              "    <path d=\"M120-120v-720h720v720H120Zm60-500h600v-160H180v160Zm220 220h160v-160H400v160Zm0 220h160v-160H400v160ZM180-400h160v-160H180v160Zm440 0h160v-160H620v160ZM180-180h160v-160H180v160Zm440 0h160v-160H620v160Z\"/>\n",
              "  </svg>\n",
              "    </button>\n",
              "\n",
              "  <style>\n",
              "    .colab-df-container {\n",
              "      display:flex;\n",
              "      gap: 12px;\n",
              "    }\n",
              "\n",
              "    .colab-df-convert {\n",
              "      background-color: #E8F0FE;\n",
              "      border: none;\n",
              "      border-radius: 50%;\n",
              "      cursor: pointer;\n",
              "      display: none;\n",
              "      fill: #1967D2;\n",
              "      height: 32px;\n",
              "      padding: 0 0 0 0;\n",
              "      width: 32px;\n",
              "    }\n",
              "\n",
              "    .colab-df-convert:hover {\n",
              "      background-color: #E2EBFA;\n",
              "      box-shadow: 0px 1px 2px rgba(60, 64, 67, 0.3), 0px 1px 3px 1px rgba(60, 64, 67, 0.15);\n",
              "      fill: #174EA6;\n",
              "    }\n",
              "\n",
              "    .colab-df-buttons div {\n",
              "      margin-bottom: 4px;\n",
              "    }\n",
              "\n",
              "    [theme=dark] .colab-df-convert {\n",
              "      background-color: #3B4455;\n",
              "      fill: #D2E3FC;\n",
              "    }\n",
              "\n",
              "    [theme=dark] .colab-df-convert:hover {\n",
              "      background-color: #434B5C;\n",
              "      box-shadow: 0px 1px 3px 1px rgba(0, 0, 0, 0.15);\n",
              "      filter: drop-shadow(0px 1px 2px rgba(0, 0, 0, 0.3));\n",
              "      fill: #FFFFFF;\n",
              "    }\n",
              "  </style>\n",
              "\n",
              "    <script>\n",
              "      const buttonEl =\n",
              "        document.querySelector('#df-c5ccc7e8-0c01-425a-b6b0-fe950dbd2c3a button.colab-df-convert');\n",
              "      buttonEl.style.display =\n",
              "        google.colab.kernel.accessAllowed ? 'block' : 'none';\n",
              "\n",
              "      async function convertToInteractive(key) {\n",
              "        const element = document.querySelector('#df-c5ccc7e8-0c01-425a-b6b0-fe950dbd2c3a');\n",
              "        const dataTable =\n",
              "          await google.colab.kernel.invokeFunction('convertToInteractive',\n",
              "                                                    [key], {});\n",
              "        if (!dataTable) return;\n",
              "\n",
              "        const docLinkHtml = 'Like what you see? Visit the ' +\n",
              "          '<a target=\"_blank\" href=https://colab.research.google.com/notebooks/data_table.ipynb>data table notebook</a>'\n",
              "          + ' to learn more about interactive tables.';\n",
              "        element.innerHTML = '';\n",
              "        dataTable['output_type'] = 'display_data';\n",
              "        await google.colab.output.renderOutput(dataTable, element);\n",
              "        const docLink = document.createElement('div');\n",
              "        docLink.innerHTML = docLinkHtml;\n",
              "        element.appendChild(docLink);\n",
              "      }\n",
              "    </script>\n",
              "  </div>\n",
              "\n",
              "\n",
              "<div id=\"df-2810cc89-4472-4e27-83c6-88a79d6c2dc0\">\n",
              "  <button class=\"colab-df-quickchart\" onclick=\"quickchart('df-2810cc89-4472-4e27-83c6-88a79d6c2dc0')\"\n",
              "            title=\"Suggest charts\"\n",
              "            style=\"display:none;\">\n",
              "\n",
              "<svg xmlns=\"http://www.w3.org/2000/svg\" height=\"24px\"viewBox=\"0 0 24 24\"\n",
              "     width=\"24px\">\n",
              "    <g>\n",
              "        <path d=\"M19 3H5c-1.1 0-2 .9-2 2v14c0 1.1.9 2 2 2h14c1.1 0 2-.9 2-2V5c0-1.1-.9-2-2-2zM9 17H7v-7h2v7zm4 0h-2V7h2v10zm4 0h-2v-4h2v4z\"/>\n",
              "    </g>\n",
              "</svg>\n",
              "  </button>\n",
              "\n",
              "<style>\n",
              "  .colab-df-quickchart {\n",
              "      --bg-color: #E8F0FE;\n",
              "      --fill-color: #1967D2;\n",
              "      --hover-bg-color: #E2EBFA;\n",
              "      --hover-fill-color: #174EA6;\n",
              "      --disabled-fill-color: #AAA;\n",
              "      --disabled-bg-color: #DDD;\n",
              "  }\n",
              "\n",
              "  [theme=dark] .colab-df-quickchart {\n",
              "      --bg-color: #3B4455;\n",
              "      --fill-color: #D2E3FC;\n",
              "      --hover-bg-color: #434B5C;\n",
              "      --hover-fill-color: #FFFFFF;\n",
              "      --disabled-bg-color: #3B4455;\n",
              "      --disabled-fill-color: #666;\n",
              "  }\n",
              "\n",
              "  .colab-df-quickchart {\n",
              "    background-color: var(--bg-color);\n",
              "    border: none;\n",
              "    border-radius: 50%;\n",
              "    cursor: pointer;\n",
              "    display: none;\n",
              "    fill: var(--fill-color);\n",
              "    height: 32px;\n",
              "    padding: 0;\n",
              "    width: 32px;\n",
              "  }\n",
              "\n",
              "  .colab-df-quickchart:hover {\n",
              "    background-color: var(--hover-bg-color);\n",
              "    box-shadow: 0 1px 2px rgba(60, 64, 67, 0.3), 0 1px 3px 1px rgba(60, 64, 67, 0.15);\n",
              "    fill: var(--button-hover-fill-color);\n",
              "  }\n",
              "\n",
              "  .colab-df-quickchart-complete:disabled,\n",
              "  .colab-df-quickchart-complete:disabled:hover {\n",
              "    background-color: var(--disabled-bg-color);\n",
              "    fill: var(--disabled-fill-color);\n",
              "    box-shadow: none;\n",
              "  }\n",
              "\n",
              "  .colab-df-spinner {\n",
              "    border: 2px solid var(--fill-color);\n",
              "    border-color: transparent;\n",
              "    border-bottom-color: var(--fill-color);\n",
              "    animation:\n",
              "      spin 1s steps(1) infinite;\n",
              "  }\n",
              "\n",
              "  @keyframes spin {\n",
              "    0% {\n",
              "      border-color: transparent;\n",
              "      border-bottom-color: var(--fill-color);\n",
              "      border-left-color: var(--fill-color);\n",
              "    }\n",
              "    20% {\n",
              "      border-color: transparent;\n",
              "      border-left-color: var(--fill-color);\n",
              "      border-top-color: var(--fill-color);\n",
              "    }\n",
              "    30% {\n",
              "      border-color: transparent;\n",
              "      border-left-color: var(--fill-color);\n",
              "      border-top-color: var(--fill-color);\n",
              "      border-right-color: var(--fill-color);\n",
              "    }\n",
              "    40% {\n",
              "      border-color: transparent;\n",
              "      border-right-color: var(--fill-color);\n",
              "      border-top-color: var(--fill-color);\n",
              "    }\n",
              "    60% {\n",
              "      border-color: transparent;\n",
              "      border-right-color: var(--fill-color);\n",
              "    }\n",
              "    80% {\n",
              "      border-color: transparent;\n",
              "      border-right-color: var(--fill-color);\n",
              "      border-bottom-color: var(--fill-color);\n",
              "    }\n",
              "    90% {\n",
              "      border-color: transparent;\n",
              "      border-bottom-color: var(--fill-color);\n",
              "    }\n",
              "  }\n",
              "</style>\n",
              "\n",
              "  <script>\n",
              "    async function quickchart(key) {\n",
              "      const quickchartButtonEl =\n",
              "        document.querySelector('#' + key + ' button');\n",
              "      quickchartButtonEl.disabled = true;  // To prevent multiple clicks.\n",
              "      quickchartButtonEl.classList.add('colab-df-spinner');\n",
              "      try {\n",
              "        const charts = await google.colab.kernel.invokeFunction(\n",
              "            'suggestCharts', [key], {});\n",
              "      } catch (error) {\n",
              "        console.error('Error during call to suggestCharts:', error);\n",
              "      }\n",
              "      quickchartButtonEl.classList.remove('colab-df-spinner');\n",
              "      quickchartButtonEl.classList.add('colab-df-quickchart-complete');\n",
              "    }\n",
              "    (() => {\n",
              "      let quickchartButtonEl =\n",
              "        document.querySelector('#df-2810cc89-4472-4e27-83c6-88a79d6c2dc0 button');\n",
              "      quickchartButtonEl.style.display =\n",
              "        google.colab.kernel.accessAllowed ? 'block' : 'none';\n",
              "    })();\n",
              "  </script>\n",
              "</div>\n",
              "    </div>\n",
              "  </div>\n"
            ],
            "application/vnd.google.colaboratory.intrinsic+json": {
              "type": "dataframe",
              "variable_name": "performance",
              "summary": "{\n  \"name\": \"performance\",\n  \"rows\": 72216,\n  \"fields\": [\n    {\n      \"column\": \"Valor Real\",\n      \"properties\": {\n        \"dtype\": \"number\",\n        \"std\": 0.01447440852084552,\n        \"min\": 0.0,\n        \"max\": 1.0,\n        \"num_unique_values\": 4090,\n        \"samples\": [\n          0.01111214953271028,\n          0.013878504672897196,\n          0.0058831775700934575\n        ],\n        \"semantic_type\": \"\",\n        \"description\": \"\"\n      }\n    },\n    {\n      \"column\": \"Prediccion\",\n      \"properties\": {\n        \"dtype\": \"number\",\n        \"std\": 0.013682913532520798,\n        \"min\": 0.0,\n        \"max\": 0.397196261682243,\n        \"num_unique_values\": 6595,\n        \"samples\": [\n          0.014950934579439253,\n          0.022274143302180683,\n          0.011682242990654207\n        ],\n        \"semantic_type\": \"\",\n        \"description\": \"\"\n      }\n    },\n    {\n      \"column\": \"Error\",\n      \"properties\": {\n        \"dtype\": \"number\",\n        \"std\": 0.004769062331719266,\n        \"min\": -0.0748411214953271,\n        \"max\": 0.9917712505562973,\n        \"num_unique_values\": 35387,\n        \"samples\": [\n          -0.00048737650200267064,\n          0.00012054294615042316,\n          0.0020413885180240333\n        ],\n        \"semantic_type\": \"\",\n        \"description\": \"\"\n      }\n    }\n  ]\n}"
            }
          },
          "metadata": {},
          "execution_count": 22
        }
      ]
    },
    {
      "cell_type": "markdown",
      "source": [
        "* MSE"
      ],
      "metadata": {
        "id": "-Q-6N7ZNqBg5"
      }
    },
    {
      "cell_type": "code",
      "source": [
        "# Mean Squared Error\n",
        "mean_squared_error(y_train, y_train_pred_best_knn_model, squared=True)"
      ],
      "metadata": {
        "colab": {
          "base_uri": "https://localhost:8080/"
        },
        "id": "x9hbq9H2qJLi",
        "outputId": "a62482a2-1749-49a9-c534-56229e6aec73"
      },
      "execution_count": 23,
      "outputs": [
        {
          "output_type": "execute_result",
          "data": {
            "text/plain": [
              "2.2743972777593e-05"
            ]
          },
          "metadata": {},
          "execution_count": 23
        }
      ]
    },
    {
      "cell_type": "markdown",
      "source": [
        "* RMSE"
      ],
      "metadata": {
        "id": "1cUF2VmqqC-5"
      }
    },
    {
      "cell_type": "code",
      "source": [
        "# Root Mean Squared Error\n",
        "mean_squared_error(y_train, y_train_pred_best_knn_model, squared=False)"
      ],
      "metadata": {
        "colab": {
          "base_uri": "https://localhost:8080/"
        },
        "id": "FC6-dz5cqPSG",
        "outputId": "a9e9e849-d890-4ff6-9215-c2d20a6c816f"
      },
      "execution_count": 24,
      "outputs": [
        {
          "output_type": "execute_result",
          "data": {
            "text/plain": [
              "0.00476906414064573"
            ]
          },
          "metadata": {},
          "execution_count": 24
        }
      ]
    },
    {
      "cell_type": "markdown",
      "source": [
        "* R2 score"
      ],
      "metadata": {
        "id": "FH2Nl17yqEE7"
      }
    },
    {
      "cell_type": "code",
      "source": [
        "r2_score(y_train, y_train_pred_best_knn_model)"
      ],
      "metadata": {
        "colab": {
          "base_uri": "https://localhost:8080/"
        },
        "id": "uWp7jHF2qSgO",
        "outputId": "b2703155-d976-435f-cf67-a4473a5d2633"
      },
      "execution_count": 25,
      "outputs": [
        {
          "output_type": "execute_result",
          "data": {
            "text/plain": [
              "0.8914397864266198"
            ]
          },
          "metadata": {},
          "execution_count": 25
        }
      ]
    },
    {
      "cell_type": "markdown",
      "source": [
        "En conclusion vemos que este modelo de KNN predice muy bien sobre su conjunto de training y bastante mal en el de testing, lo que lleva a pensar que este modelo es uno sobreajustado a sus datos de entrenamiento y le cuesta predecir datos nuevos.\n",
        "\n",
        "Esto se podria mejorar descomplejizando el modelo, o regularizandolo con distintas tecnicas."
      ],
      "metadata": {
        "id": "5-KHfppwSQZr"
      }
    },
    {
      "cell_type": "markdown",
      "source": [
        "### Modelo 2: XGBoost"
      ],
      "metadata": {
        "id": "HswaMWw5jM33"
      }
    },
    {
      "cell_type": "markdown",
      "source": [
        "#### Construccion"
      ],
      "metadata": {
        "id": "0u_KYQbNqhzJ"
      }
    },
    {
      "cell_type": "code",
      "source": [
        "# dividimos los sets en x, y. x son los parametros con los que entrenar, e y son los parametros a predecir\n",
        "x_train = ds_reg_train.drop(columns=[\"property_price\"])\n",
        "y_train = ds_reg_train[\"property_price\"].copy()\n",
        "\n",
        "x_test = ds_reg_test.drop(columns=[\"property_price\"])\n",
        "y_test = ds_reg_test[\"property_price\"].copy()"
      ],
      "metadata": {
        "id": "YP9fGO06xEbK"
      },
      "execution_count": 26,
      "outputs": []
    },
    {
      "cell_type": "markdown",
      "source": [
        "##### Cross-validation"
      ],
      "metadata": {
        "id": "6lPS3Am1qn7r"
      }
    },
    {
      "cell_type": "code",
      "source": [
        "kfoldcv = KFold(n_splits=5)\n",
        "scorer_fn = make_scorer(r2_score)\n",
        "n = 10\n",
        "\n",
        "#Grilla de Parámetros\n",
        "params_grid = {\n",
        "    'learning_rate': np.linspace(0.05, 0.5, 50),\n",
        "    'max_depth': list(range(2,10)),\n",
        "    'subsample': np.linspace(0.5, 1, 20),\n",
        "    'gamma': [0,1,2],\n",
        "    'lambda': [0,1,2],\n",
        "    'alpha' : [0,1,2],\n",
        "    'n_estimators': list(range(10,150,10))\n",
        "    }\n",
        "\n",
        "# Clasificador KNN\n",
        "xgbr_model = XGBRegressor(random_state=RAND_SEED)\n",
        "\n",
        "# Random Search con 10 Folds y 10 iteraciones\n",
        "rs = RandomizedSearchCV(xgbr_model, params_grid, scoring=scorer_fn, cv=kfoldcv, n_iter=n, random_state=RAND_SEED)\n",
        "\n",
        "rs_fit = rs.fit(x_train, y_train)\n",
        "rs_fit.best_score_ # vemos el mejor score"
      ],
      "metadata": {
        "colab": {
          "base_uri": "https://localhost:8080/"
        },
        "id": "jwnqXbc5xHWc",
        "outputId": "f104c995-d3d8-4038-8890-7580d0ee1eb9"
      },
      "execution_count": 27,
      "outputs": [
        {
          "output_type": "execute_result",
          "data": {
            "text/plain": [
              "0.7263209515306797"
            ]
          },
          "metadata": {},
          "execution_count": 27
        }
      ]
    },
    {
      "cell_type": "markdown",
      "source": [
        "Vemos los mejores parametros"
      ],
      "metadata": {
        "id": "WXsuyBQCzSji"
      }
    },
    {
      "cell_type": "code",
      "source": [
        "params_elegidos=rs_fit.cv_results_['params'][np.argmax(rs_fit.cv_results_['mean_test_score'])]\n",
        "params_elegidos"
      ],
      "metadata": {
        "colab": {
          "base_uri": "https://localhost:8080/"
        },
        "id": "-870pnQJzSP6",
        "outputId": "bbb39bf0-f04b-41ae-8a8e-8148aecb1a48"
      },
      "execution_count": 28,
      "outputs": [
        {
          "output_type": "execute_result",
          "data": {
            "text/plain": [
              "{'subsample': 0.7105263157894737,\n",
              " 'n_estimators': 120,\n",
              " 'max_depth': 3,\n",
              " 'learning_rate': 0.5,\n",
              " 'lambda': 0,\n",
              " 'gamma': 0,\n",
              " 'alpha': 0}"
            ]
          },
          "metadata": {},
          "execution_count": 28
        }
      ]
    },
    {
      "cell_type": "markdown",
      "source": [
        "##### Creacion del mejor modelo"
      ],
      "metadata": {
        "id": "khXijiJoqp5n"
      }
    },
    {
      "cell_type": "code",
      "source": [
        "# Mejor Regresor XGB\n",
        "best_xgbr_model = XGBRegressor(\n",
        "    n_estimators = params_elegidos['n_estimators'],\n",
        "    learning_rate = params_elegidos['learning_rate'],\n",
        "    max_depth = params_elegidos['max_depth'],\n",
        "    subsample = params_elegidos['subsample'],\n",
        "    gamma = params_elegidos['gamma'],\n",
        "    reg_lambda = params_elegidos['lambda'],\n",
        "    reg_alpha = params_elegidos['alpha'],\n",
        ")\n",
        "\n",
        "best_xgbr_model.fit(x_train, y_train)\n",
        "y_train_pred_best_xgbr_model = best_xgbr_model.predict(x_train)\n",
        "y_test_pred_best_xgbr_model = best_xgbr_model.predict(x_test)"
      ],
      "metadata": {
        "id": "BNIHFDbLzZt9"
      },
      "execution_count": 29,
      "outputs": []
    },
    {
      "cell_type": "markdown",
      "source": [
        "Como performa en los datos de testing"
      ],
      "metadata": {
        "id": "88eVxQ1b0a20"
      }
    },
    {
      "cell_type": "code",
      "source": [
        "# Performance\n",
        "performance = pd.DataFrame({'Valor Real': y_test,\n",
        "                            'Prediccion': y_test_pred_best_xgbr_model,\n",
        "                            'Error': y_test - y_test_pred_best_xgbr_model})\n",
        "# View\n",
        "performance.head()"
      ],
      "metadata": {
        "colab": {
          "base_uri": "https://localhost:8080/",
          "height": 206
        },
        "id": "6qWCgev10LqD",
        "outputId": "9a03a3d3-46f0-419c-edb1-adb9a0416d26"
      },
      "execution_count": 30,
      "outputs": [
        {
          "output_type": "execute_result",
          "data": {
            "text/plain": [
              "   Valor Real  Prediccion     Error\n",
              "0    0.003738    0.004711 -0.000972\n",
              "1    0.012150    0.016982 -0.004833\n",
              "2    0.006028    0.005695  0.000333\n",
              "3    0.001752    0.007461 -0.005709\n",
              "4    0.003972    0.003392  0.000580"
            ],
            "text/html": [
              "\n",
              "  <div id=\"df-58cb3b51-5551-4071-9a7e-6531c7ebe1a1\" class=\"colab-df-container\">\n",
              "    <div>\n",
              "<style scoped>\n",
              "    .dataframe tbody tr th:only-of-type {\n",
              "        vertical-align: middle;\n",
              "    }\n",
              "\n",
              "    .dataframe tbody tr th {\n",
              "        vertical-align: top;\n",
              "    }\n",
              "\n",
              "    .dataframe thead th {\n",
              "        text-align: right;\n",
              "    }\n",
              "</style>\n",
              "<table border=\"1\" class=\"dataframe\">\n",
              "  <thead>\n",
              "    <tr style=\"text-align: right;\">\n",
              "      <th></th>\n",
              "      <th>Valor Real</th>\n",
              "      <th>Prediccion</th>\n",
              "      <th>Error</th>\n",
              "    </tr>\n",
              "  </thead>\n",
              "  <tbody>\n",
              "    <tr>\n",
              "      <th>0</th>\n",
              "      <td>0.003738</td>\n",
              "      <td>0.004711</td>\n",
              "      <td>-0.000972</td>\n",
              "    </tr>\n",
              "    <tr>\n",
              "      <th>1</th>\n",
              "      <td>0.012150</td>\n",
              "      <td>0.016982</td>\n",
              "      <td>-0.004833</td>\n",
              "    </tr>\n",
              "    <tr>\n",
              "      <th>2</th>\n",
              "      <td>0.006028</td>\n",
              "      <td>0.005695</td>\n",
              "      <td>0.000333</td>\n",
              "    </tr>\n",
              "    <tr>\n",
              "      <th>3</th>\n",
              "      <td>0.001752</td>\n",
              "      <td>0.007461</td>\n",
              "      <td>-0.005709</td>\n",
              "    </tr>\n",
              "    <tr>\n",
              "      <th>4</th>\n",
              "      <td>0.003972</td>\n",
              "      <td>0.003392</td>\n",
              "      <td>0.000580</td>\n",
              "    </tr>\n",
              "  </tbody>\n",
              "</table>\n",
              "</div>\n",
              "    <div class=\"colab-df-buttons\">\n",
              "\n",
              "  <div class=\"colab-df-container\">\n",
              "    <button class=\"colab-df-convert\" onclick=\"convertToInteractive('df-58cb3b51-5551-4071-9a7e-6531c7ebe1a1')\"\n",
              "            title=\"Convert this dataframe to an interactive table.\"\n",
              "            style=\"display:none;\">\n",
              "\n",
              "  <svg xmlns=\"http://www.w3.org/2000/svg\" height=\"24px\" viewBox=\"0 -960 960 960\">\n",
              "    <path d=\"M120-120v-720h720v720H120Zm60-500h600v-160H180v160Zm220 220h160v-160H400v160Zm0 220h160v-160H400v160ZM180-400h160v-160H180v160Zm440 0h160v-160H620v160ZM180-180h160v-160H180v160Zm440 0h160v-160H620v160Z\"/>\n",
              "  </svg>\n",
              "    </button>\n",
              "\n",
              "  <style>\n",
              "    .colab-df-container {\n",
              "      display:flex;\n",
              "      gap: 12px;\n",
              "    }\n",
              "\n",
              "    .colab-df-convert {\n",
              "      background-color: #E8F0FE;\n",
              "      border: none;\n",
              "      border-radius: 50%;\n",
              "      cursor: pointer;\n",
              "      display: none;\n",
              "      fill: #1967D2;\n",
              "      height: 32px;\n",
              "      padding: 0 0 0 0;\n",
              "      width: 32px;\n",
              "    }\n",
              "\n",
              "    .colab-df-convert:hover {\n",
              "      background-color: #E2EBFA;\n",
              "      box-shadow: 0px 1px 2px rgba(60, 64, 67, 0.3), 0px 1px 3px 1px rgba(60, 64, 67, 0.15);\n",
              "      fill: #174EA6;\n",
              "    }\n",
              "\n",
              "    .colab-df-buttons div {\n",
              "      margin-bottom: 4px;\n",
              "    }\n",
              "\n",
              "    [theme=dark] .colab-df-convert {\n",
              "      background-color: #3B4455;\n",
              "      fill: #D2E3FC;\n",
              "    }\n",
              "\n",
              "    [theme=dark] .colab-df-convert:hover {\n",
              "      background-color: #434B5C;\n",
              "      box-shadow: 0px 1px 3px 1px rgba(0, 0, 0, 0.15);\n",
              "      filter: drop-shadow(0px 1px 2px rgba(0, 0, 0, 0.3));\n",
              "      fill: #FFFFFF;\n",
              "    }\n",
              "  </style>\n",
              "\n",
              "    <script>\n",
              "      const buttonEl =\n",
              "        document.querySelector('#df-58cb3b51-5551-4071-9a7e-6531c7ebe1a1 button.colab-df-convert');\n",
              "      buttonEl.style.display =\n",
              "        google.colab.kernel.accessAllowed ? 'block' : 'none';\n",
              "\n",
              "      async function convertToInteractive(key) {\n",
              "        const element = document.querySelector('#df-58cb3b51-5551-4071-9a7e-6531c7ebe1a1');\n",
              "        const dataTable =\n",
              "          await google.colab.kernel.invokeFunction('convertToInteractive',\n",
              "                                                    [key], {});\n",
              "        if (!dataTable) return;\n",
              "\n",
              "        const docLinkHtml = 'Like what you see? Visit the ' +\n",
              "          '<a target=\"_blank\" href=https://colab.research.google.com/notebooks/data_table.ipynb>data table notebook</a>'\n",
              "          + ' to learn more about interactive tables.';\n",
              "        element.innerHTML = '';\n",
              "        dataTable['output_type'] = 'display_data';\n",
              "        await google.colab.output.renderOutput(dataTable, element);\n",
              "        const docLink = document.createElement('div');\n",
              "        docLink.innerHTML = docLinkHtml;\n",
              "        element.appendChild(docLink);\n",
              "      }\n",
              "    </script>\n",
              "  </div>\n",
              "\n",
              "\n",
              "<div id=\"df-5930e9d4-4766-4b8c-86d6-eae85ace949d\">\n",
              "  <button class=\"colab-df-quickchart\" onclick=\"quickchart('df-5930e9d4-4766-4b8c-86d6-eae85ace949d')\"\n",
              "            title=\"Suggest charts\"\n",
              "            style=\"display:none;\">\n",
              "\n",
              "<svg xmlns=\"http://www.w3.org/2000/svg\" height=\"24px\"viewBox=\"0 0 24 24\"\n",
              "     width=\"24px\">\n",
              "    <g>\n",
              "        <path d=\"M19 3H5c-1.1 0-2 .9-2 2v14c0 1.1.9 2 2 2h14c1.1 0 2-.9 2-2V5c0-1.1-.9-2-2-2zM9 17H7v-7h2v7zm4 0h-2V7h2v10zm4 0h-2v-4h2v4z\"/>\n",
              "    </g>\n",
              "</svg>\n",
              "  </button>\n",
              "\n",
              "<style>\n",
              "  .colab-df-quickchart {\n",
              "      --bg-color: #E8F0FE;\n",
              "      --fill-color: #1967D2;\n",
              "      --hover-bg-color: #E2EBFA;\n",
              "      --hover-fill-color: #174EA6;\n",
              "      --disabled-fill-color: #AAA;\n",
              "      --disabled-bg-color: #DDD;\n",
              "  }\n",
              "\n",
              "  [theme=dark] .colab-df-quickchart {\n",
              "      --bg-color: #3B4455;\n",
              "      --fill-color: #D2E3FC;\n",
              "      --hover-bg-color: #434B5C;\n",
              "      --hover-fill-color: #FFFFFF;\n",
              "      --disabled-bg-color: #3B4455;\n",
              "      --disabled-fill-color: #666;\n",
              "  }\n",
              "\n",
              "  .colab-df-quickchart {\n",
              "    background-color: var(--bg-color);\n",
              "    border: none;\n",
              "    border-radius: 50%;\n",
              "    cursor: pointer;\n",
              "    display: none;\n",
              "    fill: var(--fill-color);\n",
              "    height: 32px;\n",
              "    padding: 0;\n",
              "    width: 32px;\n",
              "  }\n",
              "\n",
              "  .colab-df-quickchart:hover {\n",
              "    background-color: var(--hover-bg-color);\n",
              "    box-shadow: 0 1px 2px rgba(60, 64, 67, 0.3), 0 1px 3px 1px rgba(60, 64, 67, 0.15);\n",
              "    fill: var(--button-hover-fill-color);\n",
              "  }\n",
              "\n",
              "  .colab-df-quickchart-complete:disabled,\n",
              "  .colab-df-quickchart-complete:disabled:hover {\n",
              "    background-color: var(--disabled-bg-color);\n",
              "    fill: var(--disabled-fill-color);\n",
              "    box-shadow: none;\n",
              "  }\n",
              "\n",
              "  .colab-df-spinner {\n",
              "    border: 2px solid var(--fill-color);\n",
              "    border-color: transparent;\n",
              "    border-bottom-color: var(--fill-color);\n",
              "    animation:\n",
              "      spin 1s steps(1) infinite;\n",
              "  }\n",
              "\n",
              "  @keyframes spin {\n",
              "    0% {\n",
              "      border-color: transparent;\n",
              "      border-bottom-color: var(--fill-color);\n",
              "      border-left-color: var(--fill-color);\n",
              "    }\n",
              "    20% {\n",
              "      border-color: transparent;\n",
              "      border-left-color: var(--fill-color);\n",
              "      border-top-color: var(--fill-color);\n",
              "    }\n",
              "    30% {\n",
              "      border-color: transparent;\n",
              "      border-left-color: var(--fill-color);\n",
              "      border-top-color: var(--fill-color);\n",
              "      border-right-color: var(--fill-color);\n",
              "    }\n",
              "    40% {\n",
              "      border-color: transparent;\n",
              "      border-right-color: var(--fill-color);\n",
              "      border-top-color: var(--fill-color);\n",
              "    }\n",
              "    60% {\n",
              "      border-color: transparent;\n",
              "      border-right-color: var(--fill-color);\n",
              "    }\n",
              "    80% {\n",
              "      border-color: transparent;\n",
              "      border-right-color: var(--fill-color);\n",
              "      border-bottom-color: var(--fill-color);\n",
              "    }\n",
              "    90% {\n",
              "      border-color: transparent;\n",
              "      border-bottom-color: var(--fill-color);\n",
              "    }\n",
              "  }\n",
              "</style>\n",
              "\n",
              "  <script>\n",
              "    async function quickchart(key) {\n",
              "      const quickchartButtonEl =\n",
              "        document.querySelector('#' + key + ' button');\n",
              "      quickchartButtonEl.disabled = true;  // To prevent multiple clicks.\n",
              "      quickchartButtonEl.classList.add('colab-df-spinner');\n",
              "      try {\n",
              "        const charts = await google.colab.kernel.invokeFunction(\n",
              "            'suggestCharts', [key], {});\n",
              "      } catch (error) {\n",
              "        console.error('Error during call to suggestCharts:', error);\n",
              "      }\n",
              "      quickchartButtonEl.classList.remove('colab-df-spinner');\n",
              "      quickchartButtonEl.classList.add('colab-df-quickchart-complete');\n",
              "    }\n",
              "    (() => {\n",
              "      let quickchartButtonEl =\n",
              "        document.querySelector('#df-5930e9d4-4766-4b8c-86d6-eae85ace949d button');\n",
              "      quickchartButtonEl.style.display =\n",
              "        google.colab.kernel.accessAllowed ? 'block' : 'none';\n",
              "    })();\n",
              "  </script>\n",
              "</div>\n",
              "    </div>\n",
              "  </div>\n"
            ],
            "application/vnd.google.colaboratory.intrinsic+json": {
              "type": "dataframe",
              "variable_name": "performance",
              "summary": "{\n  \"name\": \"performance\",\n  \"rows\": 18054,\n  \"fields\": [\n    {\n      \"column\": \"Valor Real\",\n      \"properties\": {\n        \"dtype\": \"number\",\n        \"std\": 0.01456379210679609,\n        \"min\": 2.5373197445764484e-10,\n        \"max\": 0.5607476635514018,\n        \"num_unique_values\": 1834,\n        \"samples\": [\n          0.004953271028037383,\n          0.00883177570093458,\n          0.0038784579439252336\n        ],\n        \"semantic_type\": \"\",\n        \"description\": \"\"\n      }\n    },\n    {\n      \"column\": \"Prediccion\",\n      \"properties\": {\n        \"dtype\": \"float32\",\n        \"num_unique_values\": 3584,\n        \"samples\": [\n          0.004733490291982889,\n          0.011517386883497238,\n          0.0063114529475569725\n        ],\n        \"semantic_type\": \"\",\n        \"description\": \"\"\n      }\n    },\n    {\n      \"column\": \"Error\",\n      \"properties\": {\n        \"dtype\": \"number\",\n        \"std\": 0.009371558383661443,\n        \"min\": -0.08004335549835848,\n        \"max\": 0.5513833119211909,\n        \"num_unique_values\": 14535,\n        \"samples\": [\n          -0.004018110466825071,\n          -0.006216224230756271,\n          0.0015604551032916683\n        ],\n        \"semantic_type\": \"\",\n        \"description\": \"\"\n      }\n    }\n  ]\n}"
            }
          },
          "metadata": {},
          "execution_count": 30
        }
      ]
    },
    {
      "cell_type": "markdown",
      "source": [
        "* MSE"
      ],
      "metadata": {
        "id": "lav7Miow0xOJ"
      }
    },
    {
      "cell_type": "code",
      "source": [
        "# Mean Squared Error\n",
        "mean_squared_error(y_test, y_test_pred_best_xgbr_model, squared=True)"
      ],
      "metadata": {
        "colab": {
          "base_uri": "https://localhost:8080/"
        },
        "id": "nmaltFeE0OkF",
        "outputId": "a701b803-a015-4b00-ea89-408aafaee4b7"
      },
      "execution_count": 31,
      "outputs": [
        {
          "output_type": "execute_result",
          "data": {
            "text/plain": [
              "8.873311150515407e-05"
            ]
          },
          "metadata": {},
          "execution_count": 31
        }
      ]
    },
    {
      "cell_type": "markdown",
      "source": [
        "* RMSE"
      ],
      "metadata": {
        "id": "TeGY-PA60yRN"
      }
    },
    {
      "cell_type": "code",
      "source": [
        "# Root Mean Squared Error\n",
        "mean_squared_error(y_test, y_test_pred_best_xgbr_model, squared=False)"
      ],
      "metadata": {
        "colab": {
          "base_uri": "https://localhost:8080/"
        },
        "id": "Pur7mTdP0PHl",
        "outputId": "bdf32e2a-99e9-4076-a278-78e6054eca0c"
      },
      "execution_count": 32,
      "outputs": [
        {
          "output_type": "execute_result",
          "data": {
            "text/plain": [
              "0.009419825449824113"
            ]
          },
          "metadata": {},
          "execution_count": 32
        }
      ]
    },
    {
      "cell_type": "markdown",
      "source": [
        "* R2 score"
      ],
      "metadata": {
        "id": "n-VTXgTE0zZ7"
      }
    },
    {
      "cell_type": "code",
      "source": [
        "r2_score(y_test, y_test_pred_best_xgbr_model)"
      ],
      "metadata": {
        "colab": {
          "base_uri": "https://localhost:8080/"
        },
        "id": "yRDatZDt0TRx",
        "outputId": "1e49c7de-68b2-479c-a93c-ee9b63003c80"
      },
      "execution_count": 33,
      "outputs": [
        {
          "output_type": "execute_result",
          "data": {
            "text/plain": [
              "0.5816297208277482"
            ]
          },
          "metadata": {},
          "execution_count": 33
        }
      ]
    },
    {
      "cell_type": "markdown",
      "source": [
        "Como performa en los datos de training"
      ],
      "metadata": {
        "id": "cDazTSpI0YNJ"
      }
    },
    {
      "cell_type": "code",
      "source": [
        "# Performance\n",
        "performance = pd.DataFrame({'Valor Real': y_train,\n",
        "                            'Prediccion': y_train_pred_best_xgbr_model,\n",
        "                            'Error': y_train - y_train_pred_best_xgbr_model})\n",
        "# View\n",
        "performance.head()"
      ],
      "metadata": {
        "colab": {
          "base_uri": "https://localhost:8080/",
          "height": 206
        },
        "id": "2u7Xj0C70ULI",
        "outputId": "79c0efda-6c48-4752-b427-eea225a684f4"
      },
      "execution_count": 34,
      "outputs": [
        {
          "output_type": "execute_result",
          "data": {
            "text/plain": [
              "   Valor Real  Prediccion     Error\n",
              "0    0.012383    0.013720 -0.001337\n",
              "1    0.006075    0.005880  0.000195\n",
              "2    0.010724    0.022218 -0.011493\n",
              "3    0.003738    0.003623  0.000115\n",
              "4    0.011215    0.012561 -0.001346"
            ],
            "text/html": [
              "\n",
              "  <div id=\"df-396aabb7-c434-479b-8baf-85e0b8912ea7\" class=\"colab-df-container\">\n",
              "    <div>\n",
              "<style scoped>\n",
              "    .dataframe tbody tr th:only-of-type {\n",
              "        vertical-align: middle;\n",
              "    }\n",
              "\n",
              "    .dataframe tbody tr th {\n",
              "        vertical-align: top;\n",
              "    }\n",
              "\n",
              "    .dataframe thead th {\n",
              "        text-align: right;\n",
              "    }\n",
              "</style>\n",
              "<table border=\"1\" class=\"dataframe\">\n",
              "  <thead>\n",
              "    <tr style=\"text-align: right;\">\n",
              "      <th></th>\n",
              "      <th>Valor Real</th>\n",
              "      <th>Prediccion</th>\n",
              "      <th>Error</th>\n",
              "    </tr>\n",
              "  </thead>\n",
              "  <tbody>\n",
              "    <tr>\n",
              "      <th>0</th>\n",
              "      <td>0.012383</td>\n",
              "      <td>0.013720</td>\n",
              "      <td>-0.001337</td>\n",
              "    </tr>\n",
              "    <tr>\n",
              "      <th>1</th>\n",
              "      <td>0.006075</td>\n",
              "      <td>0.005880</td>\n",
              "      <td>0.000195</td>\n",
              "    </tr>\n",
              "    <tr>\n",
              "      <th>2</th>\n",
              "      <td>0.010724</td>\n",
              "      <td>0.022218</td>\n",
              "      <td>-0.011493</td>\n",
              "    </tr>\n",
              "    <tr>\n",
              "      <th>3</th>\n",
              "      <td>0.003738</td>\n",
              "      <td>0.003623</td>\n",
              "      <td>0.000115</td>\n",
              "    </tr>\n",
              "    <tr>\n",
              "      <th>4</th>\n",
              "      <td>0.011215</td>\n",
              "      <td>0.012561</td>\n",
              "      <td>-0.001346</td>\n",
              "    </tr>\n",
              "  </tbody>\n",
              "</table>\n",
              "</div>\n",
              "    <div class=\"colab-df-buttons\">\n",
              "\n",
              "  <div class=\"colab-df-container\">\n",
              "    <button class=\"colab-df-convert\" onclick=\"convertToInteractive('df-396aabb7-c434-479b-8baf-85e0b8912ea7')\"\n",
              "            title=\"Convert this dataframe to an interactive table.\"\n",
              "            style=\"display:none;\">\n",
              "\n",
              "  <svg xmlns=\"http://www.w3.org/2000/svg\" height=\"24px\" viewBox=\"0 -960 960 960\">\n",
              "    <path d=\"M120-120v-720h720v720H120Zm60-500h600v-160H180v160Zm220 220h160v-160H400v160Zm0 220h160v-160H400v160ZM180-400h160v-160H180v160Zm440 0h160v-160H620v160ZM180-180h160v-160H180v160Zm440 0h160v-160H620v160Z\"/>\n",
              "  </svg>\n",
              "    </button>\n",
              "\n",
              "  <style>\n",
              "    .colab-df-container {\n",
              "      display:flex;\n",
              "      gap: 12px;\n",
              "    }\n",
              "\n",
              "    .colab-df-convert {\n",
              "      background-color: #E8F0FE;\n",
              "      border: none;\n",
              "      border-radius: 50%;\n",
              "      cursor: pointer;\n",
              "      display: none;\n",
              "      fill: #1967D2;\n",
              "      height: 32px;\n",
              "      padding: 0 0 0 0;\n",
              "      width: 32px;\n",
              "    }\n",
              "\n",
              "    .colab-df-convert:hover {\n",
              "      background-color: #E2EBFA;\n",
              "      box-shadow: 0px 1px 2px rgba(60, 64, 67, 0.3), 0px 1px 3px 1px rgba(60, 64, 67, 0.15);\n",
              "      fill: #174EA6;\n",
              "    }\n",
              "\n",
              "    .colab-df-buttons div {\n",
              "      margin-bottom: 4px;\n",
              "    }\n",
              "\n",
              "    [theme=dark] .colab-df-convert {\n",
              "      background-color: #3B4455;\n",
              "      fill: #D2E3FC;\n",
              "    }\n",
              "\n",
              "    [theme=dark] .colab-df-convert:hover {\n",
              "      background-color: #434B5C;\n",
              "      box-shadow: 0px 1px 3px 1px rgba(0, 0, 0, 0.15);\n",
              "      filter: drop-shadow(0px 1px 2px rgba(0, 0, 0, 0.3));\n",
              "      fill: #FFFFFF;\n",
              "    }\n",
              "  </style>\n",
              "\n",
              "    <script>\n",
              "      const buttonEl =\n",
              "        document.querySelector('#df-396aabb7-c434-479b-8baf-85e0b8912ea7 button.colab-df-convert');\n",
              "      buttonEl.style.display =\n",
              "        google.colab.kernel.accessAllowed ? 'block' : 'none';\n",
              "\n",
              "      async function convertToInteractive(key) {\n",
              "        const element = document.querySelector('#df-396aabb7-c434-479b-8baf-85e0b8912ea7');\n",
              "        const dataTable =\n",
              "          await google.colab.kernel.invokeFunction('convertToInteractive',\n",
              "                                                    [key], {});\n",
              "        if (!dataTable) return;\n",
              "\n",
              "        const docLinkHtml = 'Like what you see? Visit the ' +\n",
              "          '<a target=\"_blank\" href=https://colab.research.google.com/notebooks/data_table.ipynb>data table notebook</a>'\n",
              "          + ' to learn more about interactive tables.';\n",
              "        element.innerHTML = '';\n",
              "        dataTable['output_type'] = 'display_data';\n",
              "        await google.colab.output.renderOutput(dataTable, element);\n",
              "        const docLink = document.createElement('div');\n",
              "        docLink.innerHTML = docLinkHtml;\n",
              "        element.appendChild(docLink);\n",
              "      }\n",
              "    </script>\n",
              "  </div>\n",
              "\n",
              "\n",
              "<div id=\"df-64d982ba-d19c-4039-97f7-47393ae0dc0a\">\n",
              "  <button class=\"colab-df-quickchart\" onclick=\"quickchart('df-64d982ba-d19c-4039-97f7-47393ae0dc0a')\"\n",
              "            title=\"Suggest charts\"\n",
              "            style=\"display:none;\">\n",
              "\n",
              "<svg xmlns=\"http://www.w3.org/2000/svg\" height=\"24px\"viewBox=\"0 0 24 24\"\n",
              "     width=\"24px\">\n",
              "    <g>\n",
              "        <path d=\"M19 3H5c-1.1 0-2 .9-2 2v14c0 1.1.9 2 2 2h14c1.1 0 2-.9 2-2V5c0-1.1-.9-2-2-2zM9 17H7v-7h2v7zm4 0h-2V7h2v10zm4 0h-2v-4h2v4z\"/>\n",
              "    </g>\n",
              "</svg>\n",
              "  </button>\n",
              "\n",
              "<style>\n",
              "  .colab-df-quickchart {\n",
              "      --bg-color: #E8F0FE;\n",
              "      --fill-color: #1967D2;\n",
              "      --hover-bg-color: #E2EBFA;\n",
              "      --hover-fill-color: #174EA6;\n",
              "      --disabled-fill-color: #AAA;\n",
              "      --disabled-bg-color: #DDD;\n",
              "  }\n",
              "\n",
              "  [theme=dark] .colab-df-quickchart {\n",
              "      --bg-color: #3B4455;\n",
              "      --fill-color: #D2E3FC;\n",
              "      --hover-bg-color: #434B5C;\n",
              "      --hover-fill-color: #FFFFFF;\n",
              "      --disabled-bg-color: #3B4455;\n",
              "      --disabled-fill-color: #666;\n",
              "  }\n",
              "\n",
              "  .colab-df-quickchart {\n",
              "    background-color: var(--bg-color);\n",
              "    border: none;\n",
              "    border-radius: 50%;\n",
              "    cursor: pointer;\n",
              "    display: none;\n",
              "    fill: var(--fill-color);\n",
              "    height: 32px;\n",
              "    padding: 0;\n",
              "    width: 32px;\n",
              "  }\n",
              "\n",
              "  .colab-df-quickchart:hover {\n",
              "    background-color: var(--hover-bg-color);\n",
              "    box-shadow: 0 1px 2px rgba(60, 64, 67, 0.3), 0 1px 3px 1px rgba(60, 64, 67, 0.15);\n",
              "    fill: var(--button-hover-fill-color);\n",
              "  }\n",
              "\n",
              "  .colab-df-quickchart-complete:disabled,\n",
              "  .colab-df-quickchart-complete:disabled:hover {\n",
              "    background-color: var(--disabled-bg-color);\n",
              "    fill: var(--disabled-fill-color);\n",
              "    box-shadow: none;\n",
              "  }\n",
              "\n",
              "  .colab-df-spinner {\n",
              "    border: 2px solid var(--fill-color);\n",
              "    border-color: transparent;\n",
              "    border-bottom-color: var(--fill-color);\n",
              "    animation:\n",
              "      spin 1s steps(1) infinite;\n",
              "  }\n",
              "\n",
              "  @keyframes spin {\n",
              "    0% {\n",
              "      border-color: transparent;\n",
              "      border-bottom-color: var(--fill-color);\n",
              "      border-left-color: var(--fill-color);\n",
              "    }\n",
              "    20% {\n",
              "      border-color: transparent;\n",
              "      border-left-color: var(--fill-color);\n",
              "      border-top-color: var(--fill-color);\n",
              "    }\n",
              "    30% {\n",
              "      border-color: transparent;\n",
              "      border-left-color: var(--fill-color);\n",
              "      border-top-color: var(--fill-color);\n",
              "      border-right-color: var(--fill-color);\n",
              "    }\n",
              "    40% {\n",
              "      border-color: transparent;\n",
              "      border-right-color: var(--fill-color);\n",
              "      border-top-color: var(--fill-color);\n",
              "    }\n",
              "    60% {\n",
              "      border-color: transparent;\n",
              "      border-right-color: var(--fill-color);\n",
              "    }\n",
              "    80% {\n",
              "      border-color: transparent;\n",
              "      border-right-color: var(--fill-color);\n",
              "      border-bottom-color: var(--fill-color);\n",
              "    }\n",
              "    90% {\n",
              "      border-color: transparent;\n",
              "      border-bottom-color: var(--fill-color);\n",
              "    }\n",
              "  }\n",
              "</style>\n",
              "\n",
              "  <script>\n",
              "    async function quickchart(key) {\n",
              "      const quickchartButtonEl =\n",
              "        document.querySelector('#' + key + ' button');\n",
              "      quickchartButtonEl.disabled = true;  // To prevent multiple clicks.\n",
              "      quickchartButtonEl.classList.add('colab-df-spinner');\n",
              "      try {\n",
              "        const charts = await google.colab.kernel.invokeFunction(\n",
              "            'suggestCharts', [key], {});\n",
              "      } catch (error) {\n",
              "        console.error('Error during call to suggestCharts:', error);\n",
              "      }\n",
              "      quickchartButtonEl.classList.remove('colab-df-spinner');\n",
              "      quickchartButtonEl.classList.add('colab-df-quickchart-complete');\n",
              "    }\n",
              "    (() => {\n",
              "      let quickchartButtonEl =\n",
              "        document.querySelector('#df-64d982ba-d19c-4039-97f7-47393ae0dc0a button');\n",
              "      quickchartButtonEl.style.display =\n",
              "        google.colab.kernel.accessAllowed ? 'block' : 'none';\n",
              "    })();\n",
              "  </script>\n",
              "</div>\n",
              "    </div>\n",
              "  </div>\n"
            ],
            "application/vnd.google.colaboratory.intrinsic+json": {
              "type": "dataframe",
              "variable_name": "performance",
              "summary": "{\n  \"name\": \"performance\",\n  \"rows\": 72216,\n  \"fields\": [\n    {\n      \"column\": \"Valor Real\",\n      \"properties\": {\n        \"dtype\": \"number\",\n        \"std\": 0.01447440852084552,\n        \"min\": 0.0,\n        \"max\": 1.0,\n        \"num_unique_values\": 4090,\n        \"samples\": [\n          0.01111214953271028,\n          0.013878504672897196,\n          0.0058831775700934575\n        ],\n        \"semantic_type\": \"\",\n        \"description\": \"\"\n      }\n    },\n    {\n      \"column\": \"Prediccion\",\n      \"properties\": {\n        \"dtype\": \"float32\",\n        \"num_unique_values\": 6764,\n        \"samples\": [\n          0.006069827359169722,\n          0.0124997952952981,\n          0.010583930648863316\n        ],\n        \"semantic_type\": \"\",\n        \"description\": \"\"\n      }\n    },\n    {\n      \"column\": \"Error\",\n      \"properties\": {\n        \"dtype\": \"number\",\n        \"std\": 0.007230504706898943,\n        \"min\": -0.13652890669965298,\n        \"max\": 0.991609962657094,\n        \"num_unique_values\": 43732,\n        \"samples\": [\n          -0.002129269420996169,\n          -0.0019086830276195121,\n          -0.0014432376160103582\n        ],\n        \"semantic_type\": \"\",\n        \"description\": \"\"\n      }\n    }\n  ]\n}"
            }
          },
          "metadata": {},
          "execution_count": 34
        }
      ]
    },
    {
      "cell_type": "markdown",
      "source": [
        "* MSE"
      ],
      "metadata": {
        "id": "j2X6Ef_-005r"
      }
    },
    {
      "cell_type": "code",
      "source": [
        "# Mean Squared Error\n",
        "mean_squared_error(y_train, y_train_pred_best_xgbr_model, squared=True)"
      ],
      "metadata": {
        "colab": {
          "base_uri": "https://localhost:8080/"
        },
        "id": "OEg738Ie0VMA",
        "outputId": "961c7fea-e768-4a50-dd20-49337577b7f7"
      },
      "execution_count": 35,
      "outputs": [
        {
          "output_type": "execute_result",
          "data": {
            "text/plain": [
              "5.227970868486065e-05"
            ]
          },
          "metadata": {},
          "execution_count": 35
        }
      ]
    },
    {
      "cell_type": "markdown",
      "source": [
        "* RMSE"
      ],
      "metadata": {
        "id": "xq42SN0k02Ph"
      }
    },
    {
      "cell_type": "code",
      "source": [
        "# Root Mean Squared Error\n",
        "mean_squared_error(y_train, y_train_pred_best_xgbr_model, squared=False)"
      ],
      "metadata": {
        "colab": {
          "base_uri": "https://localhost:8080/"
        },
        "id": "pX__Fzn30V-X",
        "outputId": "c4a338c5-4995-4cd3-ba16-e436efbad3e6"
      },
      "execution_count": 36,
      "outputs": [
        {
          "output_type": "execute_result",
          "data": {
            "text/plain": [
              "0.007230470848074879"
            ]
          },
          "metadata": {},
          "execution_count": 36
        }
      ]
    },
    {
      "cell_type": "markdown",
      "source": [
        "* R2 score"
      ],
      "metadata": {
        "id": "Ey_JfUHf03c0"
      }
    },
    {
      "cell_type": "code",
      "source": [
        "r2_score(y_train, y_train_pred_best_xgbr_model)"
      ],
      "metadata": {
        "colab": {
          "base_uri": "https://localhost:8080/"
        },
        "id": "W6nx3R0X0XOg",
        "outputId": "e0fa4580-820c-4554-d790-235cb2313057"
      },
      "execution_count": 37,
      "outputs": [
        {
          "output_type": "execute_result",
          "data": {
            "text/plain": [
              "0.7504615224489726"
            ]
          },
          "metadata": {},
          "execution_count": 37
        }
      ]
    },
    {
      "cell_type": "markdown",
      "source": [
        "Este modelo a diferencia del anterior no parece estar overfiteado, pero tampoco tiene una performance muy buena en testing."
      ],
      "metadata": {
        "id": "OegfMTdWSyTT"
      }
    },
    {
      "cell_type": "markdown",
      "source": [
        "### Modelo 3: Árbol de Decisión\n"
      ],
      "metadata": {
        "id": "aypbPI3HjOHx"
      }
    },
    {
      "cell_type": "markdown",
      "source": [
        "#### Construccion"
      ],
      "metadata": {
        "id": "XArlrf1eqx1-"
      }
    },
    {
      "cell_type": "code",
      "source": [
        "# dividimos los sets en x, y. x son los parametros con los que entrenar, e y son los parametros a predecir\n",
        "x_train = ds_reg_train.drop(columns=[\"property_price\"])\n",
        "y_train = ds_reg_train[\"property_price\"].copy()\n",
        "\n",
        "x_test = ds_reg_test.drop(columns=[\"property_price\"])\n",
        "y_test = ds_reg_test[\"property_price\"].copy()"
      ],
      "metadata": {
        "id": "Yf7C6xPPmvYn"
      },
      "execution_count": 38,
      "outputs": []
    },
    {
      "cell_type": "markdown",
      "source": [
        "##### Cross-validation"
      ],
      "metadata": {
        "id": "fB_LtE2JqyyM"
      }
    },
    {
      "cell_type": "code",
      "source": [
        "from sklearn.tree import DecisionTreeRegressor\n",
        "from sklearn.model_selection import RandomizedSearchCV, KFold\n",
        "from sklearn.metrics import make_scorer, r2_score\n",
        "\n",
        "kfoldcv = KFold(n_splits=5)\n",
        "scorer_fn = make_scorer(r2_score)\n",
        "n = 10\n",
        "\n",
        "#Conjunto de parámetros que quiero usar\n",
        "params_grid = { \"criterion\" : [\"squared_error\", \"friedman_mse\", \"absolute_error\"],\n",
        "               \"min_samples_leaf\" : [5, 10],\n",
        "               \"min_samples_split\" : [2, 4, 10, 12, 16],\n",
        "               \"splitter\": ['random','best'] }\n",
        "\n",
        "# Clasificador Arbol\n",
        "tree = DecisionTreeRegressor(random_state = n)\n",
        "\n",
        "# Random Search con 10 Folds y 10 iteraciones\n",
        "rs = RandomizedSearchCV(tree, params_grid, scoring='neg_root_mean_squared_error', cv=n, n_iter=n, random_state=n)\n",
        "\n",
        "rs_fit = rs.fit(x_train, y_train)\n",
        "rs_fit.best_score_ # vemos el mejor score"
      ],
      "metadata": {
        "colab": {
          "base_uri": "https://localhost:8080/"
        },
        "id": "nDfvzBl9qUSD",
        "outputId": "974b05e5-44e4-4633-b8b8-0bca6f03bc19"
      },
      "execution_count": 39,
      "outputs": [
        {
          "output_type": "execute_result",
          "data": {
            "text/plain": [
              "-0.00724910126605482"
            ]
          },
          "metadata": {},
          "execution_count": 39
        }
      ]
    },
    {
      "cell_type": "markdown",
      "source": [
        "Vemos los mejores parametros"
      ],
      "metadata": {
        "id": "9dLwXgyTrwpp"
      }
    },
    {
      "cell_type": "code",
      "source": [
        "params_elegidos=rs_fit.cv_results_['params'][np.argmax(rs_fit.cv_results_['mean_test_score'])]\n",
        "params_elegidos"
      ],
      "metadata": {
        "colab": {
          "base_uri": "https://localhost:8080/"
        },
        "id": "YvHg9HYmrsc6",
        "outputId": "2d1aaaa2-f6f6-4d7b-d265-7d53139c78ce"
      },
      "execution_count": 40,
      "outputs": [
        {
          "output_type": "execute_result",
          "data": {
            "text/plain": [
              "{'splitter': 'best',\n",
              " 'min_samples_split': 4,\n",
              " 'min_samples_leaf': 5,\n",
              " 'criterion': 'squared_error'}"
            ]
          },
          "metadata": {},
          "execution_count": 40
        }
      ]
    },
    {
      "cell_type": "markdown",
      "source": [
        "##### Creacion del mejor modelo"
      ],
      "metadata": {
        "id": "d2hIhN93qz9I"
      }
    },
    {
      "cell_type": "code",
      "source": [
        "# Mejor Regresor Arbol\n",
        "best_dtr_model = DecisionTreeRegressor(\n",
        "    splitter = params_elegidos['splitter'],\n",
        "    min_samples_split = params_elegidos['min_samples_split'],\n",
        "    min_samples_leaf = params_elegidos['min_samples_leaf'],\n",
        "    criterion = params_elegidos['criterion'],\n",
        "\n",
        ")\n",
        "\n",
        "best_dtr_model.fit(x_train, y_train)\n",
        "y_train_pred_best_dtr_model = best_dtr_model.predict(x_train)\n",
        "y_test_pred_best_dtr_model = best_dtr_model.predict(x_test)"
      ],
      "metadata": {
        "id": "xKHqlNMYx4ax"
      },
      "execution_count": 41,
      "outputs": []
    },
    {
      "cell_type": "markdown",
      "source": [
        "Como performa en los datos de testing"
      ],
      "metadata": {
        "id": "NsP515Z2yV0q"
      }
    },
    {
      "cell_type": "code",
      "source": [
        "# Performance\n",
        "performance = pd.DataFrame({'Valor Real': y_test,\n",
        "                            'Prediccion': y_test_pred_best_dtr_model,\n",
        "                            'Error': y_test - y_test_pred_best_dtr_model})\n",
        "# View\n",
        "performance.head()"
      ],
      "metadata": {
        "colab": {
          "base_uri": "https://localhost:8080/",
          "height": 206
        },
        "id": "lGIkljYFyZHT",
        "outputId": "b7130b48-99eb-4d2a-d8cc-1396580f29e6"
      },
      "execution_count": 42,
      "outputs": [
        {
          "output_type": "execute_result",
          "data": {
            "text/plain": [
              "   Valor Real  Prediccion     Error\n",
              "0    0.003738    0.005928 -0.002190\n",
              "1    0.012150    0.015087 -0.002937\n",
              "2    0.006028    0.005866  0.000162\n",
              "3    0.001752    0.006368 -0.004615\n",
              "4    0.003972    0.002284  0.001688"
            ],
            "text/html": [
              "\n",
              "  <div id=\"df-7a4c42a9-1e1e-4649-b51d-c5eda9786e53\" class=\"colab-df-container\">\n",
              "    <div>\n",
              "<style scoped>\n",
              "    .dataframe tbody tr th:only-of-type {\n",
              "        vertical-align: middle;\n",
              "    }\n",
              "\n",
              "    .dataframe tbody tr th {\n",
              "        vertical-align: top;\n",
              "    }\n",
              "\n",
              "    .dataframe thead th {\n",
              "        text-align: right;\n",
              "    }\n",
              "</style>\n",
              "<table border=\"1\" class=\"dataframe\">\n",
              "  <thead>\n",
              "    <tr style=\"text-align: right;\">\n",
              "      <th></th>\n",
              "      <th>Valor Real</th>\n",
              "      <th>Prediccion</th>\n",
              "      <th>Error</th>\n",
              "    </tr>\n",
              "  </thead>\n",
              "  <tbody>\n",
              "    <tr>\n",
              "      <th>0</th>\n",
              "      <td>0.003738</td>\n",
              "      <td>0.005928</td>\n",
              "      <td>-0.002190</td>\n",
              "    </tr>\n",
              "    <tr>\n",
              "      <th>1</th>\n",
              "      <td>0.012150</td>\n",
              "      <td>0.015087</td>\n",
              "      <td>-0.002937</td>\n",
              "    </tr>\n",
              "    <tr>\n",
              "      <th>2</th>\n",
              "      <td>0.006028</td>\n",
              "      <td>0.005866</td>\n",
              "      <td>0.000162</td>\n",
              "    </tr>\n",
              "    <tr>\n",
              "      <th>3</th>\n",
              "      <td>0.001752</td>\n",
              "      <td>0.006368</td>\n",
              "      <td>-0.004615</td>\n",
              "    </tr>\n",
              "    <tr>\n",
              "      <th>4</th>\n",
              "      <td>0.003972</td>\n",
              "      <td>0.002284</td>\n",
              "      <td>0.001688</td>\n",
              "    </tr>\n",
              "  </tbody>\n",
              "</table>\n",
              "</div>\n",
              "    <div class=\"colab-df-buttons\">\n",
              "\n",
              "  <div class=\"colab-df-container\">\n",
              "    <button class=\"colab-df-convert\" onclick=\"convertToInteractive('df-7a4c42a9-1e1e-4649-b51d-c5eda9786e53')\"\n",
              "            title=\"Convert this dataframe to an interactive table.\"\n",
              "            style=\"display:none;\">\n",
              "\n",
              "  <svg xmlns=\"http://www.w3.org/2000/svg\" height=\"24px\" viewBox=\"0 -960 960 960\">\n",
              "    <path d=\"M120-120v-720h720v720H120Zm60-500h600v-160H180v160Zm220 220h160v-160H400v160Zm0 220h160v-160H400v160ZM180-400h160v-160H180v160Zm440 0h160v-160H620v160ZM180-180h160v-160H180v160Zm440 0h160v-160H620v160Z\"/>\n",
              "  </svg>\n",
              "    </button>\n",
              "\n",
              "  <style>\n",
              "    .colab-df-container {\n",
              "      display:flex;\n",
              "      gap: 12px;\n",
              "    }\n",
              "\n",
              "    .colab-df-convert {\n",
              "      background-color: #E8F0FE;\n",
              "      border: none;\n",
              "      border-radius: 50%;\n",
              "      cursor: pointer;\n",
              "      display: none;\n",
              "      fill: #1967D2;\n",
              "      height: 32px;\n",
              "      padding: 0 0 0 0;\n",
              "      width: 32px;\n",
              "    }\n",
              "\n",
              "    .colab-df-convert:hover {\n",
              "      background-color: #E2EBFA;\n",
              "      box-shadow: 0px 1px 2px rgba(60, 64, 67, 0.3), 0px 1px 3px 1px rgba(60, 64, 67, 0.15);\n",
              "      fill: #174EA6;\n",
              "    }\n",
              "\n",
              "    .colab-df-buttons div {\n",
              "      margin-bottom: 4px;\n",
              "    }\n",
              "\n",
              "    [theme=dark] .colab-df-convert {\n",
              "      background-color: #3B4455;\n",
              "      fill: #D2E3FC;\n",
              "    }\n",
              "\n",
              "    [theme=dark] .colab-df-convert:hover {\n",
              "      background-color: #434B5C;\n",
              "      box-shadow: 0px 1px 3px 1px rgba(0, 0, 0, 0.15);\n",
              "      filter: drop-shadow(0px 1px 2px rgba(0, 0, 0, 0.3));\n",
              "      fill: #FFFFFF;\n",
              "    }\n",
              "  </style>\n",
              "\n",
              "    <script>\n",
              "      const buttonEl =\n",
              "        document.querySelector('#df-7a4c42a9-1e1e-4649-b51d-c5eda9786e53 button.colab-df-convert');\n",
              "      buttonEl.style.display =\n",
              "        google.colab.kernel.accessAllowed ? 'block' : 'none';\n",
              "\n",
              "      async function convertToInteractive(key) {\n",
              "        const element = document.querySelector('#df-7a4c42a9-1e1e-4649-b51d-c5eda9786e53');\n",
              "        const dataTable =\n",
              "          await google.colab.kernel.invokeFunction('convertToInteractive',\n",
              "                                                    [key], {});\n",
              "        if (!dataTable) return;\n",
              "\n",
              "        const docLinkHtml = 'Like what you see? Visit the ' +\n",
              "          '<a target=\"_blank\" href=https://colab.research.google.com/notebooks/data_table.ipynb>data table notebook</a>'\n",
              "          + ' to learn more about interactive tables.';\n",
              "        element.innerHTML = '';\n",
              "        dataTable['output_type'] = 'display_data';\n",
              "        await google.colab.output.renderOutput(dataTable, element);\n",
              "        const docLink = document.createElement('div');\n",
              "        docLink.innerHTML = docLinkHtml;\n",
              "        element.appendChild(docLink);\n",
              "      }\n",
              "    </script>\n",
              "  </div>\n",
              "\n",
              "\n",
              "<div id=\"df-e01f78ea-dbb7-4659-870c-a985160523cf\">\n",
              "  <button class=\"colab-df-quickchart\" onclick=\"quickchart('df-e01f78ea-dbb7-4659-870c-a985160523cf')\"\n",
              "            title=\"Suggest charts\"\n",
              "            style=\"display:none;\">\n",
              "\n",
              "<svg xmlns=\"http://www.w3.org/2000/svg\" height=\"24px\"viewBox=\"0 0 24 24\"\n",
              "     width=\"24px\">\n",
              "    <g>\n",
              "        <path d=\"M19 3H5c-1.1 0-2 .9-2 2v14c0 1.1.9 2 2 2h14c1.1 0 2-.9 2-2V5c0-1.1-.9-2-2-2zM9 17H7v-7h2v7zm4 0h-2V7h2v10zm4 0h-2v-4h2v4z\"/>\n",
              "    </g>\n",
              "</svg>\n",
              "  </button>\n",
              "\n",
              "<style>\n",
              "  .colab-df-quickchart {\n",
              "      --bg-color: #E8F0FE;\n",
              "      --fill-color: #1967D2;\n",
              "      --hover-bg-color: #E2EBFA;\n",
              "      --hover-fill-color: #174EA6;\n",
              "      --disabled-fill-color: #AAA;\n",
              "      --disabled-bg-color: #DDD;\n",
              "  }\n",
              "\n",
              "  [theme=dark] .colab-df-quickchart {\n",
              "      --bg-color: #3B4455;\n",
              "      --fill-color: #D2E3FC;\n",
              "      --hover-bg-color: #434B5C;\n",
              "      --hover-fill-color: #FFFFFF;\n",
              "      --disabled-bg-color: #3B4455;\n",
              "      --disabled-fill-color: #666;\n",
              "  }\n",
              "\n",
              "  .colab-df-quickchart {\n",
              "    background-color: var(--bg-color);\n",
              "    border: none;\n",
              "    border-radius: 50%;\n",
              "    cursor: pointer;\n",
              "    display: none;\n",
              "    fill: var(--fill-color);\n",
              "    height: 32px;\n",
              "    padding: 0;\n",
              "    width: 32px;\n",
              "  }\n",
              "\n",
              "  .colab-df-quickchart:hover {\n",
              "    background-color: var(--hover-bg-color);\n",
              "    box-shadow: 0 1px 2px rgba(60, 64, 67, 0.3), 0 1px 3px 1px rgba(60, 64, 67, 0.15);\n",
              "    fill: var(--button-hover-fill-color);\n",
              "  }\n",
              "\n",
              "  .colab-df-quickchart-complete:disabled,\n",
              "  .colab-df-quickchart-complete:disabled:hover {\n",
              "    background-color: var(--disabled-bg-color);\n",
              "    fill: var(--disabled-fill-color);\n",
              "    box-shadow: none;\n",
              "  }\n",
              "\n",
              "  .colab-df-spinner {\n",
              "    border: 2px solid var(--fill-color);\n",
              "    border-color: transparent;\n",
              "    border-bottom-color: var(--fill-color);\n",
              "    animation:\n",
              "      spin 1s steps(1) infinite;\n",
              "  }\n",
              "\n",
              "  @keyframes spin {\n",
              "    0% {\n",
              "      border-color: transparent;\n",
              "      border-bottom-color: var(--fill-color);\n",
              "      border-left-color: var(--fill-color);\n",
              "    }\n",
              "    20% {\n",
              "      border-color: transparent;\n",
              "      border-left-color: var(--fill-color);\n",
              "      border-top-color: var(--fill-color);\n",
              "    }\n",
              "    30% {\n",
              "      border-color: transparent;\n",
              "      border-left-color: var(--fill-color);\n",
              "      border-top-color: var(--fill-color);\n",
              "      border-right-color: var(--fill-color);\n",
              "    }\n",
              "    40% {\n",
              "      border-color: transparent;\n",
              "      border-right-color: var(--fill-color);\n",
              "      border-top-color: var(--fill-color);\n",
              "    }\n",
              "    60% {\n",
              "      border-color: transparent;\n",
              "      border-right-color: var(--fill-color);\n",
              "    }\n",
              "    80% {\n",
              "      border-color: transparent;\n",
              "      border-right-color: var(--fill-color);\n",
              "      border-bottom-color: var(--fill-color);\n",
              "    }\n",
              "    90% {\n",
              "      border-color: transparent;\n",
              "      border-bottom-color: var(--fill-color);\n",
              "    }\n",
              "  }\n",
              "</style>\n",
              "\n",
              "  <script>\n",
              "    async function quickchart(key) {\n",
              "      const quickchartButtonEl =\n",
              "        document.querySelector('#' + key + ' button');\n",
              "      quickchartButtonEl.disabled = true;  // To prevent multiple clicks.\n",
              "      quickchartButtonEl.classList.add('colab-df-spinner');\n",
              "      try {\n",
              "        const charts = await google.colab.kernel.invokeFunction(\n",
              "            'suggestCharts', [key], {});\n",
              "      } catch (error) {\n",
              "        console.error('Error during call to suggestCharts:', error);\n",
              "      }\n",
              "      quickchartButtonEl.classList.remove('colab-df-spinner');\n",
              "      quickchartButtonEl.classList.add('colab-df-quickchart-complete');\n",
              "    }\n",
              "    (() => {\n",
              "      let quickchartButtonEl =\n",
              "        document.querySelector('#df-e01f78ea-dbb7-4659-870c-a985160523cf button');\n",
              "      quickchartButtonEl.style.display =\n",
              "        google.colab.kernel.accessAllowed ? 'block' : 'none';\n",
              "    })();\n",
              "  </script>\n",
              "</div>\n",
              "    </div>\n",
              "  </div>\n"
            ],
            "application/vnd.google.colaboratory.intrinsic+json": {
              "type": "dataframe",
              "variable_name": "performance",
              "summary": "{\n  \"name\": \"performance\",\n  \"rows\": 18054,\n  \"fields\": [\n    {\n      \"column\": \"Valor Real\",\n      \"properties\": {\n        \"dtype\": \"number\",\n        \"std\": 0.01456379210679609,\n        \"min\": 2.5373197445764484e-10,\n        \"max\": 0.5607476635514018,\n        \"num_unique_values\": 1834,\n        \"samples\": [\n          0.004953271028037383,\n          0.00883177570093458,\n          0.0038784579439252336\n        ],\n        \"semantic_type\": \"\",\n        \"description\": \"\"\n      }\n    },\n    {\n      \"column\": \"Prediccion\",\n      \"properties\": {\n        \"dtype\": \"number\",\n        \"std\": 0.011627567917439052,\n        \"min\": 3.4942182001005506e-09,\n        \"max\": 0.18691588785046728,\n        \"num_unique_values\": 4257,\n        \"samples\": [\n          0.007991054739652868,\n          0.007056066978193145,\n          0.009841084112149533\n        ],\n        \"semantic_type\": \"\",\n        \"description\": \"\"\n      }\n    },\n    {\n      \"column\": \"Error\",\n      \"properties\": {\n        \"dtype\": \"number\",\n        \"std\": 0.009455185065170997,\n        \"min\": -0.14883177570093453,\n        \"max\": 0.5585409777138749,\n        \"num_unique_values\": 15581,\n        \"samples\": [\n          0.0009639209855564984,\n          -0.0002388369678089303,\n          -0.0003270111783030896\n        ],\n        \"semantic_type\": \"\",\n        \"description\": \"\"\n      }\n    }\n  ]\n}"
            }
          },
          "metadata": {},
          "execution_count": 42
        }
      ]
    },
    {
      "cell_type": "markdown",
      "source": [
        "* MSE"
      ],
      "metadata": {
        "id": "Zr5Tbsuyyfgg"
      }
    },
    {
      "cell_type": "code",
      "source": [
        "# Mean Squared Error\n",
        "mean_squared_error(y_test, y_test_pred_best_dtr_model, squared=True)"
      ],
      "metadata": {
        "colab": {
          "base_uri": "https://localhost:8080/"
        },
        "id": "hxVHXiBAyjen",
        "outputId": "44090fb3-3204-4743-98e3-9550b42baade"
      },
      "execution_count": 43,
      "outputs": [
        {
          "output_type": "execute_result",
          "data": {
            "text/plain": [
              "9.02725283786305e-05"
            ]
          },
          "metadata": {},
          "execution_count": 43
        }
      ]
    },
    {
      "cell_type": "markdown",
      "source": [
        "* RMSE"
      ],
      "metadata": {
        "id": "6mIwes58ypQG"
      }
    },
    {
      "cell_type": "code",
      "source": [
        "# Root Mean Squared Error\n",
        "mean_squared_error(y_test, y_test_pred_best_dtr_model, squared=False)"
      ],
      "metadata": {
        "colab": {
          "base_uri": "https://localhost:8080/"
        },
        "id": "UnyreA1Myl9w",
        "outputId": "8cd99261-b504-4a85-9e99-da1b575ed561"
      },
      "execution_count": 44,
      "outputs": [
        {
          "output_type": "execute_result",
          "data": {
            "text/plain": [
              "0.009501185630153244"
            ]
          },
          "metadata": {},
          "execution_count": 44
        }
      ]
    },
    {
      "cell_type": "markdown",
      "source": [
        "* R2 score"
      ],
      "metadata": {
        "id": "iENumkz5ysr4"
      }
    },
    {
      "cell_type": "code",
      "source": [
        "r2_score(y_test, y_test_pred_best_dtr_model)"
      ],
      "metadata": {
        "colab": {
          "base_uri": "https://localhost:8080/"
        },
        "id": "3O96Tbusyw9g",
        "outputId": "5deaf47b-b61b-46ec-91d9-691f128a0093"
      },
      "execution_count": 45,
      "outputs": [
        {
          "output_type": "execute_result",
          "data": {
            "text/plain": [
              "0.5743714802882919"
            ]
          },
          "metadata": {},
          "execution_count": 45
        }
      ]
    },
    {
      "cell_type": "markdown",
      "source": [
        "Como performa en los datos de training"
      ],
      "metadata": {
        "id": "0zC-j32t6zDp"
      }
    },
    {
      "cell_type": "code",
      "source": [
        "# Performance\n",
        "performance = pd.DataFrame({'Valor Real': y_train,\n",
        "                            'Prediccion': y_train_pred_best_dtr_model,\n",
        "                            'Error': y_train - y_train_pred_best_dtr_model})\n",
        "# View\n",
        "performance.head()"
      ],
      "metadata": {
        "colab": {
          "base_uri": "https://localhost:8080/",
          "height": 206
        },
        "id": "c7Phuk7H1P0N",
        "outputId": "36b7b100-745d-4917-e48a-09d8933674c1"
      },
      "execution_count": 46,
      "outputs": [
        {
          "output_type": "execute_result",
          "data": {
            "text/plain": [
              "   Valor Real  Prediccion     Error\n",
              "0    0.012383    0.014439 -0.002056\n",
              "1    0.006075    0.005448  0.000627\n",
              "2    0.010724    0.018229 -0.007504\n",
              "3    0.003738    0.003668  0.000070\n",
              "4    0.011215    0.013868 -0.002653"
            ],
            "text/html": [
              "\n",
              "  <div id=\"df-5c2754b4-c5c0-4bb4-99a9-550699b10730\" class=\"colab-df-container\">\n",
              "    <div>\n",
              "<style scoped>\n",
              "    .dataframe tbody tr th:only-of-type {\n",
              "        vertical-align: middle;\n",
              "    }\n",
              "\n",
              "    .dataframe tbody tr th {\n",
              "        vertical-align: top;\n",
              "    }\n",
              "\n",
              "    .dataframe thead th {\n",
              "        text-align: right;\n",
              "    }\n",
              "</style>\n",
              "<table border=\"1\" class=\"dataframe\">\n",
              "  <thead>\n",
              "    <tr style=\"text-align: right;\">\n",
              "      <th></th>\n",
              "      <th>Valor Real</th>\n",
              "      <th>Prediccion</th>\n",
              "      <th>Error</th>\n",
              "    </tr>\n",
              "  </thead>\n",
              "  <tbody>\n",
              "    <tr>\n",
              "      <th>0</th>\n",
              "      <td>0.012383</td>\n",
              "      <td>0.014439</td>\n",
              "      <td>-0.002056</td>\n",
              "    </tr>\n",
              "    <tr>\n",
              "      <th>1</th>\n",
              "      <td>0.006075</td>\n",
              "      <td>0.005448</td>\n",
              "      <td>0.000627</td>\n",
              "    </tr>\n",
              "    <tr>\n",
              "      <th>2</th>\n",
              "      <td>0.010724</td>\n",
              "      <td>0.018229</td>\n",
              "      <td>-0.007504</td>\n",
              "    </tr>\n",
              "    <tr>\n",
              "      <th>3</th>\n",
              "      <td>0.003738</td>\n",
              "      <td>0.003668</td>\n",
              "      <td>0.000070</td>\n",
              "    </tr>\n",
              "    <tr>\n",
              "      <th>4</th>\n",
              "      <td>0.011215</td>\n",
              "      <td>0.013868</td>\n",
              "      <td>-0.002653</td>\n",
              "    </tr>\n",
              "  </tbody>\n",
              "</table>\n",
              "</div>\n",
              "    <div class=\"colab-df-buttons\">\n",
              "\n",
              "  <div class=\"colab-df-container\">\n",
              "    <button class=\"colab-df-convert\" onclick=\"convertToInteractive('df-5c2754b4-c5c0-4bb4-99a9-550699b10730')\"\n",
              "            title=\"Convert this dataframe to an interactive table.\"\n",
              "            style=\"display:none;\">\n",
              "\n",
              "  <svg xmlns=\"http://www.w3.org/2000/svg\" height=\"24px\" viewBox=\"0 -960 960 960\">\n",
              "    <path d=\"M120-120v-720h720v720H120Zm60-500h600v-160H180v160Zm220 220h160v-160H400v160Zm0 220h160v-160H400v160ZM180-400h160v-160H180v160Zm440 0h160v-160H620v160ZM180-180h160v-160H180v160Zm440 0h160v-160H620v160Z\"/>\n",
              "  </svg>\n",
              "    </button>\n",
              "\n",
              "  <style>\n",
              "    .colab-df-container {\n",
              "      display:flex;\n",
              "      gap: 12px;\n",
              "    }\n",
              "\n",
              "    .colab-df-convert {\n",
              "      background-color: #E8F0FE;\n",
              "      border: none;\n",
              "      border-radius: 50%;\n",
              "      cursor: pointer;\n",
              "      display: none;\n",
              "      fill: #1967D2;\n",
              "      height: 32px;\n",
              "      padding: 0 0 0 0;\n",
              "      width: 32px;\n",
              "    }\n",
              "\n",
              "    .colab-df-convert:hover {\n",
              "      background-color: #E2EBFA;\n",
              "      box-shadow: 0px 1px 2px rgba(60, 64, 67, 0.3), 0px 1px 3px 1px rgba(60, 64, 67, 0.15);\n",
              "      fill: #174EA6;\n",
              "    }\n",
              "\n",
              "    .colab-df-buttons div {\n",
              "      margin-bottom: 4px;\n",
              "    }\n",
              "\n",
              "    [theme=dark] .colab-df-convert {\n",
              "      background-color: #3B4455;\n",
              "      fill: #D2E3FC;\n",
              "    }\n",
              "\n",
              "    [theme=dark] .colab-df-convert:hover {\n",
              "      background-color: #434B5C;\n",
              "      box-shadow: 0px 1px 3px 1px rgba(0, 0, 0, 0.15);\n",
              "      filter: drop-shadow(0px 1px 2px rgba(0, 0, 0, 0.3));\n",
              "      fill: #FFFFFF;\n",
              "    }\n",
              "  </style>\n",
              "\n",
              "    <script>\n",
              "      const buttonEl =\n",
              "        document.querySelector('#df-5c2754b4-c5c0-4bb4-99a9-550699b10730 button.colab-df-convert');\n",
              "      buttonEl.style.display =\n",
              "        google.colab.kernel.accessAllowed ? 'block' : 'none';\n",
              "\n",
              "      async function convertToInteractive(key) {\n",
              "        const element = document.querySelector('#df-5c2754b4-c5c0-4bb4-99a9-550699b10730');\n",
              "        const dataTable =\n",
              "          await google.colab.kernel.invokeFunction('convertToInteractive',\n",
              "                                                    [key], {});\n",
              "        if (!dataTable) return;\n",
              "\n",
              "        const docLinkHtml = 'Like what you see? Visit the ' +\n",
              "          '<a target=\"_blank\" href=https://colab.research.google.com/notebooks/data_table.ipynb>data table notebook</a>'\n",
              "          + ' to learn more about interactive tables.';\n",
              "        element.innerHTML = '';\n",
              "        dataTable['output_type'] = 'display_data';\n",
              "        await google.colab.output.renderOutput(dataTable, element);\n",
              "        const docLink = document.createElement('div');\n",
              "        docLink.innerHTML = docLinkHtml;\n",
              "        element.appendChild(docLink);\n",
              "      }\n",
              "    </script>\n",
              "  </div>\n",
              "\n",
              "\n",
              "<div id=\"df-2cf65827-8a97-48af-bb7d-65f682e5a318\">\n",
              "  <button class=\"colab-df-quickchart\" onclick=\"quickchart('df-2cf65827-8a97-48af-bb7d-65f682e5a318')\"\n",
              "            title=\"Suggest charts\"\n",
              "            style=\"display:none;\">\n",
              "\n",
              "<svg xmlns=\"http://www.w3.org/2000/svg\" height=\"24px\"viewBox=\"0 0 24 24\"\n",
              "     width=\"24px\">\n",
              "    <g>\n",
              "        <path d=\"M19 3H5c-1.1 0-2 .9-2 2v14c0 1.1.9 2 2 2h14c1.1 0 2-.9 2-2V5c0-1.1-.9-2-2-2zM9 17H7v-7h2v7zm4 0h-2V7h2v10zm4 0h-2v-4h2v4z\"/>\n",
              "    </g>\n",
              "</svg>\n",
              "  </button>\n",
              "\n",
              "<style>\n",
              "  .colab-df-quickchart {\n",
              "      --bg-color: #E8F0FE;\n",
              "      --fill-color: #1967D2;\n",
              "      --hover-bg-color: #E2EBFA;\n",
              "      --hover-fill-color: #174EA6;\n",
              "      --disabled-fill-color: #AAA;\n",
              "      --disabled-bg-color: #DDD;\n",
              "  }\n",
              "\n",
              "  [theme=dark] .colab-df-quickchart {\n",
              "      --bg-color: #3B4455;\n",
              "      --fill-color: #D2E3FC;\n",
              "      --hover-bg-color: #434B5C;\n",
              "      --hover-fill-color: #FFFFFF;\n",
              "      --disabled-bg-color: #3B4455;\n",
              "      --disabled-fill-color: #666;\n",
              "  }\n",
              "\n",
              "  .colab-df-quickchart {\n",
              "    background-color: var(--bg-color);\n",
              "    border: none;\n",
              "    border-radius: 50%;\n",
              "    cursor: pointer;\n",
              "    display: none;\n",
              "    fill: var(--fill-color);\n",
              "    height: 32px;\n",
              "    padding: 0;\n",
              "    width: 32px;\n",
              "  }\n",
              "\n",
              "  .colab-df-quickchart:hover {\n",
              "    background-color: var(--hover-bg-color);\n",
              "    box-shadow: 0 1px 2px rgba(60, 64, 67, 0.3), 0 1px 3px 1px rgba(60, 64, 67, 0.15);\n",
              "    fill: var(--button-hover-fill-color);\n",
              "  }\n",
              "\n",
              "  .colab-df-quickchart-complete:disabled,\n",
              "  .colab-df-quickchart-complete:disabled:hover {\n",
              "    background-color: var(--disabled-bg-color);\n",
              "    fill: var(--disabled-fill-color);\n",
              "    box-shadow: none;\n",
              "  }\n",
              "\n",
              "  .colab-df-spinner {\n",
              "    border: 2px solid var(--fill-color);\n",
              "    border-color: transparent;\n",
              "    border-bottom-color: var(--fill-color);\n",
              "    animation:\n",
              "      spin 1s steps(1) infinite;\n",
              "  }\n",
              "\n",
              "  @keyframes spin {\n",
              "    0% {\n",
              "      border-color: transparent;\n",
              "      border-bottom-color: var(--fill-color);\n",
              "      border-left-color: var(--fill-color);\n",
              "    }\n",
              "    20% {\n",
              "      border-color: transparent;\n",
              "      border-left-color: var(--fill-color);\n",
              "      border-top-color: var(--fill-color);\n",
              "    }\n",
              "    30% {\n",
              "      border-color: transparent;\n",
              "      border-left-color: var(--fill-color);\n",
              "      border-top-color: var(--fill-color);\n",
              "      border-right-color: var(--fill-color);\n",
              "    }\n",
              "    40% {\n",
              "      border-color: transparent;\n",
              "      border-right-color: var(--fill-color);\n",
              "      border-top-color: var(--fill-color);\n",
              "    }\n",
              "    60% {\n",
              "      border-color: transparent;\n",
              "      border-right-color: var(--fill-color);\n",
              "    }\n",
              "    80% {\n",
              "      border-color: transparent;\n",
              "      border-right-color: var(--fill-color);\n",
              "      border-bottom-color: var(--fill-color);\n",
              "    }\n",
              "    90% {\n",
              "      border-color: transparent;\n",
              "      border-bottom-color: var(--fill-color);\n",
              "    }\n",
              "  }\n",
              "</style>\n",
              "\n",
              "  <script>\n",
              "    async function quickchart(key) {\n",
              "      const quickchartButtonEl =\n",
              "        document.querySelector('#' + key + ' button');\n",
              "      quickchartButtonEl.disabled = true;  // To prevent multiple clicks.\n",
              "      quickchartButtonEl.classList.add('colab-df-spinner');\n",
              "      try {\n",
              "        const charts = await google.colab.kernel.invokeFunction(\n",
              "            'suggestCharts', [key], {});\n",
              "      } catch (error) {\n",
              "        console.error('Error during call to suggestCharts:', error);\n",
              "      }\n",
              "      quickchartButtonEl.classList.remove('colab-df-spinner');\n",
              "      quickchartButtonEl.classList.add('colab-df-quickchart-complete');\n",
              "    }\n",
              "    (() => {\n",
              "      let quickchartButtonEl =\n",
              "        document.querySelector('#df-2cf65827-8a97-48af-bb7d-65f682e5a318 button');\n",
              "      quickchartButtonEl.style.display =\n",
              "        google.colab.kernel.accessAllowed ? 'block' : 'none';\n",
              "    })();\n",
              "  </script>\n",
              "</div>\n",
              "    </div>\n",
              "  </div>\n"
            ],
            "application/vnd.google.colaboratory.intrinsic+json": {
              "type": "dataframe",
              "variable_name": "performance",
              "summary": "{\n  \"name\": \"performance\",\n  \"rows\": 72216,\n  \"fields\": [\n    {\n      \"column\": \"Valor Real\",\n      \"properties\": {\n        \"dtype\": \"number\",\n        \"std\": 0.01447440852084552,\n        \"min\": 0.0,\n        \"max\": 1.0,\n        \"num_unique_values\": 4090,\n        \"samples\": [\n          0.01111214953271028,\n          0.013878504672897196,\n          0.0058831775700934575\n        ],\n        \"semantic_type\": \"\",\n        \"description\": \"\"\n      }\n    },\n    {\n      \"column\": \"Prediccion\",\n      \"properties\": {\n        \"dtype\": \"number\",\n        \"std\": 0.013041095569539482,\n        \"min\": 3.4942182001005506e-09,\n        \"max\": 0.2476635514018692,\n        \"num_unique_values\": 6212,\n        \"samples\": [\n          0.009595614665708123,\n          0.0056842456608811745,\n          0.013626168224299065\n        ],\n        \"semantic_type\": \"\",\n        \"description\": \"\"\n      }\n    },\n    {\n      \"column\": \"Error\",\n      \"properties\": {\n        \"dtype\": \"number\",\n        \"std\": 0.006279994297327279,\n        \"min\": -0.17476635514018693,\n        \"max\": 0.978291655540721,\n        \"num_unique_values\": 48617,\n        \"samples\": [\n          0.002574065420560748,\n          0.00022377985462097632,\n          0.0010420709430756167\n        ],\n        \"semantic_type\": \"\",\n        \"description\": \"\"\n      }\n    }\n  ]\n}"
            }
          },
          "metadata": {},
          "execution_count": 46
        }
      ]
    },
    {
      "cell_type": "markdown",
      "source": [
        "* MSE"
      ],
      "metadata": {
        "id": "zg30zUDd7MNW"
      }
    },
    {
      "cell_type": "code",
      "source": [
        "# Mean Squared Error\n",
        "mean_squared_error(y_train, y_train_pred_best_dtr_model, squared=True)"
      ],
      "metadata": {
        "colab": {
          "base_uri": "https://localhost:8080/"
        },
        "id": "QFwfAJXs65yS",
        "outputId": "4b80fe23-8c74-4277-8c20-f7b82038b37a"
      },
      "execution_count": 47,
      "outputs": [
        {
          "output_type": "execute_result",
          "data": {
            "text/plain": [
              "3.943778225825102e-05"
            ]
          },
          "metadata": {},
          "execution_count": 47
        }
      ]
    },
    {
      "cell_type": "markdown",
      "source": [
        "* RMSE"
      ],
      "metadata": {
        "id": "9NQaukvU7Xeu"
      }
    },
    {
      "cell_type": "code",
      "source": [
        "# Root Mean Squared Error\n",
        "mean_squared_error(y_train, y_train_pred_best_dtr_model, squared=False)"
      ],
      "metadata": {
        "colab": {
          "base_uri": "https://localhost:8080/"
        },
        "id": "QWSRjMID7R1B",
        "outputId": "eb6d84c1-a9fe-4852-84ea-7025aa8abe5b"
      },
      "execution_count": 48,
      "outputs": [
        {
          "output_type": "execute_result",
          "data": {
            "text/plain": [
              "0.006279950816547135"
            ]
          },
          "metadata": {},
          "execution_count": 48
        }
      ]
    },
    {
      "cell_type": "markdown",
      "source": [
        "* R2"
      ],
      "metadata": {
        "id": "cOaZDvkr7cE1"
      }
    },
    {
      "cell_type": "code",
      "source": [
        "r2_score(y_train, y_train_pred_best_dtr_model)"
      ],
      "metadata": {
        "colab": {
          "base_uri": "https://localhost:8080/"
        },
        "id": "p5nKQbia7Vgc",
        "outputId": "bbcba843-76d5-484d-b8a9-d65b599aba48"
      },
      "execution_count": 49,
      "outputs": [
        {
          "output_type": "execute_result",
          "data": {
            "text/plain": [
              "0.8117578618879576"
            ]
          },
          "metadata": {},
          "execution_count": 49
        }
      ]
    },
    {
      "cell_type": "markdown",
      "source": [
        "Este modelo similarmente al primero visto en esta seccion, parece estar un poco sobreajustado a los datos de entrenamiento, sin embargo es mucho mejor prediciendo que dicho modelo y se acemeja mas al segundo en terminos de metricas."
      ],
      "metadata": {
        "id": "AxCtr6h2TQxp"
      }
    },
    {
      "cell_type": "markdown",
      "source": [
        "### Resumen de métricas\n"
      ],
      "metadata": {
        "id": "BykrjzqDz03H"
      }
    },
    {
      "cell_type": "markdown",
      "source": [
        "| TRAIN     |   KNN              | XGB                | ARBOL                |\n",
        "|-----------|--------------------|--------------------|----------------------|\n",
        "| MSE       | 2.2743972777593e-05| 2.2743972777593e-05| 3.943778225825102e-05|\n",
        "| RMSE      | 0.00476906414064573| 0.00476906414064573| 0.006279950816547135 |\n",
        "| R2        | 0.8914397864266198 | 0.8914397864266198 | 0.006279950816547135 |\n",
        "\n",
        "\n",
        "\n",
        "-------------------------------------------------\n",
        "| TEST      |   KNN                | XGB                  | ARBOL     |\n",
        "|-----------|----------------------|----------------------|-----------|\n",
        "| MSE       | 0.0001315753070488609| 0.0001315753070488609|9.065386454951484e-05|\n",
        "| RMSE      | 0.011470628014579713 | 0.011470628014579713 |0.00952123230204551|\n",
        "| R2        | 0.37963183068352946  | 0.37963183068352946  |0.5725735074958909  |\n"
      ],
      "metadata": {
        "id": "oN9lr7CWz_jy"
      }
    },
    {
      "cell_type": "markdown",
      "source": [
        "En base a las métricas podemos ver:\n",
        "1. MSE:\n",
        "  - En el conjunto de entrenamiento, tanto en KNN como en XGB el MSE es muy bajo, lo que indica un ajuste cercano de los modelos a los datos de entrenamiento. En cambio en Árbol de Decisión tenemos un valor más alto.\n",
        "  - En el conjunto de prueba, el MSE más bajo se observa para el modelo de Árbol, seguido por KNN y XGB.\n",
        "2. RMSE:\n",
        "  - Los valores de RMSE en el conjunto de entrenamiento son bajos para KNN y XGB, mientras que para el modelo de Árbol son más altos.\n",
        "  - En el conjunto de prueba, el modelo de Árbol tiene el RMSE más bajo, lo que sugiere que es el modelo que mejor generaliza en datos nuevos y no vistos.\n",
        "3. R2:\n",
        "  - En el conjunto de entrenamiento, tanto KNN como XGB tienen un alto R2, lo que indica una buena capacidad para explicar la variabilidad de los datos. Sin embargo, el modelo de Árbol tiene un valor muy bajo de R2.\n",
        "  - En el conjunto de prueba, el R2 más alto se observa para el modelo de Árbol, seguido por XGB y luego KNN. Esto sugiere que el modelo de Árbol tiene el mejor rendimiento en la explicación de la variabilidad de los datos de prueba.\n",
        "\n",
        "  En resumen, basándonos en estas métricas, parece que el modelo de Árbol de Decisión tiene un mejor rendimiento en el conjunto de prueba, mientras que los modelos KNN y XGB parecen tener un rendimiento comparable en el conjunto de entrenamiento."
      ],
      "metadata": {
        "id": "pC2etgMb-cdl"
      }
    },
    {
      "cell_type": "markdown",
      "source": [
        "El modelo a elegir seria el XGBoost o el arbol de decision, ya que ambos tuvieron una performance parecida en datos nuevos para ellos y uno no tarda mucho mas que el otro en entrenarse aunque, logicamente xgboost tarda un poco mas ya que se trata de un modelo mas complejo con ensambles y boosteo."
      ],
      "metadata": {
        "id": "Aoh-eXqhCIsY"
      }
    },
    {
      "cell_type": "markdown",
      "source": [
        "## Guardado de modelos"
      ],
      "metadata": {
        "id": "ZAt_v9nDe3EJ"
      }
    },
    {
      "cell_type": "code",
      "source": [
        "if using_drive:\n",
        "  joblib.dump(best_knn_model, drive_path + '/Models/best_knn_model.pkl')\n",
        "  joblib.dump(best_xgbr_model, drive_path + '/Models/best_xgbr_model.pkl')\n",
        "  joblib.dump(best_dtr_model, drive_path + '/Models/best_dtr_model.pkl')\n",
        "else:\n",
        "  joblib.dump(best_knn_model, './models/best_knn_model.pkl')\n",
        "  joblib.dump(best_xgbr_model, './models/best_gb_model.pkl')\n",
        "  joblib.dump(best_dtr_model, './models/best_dtr_model.pkl')"
      ],
      "metadata": {
        "id": "b4ELfFcDe5Mr"
      },
      "execution_count": 50,
      "outputs": []
    }
  ]
}